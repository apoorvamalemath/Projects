{
  "cells": [
    {
      "cell_type": "markdown",
      "id": "2a6e9e8b",
      "metadata": {
        "id": "2a6e9e8b"
      },
      "source": [
        "# Programming assignment 2: Recurrent Neural Networks and Transformer"
      ]
    },
    {
      "cell_type": "markdown",
      "id": "7f7493e6",
      "metadata": {
        "id": "7f7493e6"
      },
      "source": [
        "## Overview"
      ]
    },
    {
      "cell_type": "markdown",
      "id": "193d314b",
      "metadata": {
        "id": "193d314b"
      },
      "source": [
        "<font size='4'>In this assignment you will practice putting together implementations of Recurrent Neural Networks, Transformer (encoder and decoder), and their applications to text classification, image classification, and text generation (machine translation). Especially for Transformer, you will get good understandings about foundations for very state-of-the-art models that you likely to see in tech news articles nowadays, like GPT-3, CLIP, or VisionTransformer.</font>"
      ]
    },
    {
      "cell_type": "markdown",
      "id": "e938397f",
      "metadata": {
        "id": "e938397f"
      },
      "source": [
        "## Submission format"
      ]
    },
    {
      "cell_type": "markdown",
      "id": "e960af27",
      "metadata": {
        "id": "e960af27"
      },
      "source": [
        "- <font size='4'>`<your_nu_username>_rnn_transformer.ipynb` with your implementations and output.</font>"
      ]
    },
    {
      "cell_type": "markdown",
      "id": "3460ded9",
      "metadata": {
        "id": "3460ded9"
      },
      "source": [
        "## Note"
      ]
    },
    {
      "cell_type": "markdown",
      "id": "549c3563",
      "metadata": {
        "id": "549c3563"
      },
      "source": [
        "<font size='4'>  \n",
        "- You do not need to tune hyper parameters in the regular tasks.\n",
        "\n",
        "- You do not install any additional packages inside the Colab environment. Do not forget to choose to use GPU in the `Runtime\\Change runtime type` tab.    \n",
        "\n",
        "- **You are not allowed to look for answers online. Except for the links provided in this assignment, which are mainly about PyTorch documentation.**\n",
        "\n",
        "- **Violation of this policy will lead to failure of your course and even more severe consequences.**\n",
        "\n",
        "- Attend office hours and make post on Piazza if you have any questions.\n",
        "\n",
        "- You have more than 30 days to work on this assignment. Please refrain from asking for extensions.\n",
        "\n",
        "- The thrid programming assignment is optional but you may earn extra credits out it. Plan wisely as its deadline may approach the end of this semester, where there are a lot of deadlines around.\n",
        "</font>\n"
      ]
    },
    {
      "cell_type": "markdown",
      "id": "c34a5320",
      "metadata": {
        "id": "c34a5320"
      },
      "source": [
        "## Setup"
      ]
    },
    {
      "cell_type": "code",
      "source": [
        "\n",
        "# # Create source and target language tokenizer. Make sure to install the dependencies.\n",
        "!pip install -U spacy\n",
        "!python -m spacy download en_core_web_sm\n",
        "!python -m spacy download de_core_news_sm"
      ],
      "metadata": {
        "id": "BTntIuVPOipn",
        "colab": {
          "base_uri": "https://localhost:8080/"
        },
        "outputId": "6c178045-ffd2-4c77-c882-a1013c0f5a9b"
      },
      "id": "BTntIuVPOipn",
      "execution_count": 1,
      "outputs": [
        {
          "output_type": "stream",
          "name": "stdout",
          "text": [
            "Requirement already satisfied: spacy in /usr/local/lib/python3.7/dist-packages (2.2.4)\n",
            "Collecting spacy\n",
            "  Downloading spacy-3.2.4-cp37-cp37m-manylinux_2_17_x86_64.manylinux2014_x86_64.whl (6.0 MB)\n",
            "\u001b[K     |████████████████████████████████| 6.0 MB 3.9 MB/s \n",
            "\u001b[?25hCollecting pydantic!=1.8,!=1.8.1,<1.9.0,>=1.7.4\n",
            "  Downloading pydantic-1.8.2-cp37-cp37m-manylinux2014_x86_64.whl (10.1 MB)\n",
            "\u001b[K     |████████████████████████████████| 10.1 MB 35.5 MB/s \n",
            "\u001b[?25hCollecting spacy-legacy<3.1.0,>=3.0.8\n",
            "  Downloading spacy_legacy-3.0.9-py2.py3-none-any.whl (20 kB)\n",
            "Requirement already satisfied: packaging>=20.0 in /usr/local/lib/python3.7/dist-packages (from spacy) (21.3)\n",
            "Collecting thinc<8.1.0,>=8.0.12\n",
            "  Downloading thinc-8.0.15-cp37-cp37m-manylinux_2_17_x86_64.manylinux2014_x86_64.whl (653 kB)\n",
            "\u001b[K     |████████████████████████████████| 653 kB 47.6 MB/s \n",
            "\u001b[?25hRequirement already satisfied: blis<0.8.0,>=0.4.0 in /usr/local/lib/python3.7/dist-packages (from spacy) (0.4.1)\n",
            "Requirement already satisfied: numpy>=1.15.0 in /usr/local/lib/python3.7/dist-packages (from spacy) (1.21.6)\n",
            "Requirement already satisfied: requests<3.0.0,>=2.13.0 in /usr/local/lib/python3.7/dist-packages (from spacy) (2.23.0)\n",
            "Requirement already satisfied: cymem<2.1.0,>=2.0.2 in /usr/local/lib/python3.7/dist-packages (from spacy) (2.0.6)\n",
            "Requirement already satisfied: jinja2 in /usr/local/lib/python3.7/dist-packages (from spacy) (2.11.3)\n",
            "Requirement already satisfied: wasabi<1.1.0,>=0.8.1 in /usr/local/lib/python3.7/dist-packages (from spacy) (0.9.1)\n",
            "Collecting catalogue<2.1.0,>=2.0.6\n",
            "  Downloading catalogue-2.0.7-py3-none-any.whl (17 kB)\n",
            "Requirement already satisfied: tqdm<5.0.0,>=4.38.0 in /usr/local/lib/python3.7/dist-packages (from spacy) (4.64.0)\n",
            "Collecting srsly<3.0.0,>=2.4.1\n",
            "  Downloading srsly-2.4.3-cp37-cp37m-manylinux_2_17_x86_64.manylinux2014_x86_64.whl (457 kB)\n",
            "\u001b[K     |████████████████████████████████| 457 kB 49.4 MB/s \n",
            "\u001b[?25hRequirement already satisfied: preshed<3.1.0,>=3.0.2 in /usr/local/lib/python3.7/dist-packages (from spacy) (3.0.6)\n",
            "Collecting langcodes<4.0.0,>=3.2.0\n",
            "  Downloading langcodes-3.3.0-py3-none-any.whl (181 kB)\n",
            "\u001b[K     |████████████████████████████████| 181 kB 46.8 MB/s \n",
            "\u001b[?25hCollecting spacy-loggers<2.0.0,>=1.0.0\n",
            "  Downloading spacy_loggers-1.0.2-py3-none-any.whl (7.2 kB)\n",
            "Requirement already satisfied: click<8.1.0 in /usr/local/lib/python3.7/dist-packages (from spacy) (7.1.2)\n",
            "Collecting typer<0.5.0,>=0.3.0\n",
            "  Downloading typer-0.4.1-py3-none-any.whl (27 kB)\n",
            "Requirement already satisfied: setuptools in /usr/local/lib/python3.7/dist-packages (from spacy) (57.4.0)\n",
            "Collecting pathy>=0.3.5\n",
            "  Downloading pathy-0.6.1-py3-none-any.whl (42 kB)\n",
            "\u001b[K     |████████████████████████████████| 42 kB 1.3 MB/s \n",
            "\u001b[?25hCollecting typing-extensions<4.0.0.0,>=3.7.4\n",
            "  Downloading typing_extensions-3.10.0.2-py3-none-any.whl (26 kB)\n",
            "Requirement already satisfied: murmurhash<1.1.0,>=0.28.0 in /usr/local/lib/python3.7/dist-packages (from spacy) (1.0.6)\n",
            "Requirement already satisfied: zipp>=0.5 in /usr/local/lib/python3.7/dist-packages (from catalogue<2.1.0,>=2.0.6->spacy) (3.8.0)\n",
            "Requirement already satisfied: pyparsing!=3.0.5,>=2.0.2 in /usr/local/lib/python3.7/dist-packages (from packaging>=20.0->spacy) (3.0.8)\n",
            "Requirement already satisfied: smart-open<6.0.0,>=5.0.0 in /usr/local/lib/python3.7/dist-packages (from pathy>=0.3.5->spacy) (5.2.1)\n",
            "Requirement already satisfied: certifi>=2017.4.17 in /usr/local/lib/python3.7/dist-packages (from requests<3.0.0,>=2.13.0->spacy) (2021.10.8)\n",
            "Requirement already satisfied: idna<3,>=2.5 in /usr/local/lib/python3.7/dist-packages (from requests<3.0.0,>=2.13.0->spacy) (2.10)\n",
            "Requirement already satisfied: urllib3!=1.25.0,!=1.25.1,<1.26,>=1.21.1 in /usr/local/lib/python3.7/dist-packages (from requests<3.0.0,>=2.13.0->spacy) (1.24.3)\n",
            "Requirement already satisfied: chardet<4,>=3.0.2 in /usr/local/lib/python3.7/dist-packages (from requests<3.0.0,>=2.13.0->spacy) (3.0.4)\n",
            "Requirement already satisfied: MarkupSafe>=0.23 in /usr/local/lib/python3.7/dist-packages (from jinja2->spacy) (2.0.1)\n",
            "Installing collected packages: typing-extensions, catalogue, typer, srsly, pydantic, thinc, spacy-loggers, spacy-legacy, pathy, langcodes, spacy\n",
            "  Attempting uninstall: typing-extensions\n",
            "    Found existing installation: typing-extensions 4.1.1\n",
            "    Uninstalling typing-extensions-4.1.1:\n",
            "      Successfully uninstalled typing-extensions-4.1.1\n",
            "  Attempting uninstall: catalogue\n",
            "    Found existing installation: catalogue 1.0.0\n",
            "    Uninstalling catalogue-1.0.0:\n",
            "      Successfully uninstalled catalogue-1.0.0\n",
            "  Attempting uninstall: srsly\n",
            "    Found existing installation: srsly 1.0.5\n",
            "    Uninstalling srsly-1.0.5:\n",
            "      Successfully uninstalled srsly-1.0.5\n",
            "  Attempting uninstall: thinc\n",
            "    Found existing installation: thinc 7.4.0\n",
            "    Uninstalling thinc-7.4.0:\n",
            "      Successfully uninstalled thinc-7.4.0\n",
            "  Attempting uninstall: spacy\n",
            "    Found existing installation: spacy 2.2.4\n",
            "    Uninstalling spacy-2.2.4:\n",
            "      Successfully uninstalled spacy-2.2.4\n",
            "\u001b[31mERROR: pip's dependency resolver does not currently take into account all the packages that are installed. This behaviour is the source of the following dependency conflicts.\n",
            "tensorflow 2.8.0 requires tf-estimator-nightly==2.8.0.dev2021122109, which is not installed.\u001b[0m\n",
            "Successfully installed catalogue-2.0.7 langcodes-3.3.0 pathy-0.6.1 pydantic-1.8.2 spacy-3.2.4 spacy-legacy-3.0.9 spacy-loggers-1.0.2 srsly-2.4.3 thinc-8.0.15 typer-0.4.1 typing-extensions-3.10.0.2\n",
            "Collecting en-core-web-sm==3.2.0\n",
            "  Downloading https://github.com/explosion/spacy-models/releases/download/en_core_web_sm-3.2.0/en_core_web_sm-3.2.0-py3-none-any.whl (13.9 MB)\n",
            "\u001b[K     |████████████████████████████████| 13.9 MB 1.4 MB/s \n",
            "\u001b[?25hRequirement already satisfied: spacy<3.3.0,>=3.2.0 in /usr/local/lib/python3.7/dist-packages (from en-core-web-sm==3.2.0) (3.2.4)\n",
            "Requirement already satisfied: cymem<2.1.0,>=2.0.2 in /usr/local/lib/python3.7/dist-packages (from spacy<3.3.0,>=3.2.0->en-core-web-sm==3.2.0) (2.0.6)\n",
            "Requirement already satisfied: requests<3.0.0,>=2.13.0 in /usr/local/lib/python3.7/dist-packages (from spacy<3.3.0,>=3.2.0->en-core-web-sm==3.2.0) (2.23.0)\n",
            "Requirement already satisfied: catalogue<2.1.0,>=2.0.6 in /usr/local/lib/python3.7/dist-packages (from spacy<3.3.0,>=3.2.0->en-core-web-sm==3.2.0) (2.0.7)\n",
            "Requirement already satisfied: click<8.1.0 in /usr/local/lib/python3.7/dist-packages (from spacy<3.3.0,>=3.2.0->en-core-web-sm==3.2.0) (7.1.2)\n",
            "Requirement already satisfied: spacy-loggers<2.0.0,>=1.0.0 in /usr/local/lib/python3.7/dist-packages (from spacy<3.3.0,>=3.2.0->en-core-web-sm==3.2.0) (1.0.2)\n",
            "Requirement already satisfied: spacy-legacy<3.1.0,>=3.0.8 in /usr/local/lib/python3.7/dist-packages (from spacy<3.3.0,>=3.2.0->en-core-web-sm==3.2.0) (3.0.9)\n",
            "Requirement already satisfied: typer<0.5.0,>=0.3.0 in /usr/local/lib/python3.7/dist-packages (from spacy<3.3.0,>=3.2.0->en-core-web-sm==3.2.0) (0.4.1)\n",
            "Requirement already satisfied: tqdm<5.0.0,>=4.38.0 in /usr/local/lib/python3.7/dist-packages (from spacy<3.3.0,>=3.2.0->en-core-web-sm==3.2.0) (4.64.0)\n",
            "Requirement already satisfied: pathy>=0.3.5 in /usr/local/lib/python3.7/dist-packages (from spacy<3.3.0,>=3.2.0->en-core-web-sm==3.2.0) (0.6.1)\n",
            "Requirement already satisfied: srsly<3.0.0,>=2.4.1 in /usr/local/lib/python3.7/dist-packages (from spacy<3.3.0,>=3.2.0->en-core-web-sm==3.2.0) (2.4.3)\n",
            "Requirement already satisfied: typing-extensions<4.0.0.0,>=3.7.4 in /usr/local/lib/python3.7/dist-packages (from spacy<3.3.0,>=3.2.0->en-core-web-sm==3.2.0) (3.10.0.2)\n",
            "Requirement already satisfied: preshed<3.1.0,>=3.0.2 in /usr/local/lib/python3.7/dist-packages (from spacy<3.3.0,>=3.2.0->en-core-web-sm==3.2.0) (3.0.6)\n",
            "Requirement already satisfied: pydantic!=1.8,!=1.8.1,<1.9.0,>=1.7.4 in /usr/local/lib/python3.7/dist-packages (from spacy<3.3.0,>=3.2.0->en-core-web-sm==3.2.0) (1.8.2)\n",
            "Requirement already satisfied: murmurhash<1.1.0,>=0.28.0 in /usr/local/lib/python3.7/dist-packages (from spacy<3.3.0,>=3.2.0->en-core-web-sm==3.2.0) (1.0.6)\n",
            "Requirement already satisfied: wasabi<1.1.0,>=0.8.1 in /usr/local/lib/python3.7/dist-packages (from spacy<3.3.0,>=3.2.0->en-core-web-sm==3.2.0) (0.9.1)\n",
            "Requirement already satisfied: setuptools in /usr/local/lib/python3.7/dist-packages (from spacy<3.3.0,>=3.2.0->en-core-web-sm==3.2.0) (57.4.0)\n",
            "Requirement already satisfied: numpy>=1.15.0 in /usr/local/lib/python3.7/dist-packages (from spacy<3.3.0,>=3.2.0->en-core-web-sm==3.2.0) (1.21.6)\n",
            "Requirement already satisfied: langcodes<4.0.0,>=3.2.0 in /usr/local/lib/python3.7/dist-packages (from spacy<3.3.0,>=3.2.0->en-core-web-sm==3.2.0) (3.3.0)\n",
            "Requirement already satisfied: blis<0.8.0,>=0.4.0 in /usr/local/lib/python3.7/dist-packages (from spacy<3.3.0,>=3.2.0->en-core-web-sm==3.2.0) (0.4.1)\n",
            "Requirement already satisfied: thinc<8.1.0,>=8.0.12 in /usr/local/lib/python3.7/dist-packages (from spacy<3.3.0,>=3.2.0->en-core-web-sm==3.2.0) (8.0.15)\n",
            "Requirement already satisfied: packaging>=20.0 in /usr/local/lib/python3.7/dist-packages (from spacy<3.3.0,>=3.2.0->en-core-web-sm==3.2.0) (21.3)\n",
            "Requirement already satisfied: jinja2 in /usr/local/lib/python3.7/dist-packages (from spacy<3.3.0,>=3.2.0->en-core-web-sm==3.2.0) (2.11.3)\n",
            "Requirement already satisfied: zipp>=0.5 in /usr/local/lib/python3.7/dist-packages (from catalogue<2.1.0,>=2.0.6->spacy<3.3.0,>=3.2.0->en-core-web-sm==3.2.0) (3.8.0)\n",
            "Requirement already satisfied: pyparsing!=3.0.5,>=2.0.2 in /usr/local/lib/python3.7/dist-packages (from packaging>=20.0->spacy<3.3.0,>=3.2.0->en-core-web-sm==3.2.0) (3.0.8)\n",
            "Requirement already satisfied: smart-open<6.0.0,>=5.0.0 in /usr/local/lib/python3.7/dist-packages (from pathy>=0.3.5->spacy<3.3.0,>=3.2.0->en-core-web-sm==3.2.0) (5.2.1)\n",
            "Requirement already satisfied: idna<3,>=2.5 in /usr/local/lib/python3.7/dist-packages (from requests<3.0.0,>=2.13.0->spacy<3.3.0,>=3.2.0->en-core-web-sm==3.2.0) (2.10)\n",
            "Requirement already satisfied: chardet<4,>=3.0.2 in /usr/local/lib/python3.7/dist-packages (from requests<3.0.0,>=2.13.0->spacy<3.3.0,>=3.2.0->en-core-web-sm==3.2.0) (3.0.4)\n",
            "Requirement already satisfied: certifi>=2017.4.17 in /usr/local/lib/python3.7/dist-packages (from requests<3.0.0,>=2.13.0->spacy<3.3.0,>=3.2.0->en-core-web-sm==3.2.0) (2021.10.8)\n",
            "Requirement already satisfied: urllib3!=1.25.0,!=1.25.1,<1.26,>=1.21.1 in /usr/local/lib/python3.7/dist-packages (from requests<3.0.0,>=2.13.0->spacy<3.3.0,>=3.2.0->en-core-web-sm==3.2.0) (1.24.3)\n",
            "Requirement already satisfied: MarkupSafe>=0.23 in /usr/local/lib/python3.7/dist-packages (from jinja2->spacy<3.3.0,>=3.2.0->en-core-web-sm==3.2.0) (2.0.1)\n",
            "Installing collected packages: en-core-web-sm\n",
            "  Attempting uninstall: en-core-web-sm\n",
            "    Found existing installation: en-core-web-sm 2.2.5\n",
            "    Uninstalling en-core-web-sm-2.2.5:\n",
            "      Successfully uninstalled en-core-web-sm-2.2.5\n",
            "Successfully installed en-core-web-sm-3.2.0\n",
            "\u001b[38;5;2m✔ Download and installation successful\u001b[0m\n",
            "You can now load the package via spacy.load('en_core_web_sm')\n",
            "Collecting de-core-news-sm==3.2.0\n",
            "  Downloading https://github.com/explosion/spacy-models/releases/download/de_core_news_sm-3.2.0/de_core_news_sm-3.2.0-py3-none-any.whl (19.1 MB)\n",
            "\u001b[K     |████████████████████████████████| 19.1 MB 1.7 MB/s \n",
            "\u001b[?25hRequirement already satisfied: spacy<3.3.0,>=3.2.0 in /usr/local/lib/python3.7/dist-packages (from de-core-news-sm==3.2.0) (3.2.4)\n",
            "Requirement already satisfied: setuptools in /usr/local/lib/python3.7/dist-packages (from spacy<3.3.0,>=3.2.0->de-core-news-sm==3.2.0) (57.4.0)\n",
            "Requirement already satisfied: pydantic!=1.8,!=1.8.1,<1.9.0,>=1.7.4 in /usr/local/lib/python3.7/dist-packages (from spacy<3.3.0,>=3.2.0->de-core-news-sm==3.2.0) (1.8.2)\n",
            "Requirement already satisfied: murmurhash<1.1.0,>=0.28.0 in /usr/local/lib/python3.7/dist-packages (from spacy<3.3.0,>=3.2.0->de-core-news-sm==3.2.0) (1.0.6)\n",
            "Requirement already satisfied: spacy-legacy<3.1.0,>=3.0.8 in /usr/local/lib/python3.7/dist-packages (from spacy<3.3.0,>=3.2.0->de-core-news-sm==3.2.0) (3.0.9)\n",
            "Requirement already satisfied: cymem<2.1.0,>=2.0.2 in /usr/local/lib/python3.7/dist-packages (from spacy<3.3.0,>=3.2.0->de-core-news-sm==3.2.0) (2.0.6)\n",
            "Requirement already satisfied: thinc<8.1.0,>=8.0.12 in /usr/local/lib/python3.7/dist-packages (from spacy<3.3.0,>=3.2.0->de-core-news-sm==3.2.0) (8.0.15)\n",
            "Requirement already satisfied: blis<0.8.0,>=0.4.0 in /usr/local/lib/python3.7/dist-packages (from spacy<3.3.0,>=3.2.0->de-core-news-sm==3.2.0) (0.4.1)\n",
            "Requirement already satisfied: jinja2 in /usr/local/lib/python3.7/dist-packages (from spacy<3.3.0,>=3.2.0->de-core-news-sm==3.2.0) (2.11.3)\n",
            "Requirement already satisfied: packaging>=20.0 in /usr/local/lib/python3.7/dist-packages (from spacy<3.3.0,>=3.2.0->de-core-news-sm==3.2.0) (21.3)\n",
            "Requirement already satisfied: numpy>=1.15.0 in /usr/local/lib/python3.7/dist-packages (from spacy<3.3.0,>=3.2.0->de-core-news-sm==3.2.0) (1.21.6)\n",
            "Requirement already satisfied: tqdm<5.0.0,>=4.38.0 in /usr/local/lib/python3.7/dist-packages (from spacy<3.3.0,>=3.2.0->de-core-news-sm==3.2.0) (4.64.0)\n",
            "Requirement already satisfied: click<8.1.0 in /usr/local/lib/python3.7/dist-packages (from spacy<3.3.0,>=3.2.0->de-core-news-sm==3.2.0) (7.1.2)\n",
            "Requirement already satisfied: spacy-loggers<2.0.0,>=1.0.0 in /usr/local/lib/python3.7/dist-packages (from spacy<3.3.0,>=3.2.0->de-core-news-sm==3.2.0) (1.0.2)\n",
            "Requirement already satisfied: wasabi<1.1.0,>=0.8.1 in /usr/local/lib/python3.7/dist-packages (from spacy<3.3.0,>=3.2.0->de-core-news-sm==3.2.0) (0.9.1)\n",
            "Requirement already satisfied: preshed<3.1.0,>=3.0.2 in /usr/local/lib/python3.7/dist-packages (from spacy<3.3.0,>=3.2.0->de-core-news-sm==3.2.0) (3.0.6)\n",
            "Requirement already satisfied: typer<0.5.0,>=0.3.0 in /usr/local/lib/python3.7/dist-packages (from spacy<3.3.0,>=3.2.0->de-core-news-sm==3.2.0) (0.4.1)\n",
            "Requirement already satisfied: requests<3.0.0,>=2.13.0 in /usr/local/lib/python3.7/dist-packages (from spacy<3.3.0,>=3.2.0->de-core-news-sm==3.2.0) (2.23.0)\n",
            "Requirement already satisfied: pathy>=0.3.5 in /usr/local/lib/python3.7/dist-packages (from spacy<3.3.0,>=3.2.0->de-core-news-sm==3.2.0) (0.6.1)\n",
            "Requirement already satisfied: langcodes<4.0.0,>=3.2.0 in /usr/local/lib/python3.7/dist-packages (from spacy<3.3.0,>=3.2.0->de-core-news-sm==3.2.0) (3.3.0)\n",
            "Requirement already satisfied: typing-extensions<4.0.0.0,>=3.7.4 in /usr/local/lib/python3.7/dist-packages (from spacy<3.3.0,>=3.2.0->de-core-news-sm==3.2.0) (3.10.0.2)\n",
            "Requirement already satisfied: srsly<3.0.0,>=2.4.1 in /usr/local/lib/python3.7/dist-packages (from spacy<3.3.0,>=3.2.0->de-core-news-sm==3.2.0) (2.4.3)\n",
            "Requirement already satisfied: catalogue<2.1.0,>=2.0.6 in /usr/local/lib/python3.7/dist-packages (from spacy<3.3.0,>=3.2.0->de-core-news-sm==3.2.0) (2.0.7)\n",
            "Requirement already satisfied: zipp>=0.5 in /usr/local/lib/python3.7/dist-packages (from catalogue<2.1.0,>=2.0.6->spacy<3.3.0,>=3.2.0->de-core-news-sm==3.2.0) (3.8.0)\n",
            "Requirement already satisfied: pyparsing!=3.0.5,>=2.0.2 in /usr/local/lib/python3.7/dist-packages (from packaging>=20.0->spacy<3.3.0,>=3.2.0->de-core-news-sm==3.2.0) (3.0.8)\n",
            "Requirement already satisfied: smart-open<6.0.0,>=5.0.0 in /usr/local/lib/python3.7/dist-packages (from pathy>=0.3.5->spacy<3.3.0,>=3.2.0->de-core-news-sm==3.2.0) (5.2.1)\n",
            "Requirement already satisfied: chardet<4,>=3.0.2 in /usr/local/lib/python3.7/dist-packages (from requests<3.0.0,>=2.13.0->spacy<3.3.0,>=3.2.0->de-core-news-sm==3.2.0) (3.0.4)\n",
            "Requirement already satisfied: idna<3,>=2.5 in /usr/local/lib/python3.7/dist-packages (from requests<3.0.0,>=2.13.0->spacy<3.3.0,>=3.2.0->de-core-news-sm==3.2.0) (2.10)\n",
            "Requirement already satisfied: urllib3!=1.25.0,!=1.25.1,<1.26,>=1.21.1 in /usr/local/lib/python3.7/dist-packages (from requests<3.0.0,>=2.13.0->spacy<3.3.0,>=3.2.0->de-core-news-sm==3.2.0) (1.24.3)\n",
            "Requirement already satisfied: certifi>=2017.4.17 in /usr/local/lib/python3.7/dist-packages (from requests<3.0.0,>=2.13.0->spacy<3.3.0,>=3.2.0->de-core-news-sm==3.2.0) (2021.10.8)\n",
            "Requirement already satisfied: MarkupSafe>=0.23 in /usr/local/lib/python3.7/dist-packages (from jinja2->spacy<3.3.0,>=3.2.0->de-core-news-sm==3.2.0) (2.0.1)\n",
            "Installing collected packages: de-core-news-sm\n",
            "Successfully installed de-core-news-sm-3.2.0\n",
            "\u001b[38;5;2m✔ Download and installation successful\u001b[0m\n",
            "You can now load the package via spacy.load('de_core_news_sm')\n"
          ]
        }
      ]
    },
    {
      "cell_type": "code",
      "source": [
        "import os\n",
        "os.environ[\"CUDA_LAUNCH_BLOCKING\"] = \"1\""
      ],
      "metadata": {
        "id": "9jwjS_ejRPKb"
      },
      "id": "9jwjS_ejRPKb",
      "execution_count": 2,
      "outputs": []
    },
    {
      "cell_type": "markdown",
      "id": "d789993e",
      "metadata": {
        "id": "d789993e"
      },
      "source": [
        "## Part 1: Text Classification with RNN (24 points)"
      ]
    },
    {
      "cell_type": "code",
      "execution_count": 3,
      "id": "92081dc6",
      "metadata": {
        "colab": {
          "base_uri": "https://localhost:8080/"
        },
        "id": "92081dc6",
        "outputId": "aa0c7a1f-a3f8-49d7-dff2-74376bbaaa23"
      },
      "outputs": [
        {
          "output_type": "stream",
          "name": "stderr",
          "text": [
            "29.5MB [00:00, 85.7MB/s]\n"
          ]
        },
        {
          "output_type": "stream",
          "name": "stdout",
          "text": [
            "120000\n",
            "(3, \"Wall St. Bears Claw Back Into the Black (Reuters) Reuters - Short-sellers, Wall Street's dwindling\\\\band of ultra-cynics, are seeing green again.\")\n"
          ]
        }
      ],
      "source": [
        "import math\n",
        "\n",
        "import torch\n",
        "import torch.nn as nn\n",
        "import torch.nn.functional as F\n",
        "\n",
        "from torchtext.datasets import AG_NEWS\n",
        "train_iter = AG_NEWS(split='train')\n",
        "\n",
        "# Let's check what the data looks like\n",
        "print(len(train_iter))\n",
        "print(next(train_iter))"
      ]
    },
    {
      "cell_type": "markdown",
      "id": "28eb6bd7",
      "metadata": {
        "id": "28eb6bd7"
      },
      "source": [
        "### <font size='4' color='red'>Task 1.1: Implement a RNNCell (4 points)</font>"
      ]
    },
    {
      "cell_type": "code",
      "execution_count": 4,
      "id": "2db54f12",
      "metadata": {
        "id": "2db54f12"
      },
      "outputs": [],
      "source": [
        "# Documentation of nn.Module https://pytorch.org/docs/stable/generated/torch.nn.Module.html#torch.nn.Module\n",
        "class RNNCell(torch.nn.Module):\n",
        "    \"\"\"\n",
        "    RNNCell is a single cell that takes x_t and h_{t_1} as input and outputs h_t.\n",
        "    \"\"\"\n",
        "    def __init__(self, input_dim: int, hidden_dim: int):\n",
        "        \"\"\"\n",
        "        Constructor of RNNCell.\n",
        "        \n",
        "        Inputs: \n",
        "        - input_dim: Dimension of the input x_t\n",
        "        - hidden_dim: Dimension of the hidden state h_{t-1} and h_t\n",
        "        \"\"\"\n",
        "        \n",
        "        # We always need to do this step to properly implement the constructor\n",
        "        super(RNNCell, self).__init__()\n",
        "        self.linear_x, self.linear_h, self.non_linear = None, None, None  \n",
        "        ###########################################################################\n",
        "        # TODO: Define the linear transformation layers for x_t and h_{t-1} and   #\n",
        "        # the non-linear layer. You can use tanh here.                            #\n",
        "        ###########################################################################\n",
        "        self.linear_x = nn.Linear(input_dim, hidden_dim)\n",
        "        self.linear_h = nn.Linear(hidden_dim, hidden_dim)\n",
        "        self.non_linear = nn.Tanh()\n",
        "        ###########################################################################\n",
        "        #                             END OF YOUR CODE                            #\n",
        "        ###########################################################################\n",
        "        \n",
        "    def forward(self, x_cur: torch.Tensor, h_prev: torch.Tensor):\n",
        "        \"\"\"\n",
        "        Compute h_t given x_t and h_{t-1}.\n",
        "        Inputs:\n",
        "        - x_cur: x_t, a tensor with the same of BxC, where B is the batch size and \n",
        "          C is the channel dimension.\n",
        "        - h_prev: h_{t-1}, a tensor with the same of BxH, where H is the channel\n",
        "          dimension.\n",
        "        \"\"\"\n",
        "        h_cur = None\n",
        "        ###########################################################################\n",
        "        # TODO: Define the linear transformation layers for x_t and h_{t-1} and   #\n",
        "        # the non-linear layer.                                                   #\n",
        "        ###########################################################################\n",
        "        x_layer = self.linear_x(x_cur)\n",
        "        hidden_layer = self.linear_h(h_prev)\n",
        "        h_cur = self.non_linear(x_layer + hidden_layer )\n",
        "        ###########################################################################\n",
        "        #                             END OF YOUR CODE                            #\n",
        "        ###########################################################################\n",
        "        return h_cur"
      ]
    },
    {
      "cell_type": "code",
      "execution_count": 5,
      "id": "b62f7e2d",
      "metadata": {
        "id": "b62f7e2d",
        "colab": {
          "base_uri": "https://localhost:8080/"
        },
        "outputId": "7cb97dbc-05f7-4d2b-f631-c32a2e65c665"
      },
      "outputs": [
        {
          "output_type": "stream",
          "name": "stdout",
          "text": [
            "torch.Size([2, 16])\n"
          ]
        }
      ],
      "source": [
        "# Let's run a sanity check of your model\n",
        "x = torch.randn((2, 8))\n",
        "h = torch.randn((2, 16))\n",
        "model = RNNCell(8, 16)\n",
        "y = model(x, h)\n",
        "assert len(y.shape) == 2 and y.shape[0] == 2 and y.shape[1] == 16\n",
        "print(y.shape)"
      ]
    },
    {
      "cell_type": "markdown",
      "id": "cb2ee43c",
      "metadata": {
        "id": "cb2ee43c"
      },
      "source": [
        "### <font size='4' color='red'>Task 1.2: Implement a single-layer (single-stack) RNN (5 points)</font>"
      ]
    },
    {
      "cell_type": "code",
      "execution_count": 6,
      "id": "f0120521",
      "metadata": {
        "id": "f0120521"
      },
      "outputs": [],
      "source": [
        "class RNN(torch.nn.Module):\n",
        "    \"\"\"\n",
        "    RNN is a single-layer (stack) RNN by connecting multiple RNNCell together in a single\n",
        "    direction, where the input sequence is processed from left to right.\n",
        "    \"\"\"\n",
        "    def __init__(self, input_dim: int, hidden_dim: int):\n",
        "        \"\"\"\n",
        "        Constructor of the RNN module.\n",
        "        \n",
        "        Inputs: \n",
        "        - input_dim: Dimension of the input x_t\n",
        "        - hidden_dim: Dimension of the hidden state h_{t-1} and h_t\n",
        "        \"\"\"\n",
        "        super(RNN, self).__init__()\n",
        "        \n",
        "        self.hidden_dim = hidden_dim\n",
        "        self.input_dim = input_dim\n",
        "        ###########################################################################\n",
        "        # TODO: Define the RNNCell.                                               #\n",
        "        ###########################################################################\n",
        "        self.myRNNCell = RNNCell(input_dim, hidden_dim)\n",
        "        ###########################################################################\n",
        "        #                             END OF YOUR CODE                            #\n",
        "        ###########################################################################\n",
        "        \n",
        "    def forward(self, x: torch.Tensor):\n",
        "        \"\"\"\n",
        "        Compute the hidden representations for every token in the input sequence.\n",
        "        \n",
        "        Input:\n",
        "        - x: A tensor with the shape of BxLxC, where B is the batch size, L is the sequence \n",
        "          length, and C is the channel dimmension\n",
        "          \n",
        "        Return:\n",
        "        - h: A tensor with the shape of BxLxH, where H is the hidden dimension of RNNCell\n",
        "        \"\"\"\n",
        "        b = x.shape[0]\n",
        "        seq_len = x.shape[1]\n",
        "        init_h = x.new_zeros((b, self.hidden_dim))\n",
        "        #print(init_h.shape, x.shape)\n",
        "        h = None\n",
        "        temp = []\n",
        "        ###########################################################################\n",
        "        # TODO: Compute the hidden representation for every token in the input    #\n",
        "        # from left to right.\n",
        "        ###########################################################################\n",
        "        # h_init = init_h\n",
        "        # for seq in range(seq_len):\n",
        "        #   cur_x = None\n",
        "        #   for b_i in range(b):\n",
        "        #     if cur_x == None: \n",
        "        #       cur_x = x[b_i][seq].unsqueeze(0)\n",
        "        #     else:\n",
        "        #       temp = (x[b_i][seq]).unsqueeze(0)\n",
        "        #       cur_x = torch.cat((cur_x, temp),0)\n",
        "        #   h_init = self.rnnCell(cur_x,h_init)\n",
        "        #   temp = h_init.unsqueeze(1)\n",
        "        #   if h == None:\n",
        "        #     h = temp\n",
        "        #   else:\n",
        "        #     h = torch.cat((h, temp),1)\n",
        "        for i in range(seq_len):\n",
        "          init_h = self.myRNNCell(x[:,i], init_h)\n",
        "          temp.append(init_h)\n",
        "        h = torch.stack(temp,dim=1)\n",
        "        ###########################################################################\n",
        "        #                             END OF YOUR CODE                            #\n",
        "        ###########################################################################\n",
        "        return h\n",
        "        "
      ]
    },
    {
      "cell_type": "code",
      "execution_count": 7,
      "id": "dfb661d8",
      "metadata": {
        "id": "dfb661d8",
        "colab": {
          "base_uri": "https://localhost:8080/"
        },
        "outputId": "d044eebc-a5ee-4810-c879-2767b3cf689d"
      },
      "outputs": [
        {
          "output_type": "stream",
          "name": "stdout",
          "text": [
            "torch.Size([2, 10, 16])\n"
          ]
        }
      ],
      "source": [
        "# Let's run a sanity check of your model\n",
        "x = torch.randn((2, 10, 8))\n",
        "#print(x)\n",
        "model = RNN(8, 16)\n",
        "y = model(x)\n",
        "assert len(y.shape) == 3\n",
        "for dim, dim_gt in zip(y.shape, [2, 10, 16]):\n",
        "    assert dim == dim_gt\n",
        "print(y.shape)"
      ]
    },
    {
      "cell_type": "markdown",
      "id": "90f8ec47",
      "metadata": {
        "id": "90f8ec47"
      },
      "source": [
        "### <font size='4' color='red'>Task 1.3: Implement a RNN-based text classifier (4 points)</font>"
      ]
    },
    {
      "cell_type": "code",
      "execution_count": 8,
      "id": "ed42889c",
      "metadata": {
        "id": "ed42889c"
      },
      "outputs": [],
      "source": [
        "class RNNClassifier(nn.Module):\n",
        "    \"\"\"\n",
        "    A RNN-based classifier for text classification. It first converts tokens into word embeddings.\n",
        "    And then feeds the embeddings into a RNN, where the hidden representations of all tokens are\n",
        "    then averaged to get a single embedding of the sentence. It will be used as input to a linear\n",
        "    classifier.\n",
        "    \"\"\"\n",
        "    def __init__(self, \n",
        "            vocab_size: int, embed_dim: int, rnn_hidden_dim: int, num_class: int, pad_token: int\n",
        "        ):\n",
        "        \"\"\"\n",
        "        Constructor.\n",
        "        \n",
        "        Inputs:\n",
        "        - vocab_size: Vocabulary size, indicating how many tokens we have in total.\n",
        "        - embed_dim: The dimension of word embeddings\n",
        "        - rnn_hidden_dim: The hidden dimension of the RNN.\n",
        "        - num_class: Number of classes.\n",
        "        - pad_token: The index of the padding token.\n",
        "        \"\"\"\n",
        "        super(RNNClassifier, self).__init__()\n",
        "        \n",
        "        # word embedding layer\n",
        "        self.embedding = nn.Embedding(vocab_size, embed_dim, padding_idx=pad_token)\n",
        "        \n",
        "        self.rnn, self.fc = None, None\n",
        "        \n",
        "        ###########################################################################\n",
        "        # TODO: Define the RNN and the classification layer.                      #\n",
        "        ###########################################################################\n",
        "        self.myRNNCell = RNN(embed_dim, rnn_hidden_dim)\n",
        "        self.fullyConnected = nn.Linear(rnn_hidden_dim,num_class)\n",
        "        ###########################################################################\n",
        "        #                             END OF YOUR CODE                            #\n",
        "        ###########################################################################\n",
        "\n",
        "    def init_weights(self):\n",
        "        initrange = 0.5\n",
        "        self.embedding.weight.data.uniform_(-initrange, initrange)\n",
        "        self.fc.weight.data.uniform_(-initrange, initrange)\n",
        "        self.fc.bias.data.zero_()\n",
        "\n",
        "    def forward(self, text):\n",
        "        \"\"\"\n",
        "        Get classification scores (logits) of the input.\n",
        "        \n",
        "        Input:\n",
        "        - text: Tensor with the shape of BxLxC.\n",
        "        \n",
        "        Return:\n",
        "        - logits: Tensor with the shape of BxK, where K is the number of classes\n",
        "        \"\"\"\n",
        "        \n",
        "        # get word embeddings\n",
        "        embedded = self.embedding(text)\n",
        "        logits = None\n",
        "        ###########################################################################\n",
        "        # TODO: Compute logits of the input.                                      #\n",
        "        ###########################################################################\n",
        "        rnn_out = self.myRNNCell(embedded)\n",
        "        # logits = self.fullyConnected(rnn_out)\n",
        "        avg_pool = torch.mean(rnn_out, dim=1)\n",
        "        logits = self.fullyConnected(avg_pool)\n",
        "        ###########################################################################\n",
        "        #                             END OF YOUR CODE                            #\n",
        "        ###########################################################################\n",
        "        \n",
        "        return logits"
      ]
    },
    {
      "cell_type": "code",
      "execution_count": 9,
      "id": "ce2d2044",
      "metadata": {
        "id": "ce2d2044",
        "colab": {
          "base_uri": "https://localhost:8080/"
        },
        "outputId": "19389eaa-e37a-4456-8132-c10db3dc77e0"
      },
      "outputs": [
        {
          "output_type": "stream",
          "name": "stdout",
          "text": [
            "tensor([[0, 1, 2, 3, 4, 5, 6, 7, 8, 9],\n",
            "        [0, 1, 2, 3, 4, 5, 6, 7, 8, 9]])\n",
            "x.shape: torch.Size([2, 10])\n",
            "torch.Size([2, 3])\n",
            "torch.Size([2, 3]) cuda:0\n"
          ]
        }
      ],
      "source": [
        "# Let's run a sanity check of your model\n",
        "vocab_size = 10\n",
        "embed_dim = 16\n",
        "rnn_hidden_dim = 32\n",
        "num_class = 3\n",
        "\n",
        "x = torch.arange(vocab_size).view(1, -1)\n",
        "x = torch.cat((x, x), dim=0)\n",
        "print(x)\n",
        "print('x.shape: {}'.format(x.shape))\n",
        "model = RNNClassifier(vocab_size, embed_dim, rnn_hidden_dim, num_class, 0)\n",
        "y = model(x)\n",
        "assert len(y.shape) == 2 and y.shape[0] == 2 and y.shape[1] == num_class\n",
        "print(y.shape)\n",
        "\n",
        "model = model.to('cuda:0')\n",
        "x = x.to('cuda:0')\n",
        "y = model(x)\n",
        "print(y.shape, y.device)"
      ]
    },
    {
      "cell_type": "markdown",
      "id": "612890ad",
      "metadata": {
        "id": "612890ad"
      },
      "source": [
        "### Set up data related stuff"
      ]
    },
    {
      "cell_type": "code",
      "execution_count": 10,
      "id": "c92ea24e",
      "metadata": {
        "id": "c92ea24e"
      },
      "outputs": [],
      "source": [
        "# check here for details https://github.com/pytorch/text/blob/main/torchtext/data/utils.py#L52-#L166\n",
        "from torchtext.data.utils import get_tokenizer\n",
        "# check here for details https://github.com/pytorch/text/blob/main/torchtext/vocab/vocab_factory.py#L65-L113\n",
        "from torchtext.vocab import build_vocab_from_iterator\n",
        "\n",
        "# A tokenizer splits a input setence into a set of tokens, including those puncuation\n",
        "# For example\n",
        "# >>> tokens = tokenizer(\"You can now install TorchText using pip!\")\n",
        "# >>> tokens\n",
        "# >>> ['you', 'can', 'now', 'install', 'torchtext', 'using', 'pip', '!']\n",
        "tokenizer = get_tokenizer('basic_english')\n",
        "\n",
        "train_iter = AG_NEWS(split='train')\n",
        "\n",
        "def yield_tokens(data_iter):\n",
        "    for _, text in data_iter:\n",
        "        yield tokenizer(text)\n",
        "\n",
        "# Creates a vocab object which maps tokens to indices\n",
        "# Check here for details https://github.com/pytorch/text/blob/main/torchtext/vocab/vocab.py\n",
        "vocab = build_vocab_from_iterator(yield_tokens(train_iter), specials=[\"<unk>\"])\n",
        "\n",
        "# The specified token will be returned when a out-of-vocabulary token is queried.\n",
        "vocab.set_default_index(vocab[\"<unk>\"])\n",
        "\n",
        "text_pipeline = lambda x: vocab(tokenizer(x))\n",
        "label_pipeline = lambda x: int(x) - 1\n",
        "\n",
        "# The padding token we need to use\n",
        "# The returned indices are always in an array\n",
        "PAD_TOKEN = vocab(tokenizer('<pad>'))\n",
        "assert len(PAD_TOKEN) == 1\n",
        "PAD_TOKEN = PAD_TOKEN[0]"
      ]
    },
    {
      "cell_type": "markdown",
      "id": "0f13c252",
      "metadata": {
        "id": "0f13c252"
      },
      "source": [
        "### <font size='4' color='red'>Task 1.4: Collate Batched Data with Data Loaders (4 points)</font>"
      ]
    },
    {
      "cell_type": "code",
      "execution_count": 11,
      "id": "bdd006c5",
      "metadata": {
        "id": "bdd006c5",
        "colab": {
          "base_uri": "https://localhost:8080/"
        },
        "outputId": "c1a567b6-2859-4b4a-eb81-28d2636222af"
      },
      "outputs": [
        {
          "output_type": "stream",
          "name": "stdout",
          "text": [
            "label.shape: torch.Size([8])\n",
            "label: tensor([2, 2, 2, 2, 2, 2, 2, 2])\n",
            "data.shape: torch.Size([8, 49])\n"
          ]
        }
      ],
      "source": [
        "# Documentation of DataLoader https://pytorch.org/docs/stable/data.html#torch.utils.data.DataLoader\n",
        "from torch.utils.data import DataLoader  \n",
        "\n",
        "# Merges a list of samples to form a mini-batch of Tensor(s)\n",
        "def collate_batch(batch):\n",
        "    \"\"\"\n",
        "    Input: \n",
        "    - batch: A list of data in a mini batch, where the length denotes the batch size. \n",
        "      The actual context depends on a particular dataset. In our case, each position \n",
        "      contains a label and a Tensor (tokens in a sentence).\n",
        "      \n",
        "    Returns:\n",
        "    - batched_label: A Tensor with the shape of (B,)\n",
        "    - batched_text: A Tensor with the shape of (B, L, C), where L is the sequence length\n",
        "      and C is the channeld dimension\n",
        "    \"\"\"\n",
        "    label_list, text_list, text_len_list = [], [], []\n",
        "    for (_label, _text) in batch:\n",
        "        label_list.append(label_pipeline(_label))\n",
        "        processed_text = torch.tensor(text_pipeline(_text), dtype=torch.int64)\n",
        "        text_list.append(processed_text)\n",
        "        text_len_list.append(processed_text.size(0))\n",
        "    batched_label, batched_text = None, None\n",
        "    ###########################################################################\n",
        "    # TODO: Pad the text tensor in the mini batch so that they have the same  #\n",
        "    # length. Specifically, you need to calculate the maximum length in the   #\n",
        "    # batch and then add the token PAD_TOKEN to the end of those              #\n",
        "    # shorter sentences.                                                      #\n",
        "    ###########################################################################\n",
        "    max_len = max(text_len_list)\n",
        "    for i in range(len(text_list)):\n",
        "      if len(text_list[i])<max_len:\n",
        "        no_zeros = max_len - len(text_list[i])\n",
        "        #zero_tensor = torch.zeros(no_zeros)\n",
        "        #print(\"zero, \", zero_tensor.shape, zero_tensor)\n",
        "        pad_tensor = torch.full((1,no_zeros), PAD_TOKEN)\n",
        "        pad_tensor = torch.flatten(pad_tensor)\n",
        "        #print(pad_tensor.shape)\n",
        "        #print(pad_tensor)\n",
        "        text_list[i] = torch.cat((text_list[i], pad_tensor),0)\n",
        "    ###########################################################################\n",
        "    #                             END OF YOUR CODE                            #\n",
        "    ###########################################################################\n",
        "    batched_text = torch.stack(text_list)\n",
        "    batched_label = torch.tensor(label_list)\n",
        "    return batched_label.long(), batched_text.long()\n",
        "\n",
        "# Now, let's check what the batched data looks like\n",
        "train_iter = AG_NEWS(split='train')\n",
        "\n",
        "dataloader = DataLoader(train_iter, batch_size=8, shuffle=False, collate_fn=collate_batch)\n",
        "for idx, (label, data) in enumerate(dataloader):\n",
        "    if idx > 0:\n",
        "        break\n",
        "    print('label.shape: {}'.format(label.shape))\n",
        "    print('label: {}'.format(label))\n",
        "    print('data.shape: {}'.format(data.shape))"
      ]
    },
    {
      "cell_type": "markdown",
      "id": "a5c3571e",
      "metadata": {
        "id": "a5c3571e"
      },
      "source": [
        "### <font size='4' color='red'>Task 1.5: Functions of training for a single epoch and evaluation (4 points)</font>"
      ]
    },
    {
      "cell_type": "code",
      "execution_count": 12,
      "id": "b5dc8d4a",
      "metadata": {
        "id": "b5dc8d4a"
      },
      "outputs": [],
      "source": [
        "import time\n",
        "\n",
        "def train(model, dataloader, loss_func, device, grad_norm_clip):\n",
        "    model.train()\n",
        "    total_acc, total_count = 0, 0\n",
        "    log_interval = 500\n",
        "    start_time = time.time()\n",
        "    for idx, (label, text) in enumerate(dataloader):\n",
        "        label = label.to(device)\n",
        "        text = text.to(device)\n",
        "        optimizer.zero_grad()\n",
        "        logits = None\n",
        "        ###########################################################################\n",
        "        # TODO: compute the logits of the input, get the loss, and do the         #\n",
        "        # gradient backpropagation.\n",
        "        ###########################################################################\n",
        "        logits = model(text)\n",
        "        loss = loss_func(logits, label)\n",
        "        loss.backward()\n",
        "        ###########################################################################\n",
        "        #                             END OF YOUR CODE                            #\n",
        "        ###########################################################################\n",
        "        torch.nn.utils.clip_grad_norm_(model.parameters(), grad_norm_clip)\n",
        "        optimizer.step()\n",
        "        total_acc += (logits.argmax(1) == label).sum().item()\n",
        "        total_count += label.size(0)\n",
        "        if idx % log_interval == 0 and idx > 0:\n",
        "            elapsed = time.time() - start_time\n",
        "            print('| epoch {:3d} | {:5d}/{:5d} batches'\n",
        "                  '| accuracy {:8.3f}'.format(epoch, idx, len(dataloader),\n",
        "                                              total_acc/total_count))\n",
        "            total_acc, total_count = 0, 0\n",
        "            start_time = time.time()\n",
        "\n",
        "def evaluate(model, dataloader, loss_func, device):\n",
        "    model.eval()\n",
        "    total_acc, total_count = 0, 0\n",
        "\n",
        "    with torch.no_grad():\n",
        "        for idx, (label, text) in enumerate(dataloader):\n",
        "            label = label.to(device)\n",
        "            text = text.to(device)\n",
        "            ###########################################################################\n",
        "            # TODO: compute the logits of the input, get the loss.                    #\n",
        "            ###########################################################################\n",
        "            logits = model(text)\n",
        "            loss = loss_func(logits, label)\n",
        "            ###########################################################################\n",
        "            #                             END OF YOUR CODE                            #\n",
        "            ###########################################################################\n",
        "            total_acc += (logits.argmax(1) == label).sum().item()\n",
        "            total_count += label.size(0)\n",
        "    return total_acc/total_count"
      ]
    },
    {
      "cell_type": "markdown",
      "id": "e249cd2c",
      "metadata": {
        "id": "e249cd2c"
      },
      "source": [
        "### <font size='4' color='red'>Task 1.6: Define the model and loss function to train the model (3 points)</font>"
      ]
    },
    {
      "cell_type": "code",
      "execution_count": 13,
      "id": "0112151f",
      "metadata": {
        "id": "0112151f",
        "colab": {
          "base_uri": "https://localhost:8080/"
        },
        "outputId": "90ddfcb9-4c6e-46bc-a1e7-96d62028bfaf"
      },
      "outputs": [
        {
          "output_type": "stream",
          "name": "stderr",
          "text": [
            "1.86MB [00:00, 33.5MB/s]                  \n"
          ]
        },
        {
          "output_type": "stream",
          "name": "stdout",
          "text": [
            "| epoch   1 |   500/ 1782 batches| accuracy    0.485\n",
            "| epoch   1 |  1000/ 1782 batches| accuracy    0.707\n",
            "| epoch   1 |  1500/ 1782 batches| accuracy    0.790\n",
            "-----------------------------------------------------------\n",
            "| end of epoch   1 | time: 215.97s | valid accuracy    0.836 \n",
            "-----------------------------------------------------------\n",
            "| epoch   2 |   500/ 1782 batches| accuracy    0.850\n",
            "| epoch   2 |  1000/ 1782 batches| accuracy    0.863\n",
            "| epoch   2 |  1500/ 1782 batches| accuracy    0.869\n",
            "-----------------------------------------------------------\n",
            "| end of epoch   2 | time: 215.58s | valid accuracy    0.873 \n",
            "-----------------------------------------------------------\n",
            "| epoch   3 |   500/ 1782 batches| accuracy    0.892\n",
            "| epoch   3 |  1000/ 1782 batches| accuracy    0.895\n",
            "| epoch   3 |  1500/ 1782 batches| accuracy    0.893\n",
            "-----------------------------------------------------------\n",
            "| end of epoch   3 | time: 215.03s | valid accuracy    0.890 \n",
            "-----------------------------------------------------------\n"
          ]
        }
      ],
      "source": [
        "from torch.utils.data.dataset import random_split\n",
        "from torchtext.data.functional import to_map_style_dataset\n",
        "\n",
        "assert torch.cuda.is_available()\n",
        "device = 'cuda'\n",
        "device = torch.device(\"cuda\" if torch.cuda.is_available() else \"cpu\")\n",
        "\n",
        "# Hyper parameters\n",
        "epochs = 3 # epoch\n",
        "lr = 0.0005 # learning rate\n",
        "batch_size = 64 # batch size for training\n",
        "word_embed_dim = 64\n",
        "rnn_hidden_dim = 96\n",
        "\n",
        "train_iter = AG_NEWS(split='train')\n",
        "num_class = len(set([label for (label, text) in train_iter]))\n",
        "vocab_size = len(vocab)\n",
        "\n",
        "model, loss_func = None, None\n",
        "###########################################################################\n",
        "# TODO: Define the classifier and loss function.\n",
        "###########################################################################\n",
        "model = RNNClassifier(vocab_size, word_embed_dim, rnn_hidden_dim, num_class, 0)\n",
        "loss_func = nn.CrossEntropyLoss()\n",
        "###########################################################################\n",
        "#                             END OF YOUR CODE                            #\n",
        "###########################################################################\n",
        "\n",
        "# copy the model to the specified device (GPU)\n",
        "model = model.to(device)\n",
        "        \n",
        "optimizer = torch.optim.AdamW(model.parameters(), lr=lr)\n",
        "scheduler = torch.optim.lr_scheduler.CosineAnnealingLR(optimizer, epochs, 1e-8)\n",
        "total_accu = None\n",
        "train_iter, test_iter = AG_NEWS()\n",
        "train_dataset = to_map_style_dataset(train_iter)\n",
        "test_dataset = to_map_style_dataset(test_iter)\n",
        "num_train = int(len(train_dataset) * 0.95)\n",
        "split_train_, split_valid_ = random_split(\n",
        "    train_dataset, \n",
        "    [num_train, len(train_dataset) - num_train]\n",
        ")\n",
        "\n",
        "train_dataloader = DataLoader(\n",
        "    split_train_, batch_size=batch_size,\n",
        "    shuffle=True, collate_fn=collate_batch\n",
        ")\n",
        "\n",
        "valid_dataloader = DataLoader(\n",
        "    split_valid_, batch_size=batch_size, \n",
        "    shuffle=False, collate_fn=collate_batch\n",
        ")\n",
        "\n",
        "test_dataloader = DataLoader(\n",
        "    test_dataset, batch_size=batch_size,\n",
        "    shuffle=False, collate_fn=collate_batch\n",
        ")\n",
        "\n",
        "# You should be able get a validation accuracy around 87%\n",
        "for epoch in range(1, epochs + 1):\n",
        "    epoch_start_time = time.time()\n",
        "    train(model, train_dataloader, loss_func, device, 1)\n",
        "    accu_val = evaluate(model, valid_dataloader, loss_func, device)\n",
        "    if total_accu is not None and total_accu > accu_val:\n",
        "        scheduler.step()\n",
        "    else:\n",
        "        total_accu = accu_val\n",
        "    print('-' * 59)\n",
        "    print('| end of epoch {:3d} | time: {:5.2f}s | '\n",
        "          'valid accuracy {:8.3f} '.format(epoch,\n",
        "                                           time.time() - epoch_start_time,\n",
        "                                           accu_val))\n",
        "    print('-' * 59)"
      ]
    },
    {
      "cell_type": "markdown",
      "id": "e3582578",
      "metadata": {
        "id": "e3582578"
      },
      "source": [
        "## Part 2: Text Classification with Transformer Encoder (41 points)"
      ]
    },
    {
      "cell_type": "markdown",
      "id": "4db1190d",
      "metadata": {
        "id": "4db1190d"
      },
      "source": [
        "### <font size='4' color='red'>Task 2.1: Implement the multi-head attention module (no for loops allowed, 10 points)</font>"
      ]
    },
    {
      "cell_type": "code",
      "execution_count": 14,
      "id": "7d932295",
      "metadata": {
        "id": "7d932295"
      },
      "outputs": [],
      "source": [
        "class MultiHeadAttention(nn.Module):\n",
        "    \"\"\"\n",
        "    A module that computes multi-head attention given query, key, and value tensors.\n",
        "    \"\"\"\n",
        "    def __init__(self, input_dim: int, num_heads: int):\n",
        "        \"\"\"\n",
        "        Constructor.\n",
        "        \n",
        "        Inputs:\n",
        "        - input_dim: Dimension of the input query, key, and value. Here we assume they all have\n",
        "          the same dimensions. But they could have different dimensions in other problems.\n",
        "        - num_heads: Number of attention heads\n",
        "        \"\"\"\n",
        "        super(MultiHeadAttention, self).__init__()\n",
        "        \n",
        "        assert input_dim % num_heads == 0\n",
        "        \n",
        "        self.input_dim = input_dim\n",
        "        self.num_heads = num_heads\n",
        "        self.dim_per_head = input_dim // num_heads\n",
        "\n",
        "        ###########################################################################\n",
        "        # TODO: Define the linear transformation layers for key, value, and query.#\n",
        "        # Also define the output layer.\n",
        "        ###########################################################################\n",
        "        self.key_linear = nn.Linear(input_dim, input_dim)  \n",
        "        self.value_linear = nn.Linear(input_dim, input_dim)    \n",
        "        self.query_linear = nn.Linear(input_dim, input_dim)\n",
        "        self.out = nn.Linear(input_dim, input_dim)\n",
        "        ###########################################################################\n",
        "        #                             END OF YOUR CODE                            #\n",
        "        ###########################################################################\n",
        "        \n",
        "\n",
        "    def forward(self, query: torch.Tensor, key: torch.Tensor, value: torch.Tensor, mask: torch.Tensor=None):\n",
        "        \"\"\"\n",
        "        Compute the attended feature representations.\n",
        "        \n",
        "        Inputs:\n",
        "        - query: Tensor of the shape BxLxC, where B is the batch size, L is the sequence length,\n",
        "          and C is the channel dimension\n",
        "        - key: Tensor of the shape BxLxC\n",
        "        - value: Tensor of the shape BxLxC\n",
        "        - mask: Tensor indicating where the attention should *not* be performed\n",
        "        \"\"\"\n",
        "        b = query.shape[0]        \n",
        "        key = self.key_linear(key).view(b, -1, self.num_heads, self.dim_per_head)\n",
        "        value = self.value_linear(value).view(b, -1, self.num_heads, self.dim_per_head)\n",
        "        query = self.query_linear(query).view(b, -1, self.num_heads, self.dim_per_head)\n",
        "        dot_prod_scores = None\n",
        "        ###########################################################################\n",
        "        # TODO: Compute the scores based on dot product between transformed query,#\n",
        "        # key, and value. You may find torch.matmul helpful, whose documentation  #\n",
        "        # can be found at                                                         #\n",
        "        # https://pytorch.org/docs/stable/generated/torch.matmul.html#torch.matmul#\n",
        "        # Remember to devide the doct product similarity scores by square root of #\n",
        "        # the channel dimension per head.   \n",
        "        #                                                                         #\n",
        "        # Since no for loops are allowed here, think of how to use tensor reshape #\n",
        "        # to process multiple attention heads at the same time.                   #\n",
        "        ###########################################################################\n",
        "        key = key.transpose(1,2)\n",
        "        value = value.transpose(1,2)\n",
        "        query = query.transpose(1,2)\n",
        "        dot_prod_scores = torch.matmul(query, key.transpose(-2, -1)) /  math.sqrt(self.dim_per_head)\n",
        "        ###########################################################################\n",
        "        #                             END OF YOUR CODE                            #\n",
        "        ###########################################################################\n",
        "        \n",
        "        if mask is not None:\n",
        "            # We simply set the similarity scores to be near zero for the positions\n",
        "            # where the attention should not be done. Think of why we do this.\n",
        "            dot_prod_scores = dot_prod_scores.masked_fill(mask == 0, -1e9)\n",
        "        \n",
        "        out = None\n",
        "        ###########################################################################\n",
        "        # TODO: Compute the attention scores, which are then used to modulate the #\n",
        "        # value tensor. Finally concate the attended tensors from multiple heads  #\n",
        "        # and feed it into the output layer. You may still find torch.matmul      #\n",
        "        # helpful.                                                                #\n",
        "        #                                                                         #\n",
        "        # Again, think of how to use reshaping tensor to do the concatenation.    #\n",
        "        ###########################################################################\n",
        "        attention_scores = F.softmax(dot_prod_scores, dim=-1)\n",
        "        dot_prod_scores = torch.matmul(dot_prod_scores, value)\n",
        "        combined = dot_prod_scores.transpose(1,2).contiguous().view(b, -1, self.input_dim)\n",
        "        out = self.out(combined)\n",
        "        ###########################################################################\n",
        "        #                             END OF YOUR CODE                            #\n",
        "        ###########################################################################\n",
        "        \n",
        "        return out"
      ]
    },
    {
      "cell_type": "code",
      "execution_count": 15,
      "id": "c5bd2c45",
      "metadata": {
        "id": "c5bd2c45",
        "colab": {
          "base_uri": "https://localhost:8080/"
        },
        "outputId": "756fad12-7751-4c67-f912-009407cbf5e9"
      },
      "outputs": [
        {
          "output_type": "stream",
          "name": "stdout",
          "text": [
            "torch.Size([2, 10, 8])\n"
          ]
        }
      ],
      "source": [
        "x = torch.randn((2, 10, 8))\n",
        "mask = torch.randn((2, 10)) > 0.5\n",
        "mask = mask.unsqueeze(1).unsqueeze(-1)\n",
        "num_heads = 4\n",
        "model = MultiHeadAttention(8, num_heads)\n",
        "y = model(x, x, x, mask)\n",
        "assert len(y.shape) == len(x.shape)\n",
        "for dim_x, dim_y in zip(x.shape, y.shape):\n",
        "    assert dim_x == dim_y\n",
        "print(y.shape)"
      ]
    },
    {
      "cell_type": "markdown",
      "id": "02379104",
      "metadata": {
        "id": "02379104"
      },
      "source": [
        "### <font size='4' color='red'>Task 2.2: Implement a Feedforward Network (3 points)</font>"
      ]
    },
    {
      "cell_type": "code",
      "execution_count": 16,
      "id": "5b7083ff",
      "metadata": {
        "id": "5b7083ff"
      },
      "outputs": [],
      "source": [
        "class FeedForwardNetwork(nn.Module):\n",
        "    \"\"\"\n",
        "    A simple feedforward network. Essentially, it is a two-layer fully-connected\n",
        "    neural network.\n",
        "    \"\"\"\n",
        "    def __init__(self, input_dim, ff_dim, dropout):\n",
        "        \"\"\"\n",
        "        Inputs:\n",
        "        - input_dim: Input dimension\n",
        "        - ff_dim: Hidden dimension\n",
        "        \"\"\"\n",
        "        super(FeedForwardNetwork, self).__init__()\n",
        "        \n",
        "        ###########################################################################\n",
        "        # TODO: Define the two linear layers and a non-linear one.\n",
        "        ###########################################################################\n",
        "        self.linear_layer1 = nn.Linear(input_dim, ff_dim)\n",
        "        self.linear_layer2 = nn.Linear(ff_dim,input_dim)\n",
        "        self.dropout = nn.Dropout(dropout)\n",
        "        ###########################################################################\n",
        "        #                             END OF YOUR CODE                            #\n",
        "        ###########################################################################\n",
        "        \n",
        "    def forward(self, x: torch.Tensor):\n",
        "        \"\"\"\n",
        "        Input:\n",
        "        - x: Tensor of the shape BxLxC, where B is the batch size, L is the sequence length,\n",
        "         and C is the channel dimension\n",
        "          \n",
        "        Return:\n",
        "        - y: Tensor of the shape BxLxC\n",
        "        \"\"\"\n",
        "        \n",
        "        y = None\n",
        "        ###########################################################################\n",
        "        # TODO: Process the input.                                                #\n",
        "        ###########################################################################\n",
        "        y = self.linear_layer1(x)\n",
        "        y = F.relu(y)\n",
        "        y = self.dropout(y)\n",
        "        y = self.linear_layer2(y)\n",
        "        ###########################################################################\n",
        "        #                             END OF YOUR CODE                            #\n",
        "        ###########################################################################\n",
        "        \n",
        "        return y\n",
        "        "
      ]
    },
    {
      "cell_type": "code",
      "execution_count": 17,
      "id": "1671c24f",
      "metadata": {
        "id": "1671c24f",
        "colab": {
          "base_uri": "https://localhost:8080/"
        },
        "outputId": "8ccc3b7b-7f4a-4f85-f486-bb00cc9f96a0"
      },
      "outputs": [
        {
          "output_type": "stream",
          "name": "stdout",
          "text": [
            "torch.Size([2, 10, 8])\n"
          ]
        }
      ],
      "source": [
        "x = torch.randn((2, 10, 8))\n",
        "ff_dim = 4\n",
        "model = FeedForwardNetwork(8, ff_dim, 0.1)\n",
        "y = model(x)\n",
        "assert len(x.shape) == len(y.shape)\n",
        "for dim_x, dim_y in zip(x.shape, y.shape):\n",
        "    assert dim_x == dim_y\n",
        "print(y.shape)"
      ]
    },
    {
      "cell_type": "markdown",
      "id": "daa64217",
      "metadata": {
        "id": "daa64217"
      },
      "source": [
        "### <font size='4' color='red'>Task 2.3: Implement a Single Transformer Encoder Cell (8 points)</font>"
      ]
    },
    {
      "cell_type": "code",
      "execution_count": 18,
      "id": "c5aca2a1",
      "metadata": {
        "id": "c5aca2a1"
      },
      "outputs": [],
      "source": [
        "class TransformerEncoderCell(nn.Module):\n",
        "    \"\"\"\n",
        "    A single cell (unit) for the Transformer encoder.\n",
        "    \"\"\"\n",
        "    def __init__(self, input_dim: int, num_heads: int, ff_dim: int, dropout: float):\n",
        "        \"\"\"\n",
        "        Inputs:\n",
        "        - input_dim: Input dimension for each token in a sequence\n",
        "        - num_heads: Number of attention heads in a multi-head attention module\n",
        "        - ff_dim: The hidden dimension for a feedforward network\n",
        "        - dropout: Dropout ratio for the output of the multi-head attention and feedforward\n",
        "          modules.\n",
        "        \"\"\"\n",
        "        super(TransformerEncoderCell, self).__init__()\n",
        "        \n",
        "        ###########################################################################\n",
        "        # TODO: A single Transformer encoder cell consists of \n",
        "        # 1. A multi-head attention module\n",
        "        # 2. Followed by dropout\n",
        "        # 3. Followed by layer norm (check nn.LayerNorm)\n",
        "        # https://pytorch.org/docs/stable/generated/torch.nn.LayerNorm.html#torch.nn.LayerNorm\n",
        "        #                                                                         #\n",
        "        # At the same time, it also has\n",
        "        # 1. A feedforward network\n",
        "        # 2. Followed by dropout\n",
        "        # 3. Followed by layer norm\n",
        "        ###########################################################################\n",
        "        self.layerNorm1 = nn.LayerNorm(input_dim)\n",
        "        self.layerNorm2 = nn.LayerNorm(input_dim)\n",
        "        self.attention = MultiHeadAttention(input_dim, num_heads)\n",
        "        self.feedForward = FeedForwardNetwork(input_dim, ff_dim, dropout)\n",
        "        self.dropout1 = nn.Dropout(dropout)\n",
        "        self.dropout2 = nn.Dropout(dropout)\n",
        "        ###########################################################################\n",
        "        #                             END OF YOUR CODE                            #\n",
        "        ###########################################################################\n",
        "        \n",
        "    def forward(self, x: torch.Tensor, mask: torch.Tensor=None):\n",
        "        \"\"\"\n",
        "        Inputs:\n",
        "        - x: Tensor of the shape BxLxC, where B is the batch size, L is the sequence length,\n",
        "          and C is the channel dimension\n",
        "        - mask: Tensor for multi-head attention\n",
        "        \"\"\"\n",
        "        \n",
        "        y = None\n",
        "        ###########################################################################\n",
        "        # TODO: Get the output of the multi-head attention part (with dropout     #\n",
        "        # and layer norm), which is used as input to the feedforward network (    #\n",
        "        # again, followed by dropout and layer norm).                             #\n",
        "        #                                                                         #\n",
        "        # Don't forget the residual connections for both parts.                   #\n",
        "        ###########################################################################\n",
        "        x_ = self.layerNorm1(x)\n",
        "        y = x + self.dropout1(self.attention(x_,x_,x_,mask))\n",
        "        y = self.layerNorm2(y)\n",
        "        y = y + self.dropout2(self.feedForward(y))\n",
        "        ###########################################################################\n",
        "        #                             END OF YOUR CODE                            #\n",
        "        ###########################################################################\n",
        "        \n",
        "        return y"
      ]
    },
    {
      "cell_type": "code",
      "execution_count": 19,
      "id": "77e4fcff",
      "metadata": {
        "id": "77e4fcff",
        "colab": {
          "base_uri": "https://localhost:8080/"
        },
        "outputId": "354ba137-3dc1-4ccd-8163-c3b50401cfd9"
      },
      "outputs": [
        {
          "output_type": "stream",
          "name": "stdout",
          "text": [
            "torch.Size([2, 10, 8])\n"
          ]
        }
      ],
      "source": [
        "x = torch.randn((2, 10, 8))\n",
        "mask = torch.randn((2, 10)) > 0.5\n",
        "mask = mask.unsqueeze(1).unsqueeze(-1)\n",
        "num_heads = 4\n",
        "model = TransformerEncoderCell(8, num_heads, 32, 0.1)\n",
        "y = model(x, mask)\n",
        "assert len(x.shape) == len(y.shape)\n",
        "for dim_x, dim_y in zip(x.shape, y.shape):\n",
        "    assert dim_x == dim_y\n",
        "print(y.shape)"
      ]
    },
    {
      "cell_type": "markdown",
      "id": "b0944cd8",
      "metadata": {
        "id": "b0944cd8"
      },
      "source": [
        "### <font size='4' color='red'>Task 2.4: Implement Transformer Encoder (5 points)</font>"
      ]
    },
    {
      "cell_type": "code",
      "execution_count": 20,
      "id": "f72b398a",
      "metadata": {
        "id": "f72b398a"
      },
      "outputs": [],
      "source": [
        "class TransformerEncoder(nn.Module):\n",
        "    \"\"\"\n",
        "    A full encoder consisting of a set of TransformerEncoderCell.\n",
        "    \"\"\"\n",
        "    def __init__(self, input_dim: int, num_heads: int, ff_dim: int, num_cells: int, dropout: float=0.1):\n",
        "        \"\"\"\n",
        "        Inputs:\n",
        "        - input_dim: Input dimension for each token in a sequence\n",
        "        - num_heads: Number of attention heads in a multi-head attention module\n",
        "        - ff_dim: The hidden dimension for a feedforward network\n",
        "        - num_cells: Number of TransformerEncoderCells\n",
        "        - dropout: Dropout ratio for the output of the multi-head attention and feedforward\n",
        "          modules.\n",
        "        \"\"\"\n",
        "        super(TransformerEncoder, self).__init__()\n",
        "        self.num_cells = num_cells\n",
        "        self.norm = None\n",
        "        ###########################################################################\n",
        "        # TODO: Construct a nn.ModuleList to store a stack of                     #\n",
        "        # TranformerEncoderCells. Check the documentation here of how to use it   #\n",
        "        # https://pytorch.org/docs/stable/generated/torch.nn.ModuleList.html#torch.nn.ModuleList\n",
        "        \n",
        "        # At the same time, define a layer normalization layer to process the     #\n",
        "        # output of the entire encoder.                                           #\n",
        "        ###########################################################################\n",
        "        self.layers = nn.ModuleList([TransformerEncoderCell(input_dim, num_heads, ff_dim, dropout) for i in range(num_cells)])\n",
        "        self.layerNorm = nn.LayerNorm(input_dim)\n",
        "        ###########################################################################\n",
        "        #                             END OF YOUR CODE                            #\n",
        "        ###########################################################################\n",
        "        \n",
        "    def forward(self, x: torch.Tensor, mask: torch.Tensor=None):\n",
        "        \"\"\"\n",
        "        Inputs:\n",
        "        - x: Tensor of the shape BxLxC, where B is the batch size, L is the sequence length,\n",
        "          and C is the channel dimension\n",
        "        - mask: Tensor for multi-head attention\n",
        "        \n",
        "        Return:\n",
        "        - y: Tensor of the shape of BxLxC, which is the normalized output of the encoder\n",
        "        \"\"\"\n",
        "        \n",
        "        y = None\n",
        "        ###########################################################################\n",
        "        # TODO: Feed x into the stack of TransformerEncoderCells and then         #\n",
        "        # normalize the output with layer norm.                                   #\n",
        "        ###########################################################################\n",
        "        for i in range(self.num_cells):\n",
        "            x = self.layers[i](x, mask)\n",
        "        y = self.layerNorm(x)\n",
        "        ###########################################################################\n",
        "        #                             END OF YOUR CODE                            #\n",
        "        ###########################################################################\n",
        "        \n",
        "        return y\n",
        "        "
      ]
    },
    {
      "cell_type": "code",
      "execution_count": 21,
      "id": "64ddad9c",
      "metadata": {
        "id": "64ddad9c",
        "colab": {
          "base_uri": "https://localhost:8080/"
        },
        "outputId": "9f3f30e3-d0e9-4203-e943-6d6cf80b5e44"
      },
      "outputs": [
        {
          "output_type": "stream",
          "name": "stdout",
          "text": [
            "torch.Size([2, 10, 8])\n"
          ]
        }
      ],
      "source": [
        "x = torch.randn((2, 10, 8))\n",
        "mask = torch.randn((2, 10)) > 0.5\n",
        "mask = mask.unsqueeze(1).unsqueeze(-1)\n",
        "num_heads = 4\n",
        "model = TransformerEncoder(8, num_heads, 32, 2, 0.1)\n",
        "y = model(x)\n",
        "assert len(x.shape) == len(y.shape)\n",
        "for dim_x, dim_y in zip(x.shape, y.shape):\n",
        "    assert dim_x == dim_y\n",
        "print(y.shape)"
      ]
    },
    {
      "cell_type": "markdown",
      "id": "b4c4330c",
      "metadata": {
        "id": "b4c4330c"
      },
      "source": [
        "### <font size='4' color='red'>Task 2.5: Implement Positional Encoding (7 points)</font>"
      ]
    },
    {
      "cell_type": "code",
      "execution_count": 22,
      "id": "52b5ff70",
      "metadata": {
        "id": "52b5ff70"
      },
      "outputs": [],
      "source": [
        "from torch.autograd import Variable\n",
        "class PositionalEncoding(nn.Module):\n",
        "    \"\"\"\n",
        "    A module that adds positional encoding to each of the token's features.\n",
        "    So that the Transformer is position aware.\n",
        "    \"\"\"\n",
        "    def __init__(self, input_dim: int, max_len: int=10000):\n",
        "        \"\"\"\n",
        "        Inputs:\n",
        "        - input_dim: Input dimension about the features for each token\n",
        "        - max_len: The maximum sequence length\n",
        "        \"\"\"\n",
        "        super(PositionalEncoding, self).__init__()\n",
        "        \n",
        "        self.input_dim = input_dim\n",
        "        self.max_len = max_len\n",
        "        \n",
        "    def forward(self, x):\n",
        "        \"\"\"\n",
        "        Compute the positional encoding and add it to x.\n",
        "        \n",
        "        Input:\n",
        "        - x: Tensor of the shape BxLxC, where B is the batch size, L is the sequence length,\n",
        "          and C is the channel dimension\n",
        "          \n",
        "        Return:\n",
        "        - x: Tensor of the shape BxLxC, with the positional encoding added to the input\n",
        "        \"\"\"\n",
        "        seq_len = x.shape[1]\n",
        "        input_dim = x.shape[2]\n",
        "        pe = None\n",
        "        pe = torch.zeros(seq_len, input_dim)\n",
        "        ###########################################################################\n",
        "        # TODO: Compute the positional encoding                                   #\n",
        "        # Check Section 3.5 for the definition (https://arxiv.org/pdf/1706.03762.pdf)\n",
        "        #                                                                         #\n",
        "        # It's a bit messy, but the definition is provided for your here for your #\n",
        "        # convenience (in LaTex).                                                 #\n",
        "        # PE_{(pos,2i)} = sin(pos / 10000^{2i/\\dmodel})                           #\n",
        "        # PE_{(pos,2i+1)} = cos(pos / 10000^{2i/\\dmodel})                         #\n",
        "        #                                                                         #\n",
        "        # You should replace 10000 with max_len here.\n",
        "        ###########################################################################\n",
        "        position = torch.arange(0, seq_len, dtype=torch.float).unsqueeze(1)\n",
        "        div_term = torch.exp(torch.arange(0, input_dim, 2).float() * (-math.log(self.max_len) / input_dim))\n",
        "        pe[:, 0::2] = torch.sin(position * div_term)\n",
        "        pe[:, 1::2] = torch.cos(position * div_term)\n",
        "        pe = pe.unsqueeze(0)\n",
        "        ###########################################################################\n",
        "        #                             END OF YOUR CODE                            #\n",
        "        ###########################################################################\n",
        "        x = x + pe.to(x.device)\n",
        "        return x"
      ]
    },
    {
      "cell_type": "code",
      "execution_count": 23,
      "id": "6d1d76c1",
      "metadata": {
        "id": "6d1d76c1",
        "colab": {
          "base_uri": "https://localhost:8080/"
        },
        "outputId": "f8346ceb-1be7-4cec-a094-b22c3e6041be"
      },
      "outputs": [
        {
          "output_type": "stream",
          "name": "stdout",
          "text": [
            "torch.Size([1, 100, 20]) torch.Size([1, 100, 20])\n"
          ]
        }
      ],
      "source": [
        "# Sanity check\n",
        "x = torch.randn(1, 100, 20)\n",
        "pe = PositionalEncoding(20)\n",
        "y = pe(x)\n",
        "assert len(x.shape) == len(y.shape)\n",
        "for dim_x, dim_y in zip(x.shape, y.shape):\n",
        "    assert dim_x == dim_y\n",
        "\n",
        "print(x.shape, y.shape)"
      ]
    },
    {
      "cell_type": "code",
      "execution_count": 24,
      "id": "5a34a7de",
      "metadata": {
        "id": "5a34a7de",
        "colab": {
          "base_uri": "https://localhost:8080/",
          "height": 337
        },
        "outputId": "de8df639-4bc1-463b-e741-c71b36d5b32c"
      },
      "outputs": [
        {
          "output_type": "execute_result",
          "data": {
            "text/plain": [
              "<matplotlib.legend.Legend at 0x7f885d6a3790>"
            ]
          },
          "metadata": {},
          "execution_count": 24
        },
        {
          "output_type": "display_data",
          "data": {
            "text/plain": [
              "<Figure size 1080x360 with 1 Axes>"
            ],
            "image/png": "[encoded data removed]"
          },
          "metadata": {
            "needs_background": "light"
          }
        }
      ],
      "source": [
        "%matplotlib inline\n",
        "import matplotlib.pyplot as plt\n",
        "import numpy as np\n",
        "\n",
        "plt.figure(figsize=(15, 5))\n",
        "pe = PositionalEncoding(20)\n",
        "y = pe.forward((torch.zeros(1, 100, 20)))\n",
        "plt.plot(np.arange(100), y[0, :, 4:8].data.numpy())\n",
        "plt.legend([\"dim %d\"%p for p in [4,5,6,7]])"
      ]
    },
    {
      "cell_type": "markdown",
      "id": "403b5eb6",
      "metadata": {
        "id": "403b5eb6"
      },
      "source": [
        "### <font size='4' color='red'>Task 2.6: Implement a Transformer-based Text Classifier (5 points)</font>"
      ]
    },
    {
      "cell_type": "code",
      "execution_count": 25,
      "id": "ea75af7f",
      "metadata": {
        "id": "ea75af7f"
      },
      "outputs": [],
      "source": [
        "class TransformerClassifier(nn.Module):\n",
        "    \"\"\"\n",
        "    A Transformer-based text classifier.\n",
        "    \"\"\"\n",
        "    def __init__(self, \n",
        "            vocab_size: int, embed_dim: int, num_heads: int, trx_ff_dim: int, \n",
        "            num_trx_cells: int, num_class: int, dropout: float=0.1, pad_token: int=0\n",
        "        ):\n",
        "        \"\"\"\n",
        "        Inputs:\n",
        "        - vocab_size: Vocabulary size, indicating how many tokens we have in total.\n",
        "        - embed_dim: The dimension of word embeddings\n",
        "        - num_heads: Number of attention heads in a multi-head attention module\n",
        "        - trx_ff_dim: The hidden dimension for a feedforward network\n",
        "        - num_trx_cells: Number of TransformerEncoderCells\n",
        "        - dropout: Dropout ratio\n",
        "        - pad_token: The index of the padding token.\n",
        "        \"\"\"\n",
        "        super(TransformerClassifier, self).__init__()\n",
        "        self.embed_dim = embed_dim\n",
        "        # word embedding layer\n",
        "        self.embedding = nn.Embedding(vocab_size, embed_dim, padding_idx=pad_token)\n",
        "        print(self.embed_dim)\n",
        "        ###########################################################################\n",
        "        # TODO: Define a module for positional encoding, Transformer encoder, and #\n",
        "        # a output layer                                                          #\n",
        "        ###########################################################################\n",
        "        self.positionalEncoding = PositionalEncoding(embed_dim)\n",
        "        self.transformerEncoder = TransformerEncoder(embed_dim,num_heads,trx_ff_dim,num_trx_cells,dropout)\n",
        "        self.out = nn.Linear(embed_dim,num_class)\n",
        "        ###########################################################################\n",
        "        #                             END OF YOUR CODE                            #\n",
        "        ###########################################################################\n",
        "\n",
        "    def forward(self, text, mask=None):\n",
        "        \"\"\"\n",
        "        Inputs:\n",
        "        - text: Tensor with the shape of BxLxC.\n",
        "        - mask: Tensor for multi-head attention\n",
        "        \n",
        "        Return:\n",
        "        - logits: Tensor with the shape of BxK, where K is the number of classes\n",
        "        \"\"\"\n",
        "        # word embeddings, note we multiple the embeddings by a factor\n",
        "        embedded = self.embedding(text) * math.sqrt(self.embed_dim)\n",
        "        #print(text.shape,embedded.shape)\n",
        "        \n",
        "        logits = None\n",
        "        ###########################################################################\n",
        "        # TODO: Apply positional embedding to the input, which is then fed into   #\n",
        "        # the encoder. Average pooling is applied then to all the features of all #\n",
        "        # tokens. Finally, the logits are computed based on the pooled features.  #\n",
        "        ###########################################################################\n",
        "        #print(\"Embedded \", embedded.shape, embed_dim)\n",
        "        positional_output = self.positionalEncoding(embedded)\n",
        "        #print(\"positional encoder \", posEncod.shape)\n",
        "        encoder_output = self.transformerEncoder(positional_output)\n",
        "        #print(\"Transformer DONE\")\n",
        "        #print('Encoded Shape ',encoded.shape)\n",
        "        #pool = nn.AvgPool2d(3)\n",
        "        #print(\"encoded \", encoded.shape)\n",
        "        avg_pool = torch.mean(encoder_output,1)\n",
        "        #print('pooled features', avgPool)\n",
        "        #print(type(pool_features))\n",
        "        logits = self.out(avg_pool)\n",
        "        ###########################################################################\n",
        "        #                             END OF YOUR CODE                            #\n",
        "        ###########################################################################\n",
        "        # print(logits.shape)\n",
        "        return logits"
      ]
    },
    {
      "cell_type": "code",
      "execution_count": 26,
      "id": "5e926e90",
      "metadata": {
        "id": "5e926e90",
        "colab": {
          "base_uri": "https://localhost:8080/"
        },
        "outputId": "4aa842db-8c93-4a0b-ad3d-d381d4fb1255"
      },
      "outputs": [
        {
          "output_type": "stream",
          "name": "stdout",
          "text": [
            "16\n",
            "x: torch.Size([2, 10]), mask: torch.Size([2, 1, 1, 10])\n",
            "torch.Size([2, 3])\n"
          ]
        }
      ],
      "source": [
        "vocab_size = 10\n",
        "embed_dim = 16\n",
        "num_heads = 4\n",
        "trx_ff_dim = 16\n",
        "num_trx_cells = 2\n",
        "num_class = 3\n",
        "\n",
        "x = torch.arange(vocab_size).view(1, -1)\n",
        "x = torch.cat((x, x), dim=0)\n",
        "mask = (x != 0).unsqueeze(-2).unsqueeze(1)\n",
        "model = TransformerClassifier(vocab_size, embed_dim, num_heads, trx_ff_dim, num_trx_cells, num_class)\n",
        "print('x: {}, mask: {}'.format(x.shape, mask.shape))\n",
        "y = model(x, mask)\n",
        "assert len(y.shape) == 2 and y.shape[0] == x.shape[0] and y.shape[1] == num_class\n",
        "print(y.shape)"
      ]
    },
    {
      "cell_type": "markdown",
      "id": "8c1f02fc",
      "metadata": {
        "id": "8c1f02fc"
      },
      "source": [
        "### <font size='4' color='red'>Task 2.7: Define the Model and Loss Function (3 points)</font>"
      ]
    },
    {
      "cell_type": "code",
      "execution_count": 27,
      "id": "46bd5779",
      "metadata": {
        "id": "46bd5779",
        "colab": {
          "base_uri": "https://localhost:8080/"
        },
        "outputId": "9207a12b-0619-4aea-ed00-c5b416e5d149"
      },
      "outputs": [
        {
          "output_type": "stream",
          "name": "stdout",
          "text": [
            "64\n",
            "| epoch   1 |   500/ 1782 batches| accuracy    0.596\n",
            "| epoch   1 |  1000/ 1782 batches| accuracy    0.780\n",
            "| epoch   1 |  1500/ 1782 batches| accuracy    0.831\n",
            "-----------------------------------------------------------\n",
            "| end of epoch   1 | time: 98.09s | valid accuracy    0.861 \n",
            "-----------------------------------------------------------\n",
            "| epoch   2 |   500/ 1782 batches| accuracy    0.875\n",
            "| epoch   2 |  1000/ 1782 batches| accuracy    0.882\n",
            "| epoch   2 |  1500/ 1782 batches| accuracy    0.890\n",
            "-----------------------------------------------------------\n",
            "| end of epoch   2 | time: 96.70s | valid accuracy    0.890 \n",
            "-----------------------------------------------------------\n",
            "| epoch   3 |   500/ 1782 batches| accuracy    0.910\n",
            "| epoch   3 |  1000/ 1782 batches| accuracy    0.908\n",
            "| epoch   3 |  1500/ 1782 batches| accuracy    0.913\n",
            "-----------------------------------------------------------\n",
            "| end of epoch   3 | time: 95.08s | valid accuracy    0.906 \n",
            "-----------------------------------------------------------\n",
            "| epoch   4 |   500/ 1782 batches| accuracy    0.927\n",
            "| epoch   4 |  1000/ 1782 batches| accuracy    0.928\n",
            "| epoch   4 |  1500/ 1782 batches| accuracy    0.930\n",
            "-----------------------------------------------------------\n",
            "| end of epoch   4 | time: 95.97s | valid accuracy    0.909 \n",
            "-----------------------------------------------------------\n",
            "| epoch   5 |   500/ 1782 batches| accuracy    0.937\n",
            "| epoch   5 |  1000/ 1782 batches| accuracy    0.941\n",
            "| epoch   5 |  1500/ 1782 batches| accuracy    0.936\n",
            "-----------------------------------------------------------\n",
            "| end of epoch   5 | time: 96.92s | valid accuracy    0.910 \n",
            "-----------------------------------------------------------\n"
          ]
        }
      ],
      "source": [
        "assert torch.cuda.is_available()\n",
        "device = 'cuda'\n",
        "device = torch.device(\"cuda\" if torch.cuda.is_available() else \"cpu\")\n",
        "\n",
        "# Hyperparameters\n",
        "epochs = 5 # epoch\n",
        "lr = 0.0005  # learning rate\n",
        "batch_size = 64 # batch size for training\n",
        "  \n",
        "train_iter = AG_NEWS(split='train')\n",
        "num_class = len(set([label for (label, text) in train_iter]))\n",
        "vocab_size = len(vocab)\n",
        "emsize = 64\n",
        "\n",
        "num_heads = 4\n",
        "num_trx_cells = 2\n",
        "\n",
        "gradient_norm_clip = 1\n",
        "\n",
        "###########################################################################\n",
        "# Define a Transformer-based text classifier and a loss function.         #\n",
        "###########################################################################\n",
        "model = TransformerClassifier(vocab_size, emsize, num_heads, trx_ff_dim, \n",
        "            num_trx_cells, num_class)\n",
        "loss_func = nn.CrossEntropyLoss()\n",
        "###########################################################################\n",
        "#                             END OF YOUR CODE                            #\n",
        "###########################################################################\n",
        "model = model.to(device)\n",
        "\n",
        "optimizer = torch.optim.AdamW(model.parameters(), lr=lr)\n",
        "scheduler = torch.optim.lr_scheduler.CosineAnnealingLR(optimizer, epochs, 1e-8)\n",
        "total_accu = None\n",
        "\n",
        "# You should be able to get a validation accuracy around 89%\n",
        "for epoch in range(1, epochs + 1):\n",
        "    epoch_start_time = time.time()\n",
        "    train(model, train_dataloader, loss_func, device, gradient_norm_clip)\n",
        "    accu_val = evaluate(model, valid_dataloader, loss_func, device)\n",
        "    if total_accu is not None and total_accu > accu_val:\n",
        "        scheduler.step()\n",
        "    else:\n",
        "        total_accu = accu_val\n",
        "    print('-' * 59)\n",
        "    print('| end of epoch {:3d} | time: {:5.2f}s | '\n",
        "          'valid accuracy {:8.3f} '.format(epoch,\n",
        "                                           time.time() - epoch_start_time,\n",
        "                                           accu_val))\n",
        "    print('-' * 59)"
      ]
    },
    {
      "cell_type": "markdown",
      "id": "fba2a914",
      "metadata": {
        "id": "fba2a914"
      },
      "source": [
        "## Part 3: Image Classification with Transformer (10 points)"
      ]
    },
    {
      "cell_type": "markdown",
      "id": "b8d670e6",
      "metadata": {
        "id": "b8d670e6"
      },
      "source": [
        "### <font size='4' color='red'>Task 3.1: Implement VisionTransformer for Image Classification (no for loops are allowed, 7 points)</font>"
      ]
    },
    {
      "cell_type": "code",
      "execution_count": 28,
      "id": "87161192",
      "metadata": {
        "id": "87161192"
      },
      "outputs": [],
      "source": [
        "class VisionTransformerClassifier(nn.Module):\n",
        "    \"\"\"\n",
        "    In the model, we partition an image into non-overlapping patches. Each patch is treated as a token.\n",
        "    We can get a sequence of such tokens by flattening the patches. Each token's embeddings is the\n",
        "    flattened RGB pixel values. If the patch size is 4, then the embeddings' dimension is 4*4*3.\n",
        "    You can check this paper https://arxiv.org/pdf/2010.11929.pdf for reference.\n",
        "    \"\"\"\n",
        "    def __init__(self, \n",
        "            patch_size: int, num_heads: int, trx_ff_dim: int, \n",
        "            num_trx_cells: int, num_class: int, dropout: float=0.1\n",
        "        ):\n",
        "        \"\"\"\n",
        "        Inputs:\n",
        "        - patch_size: Size of the non-overlapping patches\n",
        "        - num_heads: Number of attention heads\n",
        "        - trx_ff_dim: Hidden dimension of the feedforward network in a Transformer encoder\n",
        "        - num_trx_cells: Number of TransformerEncoderCells \n",
        "        - num_class: Number of image classes\n",
        "        - dropout: Dropout ratio\n",
        "        \"\"\"\n",
        "        super(VisionTransformerClassifier, self).__init__()\n",
        "        \n",
        "        self.patch_size = patch_size\n",
        "        \n",
        "        ###########################################################################\n",
        "        # TODO: Define a TransformerEncoder that takens non-overlapping patches   #\n",
        "        # of an image as input and another output layer for classification.       #\n",
        "        #                                                                         #\n",
        "        # Intuitively, we need 2D positional encodings for each patch according to#\n",
        "        # its x and y coordinates. But this reference paper https://arxiv.org/pdf/2010.11929.pdf\n",
        "        # shows there is no significance difference on accuracies. It is bit      #\n",
        "        # weird. But you can simply use the 1D positional encoding you have       #\n",
        "        # implemented earlier. You can experiment with 2D positional encodings    #\n",
        "        # if you like to earn extra credits.                                      #\n",
        "        ###########################################################################\n",
        "        #print(\"input dims\", patch_size)\n",
        "        #(self, input_dim: int, num_heads: int, ff_dim: int, dropout: float):\n",
        "        \n",
        "        self.encoder = TransformerEncoder(patch_size*patch_size*3,num_heads,trx_ff_dim, num_trx_cells, dropout)\n",
        "        self.positionalEncoding = PositionalEncoding(patch_size*patch_size*3)\n",
        "        self.out = nn.Linear(patch_size*patch_size*3,num_class)\n",
        "        ###########################################################################\n",
        "        #                             END OF YOUR CODE                            #\n",
        "        ###########################################################################\n",
        "\n",
        "#     def init_weights(self):\n",
        "#         initrange = 0.5\n",
        "#         self.embedding.weight.data.uniform_(-initrange, initrange)\n",
        "#         self.fc.weight.data.uniform_(-initrange, initrange)\n",
        "#         self.fc.bias.data.zero_()\n",
        "\n",
        "    def forward(self, image: torch.Tensor):\n",
        "        \"\"\"\n",
        "        Input:\n",
        "        - image: Tensor of the shape BxCxHxW, where H and W are the height and width, respectively.\n",
        "        \n",
        "        Return:\n",
        "        - logtis: Classification logits\n",
        "        \"\"\"\n",
        "        \n",
        "        b, c, h, w = image.shape\n",
        "        \n",
        "        ###########################################################################\n",
        "        # TODO: Partition an image into non-overlapping patches. Think of how to  #\n",
        "        # reshape the tensor to convert it to be the BxLxC format, which we have  #\n",
        "        # extensively used for NLP tasks. You may find tensor.permute helpful.    #\n",
        "        # Check documentation here https://pytorch.org/docs/stable/generated/torch.permute.html#torch.permute\n",
        "        ###########################################################################\n",
        "        no_patches = int((h*w)/(self.patch_size * self.patch_size))\n",
        "        #print('no patches, patch sizw', no_patches, patch_size)\n",
        "        # new_dim2 = self.patch_size *self.patch_size \n",
        "        # new_dim3 = int((h*c/self.patch_size)*(w*c/self.patch_size ))\n",
        "        \n",
        "        # print(\"image dims\", image.shape)\n",
        "        # print('new dims', b, new_dim2, new_dim3)\n",
        "        # #new_image = image.squeeze(1)\n",
        "        # reshaped_val = image.reshape(b, new_dim2, new_dim3)\n",
        "        new_image = image.reshape(b, c*self.patch_size*self.patch_size, no_patches)\n",
        "        new_image = torch.permute(new_image, (0,2,1))\n",
        "        #reshaped_val = torch.permute(image,(b, new_dim2, new_dim3))\n",
        "        #print(new_image.shape)\n",
        "        logits = self.positionalEncoding(new_image)\n",
        "        #print(logits.shape)\n",
        "        logits = self.encoder(logits)\n",
        "        logits = torch.mean(logits,1)\n",
        "      \n",
        "        logits = self.out(logits)\n",
        "        ###########################################################################\n",
        "        #                             END OF YOUR CODE                            #\n",
        "        ###########################################################################\n",
        "        \n",
        "        return logits"
      ]
    },
    {
      "cell_type": "code",
      "execution_count": 29,
      "id": "1c0a5642",
      "metadata": {
        "id": "1c0a5642",
        "colab": {
          "base_uri": "https://localhost:8080/"
        },
        "outputId": "44fe1ca8-a982-497c-cb61-253870530d00"
      },
      "outputs": [
        {
          "output_type": "stream",
          "name": "stdout",
          "text": [
            "torch.Size([2, 5])\n"
          ]
        }
      ],
      "source": [
        "# Sanity check\n",
        "image = torch.randn((2, 3, 32, 32))\n",
        "patch_size = 4\n",
        "num_heads = 4\n",
        "num_trx_cells = 2\n",
        "trx_ff_dim = 16\n",
        "dropout = 0.1\n",
        "num_class = 5\n",
        "\n",
        "vit = VisionTransformerClassifier(patch_size, num_heads, trx_ff_dim, num_trx_cells, num_class, dropout)\n",
        "logits = vit(image)\n",
        "assert len(logits.shape) == 2 and logits.shape[0] == image.shape[0] and logits.shape[1] == num_class\n",
        "print(logits.shape)"
      ]
    },
    {
      "cell_type": "markdown",
      "id": "966276ca",
      "metadata": {
        "id": "966276ca"
      },
      "source": [
        "### Prepare Data Loaders"
      ]
    },
    {
      "cell_type": "code",
      "execution_count": 30,
      "id": "b80c3d63",
      "metadata": {
        "id": "b80c3d63",
        "colab": {
          "base_uri": "https://localhost:8080/"
        },
        "outputId": "5d011e44-8640-4b71-ca49-0302c36b6864"
      },
      "outputs": [
        {
          "output_type": "stream",
          "name": "stdout",
          "text": [
            "[Errno 2] No such file or directory: '../datasets'\n",
            "/content\n",
            "--2022-04-21 02:26:07--  http://www.cs.toronto.edu/~kriz/cifar-10-python.tar.gz\n",
            "Resolving www.cs.toronto.edu (www.cs.toronto.edu)... 128.100.3.30\n",
            "Connecting to www.cs.toronto.edu (www.cs.toronto.edu)|128.100.3.30|:80... connected.\n",
            "HTTP request sent, awaiting response... 200 OK\n",
            "Length: 170498071 (163M) [application/x-gzip]\n",
            "Saving to: ‘cifar-10-python.tar.gz’\n",
            "\n",
            "cifar-10-python.tar 100%[===================>] 162.60M  15.4MB/s    in 12s     \n",
            "\n",
            "2022-04-21 02:26:19 (13.8 MB/s) - ‘cifar-10-python.tar.gz’ saved [170498071/170498071]\n",
            "\n",
            "cifar-10-batches-py/\n",
            "cifar-10-batches-py/data_batch_4\n",
            "cifar-10-batches-py/readme.html\n",
            "cifar-10-batches-py/test_batch\n",
            "cifar-10-batches-py/data_batch_3\n",
            "cifar-10-batches-py/batches.meta\n",
            "cifar-10-batches-py/data_batch_2\n",
            "cifar-10-batches-py/data_batch_5\n",
            "cifar-10-batches-py/data_batch_1\n"
          ]
        }
      ],
      "source": [
        "# let's download the data\n",
        "%cd ../datasets\n",
        "\n",
        "# 1 -- Linux \n",
        "# 2 -- MacOS\n",
        "# 3 -- Command Prompt on Windows\n",
        "# 4 -- manually downloading the data\n",
        "choice = 1\n",
        "\n",
        "\n",
        "if choice == 1:\n",
        "    # should work well on Linux and in Powershell on Windows\n",
        "    !wget http://www.cs.toronto.edu/~kriz/cifar-10-python.tar.gz\n",
        "elif choice == 2 or choice ==3:\n",
        "    # if wget is not available for you, try curl\n",
        "    # should work well on MacOS\n",
        "    !curl http://www.cs.toronto.edu/~kriz/cifar-10-python.tar.gz --output cifar-10-python.tar.gz\n",
        "else:\n",
        "    print('Please manually download the data from http://www.cs.toronto.edu/~kriz/cifar-10-python.tar.gz and put it under the datasets folder.')\n",
        "!tar -xzvf cifar-10-python.tar.gz\n",
        "\n",
        "if choice==3:\n",
        "    !del cifar-10-python.tar.gz\n",
        "else:\n",
        "    !rm cifar-10-python.tar.gz"
      ]
    },
    {
      "cell_type": "code",
      "execution_count": 31,
      "id": "724c00ec",
      "metadata": {
        "id": "724c00ec",
        "colab": {
          "base_uri": "https://localhost:8080/"
        },
        "outputId": "e3fe0133-6f41-417d-9e2e-6af514af14c0"
      },
      "outputs": [
        {
          "output_type": "stream",
          "name": "stdout",
          "text": [
            "('X_train: ', (49000, 3, 32, 32))\n",
            "('y_train: ', (49000,))\n",
            "('X_val: ', (1000, 3, 32, 32))\n",
            "('y_val: ', (1000,))\n",
            "('X_test: ', (1000, 3, 32, 32))\n",
            "('y_test: ', (1000,))\n"
          ]
        }
      ],
      "source": [
        "from six.moves import cPickle as pickle\n",
        "import numpy as np\n",
        "import os\n",
        "from imageio import imread\n",
        "import platform\n",
        "\n",
        "def load_pickle(f):\n",
        "    version = platform.python_version_tuple()\n",
        "    if version[0] == '2':\n",
        "        return  pickle.load(f)\n",
        "    elif version[0] == '3':\n",
        "        return  pickle.load(f, encoding='latin1')\n",
        "    raise ValueError(\"invalid python version: {}\".format(version))\n",
        "\n",
        "def load_CIFAR_batch(filename):\n",
        "  \"\"\" load single batch of cifar \"\"\"\n",
        "  with open(filename, 'rb') as f:\n",
        "    datadict = load_pickle(f)\n",
        "    X = datadict['data']\n",
        "    Y = datadict['labels']\n",
        "    X = X.reshape(10000, 3, 32, 32).transpose(0,2,3,1).astype(\"float\")\n",
        "    Y = np.array(Y)\n",
        "    return X, Y\n",
        "\n",
        "def load_CIFAR10(ROOT):\n",
        "  \"\"\" load all of cifar \"\"\"\n",
        "  xs = []\n",
        "  ys = []\n",
        "  for b in range(1,6):\n",
        "    f = os.path.join(ROOT, 'data_batch_%d' % (b, ))\n",
        "    X, Y = load_CIFAR_batch(f)\n",
        "    xs.append(X)\n",
        "    ys.append(Y)\n",
        "  Xtr = np.concatenate(xs)\n",
        "  Ytr = np.concatenate(ys)\n",
        "  del X, Y\n",
        "  Xte, Yte = load_CIFAR_batch(os.path.join(ROOT, 'test_batch'))\n",
        "  return Xtr, Ytr, Xte, Yte\n",
        "\n",
        "\n",
        "def get_CIFAR10_data(cifar10_dir, num_training=49000, num_validation=1000, num_test=1000,\n",
        "                     subtract_mean=True):\n",
        "    \"\"\"\n",
        "    Load the CIFAR-10 dataset from disk and perform preprocessing to prepare\n",
        "    it for classifiers. These are the same steps as we used for the SVM, but\n",
        "    condensed to a single function.\n",
        "    \"\"\"\n",
        "    # Load the raw CIFAR-10 data\n",
        "    X_train, y_train, X_test, y_test = load_CIFAR10(cifar10_dir)\n",
        "\n",
        "    # Subsample the data\n",
        "    mask = list(range(num_training, num_training + num_validation))\n",
        "    X_val = X_train[mask]\n",
        "    y_val = y_train[mask]\n",
        "    mask = list(range(num_training))\n",
        "    X_train = X_train[mask]\n",
        "    y_train = y_train[mask]\n",
        "    mask = list(range(num_test))\n",
        "    X_test = X_test[mask]\n",
        "    y_test = y_test[mask]\n",
        "\n",
        "    # Normalize the data: subtract the mean image\n",
        "    if subtract_mean:\n",
        "      mean_image = np.mean(X_train, axis=0)\n",
        "      X_train -= mean_image\n",
        "      X_val -= mean_image\n",
        "      X_test -= mean_image\n",
        "\n",
        "    # Transpose so that channels come first\n",
        "    X_train = X_train.transpose(0, 3, 1, 2).copy()\n",
        "    X_val = X_val.transpose(0, 3, 1, 2).copy()\n",
        "    X_test = X_test.transpose(0, 3, 1, 2).copy()\n",
        "\n",
        "    # Package data into a dictionary\n",
        "    return {\n",
        "      'X_train': X_train, 'y_train': y_train,\n",
        "      'X_val': X_val, 'y_val': y_val,\n",
        "      'X_test': X_test, 'y_test': y_test,\n",
        "    }\n",
        "\n",
        "# Split the data into train, val, and test sets. \n",
        "# Check the get_CIFAR10_data function for more details\n",
        "cifar10_dir = 'cifar-10-batches-py'\n",
        "data = get_CIFAR10_data(cifar10_dir)\n",
        "for k, v in list(data.items()):\n",
        "    print(('%s: ' % k, v.shape))"
      ]
    },
    {
      "cell_type": "code",
      "execution_count": 32,
      "id": "f770e8d3",
      "metadata": {
        "id": "f770e8d3",
        "colab": {
          "base_uri": "https://localhost:8080/"
        },
        "outputId": "cc1bcd30-95e9-48ec-f021-0e60b2132148"
      },
      "outputs": [
        {
          "output_type": "stream",
          "name": "stdout",
          "text": [
            "torch.Size([8, 3, 32, 32]) tensor([0, 3, 3, 3, 9, 8, 8, 2])\n",
            "torch.Size([8, 3, 32, 32]) tensor([5, 2, 2, 1, 2, 5, 0, 4])\n"
          ]
        }
      ],
      "source": [
        "from torch.utils.data.dataset import TensorDataset\n",
        "\n",
        "def make_dataloader(x, y, batch_size, is_train):\n",
        "    dataset = TensorDataset(\n",
        "        torch.from_numpy(y).long(),\n",
        "        torch.from_numpy(x).float() \n",
        "    )\n",
        "    dataloader = DataLoader(\n",
        "        dataset,\n",
        "        batch_size=batch_size,\n",
        "        shuffle=is_train,\n",
        "        num_workers=2,\n",
        "        drop_last=is_train\n",
        "    )\n",
        "    return dataloader\n",
        "    \n",
        "train_loader = make_dataloader(data['X_train'], data['y_train'], 8, True)\n",
        "for idx, (lab, im) in enumerate(train_loader):\n",
        "    if idx > 1:\n",
        "        break\n",
        "    print(im.shape, lab)"
      ]
    },
    {
      "cell_type": "markdown",
      "id": "570d32af",
      "metadata": {
        "id": "570d32af"
      },
      "source": [
        "### <font size='4' color='red'>Task 3.2: Define the Model and Loss Function (3 points)</font>"
      ]
    },
    {
      "cell_type": "code",
      "execution_count": 33,
      "id": "81f44a98",
      "metadata": {
        "id": "81f44a98",
        "colab": {
          "base_uri": "https://localhost:8080/"
        },
        "outputId": "25a2c9cb-58bb-4697-e9ce-8a4c394c2850"
      },
      "outputs": [
        {
          "output_type": "stream",
          "name": "stdout",
          "text": [
            "| epoch   1 |   500/ 3062 batches| accuracy    0.306\n",
            "| epoch   1 |  1000/ 3062 batches| accuracy    0.364\n",
            "| epoch   1 |  1500/ 3062 batches| accuracy    0.393\n",
            "| epoch   1 |  2000/ 3062 batches| accuracy    0.401\n",
            "| epoch   1 |  2500/ 3062 batches| accuracy    0.409\n",
            "| epoch   1 |  3000/ 3062 batches| accuracy    0.436\n",
            "-----------------------------------------------------------\n",
            "| end of epoch   1 | time: 93.22s | valid accuracy    0.416 \n",
            "-----------------------------------------------------------\n",
            "| epoch   2 |   500/ 3062 batches| accuracy    0.450\n",
            "| epoch   2 |  1000/ 3062 batches| accuracy    0.444\n",
            "| epoch   2 |  1500/ 3062 batches| accuracy    0.454\n",
            "| epoch   2 |  2000/ 3062 batches| accuracy    0.455\n",
            "| epoch   2 |  2500/ 3062 batches| accuracy    0.469\n",
            "| epoch   2 |  3000/ 3062 batches| accuracy    0.466\n",
            "-----------------------------------------------------------\n",
            "| end of epoch   2 | time: 93.46s | valid accuracy    0.460 \n",
            "-----------------------------------------------------------\n",
            "| epoch   3 |   500/ 3062 batches| accuracy    0.477\n",
            "| epoch   3 |  1000/ 3062 batches| accuracy    0.485\n",
            "| epoch   3 |  1500/ 3062 batches| accuracy    0.486\n",
            "| epoch   3 |  2000/ 3062 batches| accuracy    0.492\n",
            "| epoch   3 |  2500/ 3062 batches| accuracy    0.490\n",
            "| epoch   3 |  3000/ 3062 batches| accuracy    0.492\n",
            "-----------------------------------------------------------\n",
            "| end of epoch   3 | time: 93.90s | valid accuracy    0.492 \n",
            "-----------------------------------------------------------\n",
            "| epoch   4 |   500/ 3062 batches| accuracy    0.512\n",
            "| epoch   4 |  1000/ 3062 batches| accuracy    0.503\n",
            "| epoch   4 |  1500/ 3062 batches| accuracy    0.512\n",
            "| epoch   4 |  2000/ 3062 batches| accuracy    0.507\n",
            "| epoch   4 |  2500/ 3062 batches| accuracy    0.512\n",
            "| epoch   4 |  3000/ 3062 batches| accuracy    0.506\n",
            "-----------------------------------------------------------\n",
            "| end of epoch   4 | time: 93.91s | valid accuracy    0.492 \n",
            "-----------------------------------------------------------\n",
            "| epoch   5 |   500/ 3062 batches| accuracy    0.538\n",
            "| epoch   5 |  1000/ 3062 batches| accuracy    0.522\n",
            "| epoch   5 |  1500/ 3062 batches| accuracy    0.524\n",
            "| epoch   5 |  2000/ 3062 batches| accuracy    0.522\n",
            "| epoch   5 |  2500/ 3062 batches| accuracy    0.527\n",
            "| epoch   5 |  3000/ 3062 batches| accuracy    0.523\n",
            "-----------------------------------------------------------\n",
            "| end of epoch   5 | time: 94.13s | valid accuracy    0.490 \n",
            "-----------------------------------------------------------\n"
          ]
        }
      ],
      "source": [
        "patch_size = 4\n",
        "embed_dim = 128\n",
        "num_heads = 4\n",
        "trx_ff_dim = 128\n",
        "num_trx_cells = 2\n",
        "num_class = 10\n",
        "\n",
        "###########################################################################\n",
        "# TODO: Define the model and loss function\n",
        "###########################################################################\n",
        "model = VisionTransformerClassifier(patch_size, num_heads, trx_ff_dim, num_trx_cells, num_class)\n",
        "loss_func = nn.CrossEntropyLoss()\n",
        "###########################################################################\n",
        "#                             END OF YOUR CODE                            #\n",
        "###########################################################################\n",
        "\n",
        "for p in model.parameters():\n",
        "    if p.dim() > 1:\n",
        "        nn.init.xavier_uniform_(p)\n",
        "model = model.to(device)\n",
        "\n",
        "batch_size = 16\n",
        "train_loader = make_dataloader(data['X_train'], data['y_train'], batch_size, True)\n",
        "val_loader = make_dataloader(data['X_test'], data['y_test'], batch_size, False)\n",
        "\n",
        "# Hyperparameters\n",
        "epochs = 5 # epoch\n",
        "lr = 0.001\n",
        "gradient_norm_clip = 0.1\n",
        "\n",
        "optimizer = torch.optim.AdamW(model.parameters(), lr=lr)\n",
        "scheduler = torch.optim.lr_scheduler.CosineAnnealingLR(optimizer, epochs, 1e-8)\n",
        "total_accu = None\n",
        "\n",
        "# You should be able to get an accuracy around 36%\n",
        "for epoch in range(1, epochs + 1):\n",
        "    epoch_start_time = time.time()\n",
        "    train(model, train_loader, loss_func, device, gradient_norm_clip)\n",
        "    accu_val = evaluate(model, val_loader, loss_func, device)\n",
        "    if total_accu is not None and total_accu > accu_val:\n",
        "        scheduler.step()\n",
        "    else:\n",
        "        total_accu = accu_val\n",
        "    print('-' * 59)\n",
        "    print('| end of epoch {:3d} | time: {:5.2f}s | '\n",
        "          'valid accuracy {:8.3f} '.format(epoch,\n",
        "                                           time.time() - epoch_start_time,\n",
        "                                           accu_val))\n",
        "    print('-' * 59)"
      ]
    },
    {
      "cell_type": "markdown",
      "id": "f0e6ea7e",
      "metadata": {
        "id": "f0e6ea7e"
      },
      "source": [
        "## Part 4: Machine Translation with Transformer (25 points)"
      ]
    },
    {
      "cell_type": "markdown",
      "id": "e6ad5d07",
      "metadata": {
        "id": "e6ad5d07"
      },
      "source": [
        "### <font size='4' color='red'>Task 4.1: Implement Transformer Decoder Cell (10 points)</font>"
      ]
    },
    {
      "cell_type": "code",
      "execution_count": 34,
      "id": "32619440",
      "metadata": {
        "id": "32619440"
      },
      "outputs": [],
      "source": [
        "from torch.nn.modules import dropout\n",
        "class TransformerDecoderCell(nn.Module):\n",
        "    \"\"\"\n",
        "    A single cell (unit) of the Transformer decoder.\n",
        "    \"\"\"\n",
        "    def __init__(self, input_dim: int, num_heads: int, ff_dim: int, dropout: float=0.1):\n",
        "        \"\"\"\n",
        "        Inputs:\n",
        "        - input_dim: Input dimension for each token in a sequence\n",
        "        - num_heads: Number of attention heads in a multi-head attention module\n",
        "        - ff_dim: The hidden dimension for a feedforward network\n",
        "        - dropout: Dropout ratio for the output of the multi-head attention and feedforward\n",
        "          modules.\n",
        "        \"\"\"\n",
        "        super(TransformerDecoderCell, self).__init__()\n",
        "        \n",
        "        ###########################################################################\n",
        "        # TODO: Similar to the TransformerEncoderCell, define two                 #\n",
        "        # MultiHeadAttention modules. One for processing the tokens on the        # \n",
        "        # decoder side. The other for getting the attention across the encoder.   #\n",
        "        # and the decoder. Also define a feedforward network. Don't forget the    #\n",
        "        # Dropout and Layer Norm layers.                                          #\n",
        "        ###########################################################################\n",
        "        self.layerNorm1 = nn.LayerNorm(input_dim)\n",
        "        self.layerNorm2 = nn.LayerNorm(input_dim)\n",
        "        self.layerNorm3 = nn.LayerNorm(input_dim)\n",
        "        self.attention1 = MultiHeadAttention(input_dim, num_heads)\n",
        "        self.attention2 = MultiHeadAttention(input_dim, num_heads)        \n",
        "        self.feedForward = FeedForwardNetwork(input_dim, ff_dim, dropout)\n",
        "        self.dropout1 = nn.Dropout(dropout)\n",
        "        self.dropout2 = nn.Dropout(dropout)\n",
        "        self.dropout3 = nn.Dropout(dropout)\n",
        "        ###########################################################################\n",
        "        #                             END OF YOUR CODE                            #\n",
        "        ###########################################################################\n",
        "        \n",
        "    def forward(self, x: torch.Tensor, encoder_output: torch.Tensor, src_mask=None, tgt_mask=None):            \n",
        "        \"\"\"\n",
        "        Inputs: \n",
        "        - x: Tensor of BxLdxC, word embeddings on the decoder side\n",
        "        - encoder_output: Tensor of BxLexC, word embeddings on the encoder side\n",
        "        - src_mask: Tensor, masks of the tokens on the encoder side\n",
        "        - tgt_mask: Tensor, masks of the tokens on the decoder side\n",
        "        \n",
        "        Return:\n",
        "        - y: Tensor of BxLdxC. Attended features for all tokens on the decoder side.\n",
        "        \"\"\"\n",
        "        \n",
        "        y = None\n",
        "        ###########################################################################\n",
        "        # TODO: Compute the self-attended features for the tokens on the decoder  #\n",
        "        # side. Then compute the corss-attended features for the tokens on the    #\n",
        "        # decoder side to the encoded features, which are finally feed into the   #\n",
        "        # feedforward network                                                     #\n",
        "        ###########################################################################\n",
        "        temp = self.layerNorm1(x)\n",
        "        y = x + self.dropout1(self.attention1(temp, temp, temp, tgt_mask))\n",
        "        temp = self.layerNorm2(x)\n",
        "        y = y + self.dropout2(self.attention2(temp, encoder_output, encoder_output, src_mask))\n",
        "        temp = self.layerNorm3(x)\n",
        "        y = y + self.dropout3(self.feedForward(temp))\n",
        "        ###########################################################################\n",
        "        #                             END OF YOUR CODE                            #\n",
        "        ###########################################################################\n",
        "        \n",
        "        return y"
      ]
    },
    {
      "cell_type": "code",
      "execution_count": 35,
      "id": "f1fe2ae8",
      "metadata": {
        "id": "f1fe2ae8",
        "colab": {
          "base_uri": "https://localhost:8080/"
        },
        "outputId": "9408f3e7-75b5-4c7e-b19b-d9f0accb3199"
      },
      "outputs": [
        {
          "output_type": "stream",
          "name": "stdout",
          "text": [
            "torch.Size([3, 10, 16])\n"
          ]
        }
      ],
      "source": [
        "\n",
        "dec_feats = torch.randn((3, 10, 16))\n",
        "dec_mask = torch.randn((3, 1, 10, 10)) > 0.5\n",
        "\n",
        "enc_feats = torch.randn((3, 12, 16))\n",
        "enc_mask = torch.randn((3, 1, 1, 12)) > 0.5\n",
        "\n",
        "model = TransformerDecoderCell(16, 2, 32, 0.1)\n",
        "z = model(dec_feats, enc_feats, enc_mask, dec_mask)\n",
        "assert len(z.shape) == len(dec_feats.shape)\n",
        "for dim_z, dim_x in zip(z.shape, dec_feats.shape):\n",
        "    assert dim_z == dim_x\n",
        "print(z.shape)"
      ]
    },
    {
      "cell_type": "markdown",
      "id": "36259c71",
      "metadata": {
        "id": "36259c71"
      },
      "source": [
        "### <font size='4' color='red'>Task 4.2: Implement Transformer Decoder (5 points)</font>"
      ]
    },
    {
      "cell_type": "code",
      "execution_count": 36,
      "id": "db0a3d21",
      "metadata": {
        "id": "db0a3d21"
      },
      "outputs": [],
      "source": [
        "class TransformerDecoder(nn.Module):\n",
        "    \"\"\"\n",
        "    A TransformerDecoder is a stack of multiple TransformerDecoderCells and a Layer Norm.\n",
        "    \"\"\"\n",
        "    def __init__(self, input_dim: int, num_heads: int, ff_dim: int, num_cells: int, dropout=0.1):\n",
        "        \"\"\"\n",
        "        Inputs:\n",
        "        - input_dim: Input dimension for each token in a sequence\n",
        "        - num_heads: Number of attention heads in a multi-head attention module\n",
        "        - ff_dim: The hidden dimension for a feedforward network\n",
        "        - num_cells: How many TransformerDecoderCells in stack\n",
        "        - dropout: Dropout ratio for the output of the multi-head attention and feedforward\n",
        "          modules.\n",
        "        \"\"\"\n",
        "        super(TransformerDecoder, self).__init__()       \n",
        "        ###########################################################################\n",
        "        # TODO: Construct a nn.ModuleList to store a stack of                     #\n",
        "        # TranformerDecoderCells. Check the documentation here of how to use it   #\n",
        "        # https://pytorch.org/docs/stable/generated/torch.nn.ModuleList.html#torch.nn.ModuleList\n",
        "        \n",
        "        # At the same time, define a layer normalization layer to process the     #\n",
        "        # output of the entire encoder.                                           #\n",
        "        ###########################################################################\n",
        "        self.num_cells = num_cells\n",
        "        self.layers = nn.ModuleList([TransformerDecoderCell(input_dim, num_heads, ff_dim, dropout) for i in range(num_cells)])\n",
        "        self.layerNorm = nn.LayerNorm(input_dim)\n",
        "        ###########################################################################\n",
        "        #                             END OF YOUR CODE                            #\n",
        "        ###########################################################################\n",
        "    \n",
        "    def forward(self, x: torch.Tensor, encoder_output: torch.Tensor, src_mask=None, tgt_mask=None):            \n",
        "        \"\"\"\n",
        "        Inputs: \n",
        "        - x: Tensor of BxLdxC, word embeddings on the decoder side\n",
        "        - encoder_output: Tensor of BxLexC, word embeddings on the encoder side\n",
        "        - src_mask: Tensor, masks of the tokens on the encoder side\n",
        "        - tgt_mask: Tensor, masks of the tokens on the decoder side\n",
        "        \n",
        "        Return:\n",
        "        - y: Tensor of BxLdxC. Attended features for all tokens on the decoder side.\n",
        "        \"\"\"\n",
        "        \n",
        "        y = None\n",
        "        ###########################################################################\n",
        "        # TODO: Feed x into the stack of TransformerDecoderCells and then         #\n",
        "        # normalize the output with layer norm.                                   #\n",
        "        ###########################################################################\n",
        "        for i in range(self.num_cells):\n",
        "            x = self.layers[i](x, encoder_output, src_mask, tgt_mask)\n",
        "        y = self.layerNorm(x)\n",
        "        ###########################################################################\n",
        "        #                             END OF YOUR CODE                            #\n",
        "        ###########################################################################\n",
        "        return y"
      ]
    },
    {
      "cell_type": "code",
      "execution_count": 37,
      "id": "0af7e67d",
      "metadata": {
        "id": "0af7e67d",
        "colab": {
          "base_uri": "https://localhost:8080/"
        },
        "outputId": "894304b3-65e3-4225-f809-593237493218"
      },
      "outputs": [
        {
          "output_type": "stream",
          "name": "stdout",
          "text": [
            "torch.Size([3, 10, 16])\n"
          ]
        }
      ],
      "source": [
        "dec_feats = torch.randn((3, 10, 16))\n",
        "dec_mask = torch.randn((3, 1, 10, 10)) > 0.5\n",
        "\n",
        "enc_feats = torch.randn((3, 12, 16))\n",
        "enc_mask = torch.randn((3, 1, 1, 12)) > 0.5\n",
        "\n",
        "model = TransformerDecoder(16, 2, 32, 2, 0.1)\n",
        "z = model(dec_feats, enc_feats, enc_mask, dec_mask)\n",
        "assert len(z.shape) == len(dec_feats.shape)\n",
        "for dim_z, dim_x in zip(z.shape, dec_feats.shape):\n",
        "    assert dim_z == dim_x\n",
        "print(z.shape)"
      ]
    },
    {
      "cell_type": "markdown",
      "id": "08f0615f",
      "metadata": {
        "id": "08f0615f"
      },
      "source": [
        "### <font size='4' color='red'>Task 4.3: Implement a Transformer-based Sequence-to-sequence model (7 points)</font>"
      ]
    },
    {
      "cell_type": "code",
      "execution_count": 38,
      "id": "cad7dabf",
      "metadata": {
        "id": "cad7dabf"
      },
      "outputs": [],
      "source": [
        "class Seq2SeqTransformer(nn.Module):\n",
        "    \"\"\"\n",
        "    Transformer-based sequence-to-sequence model.\n",
        "    \"\"\"\n",
        "    def __init__(self, \n",
        "            num_encoder_layers: int, num_decoder_layers: int, embed_dim: int,\n",
        "            num_heads: int, src_vocab_size: int, tgt_vocab_size: int,\n",
        "            trx_ff_dim: int = 512, dropout: float = 0.1, pad_token: int=0\n",
        "        ):\n",
        "        \"\"\"\n",
        "        Inputs:\n",
        "        - num_encoder_layers: How many TransformerEncoderCell in stack\n",
        "        - num_decoder_layers: How many TransformerDecoderCell in stack\n",
        "        - embed_dim: Word embeddings dimension\n",
        "        - num_heads: Number of attention heads\n",
        "        - src_vocab_size: Number of tokens in the source language vocabulary\n",
        "        - tgt_vocab_size: Number of tokens in the target language vocabulary\n",
        "        - trx_ff_dim: Hidden dimension in the feedforward network\n",
        "        - dropout: Dropout ratio\n",
        "        \"\"\"\n",
        "        super(Seq2SeqTransformer, self).__init__()\n",
        "         \n",
        "        self.embed_dim = embed_dim\n",
        "        \n",
        "        # Word embeddings for both the source and target languages\n",
        "        self.src_token_embed = nn.Embedding(src_vocab_size, embed_dim, padding_idx=pad_token)\n",
        "        self.tgt_token_embed = nn.Embedding(tgt_vocab_size, embed_dim, padding_idx=pad_token)\n",
        "        \n",
        "        ###########################################################################\n",
        "        # TODO: Define the positional encoding, encoder, decoder, and the output  #\n",
        "        # layer. Think of how many classes are in the output layer.               #\n",
        "        ###########################################################################\n",
        "        self.positionalEncoding = PositionalEncoding(embed_dim)\n",
        "        #self, input_dim: int, num_heads: int, ff_dim: int, num_cells: int, dropout: float=0.1):\n",
        "        self.encoder = TransformerEncoder(embed_dim, num_heads, trx_ff_dim, num_encoder_layers, dropout)\n",
        "        #self, input_dim: int, num_heads: int, ff_dim: int, num_cells: int, dropout=0.1\n",
        "        self.decoder = TransformerDecoder(embed_dim, num_heads, trx_ff_dim, num_decoder_layers, dropout)\n",
        "        self.output = nn.Linear(embed_dim,tgt_vocab_size)\n",
        "        ###########################################################################\n",
        "        #                             END OF YOUR CODE                            #\n",
        "        ###########################################################################\n",
        "        \n",
        "    def forward(self, src: torch.Tensor, tgt: torch.Tensor, src_mask: torch.Tensor, tgt_mask: torch.Tensor):\n",
        "        \"\"\"\n",
        "        Inputs:\n",
        "        - src: Tensor of BxLe, word indexes in the source language\n",
        "        - tgt: Tensor of BxLd, word indexes in the target language\n",
        "        - src_mask: Tensor, masks of the tokens on the encoder side\n",
        "        - tgt_mask: Tensor, masks of the tokens on the decoder side\n",
        "        \n",
        "        Return:\n",
        "        - y: Tensor of BxLdxK. K is the number of classes in the output.\n",
        "        \"\"\"\n",
        "        \n",
        "        # Get word embeddings. Not they are scaled.\n",
        "        src_embed = self.src_token_embed(src) * math.sqrt(self.embed_dim)\n",
        "        tgt_embed = self.tgt_token_embed(tgt) * math.sqrt(self.embed_dim)\n",
        "        \n",
        "        logits = None\n",
        "        ###########################################################################\n",
        "        # TODO: Add positional encodings to the word embeddings. Feed them then   #\n",
        "        # to the encoder and decoder, respectively. Get the logits finally.       #\n",
        "        ###########################################################################\n",
        "        posEncoder_out = self.positionalEncoding(src_embed)\n",
        "        posDecoder_out = self.positionalEncoding(tgt_embed)\n",
        "        encoder_output = self.encoder(posEncoder_out, src_mask)\n",
        "        logits = self.decoder(posDecoder_out, encoder_output, src_mask, tgt_mask)\n",
        "        logits = self.output(logits)\n",
        "        ###########################################################################\n",
        "        #                             END OF YOUR CODE                            #\n",
        "        ###########################################################################\n",
        "        \n",
        "        return logits\n",
        "        "
      ]
    },
    {
      "cell_type": "code",
      "execution_count": 39,
      "id": "5ef6d873",
      "metadata": {
        "id": "5ef6d873",
        "colab": {
          "base_uri": "https://localhost:8080/"
        },
        "outputId": "d6fbefba-23db-4d63-f5db-b08bb93033d8"
      },
      "outputs": [
        {
          "output_type": "stream",
          "name": "stdout",
          "text": [
            "torch.Size([2, 12, 12])\n"
          ]
        }
      ],
      "source": [
        "src_vocab_size = 10\n",
        "src = torch.arange(src_vocab_size).view(1, -1)\n",
        "src = torch.cat((src, src), dim=0)\n",
        "src_mask = torch.randn((2, 1, 1, src_vocab_size)) > 0.5\n",
        "\n",
        "tgt_vocab_size = 12\n",
        "tgt = torch.arange(tgt_vocab_size).view(1, -1)\n",
        "tgt = torch.cat((tgt, tgt), dim=0)\n",
        "tgt_mask = torch.randn((2, 1, tgt_vocab_size, tgt_vocab_size)) > 0.5\n",
        "\n",
        "model = Seq2SeqTransformer(2, 2, 16, 2, src_vocab_size, tgt_vocab_size, 32, 0.1, 0)\n",
        "z = model(src, tgt, src_mask, tgt_mask)\n",
        "print(z.shape)"
      ]
    },
    {
      "cell_type": "markdown",
      "id": "922361b2",
      "metadata": {
        "id": "922361b2"
      },
      "source": [
        "### Create Attention Masks"
      ]
    },
    {
      "cell_type": "code",
      "execution_count": 40,
      "id": "c9a73cc5",
      "metadata": {
        "id": "c9a73cc5"
      },
      "outputs": [],
      "source": [
        "def subsequent_mask(size):\n",
        "    \"Mask out subsequent positions.\"\n",
        "    attn_shape = (1, size, size)\n",
        "    subsequent_mask = np.triu(np.ones(attn_shape), k=1).astype('uint8')\n",
        "    return torch.from_numpy(subsequent_mask) == 0\n",
        "\n",
        "\n",
        "def create_mask(src, tgt, pad_token=0):\n",
        "    src_mask = (src != pad_token).unsqueeze(-2).unsqueeze(1)\n",
        "    \n",
        "    tgt_seq_len = tgt.shape[0]\n",
        "    tgt_mask = (tgt != pad_token).unsqueeze(-2)\n",
        "    tgt_mask = tgt_mask & subsequent_mask(tgt.shape[1]).type_as(tgt_mask.data)\n",
        "\n",
        "    return src_mask, tgt_mask.unsqueeze(1)"
      ]
    },
    {
      "cell_type": "code",
      "execution_count": 41,
      "id": "ebd199b2",
      "metadata": {
        "id": "ebd199b2",
        "colab": {
          "base_uri": "https://localhost:8080/",
          "height": 350
        },
        "outputId": "d1232b79-4b09-4e0d-f4f7-ae00405bc7e6"
      },
      "outputs": [
        {
          "output_type": "stream",
          "name": "stdout",
          "text": [
            "torch.Size([2, 1, 1, 10]) torch.Size([2, 1, 10, 10])\n"
          ]
        },
        {
          "output_type": "display_data",
          "data": {
            "text/plain": [
              "<Figure size 360x360 with 1 Axes>"
            ],
            "image/png": "[encoded data removed]"
          },
          "metadata": {
            "needs_background": "light"
          }
        }
      ],
      "source": [
        "# Let's visualize what the target mask looks like\n",
        "import seaborn\n",
        "seaborn.set_context(context=\"talk\")\n",
        "\n",
        "plt.figure(figsize=(5,5))\n",
        "plt.imshow(subsequent_mask(20)[0].numpy())\n",
        "\n",
        "x = torch.arange(src_vocab_size).view(1, -1)\n",
        "x = torch.cat((x, x), dim=0)\n",
        "src_mask, tgt_mask = create_mask(x, x)\n",
        "print(src_mask.shape, tgt_mask.shape)"
      ]
    },
    {
      "cell_type": "markdown",
      "id": "efd3815f",
      "metadata": {
        "id": "efd3815f"
      },
      "source": [
        "### Prepare Data Loaders"
      ]
    },
    {
      "cell_type": "code",
      "source": [
        "!pip install spacy"
      ],
      "metadata": {
        "colab": {
          "base_uri": "https://localhost:8080/"
        },
        "id": "4TUWQBJnpRKT",
        "outputId": "fe2a05b0-eaaa-4286-b527-92b41c75843b"
      },
      "id": "4TUWQBJnpRKT",
      "execution_count": 42,
      "outputs": [
        {
          "output_type": "stream",
          "name": "stdout",
          "text": [
            "Requirement already satisfied: spacy in /usr/local/lib/python3.7/dist-packages (3.2.4)\n",
            "Requirement already satisfied: wasabi<1.1.0,>=0.8.1 in /usr/local/lib/python3.7/dist-packages (from spacy) (0.9.1)\n",
            "Requirement already satisfied: catalogue<2.1.0,>=2.0.6 in /usr/local/lib/python3.7/dist-packages (from spacy) (2.0.7)\n",
            "Requirement already satisfied: tqdm<5.0.0,>=4.38.0 in /usr/local/lib/python3.7/dist-packages (from spacy) (4.64.0)\n",
            "Requirement already satisfied: pathy>=0.3.5 in /usr/local/lib/python3.7/dist-packages (from spacy) (0.6.1)\n",
            "Requirement already satisfied: typing-extensions<4.0.0.0,>=3.7.4 in /usr/local/lib/python3.7/dist-packages (from spacy) (3.10.0.2)\n",
            "Requirement already satisfied: langcodes<4.0.0,>=3.2.0 in /usr/local/lib/python3.7/dist-packages (from spacy) (3.3.0)\n",
            "Requirement already satisfied: typer<0.5.0,>=0.3.0 in /usr/local/lib/python3.7/dist-packages (from spacy) (0.4.1)\n",
            "Requirement already satisfied: srsly<3.0.0,>=2.4.1 in /usr/local/lib/python3.7/dist-packages (from spacy) (2.4.3)\n",
            "Requirement already satisfied: jinja2 in /usr/local/lib/python3.7/dist-packages (from spacy) (2.11.3)\n",
            "Requirement already satisfied: thinc<8.1.0,>=8.0.12 in /usr/local/lib/python3.7/dist-packages (from spacy) (8.0.15)\n",
            "Requirement already satisfied: click<8.1.0 in /usr/local/lib/python3.7/dist-packages (from spacy) (7.1.2)\n",
            "Requirement already satisfied: blis<0.8.0,>=0.4.0 in /usr/local/lib/python3.7/dist-packages (from spacy) (0.4.1)\n",
            "Requirement already satisfied: packaging>=20.0 in /usr/local/lib/python3.7/dist-packages (from spacy) (21.3)\n",
            "Requirement already satisfied: murmurhash<1.1.0,>=0.28.0 in /usr/local/lib/python3.7/dist-packages (from spacy) (1.0.6)\n",
            "Requirement already satisfied: numpy>=1.15.0 in /usr/local/lib/python3.7/dist-packages (from spacy) (1.21.6)\n",
            "Requirement already satisfied: preshed<3.1.0,>=3.0.2 in /usr/local/lib/python3.7/dist-packages (from spacy) (3.0.6)\n",
            "Requirement already satisfied: spacy-legacy<3.1.0,>=3.0.8 in /usr/local/lib/python3.7/dist-packages (from spacy) (3.0.9)\n",
            "Requirement already satisfied: pydantic!=1.8,!=1.8.1,<1.9.0,>=1.7.4 in /usr/local/lib/python3.7/dist-packages (from spacy) (1.8.2)\n",
            "Requirement already satisfied: spacy-loggers<2.0.0,>=1.0.0 in /usr/local/lib/python3.7/dist-packages (from spacy) (1.0.2)\n",
            "Requirement already satisfied: setuptools in /usr/local/lib/python3.7/dist-packages (from spacy) (57.4.0)\n",
            "Requirement already satisfied: cymem<2.1.0,>=2.0.2 in /usr/local/lib/python3.7/dist-packages (from spacy) (2.0.6)\n",
            "Requirement already satisfied: requests<3.0.0,>=2.13.0 in /usr/local/lib/python3.7/dist-packages (from spacy) (2.23.0)\n",
            "Requirement already satisfied: zipp>=0.5 in /usr/local/lib/python3.7/dist-packages (from catalogue<2.1.0,>=2.0.6->spacy) (3.8.0)\n",
            "Requirement already satisfied: pyparsing!=3.0.5,>=2.0.2 in /usr/local/lib/python3.7/dist-packages (from packaging>=20.0->spacy) (3.0.8)\n",
            "Requirement already satisfied: smart-open<6.0.0,>=5.0.0 in /usr/local/lib/python3.7/dist-packages (from pathy>=0.3.5->spacy) (5.2.1)\n",
            "Requirement already satisfied: idna<3,>=2.5 in /usr/local/lib/python3.7/dist-packages (from requests<3.0.0,>=2.13.0->spacy) (2.10)\n",
            "Requirement already satisfied: chardet<4,>=3.0.2 in /usr/local/lib/python3.7/dist-packages (from requests<3.0.0,>=2.13.0->spacy) (3.0.4)\n",
            "Requirement already satisfied: urllib3!=1.25.0,!=1.25.1,<1.26,>=1.21.1 in /usr/local/lib/python3.7/dist-packages (from requests<3.0.0,>=2.13.0->spacy) (1.24.3)\n",
            "Requirement already satisfied: certifi>=2017.4.17 in /usr/local/lib/python3.7/dist-packages (from requests<3.0.0,>=2.13.0->spacy) (2021.10.8)\n",
            "Requirement already satisfied: MarkupSafe>=0.23 in /usr/local/lib/python3.7/dist-packages (from jinja2->spacy) (2.0.1)\n"
          ]
        }
      ]
    },
    {
      "cell_type": "code",
      "execution_count": 43,
      "id": "276afbc7",
      "metadata": {
        "id": "276afbc7",
        "colab": {
          "base_uri": "https://localhost:8080/"
        },
        "outputId": "90de160a-2b04-4d53-d5c8-842e349af2e0"
      },
      "outputs": [
        {
          "output_type": "stream",
          "name": "stderr",
          "text": [
            "100%|██████████| 1.21M/1.21M [00:04<00:00, 301kB/s]\n"
          ]
        }
      ],
      "source": [
        "from torchtext.data.utils import get_tokenizer\n",
        "from torchtext.vocab import build_vocab_from_iterator\n",
        "from torchtext.datasets import Multi30k\n",
        "from typing import Iterable, List\n",
        "\n",
        "\n",
        "SRC_LANGUAGE = 'de'\n",
        "TGT_LANGUAGE = 'en'\n",
        "\n",
        "# Place-holders\n",
        "token_transform = {}\n",
        "vocab_transform = {}\n",
        "\n",
        "\n",
        "token_transform[SRC_LANGUAGE] = get_tokenizer('spacy', language='de_core_news_sm')\n",
        "token_transform[TGT_LANGUAGE] = get_tokenizer('spacy', language='en_core_web_sm')\n",
        "\n",
        "\n",
        "# helper function to yield list of tokens\n",
        "def yield_tokens(data_iter: Iterable, language: str) -> List[str]:\n",
        "    language_index = {SRC_LANGUAGE: 0, TGT_LANGUAGE: 1}\n",
        "\n",
        "    for data_sample in data_iter:\n",
        "        yield token_transform[language](data_sample[language_index[language]])\n",
        "\n",
        "# Define special symbols and indices\n",
        "UNK_IDX, PAD_IDX, BOS_IDX, EOS_IDX = 0, 1, 2, 3\n",
        "# Make sure the tokens are in order of their indices to properly insert them in vocab\n",
        "special_symbols = ['<unk>', '<pad>', '<bos>', '<eos>']\n",
        " \n",
        "for ln in [SRC_LANGUAGE, TGT_LANGUAGE]:\n",
        "    # Training data Iterator \n",
        "    train_iter = Multi30k(split='train', language_pair=(SRC_LANGUAGE, TGT_LANGUAGE))\n",
        "    # Create torchtext's Vocab object \n",
        "    vocab_transform[ln] = build_vocab_from_iterator(yield_tokens(train_iter, ln),\n",
        "                                                    min_freq=1,\n",
        "                                                    specials=special_symbols,\n",
        "                                                    special_first=True)\n",
        "\n",
        "# Set UNK_IDX as the default index. This index is returned when the token is not found. \n",
        "# If not set, it throws RuntimeError when the queried token is not found in the Vocabulary. \n",
        "for ln in [SRC_LANGUAGE, TGT_LANGUAGE]:\n",
        "    vocab_transform[ln].set_default_index(UNK_IDX)"
      ]
    },
    {
      "cell_type": "code",
      "execution_count": 44,
      "id": "e7ac308f",
      "metadata": {
        "id": "e7ac308f"
      },
      "outputs": [],
      "source": [
        "from torch.nn.utils.rnn import pad_sequence\n",
        "\n",
        "# helper function to club together sequential operations\n",
        "def sequential_transforms(*transforms):\n",
        "    def func(txt_input):\n",
        "        for transform in transforms:\n",
        "            txt_input = transform(txt_input)\n",
        "        return txt_input\n",
        "    return func\n",
        "\n",
        "# function to add BOS/EOS and create tensor for input sequence indices\n",
        "def tensor_transform(token_ids: List[int]):\n",
        "    return torch.cat((torch.tensor([BOS_IDX]), \n",
        "                      torch.tensor(token_ids), \n",
        "                      torch.tensor([EOS_IDX])))\n",
        "\n",
        "# src and tgt language text transforms to convert raw strings into tensors indices\n",
        "text_transform = {}\n",
        "for ln in [SRC_LANGUAGE, TGT_LANGUAGE]:\n",
        "    text_transform[ln] = sequential_transforms(\n",
        "        token_transform[ln], #Tokenization\n",
        "        vocab_transform[ln], #Numericalization\n",
        "        tensor_transform # Add BOS/EOS and create tensor\n",
        "    )\n",
        "\n",
        "\n",
        "# function to collate data samples into batch tesors\n",
        "def collate_fn(batch):\n",
        "    src_batch, tgt_batch = [], []\n",
        "    for src_sample, tgt_sample in batch:\n",
        "        src_batch.append(text_transform[SRC_LANGUAGE](src_sample.rstrip(\"\\n\")))\n",
        "        tgt_batch.append(text_transform[TGT_LANGUAGE](tgt_sample.rstrip(\"\\n\")))\n",
        "\n",
        "    src_batch = pad_sequence(src_batch, padding_value=PAD_IDX)\n",
        "    tgt_batch = pad_sequence(tgt_batch, padding_value=PAD_IDX)\n",
        "    return src_batch.transpose(0, 1), tgt_batch.transpose(0, 1)"
      ]
    },
    {
      "cell_type": "code",
      "execution_count": 45,
      "id": "052976db",
      "metadata": {
        "id": "052976db",
        "colab": {
          "base_uri": "https://localhost:8080/"
        },
        "outputId": "447acc9d-80b9-4cec-e28c-a084ee2beb97"
      },
      "outputs": [
        {
          "output_type": "stream",
          "name": "stderr",
          "text": [
            "100%|██████████| 46.3k/46.3k [00:00<00:00, 92.8kB/s]"
          ]
        },
        {
          "output_type": "stream",
          "name": "stdout",
          "text": [
            "src: torch.Size([8, 18]), tgt: torch.Size([8, 17])\n",
            "src: torch.Size([8, 20]), tgt: torch.Size([8, 19])\n",
            "src: torch.Size([8, 18]), tgt: torch.Size([8, 19])\n"
          ]
        },
        {
          "output_type": "stream",
          "name": "stderr",
          "text": [
            "\n"
          ]
        }
      ],
      "source": [
        "BATCH_SIZE = 8\n",
        "\n",
        "train_iter = Multi30k(split='train', language_pair=(SRC_LANGUAGE, TGT_LANGUAGE))\n",
        "train_dataloader = DataLoader(train_iter, batch_size=BATCH_SIZE, collate_fn=collate_fn)\n",
        "\n",
        "val_iter = Multi30k(split='valid', language_pair=(SRC_LANGUAGE, TGT_LANGUAGE))\n",
        "val_dataloader = DataLoader(val_iter, batch_size=BATCH_SIZE, collate_fn=collate_fn)\n",
        "\n",
        "for idx, (src, tgt) in enumerate(train_dataloader):\n",
        "    if idx > 2:\n",
        "        break\n",
        "    print('src: {}, tgt: {}'.format(src.shape, tgt.shape))"
      ]
    },
    {
      "cell_type": "markdown",
      "id": "76e9d060",
      "metadata": {
        "id": "76e9d060"
      },
      "source": [
        "### <font size='4' color='red'>Task 4.4: Define the Model and Loss Function (3 points)</font>"
      ]
    },
    {
      "cell_type": "code",
      "source": [
        "device ='cuda'"
      ],
      "metadata": {
        "id": "oZs1d5ImQTA4"
      },
      "id": "oZs1d5ImQTA4",
      "execution_count": 46,
      "outputs": []
    },
    {
      "cell_type": "code",
      "execution_count": 47,
      "id": "b1cfcf01",
      "metadata": {
        "id": "b1cfcf01"
      },
      "outputs": [],
      "source": [
        "torch.manual_seed(0)\n",
        "\n",
        "SRC_VOCAB_SIZE = len(vocab_transform[SRC_LANGUAGE])\n",
        "TGT_VOCAB_SIZE = len(vocab_transform[TGT_LANGUAGE])\n",
        "EMBED_SIZE = 512\n",
        "NUM_ATTN_HEADS = 8\n",
        "FF_DIM = 512\n",
        "BATCH_SIZE = 128\n",
        "NUM_ENCODER_LAYERS = 3\n",
        "NUM_DECODER_LAYERS = 3\n",
        "\n",
        "###########################################################################\n",
        "# TODO: Define the model and loss function.                               #\n",
        "# Note that this time we will generate tokens, where some of them in the  #\n",
        "# training time are from paddings. We don't want to penalize the model    #\n",
        "# if the output at such positions are wrong. You can use the              #\n",
        "# `ignore_index` in a loss function to suppress loss computation if the   #\n",
        "# ground-truth label is equal to the given value. Check here for          #\n",
        "# more details https://pytorch.org/docs/stable/nn.html#loss-functions     #\n",
        "###########################################################################\n",
        "transformer = Seq2SeqTransformer(NUM_ENCODER_LAYERS, NUM_DECODER_LAYERS, EMBED_SIZE,\n",
        "            NUM_ATTN_HEADS, SRC_VOCAB_SIZE, TGT_VOCAB_SIZE,\n",
        "            FF_DIM)\n",
        "loss_fn = nn.CrossEntropyLoss()\n",
        "###########################################################################\n",
        "#                             END OF YOUR CODE                            #\n",
        "###########################################################################\n",
        "\n",
        "for p in transformer.parameters():\n",
        "    if p.dim() > 1:\n",
        "        nn.init.xavier_uniform_(p)\n",
        "transformer = transformer.to(device)\n",
        "\n",
        "optimizer = torch.optim.Adam(\n",
        "    transformer.parameters(), \n",
        "    lr=0.0001, \n",
        "    betas=(0.9, 0.98), \n",
        "    eps=1e-9\n",
        ")"
      ]
    },
    {
      "cell_type": "markdown",
      "id": "14426704",
      "metadata": {
        "id": "14426704"
      },
      "source": [
        "### Model Training and Validation"
      ]
    },
    {
      "cell_type": "code",
      "source": [
        "#device='cuda'"
      ],
      "metadata": {
        "id": "BWNKhnKRPwlR"
      },
      "id": "BWNKhnKRPwlR",
      "execution_count": 48,
      "outputs": []
    },
    {
      "cell_type": "code",
      "execution_count": 49,
      "id": "47d0266e",
      "metadata": {
        "id": "47d0266e",
        "colab": {
          "base_uri": "https://localhost:8080/"
        },
        "outputId": "a1c451bf-0ae7-4700-e44a-4a55482a9c42"
      },
      "outputs": [
        {
          "output_type": "stream",
          "name": "stdout",
          "text": [
            "Epoch: 1, Train loss: 3.526, Val loss: 3.668, Epoch time = 100.673s\n",
            "Epoch: 2, Train loss: 2.410, Val loss: 3.079, Epoch time = 102.904s\n",
            "Epoch: 3, Train loss: 1.923, Val loss: 2.695, Epoch time = 100.224s\n",
            "Epoch: 4, Train loss: 1.541, Val loss: 2.491, Epoch time = 99.528s\n",
            "Epoch: 5, Train loss: 1.262, Val loss: 2.189, Epoch time = 99.734s\n",
            "Epoch: 6, Train loss: 1.040, Val loss: 2.075, Epoch time = 98.973s\n",
            "Epoch: 7, Train loss: 0.877, Val loss: 1.759, Epoch time = 98.835s\n",
            "Epoch: 8, Train loss: 0.740, Val loss: 1.543, Epoch time = 98.866s\n",
            "Epoch: 9, Train loss: 0.620, Val loss: 1.715, Epoch time = 98.952s\n",
            "Epoch: 10, Train loss: 0.535, Val loss: 1.415, Epoch time = 99.180s\n"
          ]
        }
      ],
      "source": [
        "def train_epoch(model, optimizer):\n",
        "    model.train()\n",
        "    losses = 0\n",
        "    \n",
        "    train_iter = Multi30k(split='train', language_pair=(SRC_LANGUAGE, TGT_LANGUAGE))\n",
        "    train_dataloader = DataLoader(train_iter, batch_size=BATCH_SIZE, collate_fn=collate_fn)\n",
        "    \n",
        "    for src, tgt in train_dataloader:\n",
        "        src = src.to(device)\n",
        "        tgt = tgt.to(device)\n",
        "\n",
        "        tgt_input = tgt[:, :-1]\n",
        "\n",
        "        src_mask, tgt_mask = create_mask(src, tgt_input)\n",
        "        src_mask = src_mask.to(device)\n",
        "        tgt_mask = tgt_mask.to(device)\n",
        "\n",
        "        logits = model(src, tgt_input, src_mask, tgt_mask)\n",
        "\n",
        "        optimizer.zero_grad()\n",
        "\n",
        "        tgt_out = tgt[:, 1:]\n",
        "        loss = loss_fn(logits.reshape(-1, logits.shape[-1]), tgt_out.reshape(-1))\n",
        "        loss.backward()\n",
        "\n",
        "        optimizer.step()\n",
        "        losses += loss.item()\n",
        "\n",
        "    return losses / len(train_dataloader)\n",
        "\n",
        "\n",
        "def evaluate(model):\n",
        "    model.eval()\n",
        "    losses = 0\n",
        "\n",
        "    val_iter = Multi30k(split='valid', language_pair=(SRC_LANGUAGE, TGT_LANGUAGE))\n",
        "    val_dataloader = DataLoader(val_iter, batch_size=BATCH_SIZE, collate_fn=collate_fn)\n",
        "\n",
        "    for src, tgt in val_dataloader:\n",
        "        src = src.to(device)\n",
        "        tgt = tgt.to(device)\n",
        "\n",
        "        tgt_input = tgt[:, :-1]\n",
        "\n",
        "        src_mask, tgt_mask = create_mask(src, tgt_input)\n",
        "\n",
        "        logits = model(src, tgt_input, src_mask, tgt_mask)\n",
        "        \n",
        "        tgt_out = tgt[:, 1:]\n",
        "        loss = loss_fn(logits.reshape(-1, logits.shape[-1]), tgt_out.reshape(-1))\n",
        "        losses += loss.item()\n",
        "\n",
        "    return losses / len(val_dataloader)\n",
        "\n",
        "from timeit import default_timer as timer\n",
        "NUM_EPOCHS = 10\n",
        "\n",
        "# You should be able to get train loss around 1.5 and val loss around 2.2\n",
        "for epoch in range(1, NUM_EPOCHS+1):\n",
        "    start_time = timer()\n",
        "    train_loss = train_epoch(transformer, optimizer)\n",
        "    end_time = timer()\n",
        "    val_loss = evaluate(transformer)\n",
        "    print((f\"Epoch: {epoch}, Train loss: {train_loss:.3f}, Val loss: {val_loss:.3f}, \"f\"Epoch time = {(end_time - start_time):.3f}s\"))"
      ]
    },
    {
      "cell_type": "markdown",
      "source": [
        "# Extra Credit"
      ],
      "metadata": {
        "id": "3wzbXEG94rkW"
      },
      "id": "3wzbXEG94rkW"
    },
    {
      "cell_type": "markdown",
      "source": [
        "## 2D positional encoding"
      ],
      "metadata": {
        "id": "eQry8sTO4vw9"
      },
      "id": "eQry8sTO4vw9"
    },
    {
      "cell_type": "code",
      "source": [
        "from torch.autograd import Variable\n",
        "class PositionalEncoding2(nn.Module):\n",
        "    \"\"\"\n",
        "    A module that adds positional encoding to each of the token's features.\n",
        "    So that the Transformer is position aware.\n",
        "    \"\"\"\n",
        "    def __init__(self, input_dim: int):\n",
        "        \"\"\"\n",
        "        Inputs:\n",
        "        - input_dim: Input dimension about the features for each token\n",
        "        - max_len: The maximum sequence length\n",
        "        \"\"\"\n",
        "        super(PositionalEncoding2, self).__init__()\n",
        "        \n",
        "        self.input_dim = input_dim\n",
        "        \n",
        "    def forward(self, x):\n",
        "        \"\"\"\n",
        "        Compute the positional encoding and add it to x.\n",
        "        \n",
        "        Input:\n",
        "        - x: Tensor of the shape BxLxC, where B is the batch size, L is the sequence length,\n",
        "          and C is the channel dimension\n",
        "          \n",
        "        Return:\n",
        "        - x: Tensor of the shape BxLxC, with the positional encoding added to the input\n",
        "        \"\"\"\n",
        "        input_dim = x.shape[0]\n",
        "        height = x.shape[1]\n",
        "        width = x.shape[2]\n",
        "        pe = None\n",
        "        pe = torch.zeros(input_dim, height, width)\n",
        "\n",
        "        input_dim = int(input_dim / 2)\n",
        "        div_term = torch.exp(torch.arange(0., input_dim, 2) *\n",
        "                            -(math.log(10000.0) / input_dim))\n",
        "        pos_w = torch.arange(0., width).unsqueeze(1)\n",
        "        pos_h = torch.arange(0., height).unsqueeze(1)\n",
        "        pe[0:input_dim:2, :, :] = torch.sin(pos_w * div_term).transpose(0, 1).unsqueeze(1).repeat(1, height, 1)\n",
        "        pe[1:input_dim:2, :, :] = torch.cos(pos_w * div_term).transpose(0, 1).unsqueeze(1).repeat(1, height, 1)\n",
        "        pe[input_dim::2, :, :] = torch.sin(pos_h * div_term).transpose(0, 1).unsqueeze(2).repeat(1, 1, width)\n",
        "        pe[input_dim + 1::2, :, :] = torch.cos(pos_h * div_term).transpose(0, 1).unsqueeze(2).repeat(1, 1, width)\n",
        "        ###########################################################################\n",
        "        #                             END OF YOUR CODE                            #\n",
        "        ###########################################################################\n",
        "        #x = pe[:, :seq_len]\n",
        "        x = x + pe.to(x.device)\n",
        "        return x"
      ],
      "metadata": {
        "id": "vBZ-h5CAQd-3"
      },
      "id": "vBZ-h5CAQd-3",
      "execution_count": 50,
      "outputs": []
    },
    {
      "cell_type": "code",
      "source": [
        "class VisionTransformerClassifier2(nn.Module):\n",
        "    \"\"\"\n",
        "    In the model, we partition an image into non-overlapping patches. Each patch is treated as a token.\n",
        "    We can get a sequence of such tokens by flattening the patches. Each token's embeddings is the\n",
        "    flattened RGB pixel values. If the patch size is 4, then the embeddings' dimension is 4*4*3.\n",
        "    You can check this paper https://arxiv.org/pdf/2010.11929.pdf for reference.\n",
        "    \"\"\"\n",
        "    def __init__(self, \n",
        "            patch_size: int, num_heads: int, trx_ff_dim: int, \n",
        "            num_trx_cells: int, num_class: int, dropout: float=0.1\n",
        "        ):\n",
        "        \"\"\"\n",
        "        Inputs:\n",
        "        - patch_size: Size of the non-overlapping patches\n",
        "        - num_heads: Number of attention heads\n",
        "        - trx_ff_dim: Hidden dimension of the feedforward network in a Transformer encoder\n",
        "        - num_trx_cells: Number of TransformerEncoderCells \n",
        "        - num_class: Number of image classes\n",
        "        - dropout: Dropout ratio\n",
        "        \"\"\"\n",
        "        super(VisionTransformerClassifier2, self).__init__()\n",
        "        \n",
        "        self.patch_size = patch_size\n",
        "        \n",
        "        ###########################################################################\n",
        "        # TODO: Define a TransformerEncoder that takens non-overlapping patches   #\n",
        "        # of an image as input and another output layer for classification.       #\n",
        "        #                                                                         #\n",
        "        # Intuitively, we need 2D positional encodings for each patch according to#\n",
        "        # its x and y coordinates. But this reference paper https://arxiv.org/pdf/2010.11929.pdf\n",
        "        # shows there is no significance difference on accuracies. It is bit      #\n",
        "        # weird. But you can simply use the 1D positional encoding you have       #\n",
        "        # implemented earlier. You can experiment with 2D positional encodings    #\n",
        "        # if you like to earn extra credits.                                      #\n",
        "        ###########################################################################\n",
        "        #print(\"input dims\", patch_size)\n",
        "        #(self, input_dim: int, num_heads: int, ff_dim: int, dropout: float):\n",
        "        \n",
        "        self.encoder = TransformerEncoder(patch_size*patch_size*3,num_heads,trx_ff_dim, num_trx_cells, dropout)\n",
        "        self.positionalEncoding2d = PositionalEncoding2(patch_size*patch_size*3)\n",
        "        self.output = nn.Linear(patch_size*patch_size*3,num_class)\n",
        "        ###########################################################################\n",
        "        #                             END OF YOUR CODE                            #\n",
        "        ###########################################################################\n",
        "\n",
        "#     def init_weights(self):\n",
        "#         initrange = 0.5\n",
        "#         self.embedding.weight.data.uniform_(-initrange, initrange)\n",
        "#         self.fc.weight.data.uniform_(-initrange, initrange)\n",
        "#         self.fc.bias.data.zero_()\n",
        "\n",
        "    def forward(self, image: torch.Tensor):\n",
        "        \"\"\"\n",
        "        Input:\n",
        "        - image: Tensor of the shape BxCxHxW, where H and W are the height and width, respectively.\n",
        "        \n",
        "        Return:\n",
        "        - logtis: Classification logits\n",
        "        \"\"\"\n",
        "        \n",
        "        b, c, h, w = image.shape\n",
        "        \n",
        "        ###########################################################################\n",
        "        # TODO: Partition an image into non-overlapping patches. Think of how to  #\n",
        "        # reshape the tensor to convert it to be the BxLxC format, which we have  #\n",
        "        # extensively used for NLP tasks. You may find tensor.permute helpful.    #\n",
        "        # Check documentation here https://pytorch.org/docs/stable/generated/torch.permute.html#torch.permute\n",
        "        ###########################################################################\n",
        "        no_patches = int((h*w)/(self.patch_size * self.patch_size))\n",
        "        #print('no patches, patch sizw', no_patches, patch_size)\n",
        "        # new_dim2 = self.patch_size *self.patch_size \n",
        "        # new_dim3 = int((h*c/self.patch_size)*(w*c/self.patch_size ))\n",
        "        \n",
        "        # print(\"image dims\", image.shape)\n",
        "        # print('new dims', b, new_dim2, new_dim3)\n",
        "        # #new_image = image.squeeze(1)\n",
        "        # reshaped_val = image.reshape(b, new_dim2, new_dim3)\n",
        "        new_image = image.reshape(b, c*self.patch_size*self.patch_size, no_patches)\n",
        "        new_image = torch.permute(new_image, (0,2,1))\n",
        "        #reshaped_val = torch.permute(image,(b, new_dim2, new_dim3))\n",
        "        #print(new_image.shape)\n",
        " \n",
        "        logits = self.positionalEncoding2d(new_image)\n",
        "        #print(logits.shape)\n",
        "        logits = self.encoder(logits)\n",
        "        logits = torch.mean(logits,1)\n",
        "      \n",
        "        logits = self.output(logits)\n",
        "        ###########################################################################\n",
        "        #                             END OF YOUR CODE                            #\n",
        "        ###########################################################################\n",
        "        \n",
        "        return logits"
      ],
      "metadata": {
        "id": "oLurDOa-QAyN"
      },
      "id": "oLurDOa-QAyN",
      "execution_count": 51,
      "outputs": []
    },
    {
      "cell_type": "code",
      "source": [
        "# Sanity check\n",
        "x = torch.randn(3, 32, 32)\n",
        "pe = PositionalEncoding2(3)\n",
        "y = pe(x)\n",
        "assert len(x.shape) == len(y.shape)\n",
        "for dim_x, dim_y in zip(x.shape, y.shape):\n",
        "    assert dim_x == dim_y\n",
        "print(x.shape, y.shape)"
      ],
      "metadata": {
        "colab": {
          "base_uri": "https://localhost:8080/"
        },
        "id": "jgGA6oNHXY_F",
        "outputId": "ec9888f8-02e9-4168-de94-b6990053fac6"
      },
      "id": "jgGA6oNHXY_F",
      "execution_count": 52,
      "outputs": [
        {
          "output_type": "stream",
          "name": "stdout",
          "text": [
            "torch.Size([3, 32, 32]) torch.Size([3, 32, 32])\n"
          ]
        }
      ]
    },
    {
      "cell_type": "code",
      "source": [
        "# Sanity check\n",
        "image = torch.randn((2, 3, 32, 32))\n",
        "patch_size = 4\n",
        "num_heads = 4\n",
        "num_trx_cells = 2\n",
        "trx_ff_dim = 16\n",
        "dropout = 0.1\n",
        "num_class = 5\n",
        "\n",
        "vit = VisionTransformerClassifier2(patch_size, num_heads, trx_ff_dim, num_trx_cells, num_class, dropout)\n",
        "logits = vit(image)\n",
        "assert len(logits.shape) == 2 and logits.shape[0] == image.shape[0] and logits.shape[1] == num_class\n",
        "print(logits.shape)"
      ],
      "metadata": {
        "colab": {
          "base_uri": "https://localhost:8080/"
        },
        "id": "rfvSC4e7Rf0r",
        "outputId": "61eb355b-6042-4624-989b-bd3f9ec4fcbc"
      },
      "id": "rfvSC4e7Rf0r",
      "execution_count": 53,
      "outputs": [
        {
          "output_type": "stream",
          "name": "stdout",
          "text": [
            "torch.Size([2, 5])\n"
          ]
        }
      ]
    },
    {
      "cell_type": "code",
      "source": [
        "import time\n",
        "\n",
        "def train(model, dataloader, loss_func, device, grad_norm_clip):\n",
        "    model.train()\n",
        "    total_acc, total_count = 0, 0\n",
        "    log_interval = 500\n",
        "    start_time = time.time()\n",
        "    for idx, (label, text) in enumerate(dataloader):\n",
        "        label = label.to(device)\n",
        "        text = text.to(device)\n",
        "        optimizer.zero_grad()\n",
        "        logits = None\n",
        "        ###########################################################################\n",
        "        # TODO: compute the logits of the input, get the loss, and do the         #\n",
        "        # gradient backpropagation.\n",
        "        ###########################################################################\n",
        "        logits = model(text)\n",
        "        loss = loss_func(logits, label)\n",
        "        loss.backward()\n",
        "        ###########################################################################\n",
        "        #                             END OF YOUR CODE                            #\n",
        "        ###########################################################################\n",
        "        torch.nn.utils.clip_grad_norm_(model.parameters(), grad_norm_clip)\n",
        "        optimizer.step()\n",
        "        total_acc += (logits.argmax(1) == label).sum().item()\n",
        "        total_count += label.size(0)\n",
        "        if idx % log_interval == 0 and idx > 0:\n",
        "            elapsed = time.time() - start_time\n",
        "            print('| epoch {:3d} | {:5d}/{:5d} batches'\n",
        "                  '| accuracy {:8.3f}'.format(epoch, idx, len(dataloader),\n",
        "                                              total_acc/total_count))\n",
        "            total_acc, total_count = 0, 0\n",
        "            start_time = time.time()\n",
        "\n",
        "def evaluate(model, dataloader, loss_func, device):\n",
        "    model.eval()\n",
        "    total_acc, total_count = 0, 0\n",
        "\n",
        "    with torch.no_grad():\n",
        "        for idx, (label, text) in enumerate(dataloader):\n",
        "            label = label.to(device)\n",
        "            text = text.to(device)\n",
        "            ###########################################################################\n",
        "            # TODO: compute the logits of the input, get the loss.                    #\n",
        "            ###########################################################################\n",
        "            logits = model(text)\n",
        "            loss = loss_func(logits, label)\n",
        "            ###########################################################################\n",
        "            #                             END OF YOUR CODE                            #\n",
        "            ###########################################################################\n",
        "            total_acc += (logits.argmax(1) == label).sum().item()\n",
        "            total_count += label.size(0)\n",
        "    return total_acc/total_count"
      ],
      "metadata": {
        "id": "Ek4eiqQrtG7M"
      },
      "id": "Ek4eiqQrtG7M",
      "execution_count": 54,
      "outputs": []
    },
    {
      "cell_type": "code",
      "source": [
        "patch_size = 4\n",
        "embed_dim = 128\n",
        "num_heads = 4\n",
        "trx_ff_dim = 128\n",
        "num_trx_cells = 2\n",
        "num_class = 10\n",
        "\n",
        "###########################################################################\n",
        "# TODO: Define the model and loss function\n",
        "###########################################################################\n",
        "model = VisionTransformerClassifier2(patch_size, num_heads, trx_ff_dim, num_trx_cells, num_class)\n",
        "loss_func = nn.CrossEntropyLoss()\n",
        "###########################################################################\n",
        "#                             END OF YOUR CODE                            #\n",
        "###########################################################################\n",
        "\n",
        "for p in model.parameters():\n",
        "    if p.dim() > 1:\n",
        "        nn.init.xavier_uniform_(p)\n",
        "model = model.to(device)\n",
        "\n",
        "batch_size = 16\n",
        "train_loader = make_dataloader(data['X_train'], data['y_train'], batch_size, True)\n",
        "val_loader = make_dataloader(data['X_test'], data['y_test'], batch_size, False)\n",
        "\n",
        "# Hyperparameters\n",
        "epochs = 5 # epoch\n",
        "lr = 0.001\n",
        "gradient_norm_clip = 0.1\n",
        "\n",
        "optimizer = torch.optim.AdamW(model.parameters(), lr=lr)\n",
        "scheduler = torch.optim.lr_scheduler.CosineAnnealingLR(optimizer, epochs, 1e-8)\n",
        "total_accu = None\n",
        "\n",
        "# You should be able to get an accuracy around 36%\n",
        "for epoch in range(1, epochs + 1):\n",
        "    epoch_start_time = time.time()\n",
        "    train(model, train_loader, loss_func, device, gradient_norm_clip)\n",
        "    accu_val = evaluate(model, val_loader, loss_func, device)\n",
        "    if total_accu is not None and total_accu > accu_val:\n",
        "        scheduler.step()\n",
        "    else:\n",
        "        total_accu = accu_val\n",
        "    print('-' * 59)\n",
        "    print('| end of epoch {:3d} | time: {:5.2f}s | '\n",
        "          'valid accuracy {:8.3f} '.format(epoch,\n",
        "                                           time.time() - epoch_start_time,\n",
        "                                           accu_val))\n",
        "    print('-' * 59)"
      ],
      "metadata": {
        "colab": {
          "base_uri": "https://localhost:8080/"
        },
        "id": "g-h1eF5LKUpd",
        "outputId": "b8d62f9f-03a2-4af7-ef2c-6e0a1ebd72e2"
      },
      "id": "g-h1eF5LKUpd",
      "execution_count": 55,
      "outputs": [
        {
          "output_type": "stream",
          "name": "stdout",
          "text": [
            "| epoch   1 |   500/ 3062 batches| accuracy    0.308\n",
            "| epoch   1 |  1000/ 3062 batches| accuracy    0.364\n",
            "| epoch   1 |  1500/ 3062 batches| accuracy    0.386\n",
            "| epoch   1 |  2000/ 3062 batches| accuracy    0.408\n",
            "| epoch   1 |  2500/ 3062 batches| accuracy    0.416\n",
            "| epoch   1 |  3000/ 3062 batches| accuracy    0.430\n",
            "-----------------------------------------------------------\n",
            "| end of epoch   1 | time: 96.66s | valid accuracy    0.451 \n",
            "-----------------------------------------------------------\n",
            "| epoch   2 |   500/ 3062 batches| accuracy    0.451\n",
            "| epoch   2 |  1000/ 3062 batches| accuracy    0.456\n",
            "| epoch   2 |  1500/ 3062 batches| accuracy    0.453\n",
            "| epoch   2 |  2000/ 3062 batches| accuracy    0.462\n",
            "| epoch   2 |  2500/ 3062 batches| accuracy    0.458\n",
            "| epoch   2 |  3000/ 3062 batches| accuracy    0.464\n",
            "-----------------------------------------------------------\n",
            "| end of epoch   2 | time: 97.49s | valid accuracy    0.477 \n",
            "-----------------------------------------------------------\n",
            "| epoch   3 |   500/ 3062 batches| accuracy    0.497\n",
            "| epoch   3 |  1000/ 3062 batches| accuracy    0.489\n",
            "| epoch   3 |  1500/ 3062 batches| accuracy    0.494\n",
            "| epoch   3 |  2000/ 3062 batches| accuracy    0.500\n",
            "| epoch   3 |  2500/ 3062 batches| accuracy    0.499\n",
            "| epoch   3 |  3000/ 3062 batches| accuracy    0.493\n",
            "-----------------------------------------------------------\n",
            "| end of epoch   3 | time: 97.17s | valid accuracy    0.483 \n",
            "-----------------------------------------------------------\n",
            "| epoch   4 |   500/ 3062 batches| accuracy    0.520\n",
            "| epoch   4 |  1000/ 3062 batches| accuracy    0.508\n",
            "| epoch   4 |  1500/ 3062 batches| accuracy    0.502\n",
            "| epoch   4 |  2000/ 3062 batches| accuracy    0.520\n",
            "| epoch   4 |  2500/ 3062 batches| accuracy    0.520\n",
            "| epoch   4 |  3000/ 3062 batches| accuracy    0.525\n",
            "-----------------------------------------------------------\n",
            "| end of epoch   4 | time: 97.90s | valid accuracy    0.505 \n",
            "-----------------------------------------------------------\n",
            "| epoch   5 |   500/ 3062 batches| accuracy    0.537\n",
            "| epoch   5 |  1000/ 3062 batches| accuracy    0.539\n",
            "| epoch   5 |  1500/ 3062 batches| accuracy    0.537\n",
            "| epoch   5 |  2000/ 3062 batches| accuracy    0.526\n",
            "| epoch   5 |  2500/ 3062 batches| accuracy    0.531\n",
            "| epoch   5 |  3000/ 3062 batches| accuracy    0.540\n",
            "-----------------------------------------------------------\n",
            "| end of epoch   5 | time: 97.45s | valid accuracy    0.516 \n",
            "-----------------------------------------------------------\n"
          ]
        }
      ]
    },
    {
      "cell_type": "code",
      "source": [
        ""
      ],
      "metadata": {
        "id": "B6WkX-MEHZHb"
      },
      "id": "B6WkX-MEHZHb",
      "execution_count": 55,
      "outputs": []
    }
  ],
  "metadata": {
    "kernelspec": {
      "display_name": "Python 3",
      "language": "python",
      "name": "python3"
    },
    "language_info": {
      "codemirror_mode": {
        "name": "ipython",
        "version": 3
      },
      "file_extension": ".py",
      "mimetype": "text/x-python",
      "name": "python",
      "nbconvert_exporter": "python",
      "pygments_lexer": "ipython3",
      "version": "3.8.8"
    },
    "colab": {
      "name": "malemath.a_rnn_transformer.ipynb",
      "provenance": [],
      "collapsed_sections": []
    },
    "accelerator": "GPU"
  },
  "nbformat": 4,
  "nbformat_minor": 5
}