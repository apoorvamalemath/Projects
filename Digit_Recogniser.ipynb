{
  "nbformat": 4,
  "nbformat_minor": 0,
  "metadata": {
    "colab": {
      "name": "Digit Recogniser.ipynb",
      "provenance": [],
      "collapsed_sections": []
    },
    "kernelspec": {
      "name": "python3",
      "display_name": "Python 3"
    },
    "language_info": {
      "name": "python"
    }
  },
  "cells": [
    {
      "cell_type": "code",
      "metadata": {
        "id": "Fj5i57ceQHLl"
      },
      "source": [
        "#Importing Libraries11\n",
        "import numpy as np \n",
        "import pandas as pd\n",
        "\n",
        "import matplotlib.pyplot as plt\n",
        "%matplotlib inline\n",
        "\n",
        "from keras.models import Sequential\n",
        "from keras.layers import Dense , Dropout , Lambda, Flatten\n",
        "from tensorflow.keras.optimizers import Adam , RMSprop\n",
        "from sklearn.model_selection import train_test_split\n",
        "from keras import  backend as K\n",
        "from keras.preprocessing.image import ImageDataGenerator\n",
        "from keras.preprocessing import image\n",
        "from keras.layers import Convolution2D, MaxPooling2D\n",
        "#from keras.layers.normalization import BatchNormalization\n",
        "from tensorflow.keras.layers import BatchNormalization"
      ],
      "execution_count": null,
      "outputs": []
    },
    {
      "cell_type": "code",
      "metadata": {
        "colab": {
          "base_uri": "https://localhost:8080/"
        },
        "id": "AkMSYwJ2QRSY",
        "outputId": "65075549-ad79-4793-8262-b022d99e46d0"
      },
      "source": [
        "#Loading Train Data\n",
        "train = pd.read_csv(\"/content/train.csv\")\n",
        "print(train.shape)\n",
        "#train.head()"
      ],
      "execution_count": null,
      "outputs": [
        {
          "output_type": "stream",
          "name": "stdout",
          "text": [
            "(42000, 785)\n"
          ]
        }
      ]
    },
    {
      "cell_type": "code",
      "metadata": {
        "id": "EtN0vePRCYCf"
      },
      "source": [
        "# Replacing Nans by zero\n",
        "train=train.fillna(0)\n",
        "#train.isnull().sum()"
      ],
      "execution_count": null,
      "outputs": []
    },
    {
      "cell_type": "code",
      "metadata": {
        "colab": {
          "base_uri": "https://localhost:8080/"
        },
        "id": "X5L8glrmD-DB",
        "outputId": "7fe3e027-cb12-4e4c-c8ff-63716fe62189"
      },
      "source": [
        "train.head(1).to_numpy"
      ],
      "execution_count": null,
      "outputs": [
        {
          "output_type": "execute_result",
          "data": {
            "text/plain": [
              "<bound method DataFrame.to_numpy of    label  pixel0  pixel1  pixel2  ...  pixel780  pixel781  pixel782  pixel783\n",
              "0      1       0       0       0  ...         0         0         0         0\n",
              "\n",
              "[1 rows x 785 columns]>"
            ]
          },
          "metadata": {},
          "execution_count": 9
        }
      ]
    },
    {
      "cell_type": "code",
      "metadata": {
        "colab": {
          "base_uri": "https://localhost:8080/"
        },
        "id": "Si-rrA3VEERe",
        "outputId": "65a5da95-fc56-4b13-ef13-87dfd4bdca31"
      },
      "source": [
        "train.isnull().values.any()"
      ],
      "execution_count": null,
      "outputs": [
        {
          "output_type": "execute_result",
          "data": {
            "text/plain": [
              "False"
            ]
          },
          "metadata": {},
          "execution_count": 12
        }
      ]
    },
    {
      "cell_type": "code",
      "metadata": {
        "colab": {
          "base_uri": "https://localhost:8080/"
        },
        "id": "k7beWYiJRfgr",
        "outputId": "4dce7405-a474-4828-b996-13646ae5793c"
      },
      "source": [
        "#Loading test data\n",
        "test= pd.read_csv(\"/content/test.csv\")\n",
        "print(test.shape)\n",
        "#test.head()"
      ],
      "execution_count": null,
      "outputs": [
        {
          "output_type": "stream",
          "name": "stdout",
          "text": [
            "(28000, 784)\n"
          ]
        }
      ]
    },
    {
      "cell_type": "code",
      "metadata": {
        "id": "UVXF592vj036"
      },
      "source": [
        "# Replacing Nans by zero\n",
        "test=test.fillna(0)\n",
        "#test.isnull().sum()"
      ],
      "execution_count": null,
      "outputs": []
    },
    {
      "cell_type": "code",
      "metadata": {
        "id": "WEYSU1zqRkJf"
      },
      "source": [
        "#Seperating labels from train and converting int to float pixel values\n",
        "X_train = (train.iloc[:,1:].values).astype('float32') # all pixel values\n",
        "Y_train = train.iloc[:,0].values.astype('int32') \n",
        "\n",
        "X_test = test.values.astype('float32')"
      ],
      "execution_count": null,
      "outputs": []
    },
    {
      "cell_type": "code",
      "metadata": {
        "id": "Ckq-gBkKSEaI"
      },
      "source": [
        "#Sacling the values to range 0 to 1\n",
        "X_train = X_train / 255.0\n",
        "X_test = X_test /255.0"
      ],
      "execution_count": null,
      "outputs": []
    },
    {
      "cell_type": "code",
      "metadata": {
        "colab": {
          "base_uri": "https://localhost:8080/"
        },
        "id": "M60l_uOLQ-y2",
        "outputId": "785ffc5c-7a01-4e5b-a632-7f72556d9c80"
      },
      "source": [
        "X_train"
      ],
      "execution_count": null,
      "outputs": [
        {
          "output_type": "execute_result",
          "data": {
            "text/plain": [
              "array([[0., 0., 0., ..., 0., 0., 0.],\n",
              "       [0., 0., 0., ..., 0., 0., 0.],\n",
              "       [0., 0., 0., ..., 0., 0., 0.],\n",
              "       ...,\n",
              "       [0., 0., 0., ..., 0., 0., 0.],\n",
              "       [0., 0., 0., ..., 0., 0., 0.],\n",
              "       [0., 0., 0., ..., 0., 0., 0.]], dtype=float32)"
            ]
          },
          "metadata": {},
          "execution_count": 17
        }
      ]
    },
    {
      "cell_type": "code",
      "metadata": {
        "colab": {
          "base_uri": "https://localhost:8080/",
          "height": 269
        },
        "id": "ktWTmdyYQ1V_",
        "outputId": "aa909421-45ea-4a78-84c8-c7778d6cfb15"
      },
      "source": [
        "#Visualizing the data\n",
        "plotData= X_train.reshape(X_train.shape[0], 28, 28)\n",
        "plt.figure()\n",
        "plt.imshow(plotData[10])\n",
        "plt.colorbar()\n",
        "plt.grid(False)\n",
        "plt.show()"
      ],
      "execution_count": null,
      "outputs": [
        {
          "output_type": "display_data",
          "data": {
            "image/png": "[encoded data removed]",
            "text/plain": [
              "<Figure size 432x288 with 2 Axes>"
            ]
          },
          "metadata": {
            "needs_background": "light"
          }
        }
      ]
    },
    {
      "cell_type": "code",
      "metadata": {
        "colab": {
          "base_uri": "https://localhost:8080/"
        },
        "id": "njIPztwcRNvp",
        "outputId": "6124733b-2056-4c66-f920-d3a5195e900a"
      },
      "source": [
        "Y_train[10]"
      ],
      "execution_count": null,
      "outputs": [
        {
          "output_type": "execute_result",
          "data": {
            "text/plain": [
              "8"
            ]
          },
          "metadata": {},
          "execution_count": 19
        }
      ]
    },
    {
      "cell_type": "code",
      "metadata": {
        "colab": {
          "base_uri": "https://localhost:8080/"
        },
        "id": "yZmE3KWOSGpu",
        "outputId": "652684cc-f00b-437c-cffb-35ea9154e623"
      },
      "source": [
        "#expand 1 more dimention as 1 for colour channel gray\n",
        "X_train = X_train.reshape(X_train.shape[0], 28, 28,1)\n",
        "#X_train = X_train.reshape(X_train.shape[0], 28, 28)\n",
        "X_train.shape"
      ],
      "execution_count": null,
      "outputs": [
        {
          "output_type": "execute_result",
          "data": {
            "text/plain": [
              "(42000, 28, 28, 1)"
            ]
          },
          "metadata": {},
          "execution_count": 22
        }
      ]
    },
    {
      "cell_type": "code",
      "metadata": {
        "id": "-xm5pn8sQHd6"
      },
      "source": [
        "#X_train[0]"
      ],
      "execution_count": null,
      "outputs": []
    },
    {
      "cell_type": "code",
      "metadata": {
        "colab": {
          "base_uri": "https://localhost:8080/"
        },
        "id": "GRGnYUK2Sn9F",
        "outputId": "a1a79b88-a4ce-4692-ad25-050525d8330d"
      },
      "source": [
        "X_test = X_test.reshape(X_test.shape[0], 28, 28,1)\n",
        "#X_test = X_test.reshape(X_test.shape[0], 28, 28)\n",
        "X_test.shape"
      ],
      "execution_count": null,
      "outputs": [
        {
          "output_type": "execute_result",
          "data": {
            "text/plain": [
              "(28000, 28, 28, 1)"
            ]
          },
          "metadata": {},
          "execution_count": 24
        }
      ]
    },
    {
      "cell_type": "markdown",
      "metadata": {
        "id": "i0vAD60bTBvT"
      },
      "source": [
        "## Preprocessiong"
      ]
    },
    {
      "cell_type": "markdown",
      "metadata": {
        "id": "79Hc4v6Wgekk"
      },
      "source": [
        "#### Feature Standardisation \n",
        "Centring the data around zero mean and unit variance."
      ]
    },
    {
      "cell_type": "code",
      "metadata": {
        "id": "1GICEYe5S1lJ"
      },
      "source": [
        "mean_px = X_train.mean().astype(np.float32)\n",
        "std_px = X_train.std().astype(np.float32)\n",
        "\n",
        "def standardize(x): \n",
        "    return (x-mean_px)/std_px"
      ],
      "execution_count": null,
      "outputs": []
    },
    {
      "cell_type": "markdown",
      "metadata": {
        "id": "_VVWt3s4gwZE"
      },
      "source": [
        "#### One hot encoding on the labels "
      ]
    },
    {
      "cell_type": "code",
      "metadata": {
        "colab": {
          "base_uri": "https://localhost:8080/"
        },
        "id": "QEk4utkSgrX7",
        "outputId": "0e7d68da-0bd0-4edb-f111-6e0287be49a3"
      },
      "source": [
        "from keras.utils.np_utils import to_categorical\n",
        "Y_train= to_categorical(Y_train)\n",
        "num_classes = Y_train.shape[1]\n",
        "num_classes"
      ],
      "execution_count": null,
      "outputs": [
        {
          "output_type": "execute_result",
          "data": {
            "text/plain": [
              "10"
            ]
          },
          "metadata": {},
          "execution_count": 26
        }
      ]
    },
    {
      "cell_type": "markdown",
      "metadata": {
        "id": "hM_eGh63hvPi"
      },
      "source": [
        "### Creating cross validation set"
      ]
    },
    {
      "cell_type": "code",
      "metadata": {
        "id": "T8WWOo0Wht3d"
      },
      "source": [
        "X = X_train\n",
        "Y = Y_train\n",
        "X_train, X_val, Y_train, Y_val = train_test_split(X_train, Y_train, test_size=0.10, random_state=42)"
      ],
      "execution_count": null,
      "outputs": []
    },
    {
      "cell_type": "markdown",
      "metadata": {
        "id": "zi5uQ9xAg7-4"
      },
      "source": [
        "## Neural Network Model"
      ]
    },
    {
      "cell_type": "markdown",
      "metadata": {
        "id": "L3-vMv4_QmW9"
      },
      "source": [
        "### Model 1\n"
      ]
    },
    {
      "cell_type": "code",
      "metadata": {
        "id": "wwHQRc60gm_h"
      },
      "source": [
        "# fix random seed for reproducibility\n",
        "seed = 43\n",
        "np.random.seed(seed)"
      ],
      "execution_count": null,
      "outputs": []
    },
    {
      "cell_type": "code",
      "metadata": {
        "colab": {
          "base_uri": "https://localhost:8080/"
        },
        "id": "Qf95U8f8g0Nt",
        "outputId": "fc4b87df-d29a-4c8f-ab24-20d5f75d544b"
      },
      "source": [
        "seed"
      ],
      "execution_count": null,
      "outputs": [
        {
          "output_type": "execute_result",
          "data": {
            "text/plain": [
              "43"
            ]
          },
          "metadata": {},
          "execution_count": 29
        }
      ]
    },
    {
      "cell_type": "code",
      "metadata": {
        "colab": {
          "base_uri": "https://localhost:8080/"
        },
        "id": "EDUZBwcEhFUb",
        "outputId": "4d156042-0656-4dfc-9ee5-b5d22236d8d2"
      },
      "source": [
        "model= Sequential()\n",
        "model.add(Lambda(standardize,input_shape=(28,28,1)))\n",
        "model.add(Flatten())\n",
        "model.add(Dense(10, activation='softmax'))\n",
        "print(\"input shape \",model.input_shape)\n",
        "print(\"output shape \",model.output_shape)"
      ],
      "execution_count": null,
      "outputs": [
        {
          "output_type": "stream",
          "name": "stdout",
          "text": [
            "input shape  (None, 28, 28, 1)\n",
            "output shape  (None, 10)\n"
          ]
        }
      ]
    },
    {
      "cell_type": "code",
      "metadata": {
        "colab": {
          "base_uri": "https://localhost:8080/"
        },
        "id": "rCiRHPZAhVIJ",
        "outputId": "b8ebeb04-2b0e-4256-a616-7edaa499ab5d"
      },
      "source": [
        "model.compile(optimizer=RMSprop(lr=0.001),\n",
        " loss='categorical_crossentropy',\n",
        " metrics=['accuracy'])"
      ],
      "execution_count": null,
      "outputs": [
        {
          "output_type": "stream",
          "name": "stderr",
          "text": [
            "/usr/local/lib/python3.7/dist-packages/keras/optimizer_v2/optimizer_v2.py:356: UserWarning: The `lr` argument is deprecated, use `learning_rate` instead.\n",
            "  \"The `lr` argument is deprecated, use `learning_rate` instead.\")\n"
          ]
        }
      ]
    },
    {
      "cell_type": "code",
      "metadata": {
        "id": "fBZH2W6zhexQ"
      },
      "source": [
        "gen = image.ImageDataGenerator()\n",
        "#creating batches with real time data augmentation\n",
        "batches = gen.flow(X_train, Y_train, batch_size=64)\n",
        "val_batches=gen.flow(X_val, Y_val, batch_size=64)"
      ],
      "execution_count": null,
      "outputs": []
    },
    {
      "cell_type": "code",
      "metadata": {
        "colab": {
          "base_uri": "https://localhost:8080/"
        },
        "id": "djvnUM45cb4d",
        "outputId": "7450a1f2-f927-4ad7-c3dc-24c5784ab016"
      },
      "source": [
        "batches"
      ],
      "execution_count": null,
      "outputs": [
        {
          "output_type": "execute_result",
          "data": {
            "text/plain": [
              "<keras.preprocessing.image.NumpyArrayIterator at 0x7f4d95d46310>"
            ]
          },
          "metadata": {},
          "execution_count": 48
        }
      ]
    },
    {
      "cell_type": "code",
      "metadata": {
        "colab": {
          "base_uri": "https://localhost:8080/"
        },
        "id": "cGacFPk2hkNe",
        "outputId": "12b69e29-2d89-4779-ea32-bad362ebce63"
      },
      "source": [
        "# Fitting the model\n",
        "history=model.fit_generator(generator=batches, steps_per_epoch=batches.n, epochs=3, \n",
        "                    validation_data=val_batches, validation_steps=val_batches.n)"
      ],
      "execution_count": null,
      "outputs": [
        {
          "output_type": "stream",
          "name": "stderr",
          "text": [
            "/usr/local/lib/python3.7/dist-packages/keras/engine/training.py:1972: UserWarning: `Model.fit_generator` is deprecated and will be removed in a future version. Please use `Model.fit`, which supports generators.\n",
            "  warnings.warn('`Model.fit_generator` is deprecated and '\n"
          ]
        },
        {
          "output_type": "stream",
          "name": "stdout",
          "text": [
            "Epoch 1/3\n",
            "  586/37800 [..............................] - ETA: 1:31 - loss: 0.4491 - accuracy: 0.8664WARNING:tensorflow:Your input ran out of data; interrupting training. Make sure that your dataset or generator can generate at least `steps_per_epoch * epochs` batches (in this case, 113400 batches). You may need to use the repeat() function when building your dataset.\n",
            "WARNING:tensorflow:Your input ran out of data; interrupting training. Make sure that your dataset or generator can generate at least `steps_per_epoch * epochs` batches (in this case, 4200 batches). You may need to use the repeat() function when building your dataset.\n",
            "37800/37800 [==============================] - 2s 46us/step - loss: 0.4475 - accuracy: 0.8668 - val_loss: 0.3271 - val_accuracy: 0.9033\n"
          ]
        }
      ]
    },
    {
      "cell_type": "code",
      "metadata": {
        "colab": {
          "base_uri": "https://localhost:8080/"
        },
        "id": "4ZDRt0cniJpf",
        "outputId": "ea5e6359-fabb-43d0-d2e2-42114ab64f41"
      },
      "source": [
        "history_dict = history.history\n",
        "history_dict.keys()"
      ],
      "execution_count": null,
      "outputs": [
        {
          "output_type": "execute_result",
          "data": {
            "text/plain": [
              "dict_keys(['loss', 'accuracy', 'val_loss', 'val_accuracy'])"
            ]
          },
          "metadata": {},
          "execution_count": 50
        }
      ]
    },
    {
      "cell_type": "code",
      "metadata": {
        "colab": {
          "base_uri": "https://localhost:8080/"
        },
        "id": "jm-awjQdiSuC",
        "outputId": "6a44800b-1963-452a-f116-f50734424bd7"
      },
      "source": [
        "history_dict"
      ],
      "execution_count": null,
      "outputs": [
        {
          "output_type": "execute_result",
          "data": {
            "text/plain": [
              "{'accuracy': [0.8668254017829895],\n",
              " 'loss': [0.4474690556526184],\n",
              " 'val_accuracy': [0.903333306312561],\n",
              " 'val_loss': [0.32713425159454346]}"
            ]
          },
          "metadata": {},
          "execution_count": 51
        }
      ]
    },
    {
      "cell_type": "code",
      "metadata": {
        "id": "6wWvgYAhPUxk"
      },
      "source": [
        "predictions = model.predict(X_test, verbose=0)\n",
        "classes_x=np.argmax(predictions,axis=1)\n",
        "\n",
        "submissions=pd.DataFrame({\"ImageId\": list(range(1,len(predictions)+1)),\n",
        "                         \"Label\": classes_x})\n",
        "submissions.to_csv(\"model1.csv\", index=False, header=True)"
      ],
      "execution_count": null,
      "outputs": []
    },
    {
      "cell_type": "markdown",
      "metadata": {
        "id": "RRGCmCByk0hd"
      },
      "source": [
        "### Model 2:  Adding another layer"
      ]
    },
    {
      "cell_type": "code",
      "metadata": {
        "id": "ZhSwMNGUkx3i"
      },
      "source": [
        "def get_fc_model():\n",
        "    model = Sequential([\n",
        "        Lambda(standardize, input_shape=(28,28,1)),\n",
        "        Flatten(),\n",
        "        Dense(512, activation='relu'),\n",
        "        Dense(10, activation='softmax')\n",
        "        ])\n",
        "    model.compile(optimizer='Adam', loss='categorical_crossentropy',\n",
        "                  metrics=['accuracy'])\n",
        "    return model"
      ],
      "execution_count": null,
      "outputs": []
    },
    {
      "cell_type": "code",
      "metadata": {
        "colab": {
          "base_uri": "https://localhost:8080/"
        },
        "id": "C2n7qFNCk5Dv",
        "outputId": "63cb9393-17d3-466b-bdd5-c18c3e48c574"
      },
      "source": [
        "fc = get_fc_model()\n",
        "fc.optimizer.lr=0.01\n",
        "history=fc.fit_generator(generator=batches, steps_per_epoch=batches.n, epochs=3, \n",
        "                    validation_data=val_batches, validation_steps=val_batches.n)"
      ],
      "execution_count": null,
      "outputs": [
        {
          "output_type": "stream",
          "name": "stderr",
          "text": [
            "/usr/local/lib/python3.7/dist-packages/keras/engine/training.py:1972: UserWarning: `Model.fit_generator` is deprecated and will be removed in a future version. Please use `Model.fit`, which supports generators.\n",
            "  warnings.warn('`Model.fit_generator` is deprecated and '\n"
          ]
        },
        {
          "output_type": "stream",
          "name": "stdout",
          "text": [
            "Epoch 1/3\n",
            "  587/37800 [..............................] - ETA: 2:52 - loss: 0.3479 - accuracy: 0.9117WARNING:tensorflow:Your input ran out of data; interrupting training. Make sure that your dataset or generator can generate at least `steps_per_epoch * epochs` batches (in this case, 113400 batches). You may need to use the repeat() function when building your dataset.\n",
            "WARNING:tensorflow:Your input ran out of data; interrupting training. Make sure that your dataset or generator can generate at least `steps_per_epoch * epochs` batches (in this case, 4200 batches). You may need to use the repeat() function when building your dataset.\n",
            "37800/37800 [==============================] - 3s 84us/step - loss: 0.3475 - accuracy: 0.9117 - val_loss: 0.2315 - val_accuracy: 0.9333\n"
          ]
        }
      ]
    },
    {
      "cell_type": "code",
      "metadata": {
        "colab": {
          "base_uri": "https://localhost:8080/"
        },
        "id": "hZLL96zCk6aa",
        "outputId": "c74a44dd-54c5-4b39-e016-8e7264b8c895"
      },
      "source": [
        "history_dict = history.history\n",
        "history_dict"
      ],
      "execution_count": null,
      "outputs": [
        {
          "output_type": "execute_result",
          "data": {
            "text/plain": [
              "{'accuracy': [0.9117460250854492],\n",
              " 'loss': [0.347528338432312],\n",
              " 'val_accuracy': [0.9333333373069763],\n",
              " 'val_loss': [0.2315049022436142]}"
            ]
          },
          "metadata": {},
          "execution_count": 67
        }
      ]
    },
    {
      "cell_type": "code",
      "metadata": {
        "id": "0k0yorkAQ07h"
      },
      "source": [
        "predictions = model.predict(X_test, verbose=0)\n",
        "classes_x=np.argmax(predictions,axis=1)\n",
        "\n",
        "submissions=pd.DataFrame({\"ImageId\": list(range(1,len(predictions)+1)),\n",
        "                         \"Label\": classes_x})\n",
        "submissions.to_csv(\"model2.csv\", index=False, header=True)"
      ],
      "execution_count": null,
      "outputs": []
    },
    {
      "cell_type": "markdown",
      "metadata": {
        "id": "wCHyVhCPlC4I"
      },
      "source": [
        "### Model 3: CNN"
      ]
    },
    {
      "cell_type": "code",
      "metadata": {
        "id": "sN280Wilk-tz"
      },
      "source": [
        "def get_cnn_model():\n",
        "    model = Sequential([\n",
        "        Lambda(standardize, input_shape=(28,28,1)),\n",
        "        Convolution2D(32,(3,3), activation='relu'),\n",
        "        Convolution2D(32,(3,3), activation='relu'),\n",
        "        MaxPooling2D(),\n",
        "        Convolution2D(64,(3,3), activation='relu'),\n",
        "        Convolution2D(64,(3,3), activation='relu'),\n",
        "        MaxPooling2D(),\n",
        "        Flatten(),\n",
        "        Dense(512, activation='relu'),\n",
        "        Dense(10, activation='softmax')\n",
        "        ])\n",
        "    model.compile(Adam(), loss='categorical_crossentropy',\n",
        "                  metrics=['accuracy'])\n",
        "    return model"
      ],
      "execution_count": null,
      "outputs": []
    },
    {
      "cell_type": "code",
      "metadata": {
        "id": "ZzgpWdGmlGYE"
      },
      "source": [
        "model= get_cnn_model()\n",
        "model.optimizer.lr=0.01"
      ],
      "execution_count": null,
      "outputs": []
    },
    {
      "cell_type": "code",
      "metadata": {
        "colab": {
          "base_uri": "https://localhost:8080/"
        },
        "id": "ci4bjEe0lH2V",
        "outputId": "b12ed682-4937-4582-e649-f913d5e6d6bd"
      },
      "source": [
        "history=model.fit_generator(generator=batches, steps_per_epoch=batches.n, epochs=1, \n",
        "                    validation_data=val_batches, validation_steps=val_batches.n)"
      ],
      "execution_count": null,
      "outputs": [
        {
          "output_type": "stream",
          "name": "stderr",
          "text": [
            "/usr/local/lib/python3.7/dist-packages/keras/engine/training.py:1972: UserWarning: `Model.fit_generator` is deprecated and will be removed in a future version. Please use `Model.fit`, which supports generators.\n",
            "  warnings.warn('`Model.fit_generator` is deprecated and '\n"
          ]
        },
        {
          "output_type": "stream",
          "name": "stdout",
          "text": [
            "  591/37800 [..............................] - ETA: 1:19:35 - loss: 0.2566 - accuracy: 0.9260WARNING:tensorflow:Your input ran out of data; interrupting training. Make sure that your dataset or generator can generate at least `steps_per_epoch * epochs` batches (in this case, 37800 batches). You may need to use the repeat() function when building your dataset.\n",
            "WARNING:tensorflow:Your input ran out of data; interrupting training. Make sure that your dataset or generator can generate at least `steps_per_epoch * epochs` batches (in this case, 4200 batches). You may need to use the repeat() function when building your dataset.\n",
            "37800/37800 [==============================] - 79s 2ms/step - loss: 0.2566 - accuracy: 0.9260 - val_loss: 0.1120 - val_accuracy: 0.9679\n"
          ]
        }
      ]
    },
    {
      "cell_type": "code",
      "metadata": {
        "colab": {
          "base_uri": "https://localhost:8080/"
        },
        "id": "34amRXa2lOi-",
        "outputId": "85791f93-776e-46dd-e714-9bbc4926488a"
      },
      "source": [
        "history_dict = history.history\n",
        "history_dict"
      ],
      "execution_count": null,
      "outputs": [
        {
          "output_type": "execute_result",
          "data": {
            "text/plain": [
              "{'accuracy': [0.9260053038597107],\n",
              " 'loss': [0.25657209753990173],\n",
              " 'val_accuracy': [0.9678571224212646],\n",
              " 'val_loss': [0.11201290041208267]}"
            ]
          },
          "metadata": {},
          "execution_count": 72
        }
      ]
    },
    {
      "cell_type": "code",
      "metadata": {
        "id": "3Z__k-fzRTLU"
      },
      "source": [
        "predictions = model.predict(X_test, verbose=0)\n",
        "classes_x=np.argmax(predictions,axis=1)\n",
        "\n",
        "submissions=pd.DataFrame({\"ImageId\": list(range(1,len(predictions)+1)),\n",
        "                         \"Label\": classes_x})\n",
        "submissions.to_csv(\"model3.csv\", index=False, header=True)"
      ],
      "execution_count": null,
      "outputs": []
    },
    {
      "cell_type": "markdown",
      "metadata": {
        "id": "ViTxmx90lr-V"
      },
      "source": [
        "Data Augmentation"
      ]
    },
    {
      "cell_type": "code",
      "metadata": {
        "id": "CodzpD13ln9g"
      },
      "source": [
        "gen =ImageDataGenerator(rotation_range=8, width_shift_range=0.08, shear_range=0.3,\n",
        "                               height_shift_range=0.08, zoom_range=0.08)\n",
        "batches = gen.flow(X_train, Y_train, batch_size=64)\n",
        "val_batches = gen.flow(X_val, Y_val, batch_size=64)"
      ],
      "execution_count": null,
      "outputs": []
    },
    {
      "cell_type": "code",
      "metadata": {
        "colab": {
          "base_uri": "https://localhost:8080/"
        },
        "id": "dbHASR1tle2g",
        "outputId": "9a5834ee-2d27-4319-f890-0f9a38aa8c1e"
      },
      "source": [
        "model.optimizer.lr=0.001\n",
        "history=model.fit_generator(generator=batches, steps_per_epoch=batches.n, epochs=1, \n",
        "                    validation_data=val_batches, validation_steps=val_batches.n)"
      ],
      "execution_count": null,
      "outputs": [
        {
          "output_type": "stream",
          "name": "stdout",
          "text": [
            "\r    1/37800 [..............................] - ETA: 1:35:59 - loss: 0.1845 - accuracy: 0.9219"
          ]
        },
        {
          "output_type": "stream",
          "name": "stderr",
          "text": [
            "/usr/local/lib/python3.7/dist-packages/keras/engine/training.py:1972: UserWarning: `Model.fit_generator` is deprecated and will be removed in a future version. Please use `Model.fit`, which supports generators.\n",
            "  warnings.warn('`Model.fit_generator` is deprecated and '\n"
          ]
        },
        {
          "output_type": "stream",
          "name": "stdout",
          "text": [
            "  591/37800 [..............................] - ETA: 1:28:19 - loss: 0.1347 - accuracy: 0.9587WARNING:tensorflow:Your input ran out of data; interrupting training. Make sure that your dataset or generator can generate at least `steps_per_epoch * epochs` batches (in this case, 37800 batches). You may need to use the repeat() function when building your dataset.\n",
            "WARNING:tensorflow:Your input ran out of data; interrupting training. Make sure that your dataset or generator can generate at least `steps_per_epoch * epochs` batches (in this case, 4200 batches). You may need to use the repeat() function when building your dataset.\n",
            "37800/37800 [==============================] - 89s 2ms/step - loss: 0.1347 - accuracy: 0.9587 - val_loss: 0.0911 - val_accuracy: 0.9707\n"
          ]
        }
      ]
    },
    {
      "cell_type": "code",
      "metadata": {
        "colab": {
          "base_uri": "https://localhost:8080/"
        },
        "id": "Hxst87kol1ip",
        "outputId": "5dc8fac8-0380-4313-90b8-2ab44554c1db"
      },
      "source": [
        "history_dict = history.history\n",
        "history_dict"
      ],
      "execution_count": null,
      "outputs": [
        {
          "output_type": "execute_result",
          "data": {
            "text/plain": [
              "{'accuracy': [0.9586507678031921],\n",
              " 'loss': [0.13474124670028687],\n",
              " 'val_accuracy': [0.970714271068573],\n",
              " 'val_loss': [0.09114781022071838]}"
            ]
          },
          "metadata": {},
          "execution_count": 77
        }
      ]
    },
    {
      "cell_type": "code",
      "metadata": {
        "id": "ebhjhBLLRuEH"
      },
      "source": [
        "predictions = model.predict(X_test, verbose=0)\n",
        "classes_x=np.argmax(predictions,axis=1)\n",
        "\n",
        "submissions=pd.DataFrame({\"ImageId\": list(range(1,len(predictions)+1)),\n",
        "                         \"Label\": classes_x})\n",
        "submissions.to_csv(\"model4.csv\", index=False, header=True)"
      ],
      "execution_count": null,
      "outputs": []
    },
    {
      "cell_type": "markdown",
      "metadata": {
        "id": "4UFBaFx35dw2"
      },
      "source": [
        "#### Batch Normalization"
      ]
    },
    {
      "cell_type": "code",
      "metadata": {
        "id": "srjaDlY7mY7R"
      },
      "source": [
        "def get_bn_model():\n",
        "    model = Sequential([\n",
        "        Lambda(standardize, input_shape=(28,28,1)),\n",
        "        Convolution2D(32,(3,3), activation='relu'),\n",
        "        BatchNormalization(axis=1),\n",
        "        Convolution2D(32,(3,3), activation='relu'),\n",
        "        MaxPooling2D(),\n",
        "        BatchNormalization(axis=1),\n",
        "        Convolution2D(64,(3,3), activation='relu'),\n",
        "        BatchNormalization(axis=1),\n",
        "        Convolution2D(64,(3,3), activation='relu'),\n",
        "        MaxPooling2D(),\n",
        "        Flatten(),\n",
        "        BatchNormalization(),\n",
        "        Dense(512, activation='relu'),\n",
        "        BatchNormalization(),\n",
        "        Dense(10, activation='softmax')\n",
        "        ])\n",
        "    model.compile(Adam(), loss='categorical_crossentropy', metrics=['accuracy'])\n",
        "    return model"
      ],
      "execution_count": null,
      "outputs": []
    },
    {
      "cell_type": "code",
      "metadata": {
        "colab": {
          "base_uri": "https://localhost:8080/"
        },
        "id": "o8wmEzcB5y6_",
        "outputId": "e6ad12a5-0220-4f64-a09f-bd66b81e2c6b"
      },
      "source": [
        "model= get_bn_model()\n",
        "model.optimizer.lr=0.01\n",
        "history=model.fit_generator(generator=batches, steps_per_epoch=batches.n, epochs=1, \n",
        "                    validation_data=val_batches, validation_steps=val_batches.n)"
      ],
      "execution_count": null,
      "outputs": [
        {
          "output_type": "stream",
          "name": "stderr",
          "text": [
            "/usr/local/lib/python3.7/dist-packages/keras/engine/training.py:1972: UserWarning: `Model.fit_generator` is deprecated and will be removed in a future version. Please use `Model.fit`, which supports generators.\n",
            "  warnings.warn('`Model.fit_generator` is deprecated and '\n"
          ]
        },
        {
          "output_type": "stream",
          "name": "stdout",
          "text": [
            "  591/37800 [..............................] - ETA: 1:58:51 - loss: 0.2213 - accuracy: 0.9385WARNING:tensorflow:Your input ran out of data; interrupting training. Make sure that your dataset or generator can generate at least `steps_per_epoch * epochs` batches (in this case, 37800 batches). You may need to use the repeat() function when building your dataset.\n",
            "WARNING:tensorflow:Your input ran out of data; interrupting training. Make sure that your dataset or generator can generate at least `steps_per_epoch * epochs` batches (in this case, 4200 batches). You may need to use the repeat() function when building your dataset.\n",
            "37800/37800 [==============================] - 120s 3ms/step - loss: 0.2213 - accuracy: 0.9385 - val_loss: 0.0921 - val_accuracy: 0.9779\n"
          ]
        }
      ]
    },
    {
      "cell_type": "code",
      "metadata": {
        "id": "SF6Rk-bh51S3"
      },
      "source": [
        "model.optimizer.lr=0.01\n",
        "gen = image.ImageDataGenerator()\n",
        "batches = gen.flow(X, y, batch_size=64)\n",
        "history=model.fit_generator(generator=batches, steps_per_epoch=batches.n, epochs=3)"
      ],
      "execution_count": null,
      "outputs": []
    },
    {
      "cell_type": "code",
      "metadata": {
        "id": "On-x1y_7TlU1"
      },
      "source": [
        "predictions = model.predict(X_test, verbose=0)\n",
        "classes_x=np.argmax(predictions,axis=1)\n",
        "\n",
        "submissions=pd.DataFrame({\"ImageId\": list(range(1,len(predictions)+1)),\n",
        "                         \"Label\": classes_x})\n",
        "submissions.to_csv(\"model5.csv\", index=False, header=True)"
      ],
      "execution_count": null,
      "outputs": []
    },
    {
      "cell_type": "markdown",
      "metadata": {
        "id": "0pPWbS8_g8qh"
      },
      "source": [
        "### Model 6"
      ]
    },
    {
      "cell_type": "code",
      "metadata": {
        "id": "FC47VeHmgLA1"
      },
      "source": [
        "def get_fc_model():\n",
        "    model = Sequential([\n",
        "        Lambda(standardize, input_shape=(28,28,1)),\n",
        "        Flatten(),\n",
        "        Dense(512, activation='relu'),\n",
        "        Dense(512, activation='relu'),\n",
        "        Dense(10, activation='softmax')\n",
        "        ])\n",
        "    model.compile(optimizer='Adam', loss='categorical_crossentropy',\n",
        "                  metrics=['accuracy'])\n",
        "    return model  "
      ],
      "execution_count": null,
      "outputs": []
    },
    {
      "cell_type": "code",
      "metadata": {
        "colab": {
          "base_uri": "https://localhost:8080/"
        },
        "id": "VozOVg3rg7cT",
        "outputId": "f462cf58-57f9-43c8-8c40-e239192428ba"
      },
      "source": [
        "fc = get_fc_model()\n",
        "fc.optimizer.lr=0.01\n",
        "history=fc.fit_generator(generator=batches, steps_per_epoch=batches.n, epochs=3, \n",
        "                    validation_data=val_batches, validation_steps=val_batches.n)"
      ],
      "execution_count": null,
      "outputs": [
        {
          "output_type": "stream",
          "name": "stderr",
          "text": [
            "/usr/local/lib/python3.7/dist-packages/keras/engine/training.py:1972: UserWarning: `Model.fit_generator` is deprecated and will be removed in a future version. Please use `Model.fit`, which supports generators.\n",
            "  warnings.warn('`Model.fit_generator` is deprecated and '\n"
          ]
        },
        {
          "output_type": "stream",
          "name": "stdout",
          "text": [
            "Epoch 1/3\n",
            "  591/37800 [..............................] - ETA: 13:48 - loss: 0.6854 - accuracy: 0.8056WARNING:tensorflow:Your input ran out of data; interrupting training. Make sure that your dataset or generator can generate at least `steps_per_epoch * epochs` batches (in this case, 113400 batches). You may need to use the repeat() function when building your dataset.\n",
            "WARNING:tensorflow:Your input ran out of data; interrupting training. Make sure that your dataset or generator can generate at least `steps_per_epoch * epochs` batches (in this case, 4200 batches). You may need to use the repeat() function when building your dataset.\n",
            "37800/37800 [==============================] - 15s 385us/step - loss: 0.6854 - accuracy: 0.8056 - val_loss: 0.3861 - val_accuracy: 0.8855\n"
          ]
        }
      ]
    },
    {
      "cell_type": "code",
      "metadata": {
        "colab": {
          "base_uri": "https://localhost:8080/"
        },
        "id": "DZ-DcyVvhJWs",
        "outputId": "28751421-6ed7-492f-bc72-f0f1e9055571"
      },
      "source": [
        "history_dict = history.history\n",
        "history_dict"
      ],
      "execution_count": null,
      "outputs": [
        {
          "output_type": "execute_result",
          "data": {
            "text/plain": [
              "{'accuracy': [0.8055819869041443],\n",
              " 'loss': [0.6853961944580078],\n",
              " 'val_accuracy': [0.8854761719703674],\n",
              " 'val_loss': [0.38614964485168457]}"
            ]
          },
          "metadata": {},
          "execution_count": 109
        }
      ]
    },
    {
      "cell_type": "code",
      "metadata": {
        "id": "17qap_UehJY4"
      },
      "source": [
        "predictions = model.predict(X_test, verbose=0)\n",
        "classes_x=np.argmax(predictions,axis=1)\n",
        "\n",
        "submissions=pd.DataFrame({\"ImageId\": list(range(1,len(predictions)+1)),\n",
        "                         \"Label\": classes_x})\n",
        "submissions.to_csv(\"model6.csv\", index=False, header=True)"
      ],
      "execution_count": null,
      "outputs": []
    },
    {
      "cell_type": "markdown",
      "metadata": {
        "id": "CbxGRe5OihNY"
      },
      "source": [
        "### Model 7"
      ]
    },
    {
      "cell_type": "code",
      "metadata": {
        "id": "byTal3L3iiYY"
      },
      "source": [
        "def baseline_model():\n",
        "\t# create model\n",
        "\tmodel = Sequential()\n",
        "\tmodel.add(Dense(8, activation='relu'))\n",
        "\tmodel.add(Dense(3, activation='softmax'))\n",
        "\t# Compile model\n",
        "\tmodel.compile(loss='categorical_crossentropy', optimizer='adam', metrics=['accuracy'])\n",
        "\treturn model\n"
      ],
      "execution_count": null,
      "outputs": []
    },
    {
      "cell_type": "code",
      "metadata": {
        "id": "0QPXNd7riozE"
      },
      "source": [
        ""
      ],
      "execution_count": null,
      "outputs": []
    }
  ]
}