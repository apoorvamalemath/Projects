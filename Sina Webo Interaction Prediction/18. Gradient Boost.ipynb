{
 "cells": [
  {
   "cell_type": "code",
   "execution_count": 1,
   "metadata": {},
   "outputs": [],
   "source": [
    "from sklearn.ensemble import GradientBoostingRegressor"
   ]
  },
  {
   "cell_type": "code",
   "execution_count": 2,
   "metadata": {},
   "outputs": [],
   "source": [
    "import pandas as pd\n",
    "import numpy as np\n",
    "from sklearn import linear_model\n",
    "from sklearn.model_selection import train_test_split\n",
    "from sklearn.metrics import accuracy_score\n",
    "from matplotlib import pyplot as plt\n",
    "import statsmodels.api as sm"
   ]
  },
  {
   "cell_type": "code",
   "execution_count": 19,
   "metadata": {},
   "outputs": [
    {
     "name": "stdout",
     "output_type": "stream",
     "text": [
      "importing Jupyter notebook from evaluation.ipynb\n",
      "importing Jupyter notebook from runTime.ipynb\n"
     ]
    }
   ],
   "source": [
    "import import_ipynb\n",
    "from evaluation import precision\n",
    "from runTime import runTime"
   ]
  },
  {
   "cell_type": "code",
   "execution_count": 3,
   "metadata": {},
   "outputs": [],
   "source": [
    "df1=pd.read_csv(\"E:\\\\5th-Sem\\\\DMA Project\\\\Project\\\\weibo_train1_cpts.csv\")\n",
    "df2=pd.read_csv(\"E:\\\\5th-Sem\\\\DMA Project\\\\Project\\\\weibo_train2_cpts.csv\")\n",
    "frames=[df1,df2]\n",
    "train_all=pd.concat(frames)"
   ]
  },
  {
   "cell_type": "code",
   "execution_count": 28,
   "metadata": {},
   "outputs": [
    {
     "data": {
      "text/plain": [
       "Index(['u_id', 'm_id', 'forward_count', 'comment_count', 'like_count',\n",
       "       'content', 'date', 'time', 'content_media_count', 'content_#_count',\n",
       "       'content_@_count', 'content_?_count', 'content_!_count',\n",
       "       'content_length', 'content_emoji_count', 'hour', 'min', 'sec',\n",
       "       'forward_min', 'forward_max', 'forward_median', 'forward_mean',\n",
       "       'comment_min', 'comment_max', 'comment_median', 'comment_mean',\n",
       "       'like_min', 'like_max', 'like_median', 'like_mean'],\n",
       "      dtype='object')"
      ]
     },
     "execution_count": 28,
     "metadata": {},
     "output_type": "execute_result"
    }
   ],
   "source": [
    "train_all.columns"
   ]
  },
  {
   "cell_type": "code",
   "execution_count": 21,
   "metadata": {},
   "outputs": [],
   "source": [
    "train=train_all[0:983694]\n",
    "cv=train_all[983695:1229618]"
   ]
  },
  {
   "cell_type": "code",
   "execution_count": 34,
   "metadata": {},
   "outputs": [],
   "source": [
    "X_train6=train[[\"content_media_count\",\"forward_median\",\"comment_median\",\"like_median\"]]\n",
    "X_test6= cv[[\"content_media_count\",\"forward_median\",\"comment_median\",\"like_median\"]]\n",
    "Y_train6=train[[\"forward_count\"]]\n",
    "Y_test6=cv[[\"forward_count\"]]\n"
   ]
  },
  {
   "cell_type": "code",
   "execution_count": 35,
   "metadata": {},
   "outputs": [
    {
     "name": "stderr",
     "output_type": "stream",
     "text": [
      "C:\\Users\\DELL\\Anaconda3\\lib\\site-packages\\sklearn\\utils\\validation.py:578: DataConversionWarning: A column-vector y was passed when a 1d array was expected. Please change the shape of y to (n_samples, ), for example using ravel().\n",
      "  y = column_or_1d(y, warn=True)\n"
     ]
    }
   ],
   "source": [
    "gbrt=GradientBoostingRegressor(n_estimators=100) \n",
    "gbrt.fit(X_train6, Y_train6) \n",
    "y_pred=gbrt.predict(X_test6)\n",
    "y_pred=y_pred.round()\n",
    "y_pred=(np.maximum(y_pred,0.))\n",
    "\n",
    "np.savetxt(\"E://DMA_PRE//weibo_predict_resultbow6.csv\",y_pred,delimiter=',',header=\"forward_count\",comments=\"\")\n",
    "result6=pd.read_csv(\"E://DMA_PRE//weibo_predict_resultbow6.csv\")\n",
    "result6=result6.abs()\n",
    "result6=result6.astype(int)\n"
   ]
  },
  {
   "cell_type": "code",
   "execution_count": 41,
   "metadata": {},
   "outputs": [
    {
     "name": "stderr",
     "output_type": "stream",
     "text": [
      "C:\\Users\\DELL\\Anaconda3\\lib\\site-packages\\sklearn\\utils\\validation.py:578: DataConversionWarning: A column-vector y was passed when a 1d array was expected. Please change the shape of y to (n_samples, ), for example using ravel().\n",
      "  y = column_or_1d(y, warn=True)\n"
     ]
    }
   ],
   "source": [
    "X_train7=train[[\"content_media_count\",\"forward_median\",\"comment_median\",\"like_median\"]]\n",
    "X_test7= cv[[\"content_media_count\",\"forward_median\",\"comment_median\",\"like_median\"]]\n",
    "Y_train7=train[[\"like_count\"]]\n",
    "Y_test7=cv[[\"like_count\"]]\n",
    "\n",
    "gbrt=GradientBoostingRegressor(n_estimators=100) \n",
    "gbrt.fit(X_train7, Y_train7) \n",
    "y_pred1=gbrt.predict(X_test7)\n",
    "y_pred1=y_pred1.round()\n",
    "y_pred1=(np.maximum(y_pred1,0.))\n",
    "\n",
    "np.savetxt(\"E://DMA_PRE//weibo_predict_resultbow7.csv\",y_pred1,delimiter=',',header=\"like_count\",comments=\"\")\n",
    "result7=pd.read_csv(\"E://DMA_PRE//weibo_predict_resultbow7.csv\")\n",
    "result7=result7.abs()\n",
    "result7=result7.astype(int)"
   ]
  },
  {
   "cell_type": "code",
   "execution_count": 39,
   "metadata": {},
   "outputs": [
    {
     "name": "stderr",
     "output_type": "stream",
     "text": [
      "C:\\Users\\DELL\\Anaconda3\\lib\\site-packages\\sklearn\\utils\\validation.py:578: DataConversionWarning: A column-vector y was passed when a 1d array was expected. Please change the shape of y to (n_samples, ), for example using ravel().\n",
      "  y = column_or_1d(y, warn=True)\n"
     ]
    }
   ],
   "source": [
    "X_train8=train[[\"content_media_count\",\"forward_median\",\"comment_median\",\"like_median\"]]\n",
    "X_test8= cv[[\"content_media_count\",\"forward_median\",\"comment_median\",\"like_median\"]]\n",
    "Y_train8=train[[\"comment_count\"]]\n",
    "Y_test8=cv[[\"comment_count\"]]\n",
    "\n",
    "gbrt=GradientBoostingRegressor(n_estimators=100) \n",
    "gbrt.fit(X_train8, Y_train8) \n",
    "y_pred2=gbrt.predict(X_test8)\n",
    "y_pred2=y_pred2.round()\n",
    "y_pred2=(np.maximum(y_pred2,0.))\n",
    "\n",
    "np.savetxt(\"E://DMA_PRE//weibo_predict_resultbow8.csv\",y_pred2,delimiter=',',header=\"comment_count\",comments=\"\")\n",
    "result8=pd.read_csv(\"E://DMA_PRE//weibo_predict_resultbow8.csv\")\n",
    "result8=result8.abs()\n",
    "result8=result8.astype(int)\n"
   ]
  },
  {
   "cell_type": "code",
   "execution_count": 42,
   "metadata": {},
   "outputs": [
    {
     "name": "stdout",
     "output_type": "stream",
     "text": [
      "Score on the training set:28.02%\n"
     ]
    }
   ],
   "source": [
    "train_real_pred = pd.concat([Y_test6,Y_test8,Y_test7],axis=1)\n",
    "train_real_pred['fp']=result6['forward_count'].values\n",
    "train_real_pred['cp']=result8['comment_count'].values\n",
    "train_real_pred['lp']=result7['like_count'].values\n",
    "train_real_pred=train_real_pred.round()\n",
    "print (\"Score on the training set:{0:.2f}%\".format(precision(train_real_pred.values)*100))"
   ]
  },
  {
   "cell_type": "code",
   "execution_count": null,
   "metadata": {},
   "outputs": [],
   "source": []
  },
  {
   "cell_type": "code",
   "execution_count": null,
   "metadata": {},
   "outputs": [],
   "source": []
  }
 ],
 "metadata": {
  "kernelspec": {
   "display_name": "Python 3",
   "language": "python",
   "name": "python3"
  },
  "language_info": {
   "codemirror_mode": {
    "name": "ipython",
    "version": 3
   },
   "file_extension": ".py",
   "mimetype": "text/x-python",
   "name": "python",
   "nbconvert_exporter": "python",
   "pygments_lexer": "ipython3",
   "version": "3.6.5"
  }
 },
 "nbformat": 4,
 "nbformat_minor": 2
}
