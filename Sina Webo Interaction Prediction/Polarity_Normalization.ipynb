{
 "cells": [
  {
   "cell_type": "code",
   "execution_count": 1,
   "metadata": {},
   "outputs": [],
   "source": [
    "import pandas as pd"
   ]
  },
  {
   "cell_type": "markdown",
   "metadata": {},
   "source": [
    "# Normalizing polarity over complete dataset"
   ]
  },
  {
   "cell_type": "code",
   "execution_count": 175,
   "metadata": {},
   "outputs": [],
   "source": [
    "p0=pd.read_csv(\"polarityL0.csv\")\n",
    "p1=pd.read_csv(\"polarityL1.csv\")\n",
    "p2=pd.read_csv(\"polarityL2.csv\")\n",
    "p3=pd.read_csv(\"polarityL3.csv\")\n",
    "p4=pd.read_csv(\"polarityL4.csv\")\n",
    "p5=pd.read_csv(\"polarityL5.csv\")\n",
    "p6=pd.read_csv(\"polarityL6.csv\")\n",
    "p7=pd.read_csv(\"polarityL7.csv\")\n",
    "p8=pd.read_csv(\"polarityL8.csv\")\n",
    "p9=pd.read_csv(\"polarityL9.csv\")\n",
    "p10=pd.read_csv(\"polarityL10.csv\")\n",
    "p11=pd.read_csv(\"polarityL11.csv\")"
   ]
  },
  {
   "cell_type": "code",
   "execution_count": 176,
   "metadata": {},
   "outputs": [],
   "source": [
    "frames1=[p0,p1,p2,p3,p4,p5,p6,p7,p8,p9,p10,p11]"
   ]
  },
  {
   "cell_type": "code",
   "execution_count": 177,
   "metadata": {},
   "outputs": [
    {
     "name": "stderr",
     "output_type": "stream",
     "text": [
      "/home/shashwat/anaconda3/lib/python3.6/site-packages/ipykernel_launcher.py:1: FutureWarning: Sorting because non-concatenation axis is not aligned. A future version\n",
      "of pandas will change to not sort by default.\n",
      "\n",
      "To accept the future behavior, pass 'sort=False'.\n",
      "\n",
      "To retain the current behavior and silence the warning, pass 'sort=True'.\n",
      "\n",
      "  \"\"\"Entry point for launching an IPython kernel.\n"
     ]
    }
   ],
   "source": [
    "polarity=pd.concat(frames1)"
   ]
  },
  {
   "cell_type": "code",
   "execution_count": 178,
   "metadata": {},
   "outputs": [
    {
     "data": {
      "text/plain": [
       "1223517"
      ]
     },
     "execution_count": 178,
     "metadata": {},
     "output_type": "execute_result"
    }
   ],
   "source": [
    "polarity.shape[0]"
   ]
  },
  {
   "cell_type": "code",
   "execution_count": 179,
   "metadata": {},
   "outputs": [],
   "source": [
    "preprocess1=pd.read_csv(\"preprocessed_1.csv\")"
   ]
  },
  {
   "cell_type": "code",
   "execution_count": 180,
   "metadata": {},
   "outputs": [],
   "source": [
    "preprocess2=pd.read_csv(\"preprocessed_2.csv\")"
   ]
  },
  {
   "cell_type": "code",
   "execution_count": 181,
   "metadata": {},
   "outputs": [],
   "source": [
    "frames=[preprocess1,preprocess2]"
   ]
  },
  {
   "cell_type": "code",
   "execution_count": 182,
   "metadata": {},
   "outputs": [],
   "source": [
    "train=pd.concat(frames)"
   ]
  },
  {
   "cell_type": "code",
   "execution_count": 183,
   "metadata": {},
   "outputs": [
    {
     "data": {
      "text/plain": [
       "1223517"
      ]
     },
     "execution_count": 183,
     "metadata": {},
     "output_type": "execute_result"
    }
   ],
   "source": [
    "train.shape[0]"
   ]
  },
  {
   "cell_type": "code",
   "execution_count": 187,
   "metadata": {},
   "outputs": [],
   "source": [
    "train=train.reset_index()"
   ]
  },
  {
   "cell_type": "code",
   "execution_count": 188,
   "metadata": {},
   "outputs": [
    {
     "data": {
      "text/plain": [
       "1223517"
      ]
     },
     "execution_count": 188,
     "metadata": {},
     "output_type": "execute_result"
    }
   ],
   "source": [
    "polarity.shape[0]"
   ]
  },
  {
   "cell_type": "code",
   "execution_count": 197,
   "metadata": {},
   "outputs": [],
   "source": [
    "res=pd.merge(polarity, train,left_index=True, right_index=True)"
   ]
  },
  {
   "cell_type": "code",
   "execution_count": 198,
   "metadata": {},
   "outputs": [
    {
     "data": {
      "text/plain": [
       "1223517"
      ]
     },
     "execution_count": 198,
     "metadata": {},
     "output_type": "execute_result"
    }
   ],
   "source": [
    "res.shape[0]"
   ]
  },
  {
   "cell_type": "code",
   "execution_count": 202,
   "metadata": {},
   "outputs": [],
   "source": [
    "res=res.rename(columns={'u_id_x':'u_id'})"
   ]
  },
  {
   "cell_type": "code",
   "execution_count": 203,
   "metadata": {},
   "outputs": [],
   "source": [
    "uid_stat=pd.read_csv(\"train_uid_stat.csv\")"
   ]
  },
  {
   "cell_type": "code",
   "execution_count": 204,
   "metadata": {},
   "outputs": [
    {
     "data": {
      "text/plain": [
       "484419"
      ]
     },
     "execution_count": 204,
     "metadata": {},
     "output_type": "execute_result"
    }
   ],
   "source": [
    "uid_stat.size"
   ]
  },
  {
   "cell_type": "code",
   "execution_count": 205,
   "metadata": {},
   "outputs": [],
   "source": [
    "dfmerge=pd.merge(res,uid_stat, on=['u_id'],how='left')"
   ]
  },
  {
   "cell_type": "code",
   "execution_count": 206,
   "metadata": {},
   "outputs": [
    {
     "data": {
      "text/plain": [
       "Index(['Stemming', 'Stemmingle', 'Stopword_removed', 'Stopwrod_removed',\n",
       "       'Unnamed: 0', 'Unnamed: 1_x', 'comment_count_x', 'content_x',\n",
       "       'content_media_count_x', 'content_spchar_x', 'date_x', 'en_content_x',\n",
       "       'en_contentst', 'en_contenturl', 'forward_count_x', 'lemmatization',\n",
       "       'lemmatizationtl', 'lemmatizationtlp', 'like_count_x', 'lower',\n",
       "       'm_id_x', 'no_num', 'no_num.1', 'no_punc', 'non_emoji_content_x',\n",
       "       'polarity', 'time_x', 'u_id', 'url_rem', 'url_rem.1', 'index', 'u_id_y',\n",
       "       'm_id_y', 'forward_count_y', 'comment_count_y', 'like_count_y',\n",
       "       'content_y', 'date_y', 'time_y', 'content_media_count_y',\n",
       "       'content_spchar_y', 'non_emoji_content_y', 'en_content_y',\n",
       "       'Unnamed: 1_y', 'forward_min', 'forward_max', 'forward_median',\n",
       "       'forward_mean', 'comment_min', 'comment_max', 'comment_median',\n",
       "       'comment_mean', 'like_min', 'like_max', 'like_median', 'like_mean'],\n",
       "      dtype='object')"
      ]
     },
     "execution_count": 206,
     "metadata": {},
     "output_type": "execute_result"
    }
   ],
   "source": [
    "dfmerge.columns"
   ]
  },
  {
   "cell_type": "code",
   "execution_count": 207,
   "metadata": {},
   "outputs": [
    {
     "data": {
      "text/plain": [
       "1223517"
      ]
     },
     "execution_count": 207,
     "metadata": {},
     "output_type": "execute_result"
    }
   ],
   "source": [
    "dfmerge.shape[0]"
   ]
  },
  {
   "cell_type": "code",
   "execution_count": 208,
   "metadata": {},
   "outputs": [
    {
     "data": {
      "text/plain": [
       "Index(['Stemming', 'Stemmingle', 'Stopword_removed', 'Stopwrod_removed',\n",
       "       'Unnamed: 0', 'Unnamed: 1_x', 'comment_count_x', 'content_x',\n",
       "       'content_media_count_x', 'content_spchar_x', 'date_x', 'en_content_x',\n",
       "       'en_contentst', 'en_contenturl', 'forward_count_x', 'lemmatization',\n",
       "       'lemmatizationtl', 'lemmatizationtlp', 'like_count_x', 'lower',\n",
       "       'm_id_x', 'no_num', 'no_num.1', 'no_punc', 'non_emoji_content_x',\n",
       "       'polarity', 'time_x', 'u_id', 'url_rem', 'url_rem.1', 'index', 'u_id_y',\n",
       "       'm_id_y', 'forward_count_y', 'comment_count_y', 'like_count_y',\n",
       "       'content_y', 'date_y', 'time_y', 'content_media_count_y',\n",
       "       'content_spchar_y', 'non_emoji_content_y', 'en_content_y',\n",
       "       'Unnamed: 1_y', 'forward_min', 'forward_max', 'forward_median',\n",
       "       'forward_mean', 'comment_min', 'comment_max', 'comment_median',\n",
       "       'comment_mean', 'like_min', 'like_max', 'like_median', 'like_mean'],\n",
       "      dtype='object')"
      ]
     },
     "execution_count": 208,
     "metadata": {},
     "output_type": "execute_result"
    }
   ],
   "source": [
    "dfmerge.columns"
   ]
  },
  {
   "cell_type": "code",
   "execution_count": null,
   "metadata": {},
   "outputs": [],
   "source": [
    "dfmerge=dfmerge.drop(['Unnamed: 1_x','Unnamed: 0','lemmatizationtlp'],axis=1)"
   ]
  },
  {
   "cell_type": "code",
   "execution_count": 211,
   "metadata": {},
   "outputs": [],
   "source": [
    "import pandas as pd\n",
    "import numpy as np\n",
    "import re\n",
    "from sklearn import linear_model\n",
    "from sklearn.linear_model import Lasso\n",
    "from sklearn.model_selection import train_test_split\n",
    "from sklearn.metrics import mean_squared_error\n",
    "from matplotlib import pyplot as plt\n",
    "#from textblob import TextBlob\n",
    "import statsmodels.api as sm\n",
    "import import_ipynb\n",
    "from evaluation import precision\n",
    "from runTime import runTime"
   ]
  },
  {
   "cell_type": "code",
   "execution_count": 212,
   "metadata": {},
   "outputs": [],
   "source": [
    "import sklearn"
   ]
  },
  {
   "cell_type": "code",
   "execution_count": 213,
   "metadata": {},
   "outputs": [],
   "source": [
    "df1=dfmerge"
   ]
  },
  {
   "cell_type": "code",
   "execution_count": 214,
   "metadata": {},
   "outputs": [],
   "source": [
    "def normalize(df):\n",
    "    result = df.copy()\n",
    "    for feature_name in df.columns:\n",
    "        \n",
    "        result[feature_name] = (df[feature_name] - min_value) / (max_value - min_value)\n",
    "    return result"
   ]
  },
  {
   "cell_type": "code",
   "execution_count": 215,
   "metadata": {},
   "outputs": [],
   "source": [
    "max_value = df1['polarity'].max()\n",
    "min_value = df1['polarity'].min()\n",
    "df1['pnorm'] = (df1['polarity'] - min_value) / (max_value - min_value)"
   ]
  },
  {
   "cell_type": "code",
   "execution_count": 216,
   "metadata": {},
   "outputs": [],
   "source": [
    "df1 = sklearn.utils.shuffle(df1)"
   ]
  },
  {
   "cell_type": "code",
   "execution_count": 217,
   "metadata": {},
   "outputs": [],
   "source": [
    "df1=df1.fillna(0)"
   ]
  },
  {
   "cell_type": "code",
   "execution_count": 218,
   "metadata": {},
   "outputs": [],
   "source": [
    "train=df1[0:110000]\n",
    "predict=df1[110000:]"
   ]
  },
  {
   "cell_type": "code",
   "execution_count": 221,
   "metadata": {},
   "outputs": [],
   "source": [
    "from sklearn.ensemble import RandomForestRegressor\n",
    "features_train=train[['content_media_count_y','pnorm','forward_min', 'forward_max', 'forward_median', 'forward_mean',\n",
    "       'comment_min', 'comment_max', 'comment_median', 'comment_mean',\n",
    "       'like_min', 'like_max', 'like_median', 'like_mean']]\n",
    "features_test=predict[['content_media_count_y','pnorm','forward_min', 'forward_max', 'forward_median', 'forward_mean',\n",
    "       'comment_min', 'comment_max', 'comment_median', 'comment_mean',\n",
    "       'like_min', 'like_max', 'like_median', 'like_mean']]\n",
    "labels_train=train[['forward_count_x', 'comment_count_x', 'like_count_x']]\n",
    "labels_test=predict[['forward_count_x', 'comment_count_x', 'like_count_x']]\n",
    "\n",
    "x = features_train\n",
    "y = labels_train\n",
    "x1 = features_test\n",
    "y1 = labels_test"
   ]
  },
  {
   "cell_type": "code",
   "execution_count": 222,
   "metadata": {},
   "outputs": [],
   "source": [
    "\n",
    "\n",
    "regr = RandomForestRegressor(max_depth=50, random_state=0,n_estimators=100)\n",
    "regr.fit(x, y)\n",
    "pred2 = regr.predict(x1)\n",
    "temp = pd.DataFrame.from_records(pred2)\n",
    "temp=temp.round()\n",
    "temp=(np.maximum(temp,0))\n",
    "temp=temp.abs()\n",
    "temp=temp.astype(int)"
   ]
  },
  {
   "cell_type": "code",
   "execution_count": 223,
   "metadata": {},
   "outputs": [
    {
     "name": "stderr",
     "output_type": "stream",
     "text": [
      "/home/shashwat/anaconda3/lib/python3.6/site-packages/ipykernel_launcher.py:2: SettingWithCopyWarning: \n",
      "A value is trying to be set on a copy of a slice from a DataFrame.\n",
      "Try using .loc[row_indexer,col_indexer] = value instead\n",
      "\n",
      "See the caveats in the documentation: http://pandas.pydata.org/pandas-docs/stable/indexing.html#indexing-view-versus-copy\n",
      "  \n",
      "/home/shashwat/anaconda3/lib/python3.6/site-packages/ipykernel_launcher.py:3: SettingWithCopyWarning: \n",
      "A value is trying to be set on a copy of a slice from a DataFrame.\n",
      "Try using .loc[row_indexer,col_indexer] = value instead\n",
      "\n",
      "See the caveats in the documentation: http://pandas.pydata.org/pandas-docs/stable/indexing.html#indexing-view-versus-copy\n",
      "  This is separate from the ipykernel package so we can avoid doing imports until\n",
      "/home/shashwat/anaconda3/lib/python3.6/site-packages/ipykernel_launcher.py:4: SettingWithCopyWarning: \n",
      "A value is trying to be set on a copy of a slice from a DataFrame.\n",
      "Try using .loc[row_indexer,col_indexer] = value instead\n",
      "\n",
      "See the caveats in the documentation: http://pandas.pydata.org/pandas-docs/stable/indexing.html#indexing-view-versus-copy\n",
      "  after removing the cwd from sys.path.\n"
     ]
    },
    {
     "name": "stdout",
     "output_type": "stream",
     "text": [
      "Score:78.98%\n"
     ]
    }
   ],
   "source": [
    "train_real_pred=y1\n",
    "train_real_pred['fp']=temp[0].values\n",
    "train_real_pred['cp']=temp[1].values\n",
    "train_real_pred['lp']=temp[2].values\n",
    "print(\"Score:{0:.2f}%\".format(precision(train_real_pred.values)*100))"
   ]
  },
  {
   "cell_type": "markdown",
   "metadata": {},
   "source": [
    "# Predicting for the test data and generating submission file"
   ]
  },
  {
   "cell_type": "code",
   "execution_count": 224,
   "metadata": {},
   "outputs": [],
   "source": [
    "pred1=pd.read_csv(\"weibo_predict_cpts.csv\")"
   ]
  },
  {
   "cell_type": "code",
   "execution_count": 225,
   "metadata": {},
   "outputs": [],
   "source": [
    "p=pd.read_csv(\"polarity_pred.csv\")"
   ]
  },
  {
   "cell_type": "code",
   "execution_count": 226,
   "metadata": {},
   "outputs": [
    {
     "data": {
      "text/plain": [
       "123517"
      ]
     },
     "execution_count": 226,
     "metadata": {},
     "output_type": "execute_result"
    }
   ],
   "source": [
    "p.shape[0]"
   ]
  },
  {
   "cell_type": "code",
   "execution_count": 227,
   "metadata": {},
   "outputs": [],
   "source": [
    "res=pd.merge(p, pred1,left_index=True, right_index=True)"
   ]
  },
  {
   "cell_type": "code",
   "execution_count": 228,
   "metadata": {},
   "outputs": [
    {
     "data": {
      "text/plain": [
       "123517"
      ]
     },
     "execution_count": 228,
     "metadata": {},
     "output_type": "execute_result"
    }
   ],
   "source": [
    "res.shape[0]"
   ]
  },
  {
   "cell_type": "code",
   "execution_count": 229,
   "metadata": {},
   "outputs": [],
   "source": [
    "predict=res"
   ]
  },
  {
   "cell_type": "code",
   "execution_count": 230,
   "metadata": {},
   "outputs": [
    {
     "data": {
      "text/plain": [
       "123517"
      ]
     },
     "execution_count": 230,
     "metadata": {},
     "output_type": "execute_result"
    }
   ],
   "source": [
    "predict.shape[0]"
   ]
  },
  {
   "cell_type": "code",
   "execution_count": 232,
   "metadata": {},
   "outputs": [],
   "source": [
    "train=df1"
   ]
  },
  {
   "cell_type": "code",
   "execution_count": 233,
   "metadata": {},
   "outputs": [
    {
     "data": {
      "text/plain": [
       "1223517"
      ]
     },
     "execution_count": 233,
     "metadata": {},
     "output_type": "execute_result"
    }
   ],
   "source": [
    "train.shape[0]"
   ]
  },
  {
   "cell_type": "code",
   "execution_count": 234,
   "metadata": {},
   "outputs": [
    {
     "data": {
      "text/plain": [
       "Index(['Stemming', 'Stemmingle', 'Stopword_removed', 'Stopwrod_removed',\n",
       "       'Unnamed: 0', 'Unnamed: 1_x', 'comment_count_x', 'content_x',\n",
       "       'content_media_count_x', 'content_spchar_x', 'date_x', 'en_content_x',\n",
       "       'en_contentst', 'en_contenturl', 'forward_count_x', 'lemmatization',\n",
       "       'lemmatizationtl', 'lemmatizationtlp', 'like_count_x', 'lower',\n",
       "       'm_id_x', 'no_num', 'no_num.1', 'no_punc', 'non_emoji_content_x',\n",
       "       'polarity', 'time_x', 'u_id', 'url_rem', 'url_rem.1', 'index', 'u_id_y',\n",
       "       'm_id_y', 'forward_count_y', 'comment_count_y', 'like_count_y',\n",
       "       'content_y', 'date_y', 'time_y', 'content_media_count_y',\n",
       "       'content_spchar_y', 'non_emoji_content_y', 'en_content_y',\n",
       "       'Unnamed: 1_y', 'forward_min', 'forward_max', 'forward_median',\n",
       "       'forward_mean', 'comment_min', 'comment_max', 'comment_median',\n",
       "       'comment_mean', 'like_min', 'like_max', 'like_median', 'like_mean',\n",
       "       'pnorm'],\n",
       "      dtype='object')"
      ]
     },
     "execution_count": 234,
     "metadata": {},
     "output_type": "execute_result"
    }
   ],
   "source": [
    "train.columns"
   ]
  },
  {
   "cell_type": "code",
   "execution_count": 199,
   "metadata": {},
   "outputs": [],
   "source": [
    "#pred2.shape[0]"
   ]
  },
  {
   "cell_type": "code",
   "execution_count": 235,
   "metadata": {},
   "outputs": [],
   "source": [
    "predict=predict.fillna(0)"
   ]
  },
  {
   "cell_type": "code",
   "execution_count": 243,
   "metadata": {},
   "outputs": [],
   "source": [
    "max_value = predict['polarity'].max()\n",
    "min_value = predict['polarity'].min()\n",
    "predict['pnorm'] = (predict['polarity'] - min_value) / (max_value - min_value)"
   ]
  },
  {
   "cell_type": "code",
   "execution_count": 244,
   "metadata": {},
   "outputs": [],
   "source": [
    "predict['forward_count']=0\n",
    "predict['comment_count']=0\n",
    "predict['like_count']=0"
   ]
  },
  {
   "cell_type": "code",
   "execution_count": 245,
   "metadata": {},
   "outputs": [
    {
     "data": {
      "text/plain": [
       "Index(['Unnamed: 0', 'lemmatizationtlp', 'no_punc', 'polarity', 'u_id', 'm_id',\n",
       "       'content', 'date', 'time', 'content_media_count', 'content_#_count',\n",
       "       'content_@_count', 'content_?_count', 'content_!_count',\n",
       "       'content_length', 'content_emoji_count', 'hour', 'min', 'sec',\n",
       "       'forward_min', 'forward_max', 'forward_median', 'forward_mean',\n",
       "       'comment_min', 'comment_max', 'comment_median', 'comment_mean',\n",
       "       'like_min', 'like_max', 'like_median', 'like_mean', 'forward_count',\n",
       "       'comment_count', 'like_count', 'pnorm'],\n",
       "      dtype='object')"
      ]
     },
     "execution_count": 245,
     "metadata": {},
     "output_type": "execute_result"
    }
   ],
   "source": [
    "predict.columns"
   ]
  },
  {
   "cell_type": "code",
   "execution_count": 246,
   "metadata": {},
   "outputs": [],
   "source": [
    "from sklearn.ensemble import RandomForestRegressor\n",
    "features_train=train[['content_media_count_y','pnorm','forward_min', 'forward_max', 'forward_median', 'forward_mean',\n",
    "       'comment_min', 'comment_max', 'comment_median', 'comment_mean',\n",
    "       'like_min', 'like_max', 'like_median', 'like_mean']]\n",
    "features_test=predict[['content_media_count','pnorm','forward_min', 'forward_max', 'forward_median', 'forward_mean',\n",
    "       'comment_min', 'comment_max', 'comment_median', 'comment_mean',\n",
    "       'like_min', 'like_max', 'like_median', 'like_mean']]\n",
    "labels_train=train[['forward_count_x', 'comment_count_x', 'like_count_x']]\n",
    "labels_test=predict[['forward_count', 'comment_count', 'like_count']]\n",
    "\n",
    "x = features_train\n",
    "y = labels_train\n",
    "x1 = features_test\n",
    "y1 = labels_test"
   ]
  },
  {
   "cell_type": "code",
   "execution_count": 247,
   "metadata": {},
   "outputs": [],
   "source": [
    "regr = RandomForestRegressor(max_depth=50, random_state=0,n_estimators=100)\n",
    "regr.fit(x, y)\n",
    "pred2 = regr.predict(x1)\n",
    "temp = pd.DataFrame.from_records(pred2)\n",
    "temp=temp.round()\n",
    "temp=(np.maximum(temp,0))\n",
    "temp=temp.abs()\n",
    "temp=temp.astype(int)\n"
   ]
  },
  {
   "cell_type": "code",
   "execution_count": 248,
   "metadata": {},
   "outputs": [],
   "source": [
    "predict['forward_count']=temp[0].values\n",
    "predict['comment_count']=temp[1].values\n",
    "predict['like_count']=temp[2].values"
   ]
  },
  {
   "cell_type": "code",
   "execution_count": 249,
   "metadata": {},
   "outputs": [],
   "source": [
    "predictf=predict[['u_id','m_id','forward_count','comment_count','like_count']].copy()"
   ]
  },
  {
   "cell_type": "code",
   "execution_count": 250,
   "metadata": {},
   "outputs": [
    {
     "name": "stdout",
     "output_type": "stream",
     "text": [
      "generate submission file\n"
     ]
    }
   ],
   "source": [
    "result = []\n",
    "filename = \"SUBMISSION_POLARITY.txt\"\n",
    "#predictf1=predictf.head(10000) \n",
    "for _,row in predictf.iterrows():\n",
    "    result.append(\"{0}\\t{1}\\t{2},{3},{4}\\n\".format(row[0],row[1],row[2],row[3],row[4]))\n",
    "f = open(filename,'w')\n",
    "f.writelines(result)\n",
    "f.close()\n",
    "print ('generate submission file'.format(filename))"
   ]
  },
  {
   "cell_type": "code",
   "execution_count": null,
   "metadata": {},
   "outputs": [],
   "source": []
  }
 ],
 "metadata": {
  "kernelspec": {
   "display_name": "Python 3",
   "language": "python",
   "name": "python3"
  },
  "language_info": {
   "codemirror_mode": {
    "name": "ipython",
    "version": 3
   },
   "file_extension": ".py",
   "mimetype": "text/x-python",
   "name": "python",
   "nbconvert_exporter": "python",
   "pygments_lexer": "ipython3",
   "version": "3.6.5"
  }
 },
 "nbformat": 4,
 "nbformat_minor": 2
}
