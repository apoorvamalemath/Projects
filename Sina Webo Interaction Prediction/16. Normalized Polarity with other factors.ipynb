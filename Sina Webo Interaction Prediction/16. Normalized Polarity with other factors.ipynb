{
 "cells": [
  {
   "cell_type": "code",
   "execution_count": 2,
   "metadata": {},
   "outputs": [
    {
     "name": "stdout",
     "output_type": "stream",
     "text": [
      "importing Jupyter notebook from evaluation.ipynb\n",
      "importing Jupyter notebook from runTime.ipynb\n"
     ]
    }
   ],
   "source": [
    "import pandas as pd\n",
    "import numpy as np\n",
    "import re\n",
    "from sklearn import linear_model\n",
    "from sklearn.linear_model import Lasso\n",
    "from sklearn.model_selection import train_test_split\n",
    "from sklearn.metrics import mean_squared_error\n",
    "from matplotlib import pyplot as plt\n",
    "from textblob import TextBlob\n",
    "import statsmodels.api as sm\n",
    "import import_ipynb\n",
    "from evaluation import precision\n",
    "from runTime import runTime"
   ]
  },
  {
   "cell_type": "code",
   "execution_count": 3,
   "metadata": {},
   "outputs": [],
   "source": [
    "import sklearn"
   ]
  },
  {
   "cell_type": "code",
   "execution_count": 4,
   "metadata": {},
   "outputs": [],
   "source": [
    "df1=pd.read_csv(\"E://DMA_PRED//polarityL1.csv\")"
   ]
  },
  {
   "cell_type": "code",
   "execution_count": 5,
   "metadata": {},
   "outputs": [
    {
     "data": {
      "text/plain": [
       "Index(['Unnamed: 0', 'u_id', 'm_id', 'forward_count', 'comment_count',\n",
       "       'like_count', 'content', 'date', 'time', 'content_media_count',\n",
       "       'content_spchar', 'non_emoji_content', 'en_content', 'Unnamed: 1',\n",
       "       'en_contenturl', 'url_rem', 'no_num', 'Stopwrod_removed',\n",
       "       'Stopword_removed', 'en_contentst', 'Stemming', 'Stemmingle',\n",
       "       'lemmatization', 'lemmatizationtl', 'lower', 'url_rem.1', 'no_num.1',\n",
       "       'lemmatizationtlp', 'no_punc', 'polarity'],\n",
       "      dtype='object')"
      ]
     },
     "execution_count": 5,
     "metadata": {},
     "output_type": "execute_result"
    }
   ],
   "source": [
    "df1.columns"
   ]
  },
  {
   "cell_type": "code",
   "execution_count": 6,
   "metadata": {},
   "outputs": [],
   "source": [
    "def normalize(df):\n",
    "    result = df.copy()\n",
    "    for feature_name in df.columns:\n",
    "        \n",
    "        result[feature_name] = (df[feature_name] - min_value) / (max_value - min_value)\n",
    "    return result"
   ]
  },
  {
   "cell_type": "code",
   "execution_count": 7,
   "metadata": {},
   "outputs": [],
   "source": [
    "max_value = df1['polarity'].max()\n",
    "min_value = df1['polarity'].min()\n",
    "df1['pnorm'] = (df1['polarity'] - min_value) / (max_value - min_value)"
   ]
  },
  {
   "cell_type": "code",
   "execution_count": 8,
   "metadata": {},
   "outputs": [],
   "source": [
    "df=df1.drop(['Unnamed: 0'], axis=1)"
   ]
  },
  {
   "cell_type": "code",
   "execution_count": 9,
   "metadata": {},
   "outputs": [],
   "source": [
    "df = sklearn.utils.shuffle(df)"
   ]
  },
  {
   "cell_type": "code",
   "execution_count": 10,
   "metadata": {},
   "outputs": [],
   "source": [
    "uid_stat=pd.read_csv(\"E:\\\\DMA_PRE\\\\train_uid_stat.csv\")"
   ]
  },
  {
   "cell_type": "code",
   "execution_count": 11,
   "metadata": {},
   "outputs": [],
   "source": [
    "df = pd.merge(df,uid_stat , on=['u_id'])"
   ]
  },
  {
   "cell_type": "code",
   "execution_count": 12,
   "metadata": {},
   "outputs": [
    {
     "data": {
      "text/plain": [
       "Index(['u_id', 'm_id', 'forward_count', 'comment_count', 'like_count',\n",
       "       'content', 'date', 'time', 'content_media_count', 'content_spchar',\n",
       "       'non_emoji_content', 'en_content', 'Unnamed: 1', 'en_contenturl',\n",
       "       'url_rem', 'no_num', 'Stopwrod_removed', 'Stopword_removed',\n",
       "       'en_contentst', 'Stemming', 'Stemmingle', 'lemmatization',\n",
       "       'lemmatizationtl', 'lower', 'url_rem.1', 'no_num.1', 'lemmatizationtlp',\n",
       "       'no_punc', 'polarity', 'pnorm', 'forward_min', 'forward_max',\n",
       "       'forward_median', 'forward_mean', 'comment_min', 'comment_max',\n",
       "       'comment_median', 'comment_mean', 'like_min', 'like_max', 'like_median',\n",
       "       'like_mean'],\n",
       "      dtype='object')"
      ]
     },
     "execution_count": 12,
     "metadata": {},
     "output_type": "execute_result"
    }
   ],
   "source": [
    "df.columns"
   ]
  },
  {
   "cell_type": "code",
   "execution_count": 13,
   "metadata": {},
   "outputs": [],
   "source": [
    "train=df[0:80000]\n",
    "predict=df[80001:100000]"
   ]
  },
  {
   "cell_type": "code",
   "execution_count": 14,
   "metadata": {},
   "outputs": [],
   "source": [
    "from sklearn.ensemble import RandomForestRegressor\n",
    "features_train=train[['content_media_count','pnorm','forward_min', 'forward_max', 'forward_median', 'forward_mean',\n",
    "       'comment_min', 'comment_max', 'comment_median', 'comment_mean',\n",
    "       'like_min', 'like_max', 'like_median', 'like_mean']]\n",
    "features_test=predict[['content_media_count','pnorm','forward_min', 'forward_max', 'forward_median', 'forward_mean',\n",
    "       'comment_min', 'comment_max', 'comment_median', 'comment_mean',\n",
    "       'like_min', 'like_max', 'like_median', 'like_mean']]\n",
    "labels_train=train[['forward_count', 'comment_count', 'like_count']]\n",
    "labels_test=predict[['forward_count', 'comment_count', 'like_count']]\n",
    "\n",
    "x = features_train\n",
    "y = labels_train\n",
    "x1 = features_test\n",
    "y1 = labels_test"
   ]
  },
  {
   "cell_type": "code",
   "execution_count": 15,
   "metadata": {},
   "outputs": [],
   "source": [
    "regr = RandomForestRegressor(max_depth=50, random_state=0,n_estimators=100)\n",
    "regr.fit(x, y)\n",
    "pred2 = regr.predict(x1)\n",
    "temp = pd.DataFrame.from_records(pred2)\n",
    "temp=temp.round()\n",
    "temp=(np.maximum(temp,0))\n",
    "temp=temp.abs()\n",
    "temp=temp.astype(int)"
   ]
  },
  {
   "cell_type": "code",
   "execution_count": 16,
   "metadata": {},
   "outputs": [
    {
     "name": "stdout",
     "output_type": "stream",
     "text": [
      "Score:49.03%\n"
     ]
    },
    {
     "name": "stderr",
     "output_type": "stream",
     "text": [
      "C:\\Users\\DELL\\Anaconda3\\lib\\site-packages\\ipykernel_launcher.py:2: SettingWithCopyWarning: \n",
      "A value is trying to be set on a copy of a slice from a DataFrame.\n",
      "Try using .loc[row_indexer,col_indexer] = value instead\n",
      "\n",
      "See the caveats in the documentation: http://pandas.pydata.org/pandas-docs/stable/indexing.html#indexing-view-versus-copy\n",
      "  \n",
      "C:\\Users\\DELL\\Anaconda3\\lib\\site-packages\\ipykernel_launcher.py:3: SettingWithCopyWarning: \n",
      "A value is trying to be set on a copy of a slice from a DataFrame.\n",
      "Try using .loc[row_indexer,col_indexer] = value instead\n",
      "\n",
      "See the caveats in the documentation: http://pandas.pydata.org/pandas-docs/stable/indexing.html#indexing-view-versus-copy\n",
      "  This is separate from the ipykernel package so we can avoid doing imports until\n",
      "C:\\Users\\DELL\\Anaconda3\\lib\\site-packages\\ipykernel_launcher.py:4: SettingWithCopyWarning: \n",
      "A value is trying to be set on a copy of a slice from a DataFrame.\n",
      "Try using .loc[row_indexer,col_indexer] = value instead\n",
      "\n",
      "See the caveats in the documentation: http://pandas.pydata.org/pandas-docs/stable/indexing.html#indexing-view-versus-copy\n",
      "  after removing the cwd from sys.path.\n"
     ]
    }
   ],
   "source": [
    "train_real_pred=y1\n",
    "train_real_pred['fp']=temp[0].values\n",
    "train_real_pred['cp']=temp[1].values\n",
    "train_real_pred['lp']=temp[2].values\n",
    "print(\"Score:{0:.2f}%\".format(precision(train_real_pred.values)*100))"
   ]
  },
  {
   "cell_type": "code",
   "execution_count": 17,
   "metadata": {},
   "outputs": [],
   "source": [
    "lm=linear_model.LinearRegression()\n",
    "model=lm.fit(x,y)\n",
    "pred1=lm.predict(x1)"
   ]
  },
  {
   "cell_type": "code",
   "execution_count": 19,
   "metadata": {},
   "outputs": [
    {
     "name": "stdout",
     "output_type": "stream",
     "text": [
      "Score:39.80%\n"
     ]
    },
    {
     "name": "stderr",
     "output_type": "stream",
     "text": [
      "C:\\Users\\DELL\\Anaconda3\\lib\\site-packages\\ipykernel_launcher.py:5: SettingWithCopyWarning: \n",
      "A value is trying to be set on a copy of a slice from a DataFrame.\n",
      "Try using .loc[row_indexer,col_indexer] = value instead\n",
      "\n",
      "See the caveats in the documentation: http://pandas.pydata.org/pandas-docs/stable/indexing.html#indexing-view-versus-copy\n",
      "  \"\"\"\n",
      "C:\\Users\\DELL\\Anaconda3\\lib\\site-packages\\ipykernel_launcher.py:6: SettingWithCopyWarning: \n",
      "A value is trying to be set on a copy of a slice from a DataFrame.\n",
      "Try using .loc[row_indexer,col_indexer] = value instead\n",
      "\n",
      "See the caveats in the documentation: http://pandas.pydata.org/pandas-docs/stable/indexing.html#indexing-view-versus-copy\n",
      "  \n",
      "C:\\Users\\DELL\\Anaconda3\\lib\\site-packages\\ipykernel_launcher.py:7: SettingWithCopyWarning: \n",
      "A value is trying to be set on a copy of a slice from a DataFrame.\n",
      "Try using .loc[row_indexer,col_indexer] = value instead\n",
      "\n",
      "See the caveats in the documentation: http://pandas.pydata.org/pandas-docs/stable/indexing.html#indexing-view-versus-copy\n",
      "  import sys\n"
     ]
    }
   ],
   "source": [
    "temp = pd.DataFrame.from_records(pred1)\n",
    "temp=temp.round()\n",
    "temp=(np.maximum(temp,0))\n",
    "train_real_pred=y1\n",
    "train_real_pred['fp']=temp[0].values\n",
    "train_real_pred['cp']=temp[1].values\n",
    "train_real_pred['lp']=temp[2].values\n",
    "print(\"Score:{0:.2f}%\".format(precision(train_real_pred.values)*100))"
   ]
  },
  {
   "cell_type": "code",
   "execution_count": null,
   "metadata": {},
   "outputs": [],
   "source": []
  }
 ],
 "metadata": {
  "kernelspec": {
   "display_name": "Python 3",
   "language": "python",
   "name": "python3"
  },
  "language_info": {
   "codemirror_mode": {
    "name": "ipython",
    "version": 3
   },
   "file_extension": ".py",
   "mimetype": "text/x-python",
   "name": "python",
   "nbconvert_exporter": "python",
   "pygments_lexer": "ipython3",
   "version": "3.6.5"
  }
 },
 "nbformat": 4,
 "nbformat_minor": 2
}
