{
 "cells": [
  {
   "cell_type": "code",
   "execution_count": 2,
   "metadata": {},
   "outputs": [],
   "source": [
    "def runTime(func):\n",
    "\tdef wrapper(*args,**kwargs):\n",
    "\t\timport time\n",
    "\t\tt1 = time.time()\n",
    "\t\tfunc(*args,**kwargs)\n",
    "\t\tt2 = time.time()\n",
    "\t\tprint (\"{0} run time: {1:.2f}s\".format(func.__name__,t2-t1))\n",
    "\treturn wrapper\n"
   ]
  },
  {
   "cell_type": "code",
   "execution_count": null,
   "metadata": {},
   "outputs": [],
   "source": []
  }
 ],
 "metadata": {
  "kernelspec": {
   "display_name": "Python 3",
   "language": "python",
   "name": "python3"
  },
  "language_info": {
   "codemirror_mode": {
    "name": "ipython",
    "version": 3
   },
   "file_extension": ".py",
   "mimetype": "text/x-python",
   "name": "python",
   "nbconvert_exporter": "python",
   "pygments_lexer": "ipython3",
   "version": "3.6.5"
  }
 },
 "nbformat": 4,
 "nbformat_minor": 2
}
