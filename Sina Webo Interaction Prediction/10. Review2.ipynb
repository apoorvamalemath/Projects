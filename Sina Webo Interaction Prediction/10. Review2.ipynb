{
 "cells": [
  {
   "cell_type": "markdown",
   "metadata": {},
   "source": [
    "# Team 5A09 DMA Course Project : \n",
    "## Sina Weibo Interaction Prediction Challenge\n",
    "![](weibo.jpg)\n",
    "## Modelling Phase\n",
    " 1. - Team ID             - 5A09\n",
    "      - Sem                 - 5TH \n",
    "      - Div                 - 'A'\n",
    "      - School              - KLE Technological university\n",
    "   \n",
    "   \n",
    "   2. - Topic ID            - 5ADMACP14\n",
    "      - Project Title       - Sina Weibo Intereaction Prediction\n",
    "   \n",
    "   \n",
    "   3. Problem Statement     - To predict the user behaviors such as forwarding, commenting and liking on Sina Weibo Microblogging site.\n",
    "   \n",
    "   \n",
    "   4. - Team Leader         - Deepti Nadkarni         - 01FE16BCS062 (Roll no-58)\n",
    "      - Members   \n",
    "         - Apoorva Malemath     - 01FE16BCS041 (Roll no-39)\n",
    "         - Arundati Dixit       - 01FE16BCS046 (Roll no-44)\n",
    "         - Ashish Kar           - 01FE16BCS047 (Roll no-45) \n",
    "    "
   ]
  },
  {
   "cell_type": "markdown",
   "metadata": {},
   "source": [
    "# ----------------------Pre-Processing Highlights---------------------------------"
   ]
  },
  {
   "cell_type": "markdown",
   "metadata": {},
   "source": [
    "## 1. TRANSLATION TO ENGLISH CONTENT"
   ]
  },
  {
   "cell_type": "code",
   "execution_count": 2,
   "metadata": {},
   "outputs": [
    {
     "name": "stdout",
     "output_type": "stream",
     "text": [
      "importing Jupyter notebook from evaluation.ipynb\n"
     ]
    }
   ],
   "source": [
    "import pandas as pd\n",
    "import numpy as np\n",
    "from sklearn import linear_model\n",
    "from sklearn.model_selection import train_test_split\n",
    "from sklearn.metrics import accuracy_score\n",
    "from matplotlib import pyplot as plt\n",
    "import statsmodels.api as sm\n",
    "import import_ipynb\n",
    "from evaluation import precision"
   ]
  },
  {
   "cell_type": "code",
   "execution_count": 5,
   "metadata": {},
   "outputs": [],
   "source": [
    "df1=pd.read_csv(\"G://DMA_PROJECT//preprocessed_1.csv\")\n",
    "df2=pd.read_csv(\"G://DMA_PROJECT//preprocessed_2.csv\")\n",
    "frames=[df1,df2]\n",
    "traintrans=pd.concat(frames)"
   ]
  },
  {
   "cell_type": "code",
   "execution_count": 4,
   "metadata": {},
   "outputs": [
    {
     "data": {
      "text/html": [
       "<div>\n",
       "<style scoped>\n",
       "    .dataframe tbody tr th:only-of-type {\n",
       "        vertical-align: middle;\n",
       "    }\n",
       "\n",
       "    .dataframe tbody tr th {\n",
       "        vertical-align: top;\n",
       "    }\n",
       "\n",
       "    .dataframe thead th {\n",
       "        text-align: right;\n",
       "    }\n",
       "</style>\n",
       "<table border=\"1\" class=\"dataframe\">\n",
       "  <thead>\n",
       "    <tr style=\"text-align: right;\">\n",
       "      <th></th>\n",
       "      <th>u_id</th>\n",
       "      <th>m_id</th>\n",
       "      <th>forward_count</th>\n",
       "      <th>comment_count</th>\n",
       "      <th>like_count</th>\n",
       "      <th>content</th>\n",
       "      <th>date</th>\n",
       "      <th>time</th>\n",
       "      <th>content_media_count</th>\n",
       "      <th>content_spchar</th>\n",
       "      <th>non_emoji_content</th>\n",
       "      <th>en_content</th>\n",
       "      <th>Unnamed: 1</th>\n",
       "    </tr>\n",
       "  </thead>\n",
       "  <tbody>\n",
       "    <tr>\n",
       "      <th>0</th>\n",
       "      <td>d38e9bed5d98110dc2489d0d1cac3c2a</td>\n",
       "      <td>7d45833d9865727a88b960b0603c19f6</td>\n",
       "      <td>0.0</td>\n",
       "      <td>0.0</td>\n",
       "      <td>0.0</td>\n",
       "      <td>丽江旅游(sz002033)#股票##炒股##财经##理财##投资#推荐包赢股，盈利对半分成...</td>\n",
       "      <td>2015-02-23</td>\n",
       "      <td>17:41:29</td>\n",
       "      <td>0.0</td>\n",
       "      <td>['('  ')'  '#'  '#'  '#'  '#'  '#'  '#'  '#'  ...</td>\n",
       "      <td>丽江旅游(sz002033)#股票##炒股##财经##理财##投资#推荐包赢股，盈利对半分成...</td>\n",
       "      <td>Lijiang Tourism (sz002033) # ## stock stocks F...</td>\n",
       "      <td>NaN</td>\n",
       "    </tr>\n",
       "    <tr>\n",
       "      <th>1</th>\n",
       "      <td>fa13974743d3fe6ff40d21b872325e9e</td>\n",
       "      <td>8169f1d45051e08ef213bf1106b1225d</td>\n",
       "      <td>0.0</td>\n",
       "      <td>0.0</td>\n",
       "      <td>0.0</td>\n",
       "      <td>#丁辰灵的红包#挣钱是一种能力，抢红包拼的是技术。我抢到了丁辰灵 和@阚洪岩 一起发出的现金...</td>\n",
       "      <td>2015-02-14</td>\n",
       "      <td>12:49:58</td>\n",
       "      <td>1.0</td>\n",
       "      <td>['#'  '#'  '，'  '。'  '@'  '，'  '！'  '，'  '╮'  ...</td>\n",
       "      <td>#丁辰灵的红包#挣钱是一种能力，抢红包拼的是技术。我抢到了丁辰灵 和@阚洪岩 一起发出的现金...</td>\n",
       "      <td>Chen Ling Ding # # red envelopes to make money...</td>\n",
       "      <td>NaN</td>\n",
       "    </tr>\n",
       "    <tr>\n",
       "      <th>2</th>\n",
       "      <td>da534fe87e7a52777bee5c30573ed5fd</td>\n",
       "      <td>68cd0258c31c2c525f94febea2d9523b</td>\n",
       "      <td>0.0</td>\n",
       "      <td>0.0</td>\n",
       "      <td>0.0</td>\n",
       "      <td>淘宝网这些傻逼。。。气的劳资有火没地儿发~尼玛，你们都瞎了</td>\n",
       "      <td>2015-03-31</td>\n",
       "      <td>13:58:06</td>\n",
       "      <td>0.0</td>\n",
       "      <td>['。'  '。'  '。'  '~'  '，']</td>\n",
       "      <td>淘宝网这些傻逼。。。气的劳资有火没地儿发~尼玛，你们都瞎了</td>\n",
       "      <td>Taobao these sucker. . . Industrial gas fire n...</td>\n",
       "      <td>NaN</td>\n",
       "    </tr>\n",
       "    <tr>\n",
       "      <th>3</th>\n",
       "      <td>e06a22b7e065e559a1f0bf7841a85c51</td>\n",
       "      <td>00b9f86b4915aedb7db943c54fd19d59</td>\n",
       "      <td>0.0</td>\n",
       "      <td>4.0</td>\n",
       "      <td>3.0</td>\n",
       "      <td>看点不能说的，你们都懂[笑cry]</td>\n",
       "      <td>2015-06-11</td>\n",
       "      <td>20:39:57</td>\n",
       "      <td>0.0</td>\n",
       "      <td>['，'  '['  ']']</td>\n",
       "      <td>看点不能说的，你们都懂[笑cry]</td>\n",
       "      <td>Aspect can not say, you know everything [laugh...</td>\n",
       "      <td>NaN</td>\n",
       "    </tr>\n",
       "    <tr>\n",
       "      <th>4</th>\n",
       "      <td>f9828598f9664d4e347ef2048ce17734</td>\n",
       "      <td>c7f6f66044c0c5a3330e2c5371be6824</td>\n",
       "      <td>0.0</td>\n",
       "      <td>0.0</td>\n",
       "      <td>0.0</td>\n",
       "      <td>111多张</td>\n",
       "      <td>2015-03-10</td>\n",
       "      <td>18:02:38</td>\n",
       "      <td>0.0</td>\n",
       "      <td>[]</td>\n",
       "      <td>111多张</td>\n",
       "      <td>Over 111 Zhang</td>\n",
       "      <td>NaN</td>\n",
       "    </tr>\n",
       "  </tbody>\n",
       "</table>\n",
       "</div>"
      ],
      "text/plain": [
       "                               u_id                              m_id  \\\n",
       "0  d38e9bed5d98110dc2489d0d1cac3c2a  7d45833d9865727a88b960b0603c19f6   \n",
       "1  fa13974743d3fe6ff40d21b872325e9e  8169f1d45051e08ef213bf1106b1225d   \n",
       "2  da534fe87e7a52777bee5c30573ed5fd  68cd0258c31c2c525f94febea2d9523b   \n",
       "3  e06a22b7e065e559a1f0bf7841a85c51  00b9f86b4915aedb7db943c54fd19d59   \n",
       "4  f9828598f9664d4e347ef2048ce17734  c7f6f66044c0c5a3330e2c5371be6824   \n",
       "\n",
       "   forward_count  comment_count  like_count  \\\n",
       "0            0.0            0.0         0.0   \n",
       "1            0.0            0.0         0.0   \n",
       "2            0.0            0.0         0.0   \n",
       "3            0.0            4.0         3.0   \n",
       "4            0.0            0.0         0.0   \n",
       "\n",
       "                                             content        date      time  \\\n",
       "0  丽江旅游(sz002033)#股票##炒股##财经##理财##投资#推荐包赢股，盈利对半分成...  2015-02-23  17:41:29   \n",
       "1  #丁辰灵的红包#挣钱是一种能力，抢红包拼的是技术。我抢到了丁辰灵 和@阚洪岩 一起发出的现金...  2015-02-14  12:49:58   \n",
       "2                      淘宝网这些傻逼。。。气的劳资有火没地儿发~尼玛，你们都瞎了  2015-03-31  13:58:06   \n",
       "3                                  看点不能说的，你们都懂[笑cry]  2015-06-11  20:39:57   \n",
       "4                                              111多张  2015-03-10  18:02:38   \n",
       "\n",
       "   content_media_count                                     content_spchar  \\\n",
       "0                  0.0  ['('  ')'  '#'  '#'  '#'  '#'  '#'  '#'  '#'  ...   \n",
       "1                  1.0  ['#'  '#'  '，'  '。'  '@'  '，'  '！'  '，'  '╮'  ...   \n",
       "2                  0.0                          ['。'  '。'  '。'  '~'  '，']   \n",
       "3                  0.0                                    ['，'  '['  ']']   \n",
       "4                  0.0                                                 []   \n",
       "\n",
       "                                   non_emoji_content  \\\n",
       "0  丽江旅游(sz002033)#股票##炒股##财经##理财##投资#推荐包赢股，盈利对半分成...   \n",
       "1  #丁辰灵的红包#挣钱是一种能力，抢红包拼的是技术。我抢到了丁辰灵 和@阚洪岩 一起发出的现金...   \n",
       "2                      淘宝网这些傻逼。。。气的劳资有火没地儿发~尼玛，你们都瞎了   \n",
       "3                                  看点不能说的，你们都懂[笑cry]   \n",
       "4                                              111多张   \n",
       "\n",
       "                                          en_content Unnamed: 1  \n",
       "0  Lijiang Tourism (sz002033) # ## stock stocks F...        NaN  \n",
       "1  Chen Ling Ding # # red envelopes to make money...        NaN  \n",
       "2  Taobao these sucker. . . Industrial gas fire n...        NaN  \n",
       "3  Aspect can not say, you know everything [laugh...        NaN  \n",
       "4                                    Over 111 Zhang         NaN  "
      ]
     },
     "execution_count": 4,
     "metadata": {},
     "output_type": "execute_result"
    }
   ],
   "source": [
    "traintrans.head(5)"
   ]
  },
  {
   "cell_type": "code",
   "execution_count": 8,
   "metadata": {},
   "outputs": [
    {
     "data": {
      "text/plain": [
       "Index(['u_id', 'm_id', 'forward_count', 'comment_count', 'like_count',\n",
       "       'content', 'date', 'time', 'content_media_count', 'content_spchar',\n",
       "       'non_emoji_content', 'en_content', 'Unnamed: 1'],\n",
       "      dtype='object')"
      ]
     },
     "execution_count": 8,
     "metadata": {},
     "output_type": "execute_result"
    }
   ],
   "source": [
    "traintrans.columns"
   ]
  },
  {
   "cell_type": "markdown",
   "metadata": {},
   "source": [
    "## 2. BOW as factor"
   ]
  },
  {
   "cell_type": "markdown",
   "metadata": {},
   "source": [
    "## Processes Involved for Text Processing:\n",
    "### REMOVAL OF NOISE - URL\n",
    "### REMOVAL OF STOPWORDS\n",
    "### STEMMING\n",
    "### LEMMATIZATION\n",
    "### CONVERSION TO LOWERCASE \n",
    "### REMOVAL OF NUMBERS\n",
    "### REMOVAL OF PUNCTUATION"
   ]
  },
  {
   "cell_type": "code",
   "execution_count": 60,
   "metadata": {},
   "outputs": [],
   "source": [
    "trainpp=pd.read_csv(\"G://DMA_PROJECT//preprocessed.csv\")"
   ]
  },
  {
   "cell_type": "code",
   "execution_count": 61,
   "metadata": {},
   "outputs": [
    {
     "data": {
      "text/html": [
       "<div>\n",
       "<style scoped>\n",
       "    .dataframe tbody tr th:only-of-type {\n",
       "        vertical-align: middle;\n",
       "    }\n",
       "\n",
       "    .dataframe tbody tr th {\n",
       "        vertical-align: top;\n",
       "    }\n",
       "\n",
       "    .dataframe thead th {\n",
       "        text-align: right;\n",
       "    }\n",
       "</style>\n",
       "<table border=\"1\" class=\"dataframe\">\n",
       "  <thead>\n",
       "    <tr style=\"text-align: right;\">\n",
       "      <th></th>\n",
       "      <th>u_id</th>\n",
       "      <th>m_id</th>\n",
       "      <th>forward_count</th>\n",
       "      <th>comment_count</th>\n",
       "      <th>like_count</th>\n",
       "      <th>content</th>\n",
       "      <th>date</th>\n",
       "      <th>time</th>\n",
       "      <th>content_media_count</th>\n",
       "      <th>content_spchar</th>\n",
       "      <th>...</th>\n",
       "      <th>Stemming</th>\n",
       "      <th>Stemmingle</th>\n",
       "      <th>lemmatization</th>\n",
       "      <th>lemmatizationtl</th>\n",
       "      <th>lower</th>\n",
       "      <th>lowerrmum</th>\n",
       "      <th>no_num</th>\n",
       "      <th>lowerrnum</th>\n",
       "      <th>no_numrp</th>\n",
       "      <th>no_punc</th>\n",
       "    </tr>\n",
       "  </thead>\n",
       "  <tbody>\n",
       "    <tr>\n",
       "      <th>0</th>\n",
       "      <td>ef132857ae5c47ff0aa2ce251436258c</td>\n",
       "      <td>a09fd98a3fddd174f281e0b56d14c6fc</td>\n",
       "      <td>0</td>\n",
       "      <td>0</td>\n",
       "      <td>0</td>\n",
       "      <td>刚刚评论了豆丁文档:有机化学光谱 化学研究生用的课件 '简单看下，还不错，谢谢分享' htt...</td>\n",
       "      <td>2015-04-22</td>\n",
       "      <td>15:39:05</td>\n",
       "      <td>1.0</td>\n",
       "      <td>[':'  \"'\"  '，'  '，'  \"'\"  ':'  '/'  '/'  '.'  ...</td>\n",
       "      <td>...</td>\n",
       "      <td>['just', 'comment', 'doud', 'document', ':', '...</td>\n",
       "      <td>['just', 'comment', 'doud', 'document', ':', '...</td>\n",
       "      <td>['just', 'comment', 'doud', 'document', ':', '...</td>\n",
       "      <td>['just', 'comment', 'doud', 'document', ':', '...</td>\n",
       "      <td>['just', 'comment', 'doud', 'document', ':', '...</td>\n",
       "      <td>NaN</td>\n",
       "      <td>['just', 'comment', 'doud', 'document', ':', '...</td>\n",
       "      <td>['just', 'comment', 'doud', 'document', ':', '...</td>\n",
       "      <td>['just', 'comment', 'doud', 'document', ':', '...</td>\n",
       "      <td>['just', 'comment', 'doud', 'document', 'organ...</td>\n",
       "    </tr>\n",
       "    <tr>\n",
       "      <th>1</th>\n",
       "      <td>97775929a27fdb7e0da1e8c64bf796b4</td>\n",
       "      <td>c44d9db6c197a921eb2635017b733d41</td>\n",
       "      <td>0</td>\n",
       "      <td>0</td>\n",
       "      <td>0</td>\n",
       "      <td>小米蓝牙有码没@雷军</td>\n",
       "      <td>2015-06-27</td>\n",
       "      <td>19:15:11</td>\n",
       "      <td>0.0</td>\n",
       "      <td>['@']</td>\n",
       "      <td>...</td>\n",
       "      <td>['millet', 'bluetooth', 'code', 'ha', 'not', '...</td>\n",
       "      <td>['millet', 'bluetooth', 'code', 'ha', 'not', '...</td>\n",
       "      <td>['millet', 'bluetooth', 'code', 'ha', 'not', '...</td>\n",
       "      <td>['millet', 'bluetooth', 'code', 'ha', 'not', '...</td>\n",
       "      <td>['millet', 'bluetooth', 'code', 'ha', 'not', '...</td>\n",
       "      <td>NaN</td>\n",
       "      <td>['millet', 'bluetooth', 'code', 'ha', 'not', '...</td>\n",
       "      <td>['millet', 'bluetooth', 'code', 'ha', 'not', '...</td>\n",
       "      <td>['millet', 'bluetooth', 'code', 'ha', 'not', '...</td>\n",
       "      <td>['millet', 'bluetooth', 'code', 'ha', 'not', '...</td>\n",
       "    </tr>\n",
       "    <tr>\n",
       "      <th>2</th>\n",
       "      <td>875a4a77b339d93f819e2c4de5bd0b57</td>\n",
       "      <td>423c182a9ab1a2ba71f97721717607dc</td>\n",
       "      <td>0</td>\n",
       "      <td>0</td>\n",
       "      <td>0</td>\n",
       "      <td>#IT#【港报：游戏女主播收入颇高 卖弄色情是家常便饭】据香港《明报》网站4月9日报道，游戏...</td>\n",
       "      <td>2015-04-12</td>\n",
       "      <td>17:15:18</td>\n",
       "      <td>1.0</td>\n",
       "      <td>['#'  '#'  '【'  '：'  '】'  '《'  '》'  '，'  '，'  ...</td>\n",
       "      <td>...</td>\n",
       "      <td>['#', 'IT', '#', '[', 'hong', 'kong', 'newspap...</td>\n",
       "      <td>['#', 'IT', '#', '[', 'hong', 'kong', 'newspap...</td>\n",
       "      <td>['#', 'IT', '#', '[', 'hong', 'kong', 'newspap...</td>\n",
       "      <td>['#', 'IT', '#', '[', 'hong', 'kong', 'newspap...</td>\n",
       "      <td>['#', 'it', '#', '[', 'hong', 'kong', 'newspap...</td>\n",
       "      <td>NaN</td>\n",
       "      <td>['#', 'it', '#', '[', 'hong', 'kong', 'newspap...</td>\n",
       "      <td>['#', 'it', '#', '[', 'hong', 'kong', 'newspap...</td>\n",
       "      <td>['#', 'it', '#', '[', 'hong', 'kong', 'newspap...</td>\n",
       "      <td>['it', '[', 'hong', 'kong', 'newspap', 'game',...</td>\n",
       "    </tr>\n",
       "    <tr>\n",
       "      <th>3</th>\n",
       "      <td>935dd42bcab833225d96eb826e2fb959</td>\n",
       "      <td>119426d163f5f77fe626d3e3701289e4</td>\n",
       "      <td>0</td>\n",
       "      <td>1</td>\n",
       "      <td>0</td>\n",
       "      <td>【王宝臣：2015年企业站优化方向】本篇文章的话题主要是围绕站群形式来降低从web2.0反垃...</td>\n",
       "      <td>2015-06-22</td>\n",
       "      <td>10:20:49</td>\n",
       "      <td>1.0</td>\n",
       "      <td>['【'  '：'  '】'  '.'  '，'  '，'  '-'  ':'  '/'  ...</td>\n",
       "      <td>...</td>\n",
       "      <td>['[', 'wangbao', 'chen', ':', '2015', 'compani...</td>\n",
       "      <td>['[', 'wangbao', 'chen', ':', '2015', 'compani...</td>\n",
       "      <td>['[', 'wangbao', 'chen', ':', '2015', 'compani...</td>\n",
       "      <td>['[', 'wangbao', 'chen', ':', '2015', 'compani...</td>\n",
       "      <td>['[', 'wangbao', 'chen', ':', 'compani', 'opti...</td>\n",
       "      <td>NaN</td>\n",
       "      <td>['[', 'wangbao', 'chen', ':', 'compani', 'opti...</td>\n",
       "      <td>['[', 'wangbao', 'chen', ':', 'compani', 'opti...</td>\n",
       "      <td>['[', 'wangbao', 'chen', ':', 'compani', 'opti...</td>\n",
       "      <td>['[', 'wangbao', 'chen', 'compani', 'optim', '...</td>\n",
       "    </tr>\n",
       "    <tr>\n",
       "      <th>4</th>\n",
       "      <td>c9ef6a4615183d652a777771599dcfbe</td>\n",
       "      <td>b135c8123b51ccd53c26dc76fa1d3ed4</td>\n",
       "      <td>0</td>\n",
       "      <td>0</td>\n",
       "      <td>0</td>\n",
       "      <td>#成懋的红包#小年抢个好彩头！我在成懋 的红包中抽到了@快的打车 提供的“快的打车6元红包”...</td>\n",
       "      <td>2015-02-11</td>\n",
       "      <td>10:16:33</td>\n",
       "      <td>1.0</td>\n",
       "      <td>['#'  '#'  '！'  '@'  '“'  '”'  '，'  '，'  '！'  ...</td>\n",
       "      <td>...</td>\n",
       "      <td>['#', '#', 'To', 'mao', \"'s\", 'littl', 'red', ...</td>\n",
       "      <td>['#', '#', 'To', 'mao', \"'s\", 'littl', 'red', ...</td>\n",
       "      <td>['#', '#', 'To', 'mao', \"'s\", 'littl', 'red', ...</td>\n",
       "      <td>['#', '#', 'To', 'mao', \"'s\", 'littl', 'red', ...</td>\n",
       "      <td>['#', '#', 'to', 'mao', \"'s\", 'littl', 'red', ...</td>\n",
       "      <td>NaN</td>\n",
       "      <td>['#', '#', 'to', 'mao', \"'s\", 'littl', 'red', ...</td>\n",
       "      <td>['#', '#', 'to', 'mao', \"'s\", 'littl', 'red', ...</td>\n",
       "      <td>['#', '#', 'to', 'mao', \"'s\", 'littl', 'red', ...</td>\n",
       "      <td>['to', 'mao', \"'s\", 'littl', 'red', 'envelop',...</td>\n",
       "    </tr>\n",
       "    <tr>\n",
       "      <th>5</th>\n",
       "      <td>ca1010cf23e9327e9a68358f5a0f7484</td>\n",
       "      <td>a3dafc001f7e8d8a2169a2625d698cc3</td>\n",
       "      <td>0</td>\n",
       "      <td>1</td>\n",
       "      <td>0</td>\n",
       "      <td>今年最美妙的事情 一是牵这旺去广场，然后看它打滚，旺想快步逃走，紧接这被我快步抓住。二是晚自...</td>\n",
       "      <td>2015-02-17</td>\n",
       "      <td>08:00:38</td>\n",
       "      <td>0.0</td>\n",
       "      <td>['，'  '，'  '，'  '。'  '，'  '，'  '，'  '！']</td>\n",
       "      <td>...</td>\n",
       "      <td>['the', 'most', 'wonder', 'thing', 'thi', 'yea...</td>\n",
       "      <td>['the', 'most', 'wonder', 'thing', 'thi', 'yea...</td>\n",
       "      <td>['the', 'most', 'wonder', 'thing', 'thi', 'yea...</td>\n",
       "      <td>['the', 'most', 'wonder', 'thing', 'thi', 'yea...</td>\n",
       "      <td>['the', 'most', 'wonder', 'thing', 'thi', 'yea...</td>\n",
       "      <td>NaN</td>\n",
       "      <td>['the', 'most', 'wonder', 'thing', 'thi', 'yea...</td>\n",
       "      <td>['the', 'most', 'wonder', 'thing', 'thi', 'yea...</td>\n",
       "      <td>['the', 'most', 'wonder', 'thing', 'thi', 'yea...</td>\n",
       "      <td>['the', 'most', 'wonder', 'thing', 'thi', 'yea...</td>\n",
       "    </tr>\n",
       "    <tr>\n",
       "      <th>6</th>\n",
       "      <td>b1de85c455b9a42fb1bdf8e44792a50e</td>\n",
       "      <td>d2500bae5669ad1cfbcbaaeb1384a338</td>\n",
       "      <td>0</td>\n",
       "      <td>0</td>\n",
       "      <td>0</td>\n",
       "      <td>今天A股涨这么狠，投很多钱进去的人，想必发财了。</td>\n",
       "      <td>2015-05-25</td>\n",
       "      <td>15:55:28</td>\n",
       "      <td>0.0</td>\n",
       "      <td>['，'  '，'  '。']</td>\n",
       "      <td>...</td>\n",
       "      <td>['today', 'A', 'share', 'rose', 'so', 'hard', ...</td>\n",
       "      <td>['today', 'A', 'share', 'rose', 'so', 'hard', ...</td>\n",
       "      <td>['today', 'A', 'share', 'rose', 'so', 'hard', ...</td>\n",
       "      <td>['today', 'A', 'share', 'rose', 'so', 'hard', ...</td>\n",
       "      <td>['today', 'a', 'share', 'rose', 'so', 'hard', ...</td>\n",
       "      <td>NaN</td>\n",
       "      <td>['today', 'a', 'share', 'rose', 'so', 'hard', ...</td>\n",
       "      <td>['today', 'a', 'share', 'rose', 'so', 'hard', ...</td>\n",
       "      <td>['today', 'a', 'share', 'rose', 'so', 'hard', ...</td>\n",
       "      <td>['today', 'a', 'share', 'rose', 'so', 'hard', ...</td>\n",
       "    </tr>\n",
       "    <tr>\n",
       "      <th>7</th>\n",
       "      <td>63c0b7f38fbd83add57273d1ec907551</td>\n",
       "      <td>1e037545970e9983b94acae7bc9ac2c2</td>\n",
       "      <td>1</td>\n",
       "      <td>0</td>\n",
       "      <td>0</td>\n",
       "      <td>【金融行业IT运维管理发展的必然趋势】：IT运维一体化管理已经成为IT运维管理发展的必然趋势...</td>\n",
       "      <td>2015-05-15</td>\n",
       "      <td>10:01:50</td>\n",
       "      <td>1.0</td>\n",
       "      <td>['【'  '】'  '：'  '，'  '、'  '。'  ':'  '/'  '/'  ...</td>\n",
       "      <td>...</td>\n",
       "      <td>['[', 'IT', 'oper', 'and', 'mainten', 'manag',...</td>\n",
       "      <td>['[', 'IT', 'oper', 'and', 'mainten', 'manag',...</td>\n",
       "      <td>['[', 'IT', 'oper', 'and', 'mainten', 'manag',...</td>\n",
       "      <td>['[', 'IT', 'oper', 'and', 'mainten', 'manag',...</td>\n",
       "      <td>['[', 'it', 'oper', 'and', 'mainten', 'manag',...</td>\n",
       "      <td>NaN</td>\n",
       "      <td>['[', 'it', 'oper', 'and', 'mainten', 'manag',...</td>\n",
       "      <td>['[', 'it', 'oper', 'and', 'mainten', 'manag',...</td>\n",
       "      <td>['[', 'it', 'oper', 'and', 'mainten', 'manag',...</td>\n",
       "      <td>['[', 'it', 'oper', 'and', 'mainten', 'manag',...</td>\n",
       "    </tr>\n",
       "    <tr>\n",
       "      <th>8</th>\n",
       "      <td>d38e9bed5d98110dc2489d0d1cac3c2a</td>\n",
       "      <td>abf00ba5489ed889f0ce35b7eb586941</td>\n",
       "      <td>0</td>\n",
       "      <td>0</td>\n",
       "      <td>0</td>\n",
       "      <td>000966长源电力#股票##股神##股市##炒股##财经##理财##投资#推荐包赢股，盈利...</td>\n",
       "      <td>2015-02-25</td>\n",
       "      <td>17:20:16</td>\n",
       "      <td>0.0</td>\n",
       "      <td>['#'  '#'  '#'  '#'  '#'  '#'  '#'  '#'  '#'  ...</td>\n",
       "      <td>...</td>\n",
       "      <td>['000', '966', 'long', 'sourc', 'of', 'power',...</td>\n",
       "      <td>['000', '966', 'long', 'sourc', 'of', 'power',...</td>\n",
       "      <td>['000', '966', 'long', 'sourc', 'of', 'power',...</td>\n",
       "      <td>['000', '966', 'long', 'sourc', 'of', 'power',...</td>\n",
       "      <td>['966', 'long', 'sourc', 'of', 'power', '#', '...</td>\n",
       "      <td>NaN</td>\n",
       "      <td>['966', 'long', 'sourc', 'of', 'power', '#', '...</td>\n",
       "      <td>['966', 'long', 'sourc', 'of', 'power', '#', '...</td>\n",
       "      <td>['966', 'long', 'sourc', 'of', 'power', '#', '...</td>\n",
       "      <td>['966', 'long', 'sourc', 'of', 'power', 'stock...</td>\n",
       "    </tr>\n",
       "    <tr>\n",
       "      <th>9</th>\n",
       "      <td>dd20701e6bb5bd4eae4df9ef7fcd7103</td>\n",
       "      <td>cb441ee83d8c1cc005f8b4f66748c211</td>\n",
       "      <td>2</td>\n",
       "      <td>2</td>\n",
       "      <td>0</td>\n",
       "      <td>【浅谈多路服务器的I/O问题】在当前的技术条件下，I/O是系统性能提高的瓶颈，如果I/O问题...</td>\n",
       "      <td>2015-02-09</td>\n",
       "      <td>16:21:40</td>\n",
       "      <td>1.0</td>\n",
       "      <td>['【'  '/'  '】'  '，'  '/'  '，'  '/'  '，'  '，'  ...</td>\n",
       "      <td>...</td>\n",
       "      <td>['[', 'On', 'the', 'I', '/', 'O', 'issu', 'mul...</td>\n",
       "      <td>['[', 'On', 'the', 'I', '/', 'O', 'issu', 'mul...</td>\n",
       "      <td>['[', 'On', 'the', 'I', '/', 'O', 'issu', 'mul...</td>\n",
       "      <td>['[', 'On', 'the', 'I', '/', 'O', 'issu', 'mul...</td>\n",
       "      <td>['[', 'on', 'the', 'i', '/', 'o', 'issu', 'mul...</td>\n",
       "      <td>NaN</td>\n",
       "      <td>['[', 'on', 'the', 'i', '/', 'o', 'issu', 'mul...</td>\n",
       "      <td>['[', 'on', 'the', 'i', '/', 'o', 'issu', 'mul...</td>\n",
       "      <td>['[', 'on', 'the', 'i', '/', 'o', 'issu', 'mul...</td>\n",
       "      <td>['[', 'on', 'the', 'i', 'o', 'issu', 'multipl'...</td>\n",
       "    </tr>\n",
       "  </tbody>\n",
       "</table>\n",
       "<p>10 rows × 29 columns</p>\n",
       "</div>"
      ],
      "text/plain": [
       "                               u_id                              m_id  \\\n",
       "0  ef132857ae5c47ff0aa2ce251436258c  a09fd98a3fddd174f281e0b56d14c6fc   \n",
       "1  97775929a27fdb7e0da1e8c64bf796b4  c44d9db6c197a921eb2635017b733d41   \n",
       "2  875a4a77b339d93f819e2c4de5bd0b57  423c182a9ab1a2ba71f97721717607dc   \n",
       "3  935dd42bcab833225d96eb826e2fb959  119426d163f5f77fe626d3e3701289e4   \n",
       "4  c9ef6a4615183d652a777771599dcfbe  b135c8123b51ccd53c26dc76fa1d3ed4   \n",
       "5  ca1010cf23e9327e9a68358f5a0f7484  a3dafc001f7e8d8a2169a2625d698cc3   \n",
       "6  b1de85c455b9a42fb1bdf8e44792a50e  d2500bae5669ad1cfbcbaaeb1384a338   \n",
       "7  63c0b7f38fbd83add57273d1ec907551  1e037545970e9983b94acae7bc9ac2c2   \n",
       "8  d38e9bed5d98110dc2489d0d1cac3c2a  abf00ba5489ed889f0ce35b7eb586941   \n",
       "9  dd20701e6bb5bd4eae4df9ef7fcd7103  cb441ee83d8c1cc005f8b4f66748c211   \n",
       "\n",
       "   forward_count  comment_count  like_count  \\\n",
       "0              0              0           0   \n",
       "1              0              0           0   \n",
       "2              0              0           0   \n",
       "3              0              1           0   \n",
       "4              0              0           0   \n",
       "5              0              1           0   \n",
       "6              0              0           0   \n",
       "7              1              0           0   \n",
       "8              0              0           0   \n",
       "9              2              2           0   \n",
       "\n",
       "                                             content        date      time  \\\n",
       "0  刚刚评论了豆丁文档:有机化学光谱 化学研究生用的课件 '简单看下，还不错，谢谢分享' htt...  2015-04-22  15:39:05   \n",
       "1                                         小米蓝牙有码没@雷军  2015-06-27  19:15:11   \n",
       "2  #IT#【港报：游戏女主播收入颇高 卖弄色情是家常便饭】据香港《明报》网站4月9日报道，游戏...  2015-04-12  17:15:18   \n",
       "3  【王宝臣：2015年企业站优化方向】本篇文章的话题主要是围绕站群形式来降低从web2.0反垃...  2015-06-22  10:20:49   \n",
       "4  #成懋的红包#小年抢个好彩头！我在成懋 的红包中抽到了@快的打车 提供的“快的打车6元红包”...  2015-02-11  10:16:33   \n",
       "5  今年最美妙的事情 一是牵这旺去广场，然后看它打滚，旺想快步逃走，紧接这被我快步抓住。二是晚自...  2015-02-17  08:00:38   \n",
       "6                           今天A股涨这么狠，投很多钱进去的人，想必发财了。  2015-05-25  15:55:28   \n",
       "7  【金融行业IT运维管理发展的必然趋势】：IT运维一体化管理已经成为IT运维管理发展的必然趋势...  2015-05-15  10:01:50   \n",
       "8  000966长源电力#股票##股神##股市##炒股##财经##理财##投资#推荐包赢股，盈利...  2015-02-25  17:20:16   \n",
       "9  【浅谈多路服务器的I/O问题】在当前的技术条件下，I/O是系统性能提高的瓶颈，如果I/O问题...  2015-02-09  16:21:40   \n",
       "\n",
       "   content_media_count                                     content_spchar  \\\n",
       "0                  1.0  [':'  \"'\"  '，'  '，'  \"'\"  ':'  '/'  '/'  '.'  ...   \n",
       "1                  0.0                                              ['@']   \n",
       "2                  1.0  ['#'  '#'  '【'  '：'  '】'  '《'  '》'  '，'  '，'  ...   \n",
       "3                  1.0  ['【'  '：'  '】'  '.'  '，'  '，'  '-'  ':'  '/'  ...   \n",
       "4                  1.0  ['#'  '#'  '！'  '@'  '“'  '”'  '，'  '，'  '！'  ...   \n",
       "5                  0.0           ['，'  '，'  '，'  '。'  '，'  '，'  '，'  '！']   \n",
       "6                  0.0                                    ['，'  '，'  '。']   \n",
       "7                  1.0  ['【'  '】'  '：'  '，'  '、'  '。'  ':'  '/'  '/'  ...   \n",
       "8                  0.0  ['#'  '#'  '#'  '#'  '#'  '#'  '#'  '#'  '#'  ...   \n",
       "9                  1.0  ['【'  '/'  '】'  '，'  '/'  '，'  '/'  '，'  '，'  ...   \n",
       "\n",
       "                         ...                          \\\n",
       "0                        ...                           \n",
       "1                        ...                           \n",
       "2                        ...                           \n",
       "3                        ...                           \n",
       "4                        ...                           \n",
       "5                        ...                           \n",
       "6                        ...                           \n",
       "7                        ...                           \n",
       "8                        ...                           \n",
       "9                        ...                           \n",
       "\n",
       "                                            Stemming  \\\n",
       "0  ['just', 'comment', 'doud', 'document', ':', '...   \n",
       "1  ['millet', 'bluetooth', 'code', 'ha', 'not', '...   \n",
       "2  ['#', 'IT', '#', '[', 'hong', 'kong', 'newspap...   \n",
       "3  ['[', 'wangbao', 'chen', ':', '2015', 'compani...   \n",
       "4  ['#', '#', 'To', 'mao', \"'s\", 'littl', 'red', ...   \n",
       "5  ['the', 'most', 'wonder', 'thing', 'thi', 'yea...   \n",
       "6  ['today', 'A', 'share', 'rose', 'so', 'hard', ...   \n",
       "7  ['[', 'IT', 'oper', 'and', 'mainten', 'manag',...   \n",
       "8  ['000', '966', 'long', 'sourc', 'of', 'power',...   \n",
       "9  ['[', 'On', 'the', 'I', '/', 'O', 'issu', 'mul...   \n",
       "\n",
       "                                          Stemmingle  \\\n",
       "0  ['just', 'comment', 'doud', 'document', ':', '...   \n",
       "1  ['millet', 'bluetooth', 'code', 'ha', 'not', '...   \n",
       "2  ['#', 'IT', '#', '[', 'hong', 'kong', 'newspap...   \n",
       "3  ['[', 'wangbao', 'chen', ':', '2015', 'compani...   \n",
       "4  ['#', '#', 'To', 'mao', \"'s\", 'littl', 'red', ...   \n",
       "5  ['the', 'most', 'wonder', 'thing', 'thi', 'yea...   \n",
       "6  ['today', 'A', 'share', 'rose', 'so', 'hard', ...   \n",
       "7  ['[', 'IT', 'oper', 'and', 'mainten', 'manag',...   \n",
       "8  ['000', '966', 'long', 'sourc', 'of', 'power',...   \n",
       "9  ['[', 'On', 'the', 'I', '/', 'O', 'issu', 'mul...   \n",
       "\n",
       "                                       lemmatization  \\\n",
       "0  ['just', 'comment', 'doud', 'document', ':', '...   \n",
       "1  ['millet', 'bluetooth', 'code', 'ha', 'not', '...   \n",
       "2  ['#', 'IT', '#', '[', 'hong', 'kong', 'newspap...   \n",
       "3  ['[', 'wangbao', 'chen', ':', '2015', 'compani...   \n",
       "4  ['#', '#', 'To', 'mao', \"'s\", 'littl', 'red', ...   \n",
       "5  ['the', 'most', 'wonder', 'thing', 'thi', 'yea...   \n",
       "6  ['today', 'A', 'share', 'rose', 'so', 'hard', ...   \n",
       "7  ['[', 'IT', 'oper', 'and', 'mainten', 'manag',...   \n",
       "8  ['000', '966', 'long', 'sourc', 'of', 'power',...   \n",
       "9  ['[', 'On', 'the', 'I', '/', 'O', 'issu', 'mul...   \n",
       "\n",
       "                                     lemmatizationtl  \\\n",
       "0  ['just', 'comment', 'doud', 'document', ':', '...   \n",
       "1  ['millet', 'bluetooth', 'code', 'ha', 'not', '...   \n",
       "2  ['#', 'IT', '#', '[', 'hong', 'kong', 'newspap...   \n",
       "3  ['[', 'wangbao', 'chen', ':', '2015', 'compani...   \n",
       "4  ['#', '#', 'To', 'mao', \"'s\", 'littl', 'red', ...   \n",
       "5  ['the', 'most', 'wonder', 'thing', 'thi', 'yea...   \n",
       "6  ['today', 'A', 'share', 'rose', 'so', 'hard', ...   \n",
       "7  ['[', 'IT', 'oper', 'and', 'mainten', 'manag',...   \n",
       "8  ['000', '966', 'long', 'sourc', 'of', 'power',...   \n",
       "9  ['[', 'On', 'the', 'I', '/', 'O', 'issu', 'mul...   \n",
       "\n",
       "                                               lower lowerrmum  \\\n",
       "0  ['just', 'comment', 'doud', 'document', ':', '...       NaN   \n",
       "1  ['millet', 'bluetooth', 'code', 'ha', 'not', '...       NaN   \n",
       "2  ['#', 'it', '#', '[', 'hong', 'kong', 'newspap...       NaN   \n",
       "3  ['[', 'wangbao', 'chen', ':', 'compani', 'opti...       NaN   \n",
       "4  ['#', '#', 'to', 'mao', \"'s\", 'littl', 'red', ...       NaN   \n",
       "5  ['the', 'most', 'wonder', 'thing', 'thi', 'yea...       NaN   \n",
       "6  ['today', 'a', 'share', 'rose', 'so', 'hard', ...       NaN   \n",
       "7  ['[', 'it', 'oper', 'and', 'mainten', 'manag',...       NaN   \n",
       "8  ['966', 'long', 'sourc', 'of', 'power', '#', '...       NaN   \n",
       "9  ['[', 'on', 'the', 'i', '/', 'o', 'issu', 'mul...       NaN   \n",
       "\n",
       "                                              no_num  \\\n",
       "0  ['just', 'comment', 'doud', 'document', ':', '...   \n",
       "1  ['millet', 'bluetooth', 'code', 'ha', 'not', '...   \n",
       "2  ['#', 'it', '#', '[', 'hong', 'kong', 'newspap...   \n",
       "3  ['[', 'wangbao', 'chen', ':', 'compani', 'opti...   \n",
       "4  ['#', '#', 'to', 'mao', \"'s\", 'littl', 'red', ...   \n",
       "5  ['the', 'most', 'wonder', 'thing', 'thi', 'yea...   \n",
       "6  ['today', 'a', 'share', 'rose', 'so', 'hard', ...   \n",
       "7  ['[', 'it', 'oper', 'and', 'mainten', 'manag',...   \n",
       "8  ['966', 'long', 'sourc', 'of', 'power', '#', '...   \n",
       "9  ['[', 'on', 'the', 'i', '/', 'o', 'issu', 'mul...   \n",
       "\n",
       "                                           lowerrnum  \\\n",
       "0  ['just', 'comment', 'doud', 'document', ':', '...   \n",
       "1  ['millet', 'bluetooth', 'code', 'ha', 'not', '...   \n",
       "2  ['#', 'it', '#', '[', 'hong', 'kong', 'newspap...   \n",
       "3  ['[', 'wangbao', 'chen', ':', 'compani', 'opti...   \n",
       "4  ['#', '#', 'to', 'mao', \"'s\", 'littl', 'red', ...   \n",
       "5  ['the', 'most', 'wonder', 'thing', 'thi', 'yea...   \n",
       "6  ['today', 'a', 'share', 'rose', 'so', 'hard', ...   \n",
       "7  ['[', 'it', 'oper', 'and', 'mainten', 'manag',...   \n",
       "8  ['966', 'long', 'sourc', 'of', 'power', '#', '...   \n",
       "9  ['[', 'on', 'the', 'i', '/', 'o', 'issu', 'mul...   \n",
       "\n",
       "                                            no_numrp  \\\n",
       "0  ['just', 'comment', 'doud', 'document', ':', '...   \n",
       "1  ['millet', 'bluetooth', 'code', 'ha', 'not', '...   \n",
       "2  ['#', 'it', '#', '[', 'hong', 'kong', 'newspap...   \n",
       "3  ['[', 'wangbao', 'chen', ':', 'compani', 'opti...   \n",
       "4  ['#', '#', 'to', 'mao', \"'s\", 'littl', 'red', ...   \n",
       "5  ['the', 'most', 'wonder', 'thing', 'thi', 'yea...   \n",
       "6  ['today', 'a', 'share', 'rose', 'so', 'hard', ...   \n",
       "7  ['[', 'it', 'oper', 'and', 'mainten', 'manag',...   \n",
       "8  ['966', 'long', 'sourc', 'of', 'power', '#', '...   \n",
       "9  ['[', 'on', 'the', 'i', '/', 'o', 'issu', 'mul...   \n",
       "\n",
       "                                             no_punc  \n",
       "0  ['just', 'comment', 'doud', 'document', 'organ...  \n",
       "1  ['millet', 'bluetooth', 'code', 'ha', 'not', '...  \n",
       "2  ['it', '[', 'hong', 'kong', 'newspap', 'game',...  \n",
       "3  ['[', 'wangbao', 'chen', 'compani', 'optim', '...  \n",
       "4  ['to', 'mao', \"'s\", 'littl', 'red', 'envelop',...  \n",
       "5  ['the', 'most', 'wonder', 'thing', 'thi', 'yea...  \n",
       "6  ['today', 'a', 'share', 'rose', 'so', 'hard', ...  \n",
       "7  ['[', 'it', 'oper', 'and', 'mainten', 'manag',...  \n",
       "8  ['966', 'long', 'sourc', 'of', 'power', 'stock...  \n",
       "9  ['[', 'on', 'the', 'i', 'o', 'issu', 'multipl'...  \n",
       "\n",
       "[10 rows x 29 columns]"
      ]
     },
     "execution_count": 61,
     "metadata": {},
     "output_type": "execute_result"
    }
   ],
   "source": [
    "trainpp.head(10)"
   ]
  },
  {
   "cell_type": "code",
   "execution_count": 62,
   "metadata": {},
   "outputs": [
    {
     "data": {
      "text/plain": [
       "Index(['u_id', 'm_id', 'forward_count', 'comment_count', 'like_count',\n",
       "       'content', 'date', 'time', 'content_media_count', 'content_spchar',\n",
       "       'non_emoji_content', 'en_content', 'Unnamed: 1', 'en_contenturl',\n",
       "       'url_rem', 'en_contentsw', 'Stopwrod_removed', 'Stopword_removed',\n",
       "       'en_contentst', 'Stemming', 'Stemmingle', 'lemmatization',\n",
       "       'lemmatizationtl', 'lower', 'lowerrmum', 'no_num', 'lowerrnum',\n",
       "       'no_numrp', 'no_punc'],\n",
       "      dtype='object')"
      ]
     },
     "execution_count": 62,
     "metadata": {},
     "output_type": "execute_result"
    }
   ],
   "source": [
    "trainpp.columns"
   ]
  },
  {
   "cell_type": "markdown",
   "metadata": {},
   "source": [
    "## 3. UID Stats as factor"
   ]
  },
  {
   "cell_type": "code",
   "execution_count": 6,
   "metadata": {},
   "outputs": [],
   "source": [
    "stat=pd.read_csv(\"train_uid_stat.csv\")"
   ]
  },
  {
   "cell_type": "code",
   "execution_count": 7,
   "metadata": {},
   "outputs": [
    {
     "data": {
      "text/html": [
       "<div>\n",
       "<style scoped>\n",
       "    .dataframe tbody tr th:only-of-type {\n",
       "        vertical-align: middle;\n",
       "    }\n",
       "\n",
       "    .dataframe tbody tr th {\n",
       "        vertical-align: top;\n",
       "    }\n",
       "\n",
       "    .dataframe thead th {\n",
       "        text-align: right;\n",
       "    }\n",
       "</style>\n",
       "<table border=\"1\" class=\"dataframe\">\n",
       "  <thead>\n",
       "    <tr style=\"text-align: right;\">\n",
       "      <th></th>\n",
       "      <th>u_id</th>\n",
       "      <th>forward_min</th>\n",
       "      <th>forward_max</th>\n",
       "      <th>forward_median</th>\n",
       "      <th>forward_mean</th>\n",
       "      <th>comment_min</th>\n",
       "      <th>comment_max</th>\n",
       "      <th>comment_median</th>\n",
       "      <th>comment_mean</th>\n",
       "      <th>like_min</th>\n",
       "      <th>like_max</th>\n",
       "      <th>like_median</th>\n",
       "      <th>like_mean</th>\n",
       "    </tr>\n",
       "  </thead>\n",
       "  <tbody>\n",
       "    <tr>\n",
       "      <th>0</th>\n",
       "      <td>000127c6126e2b0019f255ed21ac1cb7</td>\n",
       "      <td>0</td>\n",
       "      <td>1</td>\n",
       "      <td>0</td>\n",
       "      <td>0</td>\n",
       "      <td>0</td>\n",
       "      <td>0</td>\n",
       "      <td>0</td>\n",
       "      <td>0</td>\n",
       "      <td>0</td>\n",
       "      <td>0</td>\n",
       "      <td>0</td>\n",
       "      <td>0</td>\n",
       "    </tr>\n",
       "    <tr>\n",
       "      <th>1</th>\n",
       "      <td>0001565a5edece1669577e2ace9a6a3d</td>\n",
       "      <td>0</td>\n",
       "      <td>0</td>\n",
       "      <td>0</td>\n",
       "      <td>0</td>\n",
       "      <td>0</td>\n",
       "      <td>1</td>\n",
       "      <td>0</td>\n",
       "      <td>0</td>\n",
       "      <td>0</td>\n",
       "      <td>0</td>\n",
       "      <td>0</td>\n",
       "      <td>0</td>\n",
       "    </tr>\n",
       "    <tr>\n",
       "      <th>2</th>\n",
       "      <td>00033a6513b86b2705de9ffa9d37ffb6</td>\n",
       "      <td>0</td>\n",
       "      <td>0</td>\n",
       "      <td>0</td>\n",
       "      <td>0</td>\n",
       "      <td>0</td>\n",
       "      <td>0</td>\n",
       "      <td>0</td>\n",
       "      <td>0</td>\n",
       "      <td>0</td>\n",
       "      <td>1</td>\n",
       "      <td>0</td>\n",
       "      <td>0</td>\n",
       "    </tr>\n",
       "    <tr>\n",
       "      <th>3</th>\n",
       "      <td>0004fe2742507420eaa73e119dc83ac5</td>\n",
       "      <td>0</td>\n",
       "      <td>6</td>\n",
       "      <td>0</td>\n",
       "      <td>0</td>\n",
       "      <td>0</td>\n",
       "      <td>1</td>\n",
       "      <td>0</td>\n",
       "      <td>0</td>\n",
       "      <td>0</td>\n",
       "      <td>1</td>\n",
       "      <td>0</td>\n",
       "      <td>0</td>\n",
       "    </tr>\n",
       "    <tr>\n",
       "      <th>4</th>\n",
       "      <td>000c663a24a2f91f4ba156fcd4f8b9f2</td>\n",
       "      <td>0</td>\n",
       "      <td>1</td>\n",
       "      <td>0</td>\n",
       "      <td>0</td>\n",
       "      <td>0</td>\n",
       "      <td>7</td>\n",
       "      <td>0</td>\n",
       "      <td>0</td>\n",
       "      <td>0</td>\n",
       "      <td>6</td>\n",
       "      <td>0</td>\n",
       "      <td>0</td>\n",
       "    </tr>\n",
       "    <tr>\n",
       "      <th>5</th>\n",
       "      <td>000ce19d2fccb1f22421bec50bf25b08</td>\n",
       "      <td>0</td>\n",
       "      <td>0</td>\n",
       "      <td>0</td>\n",
       "      <td>0</td>\n",
       "      <td>0</td>\n",
       "      <td>0</td>\n",
       "      <td>0</td>\n",
       "      <td>0</td>\n",
       "      <td>0</td>\n",
       "      <td>0</td>\n",
       "      <td>0</td>\n",
       "      <td>0</td>\n",
       "    </tr>\n",
       "    <tr>\n",
       "      <th>6</th>\n",
       "      <td>000d7bf7406392b2212dfb4fe907d946</td>\n",
       "      <td>0</td>\n",
       "      <td>0</td>\n",
       "      <td>0</td>\n",
       "      <td>0</td>\n",
       "      <td>0</td>\n",
       "      <td>0</td>\n",
       "      <td>0</td>\n",
       "      <td>0</td>\n",
       "      <td>0</td>\n",
       "      <td>0</td>\n",
       "      <td>0</td>\n",
       "      <td>0</td>\n",
       "    </tr>\n",
       "    <tr>\n",
       "      <th>7</th>\n",
       "      <td>0012edb614365800e901c7f2b47e9129</td>\n",
       "      <td>0</td>\n",
       "      <td>0</td>\n",
       "      <td>0</td>\n",
       "      <td>0</td>\n",
       "      <td>0</td>\n",
       "      <td>4</td>\n",
       "      <td>0</td>\n",
       "      <td>1</td>\n",
       "      <td>0</td>\n",
       "      <td>0</td>\n",
       "      <td>0</td>\n",
       "      <td>0</td>\n",
       "    </tr>\n",
       "    <tr>\n",
       "      <th>8</th>\n",
       "      <td>001349a053bdecf1a71960f29288ced1</td>\n",
       "      <td>0</td>\n",
       "      <td>0</td>\n",
       "      <td>0</td>\n",
       "      <td>0</td>\n",
       "      <td>0</td>\n",
       "      <td>1</td>\n",
       "      <td>0</td>\n",
       "      <td>0</td>\n",
       "      <td>0</td>\n",
       "      <td>1</td>\n",
       "      <td>0</td>\n",
       "      <td>0</td>\n",
       "    </tr>\n",
       "    <tr>\n",
       "      <th>9</th>\n",
       "      <td>0015c42ec93854687a258a7f170c6acf</td>\n",
       "      <td>0</td>\n",
       "      <td>0</td>\n",
       "      <td>0</td>\n",
       "      <td>0</td>\n",
       "      <td>0</td>\n",
       "      <td>0</td>\n",
       "      <td>0</td>\n",
       "      <td>0</td>\n",
       "      <td>0</td>\n",
       "      <td>0</td>\n",
       "      <td>0</td>\n",
       "      <td>0</td>\n",
       "    </tr>\n",
       "  </tbody>\n",
       "</table>\n",
       "</div>"
      ],
      "text/plain": [
       "                               u_id  forward_min  forward_max  forward_median  \\\n",
       "0  000127c6126e2b0019f255ed21ac1cb7            0            1               0   \n",
       "1  0001565a5edece1669577e2ace9a6a3d            0            0               0   \n",
       "2  00033a6513b86b2705de9ffa9d37ffb6            0            0               0   \n",
       "3  0004fe2742507420eaa73e119dc83ac5            0            6               0   \n",
       "4  000c663a24a2f91f4ba156fcd4f8b9f2            0            1               0   \n",
       "5  000ce19d2fccb1f22421bec50bf25b08            0            0               0   \n",
       "6  000d7bf7406392b2212dfb4fe907d946            0            0               0   \n",
       "7  0012edb614365800e901c7f2b47e9129            0            0               0   \n",
       "8  001349a053bdecf1a71960f29288ced1            0            0               0   \n",
       "9  0015c42ec93854687a258a7f170c6acf            0            0               0   \n",
       "\n",
       "   forward_mean  comment_min  comment_max  comment_median  comment_mean  \\\n",
       "0             0            0            0               0             0   \n",
       "1             0            0            1               0             0   \n",
       "2             0            0            0               0             0   \n",
       "3             0            0            1               0             0   \n",
       "4             0            0            7               0             0   \n",
       "5             0            0            0               0             0   \n",
       "6             0            0            0               0             0   \n",
       "7             0            0            4               0             1   \n",
       "8             0            0            1               0             0   \n",
       "9             0            0            0               0             0   \n",
       "\n",
       "   like_min  like_max  like_median  like_mean  \n",
       "0         0         0            0          0  \n",
       "1         0         0            0          0  \n",
       "2         0         1            0          0  \n",
       "3         0         1            0          0  \n",
       "4         0         6            0          0  \n",
       "5         0         0            0          0  \n",
       "6         0         0            0          0  \n",
       "7         0         0            0          0  \n",
       "8         0         1            0          0  \n",
       "9         0         0            0          0  "
      ]
     },
     "execution_count": 7,
     "metadata": {},
     "output_type": "execute_result"
    }
   ],
   "source": [
    "stat.head(10)"
   ]
  },
  {
   "cell_type": "code",
   "execution_count": 9,
   "metadata": {},
   "outputs": [
    {
     "data": {
      "text/plain": [
       "Index(['u_id', 'forward_min', 'forward_max', 'forward_median', 'forward_mean',\n",
       "       'comment_min', 'comment_max', 'comment_median', 'comment_mean',\n",
       "       'like_min', 'like_max', 'like_median', 'like_mean'],\n",
       "      dtype='object')"
      ]
     },
     "execution_count": 9,
     "metadata": {},
     "output_type": "execute_result"
    }
   ],
   "source": [
    "stat.columns"
   ]
  },
  {
   "cell_type": "markdown",
   "metadata": {},
   "source": [
    "## 4. Initial Predictions without Model and Analysis\n",
    "### Putting known values of stats in predict dataset without any computation and finding accuracy"
   ]
  },
  {
   "cell_type": "markdown",
   "metadata": {},
   "source": [
    "### Best Statistical Factors and Default Value"
   ]
  },
  {
   "cell_type": "markdown",
   "metadata": {},
   "source": [
    "![](overall1.png)"
   ]
  },
  {
   "cell_type": "markdown",
   "metadata": {},
   "source": [
    "### Analysis"
   ]
  },
  {
   "cell_type": "markdown",
   "metadata": {},
   "source": [
    "#### 1. The Best Default Value is 0 1 1 ( F C L) which can be used for new users in predict dataset or as a default value\n",
    "#### 2. The Highest Accuracy is for Median factor which is considerable as per current standings in Sina Weibo leaderbord. (Top Accuracy: 41.73%)\n",
    "#### 3. We further wanted to add more factors from content like emoji and media, time etc. with these factors to better our accuracy "
   ]
  },
  {
   "cell_type": "markdown",
   "metadata": {},
   "source": [
    "# --------------------------Factors Considered For Modelling--------------------------------"
   ]
  },
  {
   "cell_type": "code",
   "execution_count": 10,
   "metadata": {},
   "outputs": [],
   "source": [
    "df1=pd.read_csv(\"G://DMA_PROJECT//weibo_train1_cptsd.csv\")\n",
    "df2=pd.read_csv(\"G://DMA_PROJECT//weibo_train2_cptsd.csv\")\n",
    "frames=[df1,df2]\n",
    "train_dataset=pd.concat(frames)\n",
    "predict_dataset=pd.read_csv(\"G://DMA_PROJECT//weibo_predict_cptsd.csv\")"
   ]
  },
  {
   "cell_type": "code",
   "execution_count": 12,
   "metadata": {},
   "outputs": [
    {
     "data": {
      "text/html": [
       "<div>\n",
       "<style scoped>\n",
       "    .dataframe tbody tr th:only-of-type {\n",
       "        vertical-align: middle;\n",
       "    }\n",
       "\n",
       "    .dataframe tbody tr th {\n",
       "        vertical-align: top;\n",
       "    }\n",
       "\n",
       "    .dataframe thead th {\n",
       "        text-align: right;\n",
       "    }\n",
       "</style>\n",
       "<table border=\"1\" class=\"dataframe\">\n",
       "  <thead>\n",
       "    <tr style=\"text-align: right;\">\n",
       "      <th></th>\n",
       "      <th>u_id</th>\n",
       "      <th>m_id</th>\n",
       "      <th>forward_count</th>\n",
       "      <th>comment_count</th>\n",
       "      <th>like_count</th>\n",
       "      <th>content</th>\n",
       "      <th>date</th>\n",
       "      <th>time</th>\n",
       "      <th>content_media_count</th>\n",
       "      <th>content_#_count</th>\n",
       "      <th>...</th>\n",
       "      <th>comment_max</th>\n",
       "      <th>comment_median</th>\n",
       "      <th>comment_mean</th>\n",
       "      <th>like_min</th>\n",
       "      <th>like_max</th>\n",
       "      <th>like_median</th>\n",
       "      <th>like_mean</th>\n",
       "      <th>default_forward</th>\n",
       "      <th>default_comment</th>\n",
       "      <th>default_like</th>\n",
       "    </tr>\n",
       "  </thead>\n",
       "  <tbody>\n",
       "    <tr>\n",
       "      <th>0</th>\n",
       "      <td>d38e9bed5d98110dc2489d0d1cac3c2a</td>\n",
       "      <td>7d45833d9865727a88b960b0603c19f6</td>\n",
       "      <td>0</td>\n",
       "      <td>0</td>\n",
       "      <td>0</td>\n",
       "      <td>丽江旅游(sz002033)#股票##炒股##财经##理财##投资#推荐包赢股，盈利对半分成...</td>\n",
       "      <td>2015-02-23</td>\n",
       "      <td>17:41:29</td>\n",
       "      <td>0.0</td>\n",
       "      <td>10.0</td>\n",
       "      <td>...</td>\n",
       "      <td>48</td>\n",
       "      <td>0</td>\n",
       "      <td>0</td>\n",
       "      <td>0</td>\n",
       "      <td>5</td>\n",
       "      <td>0</td>\n",
       "      <td>0</td>\n",
       "      <td>0</td>\n",
       "      <td>1</td>\n",
       "      <td>1</td>\n",
       "    </tr>\n",
       "    <tr>\n",
       "      <th>1</th>\n",
       "      <td>d38e9bed5d98110dc2489d0d1cac3c2a</td>\n",
       "      <td>00755196c77936bf44656ada98291c59</td>\n",
       "      <td>0</td>\n",
       "      <td>0</td>\n",
       "      <td>0</td>\n",
       "      <td>想开了就是幸福，想不开就是痛苦…http://t.cn/RLqzYa1</td>\n",
       "      <td>2015-07-13</td>\n",
       "      <td>19:24:50</td>\n",
       "      <td>1.0</td>\n",
       "      <td>0.0</td>\n",
       "      <td>...</td>\n",
       "      <td>48</td>\n",
       "      <td>0</td>\n",
       "      <td>0</td>\n",
       "      <td>0</td>\n",
       "      <td>5</td>\n",
       "      <td>0</td>\n",
       "      <td>0</td>\n",
       "      <td>0</td>\n",
       "      <td>1</td>\n",
       "      <td>1</td>\n",
       "    </tr>\n",
       "    <tr>\n",
       "      <th>2</th>\n",
       "      <td>d38e9bed5d98110dc2489d0d1cac3c2a</td>\n",
       "      <td>4fedf3888b1e16592f0e0bdc8b393845</td>\n",
       "      <td>0</td>\n",
       "      <td>0</td>\n",
       "      <td>0</td>\n",
       "      <td>300419浩丰科技#股票##股神##股市##炒股##财经##理财##投资# 股票庄家，要求...</td>\n",
       "      <td>2015-03-14</td>\n",
       "      <td>21:22:57</td>\n",
       "      <td>0.0</td>\n",
       "      <td>14.0</td>\n",
       "      <td>...</td>\n",
       "      <td>48</td>\n",
       "      <td>0</td>\n",
       "      <td>0</td>\n",
       "      <td>0</td>\n",
       "      <td>5</td>\n",
       "      <td>0</td>\n",
       "      <td>0</td>\n",
       "      <td>0</td>\n",
       "      <td>1</td>\n",
       "      <td>1</td>\n",
       "    </tr>\n",
       "    <tr>\n",
       "      <th>3</th>\n",
       "      <td>d38e9bed5d98110dc2489d0d1cac3c2a</td>\n",
       "      <td>91be0b8612265aae32725cd4fa80b222</td>\n",
       "      <td>0</td>\n",
       "      <td>0</td>\n",
       "      <td>0</td>\n",
       "      <td>女性被人占便宜从来不生气，是什么心态？http://t.cn/R2n2pRz</td>\n",
       "      <td>2015-06-18</td>\n",
       "      <td>16:25:36</td>\n",
       "      <td>1.0</td>\n",
       "      <td>0.0</td>\n",
       "      <td>...</td>\n",
       "      <td>48</td>\n",
       "      <td>0</td>\n",
       "      <td>0</td>\n",
       "      <td>0</td>\n",
       "      <td>5</td>\n",
       "      <td>0</td>\n",
       "      <td>0</td>\n",
       "      <td>0</td>\n",
       "      <td>1</td>\n",
       "      <td>1</td>\n",
       "    </tr>\n",
       "    <tr>\n",
       "      <th>4</th>\n",
       "      <td>d38e9bed5d98110dc2489d0d1cac3c2a</td>\n",
       "      <td>bd2af99ecf1298f5539f0ddfcdd3ed64</td>\n",
       "      <td>0</td>\n",
       "      <td>0</td>\n",
       "      <td>0</td>\n",
       "      <td>网宿科技(sz300017)#股票##炒股##财经##理财##投资#推荐包赢股，盈利对半分成...</td>\n",
       "      <td>2015-02-23</td>\n",
       "      <td>17:35:31</td>\n",
       "      <td>0.0</td>\n",
       "      <td>10.0</td>\n",
       "      <td>...</td>\n",
       "      <td>48</td>\n",
       "      <td>0</td>\n",
       "      <td>0</td>\n",
       "      <td>0</td>\n",
       "      <td>5</td>\n",
       "      <td>0</td>\n",
       "      <td>0</td>\n",
       "      <td>0</td>\n",
       "      <td>1</td>\n",
       "      <td>1</td>\n",
       "    </tr>\n",
       "  </tbody>\n",
       "</table>\n",
       "<p>5 rows × 33 columns</p>\n",
       "</div>"
      ],
      "text/plain": [
       "                               u_id                              m_id  \\\n",
       "0  d38e9bed5d98110dc2489d0d1cac3c2a  7d45833d9865727a88b960b0603c19f6   \n",
       "1  d38e9bed5d98110dc2489d0d1cac3c2a  00755196c77936bf44656ada98291c59   \n",
       "2  d38e9bed5d98110dc2489d0d1cac3c2a  4fedf3888b1e16592f0e0bdc8b393845   \n",
       "3  d38e9bed5d98110dc2489d0d1cac3c2a  91be0b8612265aae32725cd4fa80b222   \n",
       "4  d38e9bed5d98110dc2489d0d1cac3c2a  bd2af99ecf1298f5539f0ddfcdd3ed64   \n",
       "\n",
       "   forward_count  comment_count  like_count  \\\n",
       "0              0              0           0   \n",
       "1              0              0           0   \n",
       "2              0              0           0   \n",
       "3              0              0           0   \n",
       "4              0              0           0   \n",
       "\n",
       "                                             content        date      time  \\\n",
       "0  丽江旅游(sz002033)#股票##炒股##财经##理财##投资#推荐包赢股，盈利对半分成...  2015-02-23  17:41:29   \n",
       "1                想开了就是幸福，想不开就是痛苦…http://t.cn/RLqzYa1  2015-07-13  19:24:50   \n",
       "2  300419浩丰科技#股票##股神##股市##炒股##财经##理财##投资# 股票庄家，要求...  2015-03-14  21:22:57   \n",
       "3             女性被人占便宜从来不生气，是什么心态？http://t.cn/R2n2pRz  2015-06-18  16:25:36   \n",
       "4  网宿科技(sz300017)#股票##炒股##财经##理财##投资#推荐包赢股，盈利对半分成...  2015-02-23  17:35:31   \n",
       "\n",
       "   content_media_count  content_#_count      ...       comment_max  \\\n",
       "0                  0.0             10.0      ...                48   \n",
       "1                  1.0              0.0      ...                48   \n",
       "2                  0.0             14.0      ...                48   \n",
       "3                  1.0              0.0      ...                48   \n",
       "4                  0.0             10.0      ...                48   \n",
       "\n",
       "   comment_median  comment_mean  like_min  like_max  like_median  like_mean  \\\n",
       "0               0             0         0         5            0          0   \n",
       "1               0             0         0         5            0          0   \n",
       "2               0             0         0         5            0          0   \n",
       "3               0             0         0         5            0          0   \n",
       "4               0             0         0         5            0          0   \n",
       "\n",
       "   default_forward  default_comment  default_like  \n",
       "0                0                1             1  \n",
       "1                0                1             1  \n",
       "2                0                1             1  \n",
       "3                0                1             1  \n",
       "4                0                1             1  \n",
       "\n",
       "[5 rows x 33 columns]"
      ]
     },
     "execution_count": 12,
     "metadata": {},
     "output_type": "execute_result"
    }
   ],
   "source": [
    "train_dataset.head(5)"
   ]
  },
  {
   "cell_type": "code",
   "execution_count": 13,
   "metadata": {},
   "outputs": [
    {
     "data": {
      "text/plain": [
       "Index(['u_id', 'm_id', 'forward_count', 'comment_count', 'like_count',\n",
       "       'content', 'date', 'time', 'content_media_count', 'content_#_count',\n",
       "       'content_@_count', 'content_?_count', 'content_!_count',\n",
       "       'content_length', 'content_emoji_count', 'hour', 'min', 'sec',\n",
       "       'forward_min', 'forward_max', 'forward_median', 'forward_mean',\n",
       "       'comment_min', 'comment_max', 'comment_median', 'comment_mean',\n",
       "       'like_min', 'like_max', 'like_median', 'like_mean', 'default_forward',\n",
       "       'default_comment', 'default_like'],\n",
       "      dtype='object')"
      ]
     },
     "execution_count": 13,
     "metadata": {},
     "output_type": "execute_result"
    }
   ],
   "source": [
    "train_dataset.columns"
   ]
  },
  {
   "cell_type": "markdown",
   "metadata": {},
   "source": [
    "## 1. Content Factors\n",
    "### 1a) content_media_count\n",
    "### 1b) content_#_count\n",
    "### 1c) content_@_count\n",
    "### 1d) content_?_count\n",
    "### 1e) content_!_count\n",
    "### 1f) content_length\n",
    "### 1g) content_emoji_count\n",
    "## 2. Time Factors\n",
    "### 2a) hour\n",
    "### 2b) min\n",
    "### 2c) sec\n",
    "## 3. Statistical Factors\n",
    "### 3a) forward_min\n",
    "### 3b) forward_max\n",
    "### 3c) forward_median\n",
    "### 3d) forward_mean\n",
    "### 3e) comment_min\n",
    "### 3f) comment_max\n",
    "### 3g) comment_median\n",
    "### 3h) comment_mean\n",
    "### 3i) like_min\n",
    "### 3j) like_max\n",
    "### 3k) like_median\n",
    "### 3l)  like_mean\n",
    "## 4. Default Values\n",
    "### 4a) default_forward\n",
    "### 4b) default_comment\n",
    "### 4c) default_like\n",
    "\n",
    "## Total Factors: 24"
   ]
  },
  {
   "cell_type": "markdown",
   "metadata": {},
   "source": [
    "# ---------------------------------Model Building Pre requisite-----------------------------------"
   ]
  },
  {
   "cell_type": "code",
   "execution_count": 34,
   "metadata": {},
   "outputs": [],
   "source": [
    "train_month1=pd.read_csv(\"G://DMA_PROJECT//weibo_train_feb_cptsd.csv\")\n",
    "train_month2=pd.read_csv(\"G://DMA_PROJECT//weibo_train_march_cptsd.csv\")\n",
    "train_month3=pd.read_csv(\"G://DMA_PROJECT//weibo_train_april_cptsd.csv\")\n",
    "train_month4=pd.read_csv(\"G://DMA_PROJECT//weibo_train_may_cptsd.csv\")\n",
    "train_month5=pd.read_csv(\"G://DMA_PROJECT//weibo_train_june_cptsd.csv\")\n",
    "train_month6=pd.read_csv(\"G://DMA_PROJECT//weibo_train_july_cptsd.csv\")"
   ]
  },
  {
   "cell_type": "code",
   "execution_count": 35,
   "metadata": {},
   "outputs": [],
   "source": [
    "frames1=[train_month1,train_month2,train_month3,train_month4,train_month5]\n",
    "train=pd.concat(frames1)\n",
    "predict=train_month6"
   ]
  },
  {
   "cell_type": "markdown",
   "metadata": {},
   "source": [
    "## Library used for modelling: sklearn (linear model)"
   ]
  },
  {
   "cell_type": "markdown",
   "metadata": {},
   "source": [
    "# -----------------------------------------Modelling--------------------------------------------------"
   ]
  },
  {
   "cell_type": "markdown",
   "metadata": {},
   "source": [
    "## 1. Some Models and Inferences"
   ]
  },
  {
   "cell_type": "markdown",
   "metadata": {},
   "source": [
    "### 1a) New Factor Analysis"
   ]
  },
  {
   "cell_type": "markdown",
   "metadata": {},
   "source": [
    "## Model 1:  (Factors: Media, #, @, ?, !, Length, Emoji)"
   ]
  },
  {
   "cell_type": "code",
   "execution_count": 17,
   "metadata": {},
   "outputs": [
    {
     "name": "stdout",
     "output_type": "stream",
     "text": [
      "(1044681, 7) (1044681, 3)\n",
      "(184937, 7) (184937, 3)\n"
     ]
    },
    {
     "name": "stderr",
     "output_type": "stream",
     "text": [
      "G:\\Anaconda\\lib\\site-packages\\pandas\\core\\generic.py:5430: SettingWithCopyWarning: \n",
      "A value is trying to be set on a copy of a slice from a DataFrame\n",
      "\n",
      "See the caveats in the documentation: http://pandas.pydata.org/pandas-docs/stable/indexing.html#indexing-view-versus-copy\n",
      "  self._update_inplace(new_data)\n"
     ]
    }
   ],
   "source": [
    "X_train=train[[\"content_media_count\",\"content_#_count\",\"content_@_count\",\"content_?_count\",\"content_!_count\",\"content_length\",\"content_emoji_count\"]]\n",
    "Y_train=train[[\"forward_count\",\"comment_count\",\"like_count\"]]\n",
    "X_test=predict[[\"content_media_count\",\"content_#_count\",\"content_@_count\",\"content_?_count\",\"content_!_count\",\"content_length\",\"content_emoji_count\"]]\n",
    "Y_test=predict[[\"forward_count\",\"comment_count\",\"like_count\"]]\n",
    "\n",
    "print(X_train.shape,Y_train.shape)\n",
    "print(X_test.shape,Y_test.shape)\n",
    "\n",
    "pd.options.mode.use_inf_as_na = True\n",
    "X_train.fillna(X_train.max(),inplace=True)\n",
    "X_test.fillna(X_test.max(),inplace=True)\n",
    "\n",
    "lm=linear_model.LinearRegression()\n",
    "model=lm.fit(X_train,Y_train)\n",
    "pred=lm.predict(X_test)\n",
    "pred=pred.round()\n",
    "pred=(np.maximum(pred,0.))"
   ]
  },
  {
   "cell_type": "code",
   "execution_count": 18,
   "metadata": {},
   "outputs": [
    {
     "name": "stdout",
     "output_type": "stream",
     "text": [
      "[[ 4.  1.  2.]\n",
      " [ 3.  2.  3.]\n",
      " [ 3.  1.  1.]\n",
      " [ 7.  1.  2.]\n",
      " [ 9.  2.  3.]]\n",
      "[[-2.13937044 -0.36595303 -0.29844433 -0.04270781 -0.20884535  0.05323583\n",
      "  -0.11373958]\n",
      " [-1.46356558 -0.15223682 -0.02946097 -0.00326344 -0.04880305  0.00769467\n",
      "   0.1747673 ]\n",
      " [-2.6330917  -0.13749083 -0.32811723 -0.01394959 -0.071054    0.01544652\n",
      "   0.26583545]]\n",
      "[ 1.31437859  1.76293348  2.98461306]\n"
     ]
    }
   ],
   "source": [
    "print(pred[0:5])\n",
    "print(model.coef_)\n",
    "print(model.intercept_)"
   ]
  },
  {
   "cell_type": "code",
   "execution_count": 19,
   "metadata": {},
   "outputs": [],
   "source": [
    "np.savetxt(\"G://DMA_PROJECT//weibo_predict_result2.csv\",pred,delimiter=',',header=\"forward_count,comment_count,like_count\",comments=\"\")\n",
    "result=pd.read_csv(\"G://DMA_PROJECT//weibo_predict_result2.csv\")"
   ]
  },
  {
   "cell_type": "code",
   "execution_count": 20,
   "metadata": {},
   "outputs": [
    {
     "name": "stderr",
     "output_type": "stream",
     "text": [
      "G:\\Anaconda\\lib\\site-packages\\ipykernel_launcher.py:5: SettingWithCopyWarning: \n",
      "A value is trying to be set on a copy of a slice from a DataFrame.\n",
      "Try using .loc[row_indexer,col_indexer] = value instead\n",
      "\n",
      "See the caveats in the documentation: http://pandas.pydata.org/pandas-docs/stable/indexing.html#indexing-view-versus-copy\n",
      "  \"\"\"\n"
     ]
    },
    {
     "name": "stdout",
     "output_type": "stream",
     "text": [
      "Score on the training set:13.69%\n"
     ]
    }
   ],
   "source": [
    "train_real_pred = Y_test\n",
    "forward=result['forward_count'].values\n",
    "comment=result['forward_count'].values\n",
    "like=result['forward_count'].values\n",
    "train_real_pred['fp'],train_real_pred['cp'],train_real_pred['lp'] = forward,comment,like\n",
    "print (\"Score on the training set:{0:.2f}%\".format(precision(train_real_pred.values)*100))"
   ]
  },
  {
   "cell_type": "markdown",
   "metadata": {},
   "source": [
    "## Model 2: (Factors: Media, Length, Emoji)"
   ]
  },
  {
   "cell_type": "code",
   "execution_count": 22,
   "metadata": {},
   "outputs": [
    {
     "name": "stdout",
     "output_type": "stream",
     "text": [
      "(1044681, 3) (1044681, 3)\n",
      "(184937, 3) (184937, 3)\n"
     ]
    },
    {
     "name": "stderr",
     "output_type": "stream",
     "text": [
      "G:\\Anaconda\\lib\\site-packages\\pandas\\core\\generic.py:5430: SettingWithCopyWarning: \n",
      "A value is trying to be set on a copy of a slice from a DataFrame\n",
      "\n",
      "See the caveats in the documentation: http://pandas.pydata.org/pandas-docs/stable/indexing.html#indexing-view-versus-copy\n",
      "  self._update_inplace(new_data)\n"
     ]
    }
   ],
   "source": [
    "X_train=train[[\"content_media_count\",\"content_length\",\"content_emoji_count\"]]\n",
    "Y_train=train[[\"forward_count\",\"comment_count\",\"like_count\"]]\n",
    "X_test=predict[[\"content_media_count\",\"content_length\",\"content_emoji_count\"]]\n",
    "Y_test=predict[[\"forward_count\",\"comment_count\",\"like_count\"]]\n",
    "\n",
    "print(X_train.shape,Y_train.shape)\n",
    "print(X_test.shape,Y_test.shape)\n",
    "\n",
    "pd.options.mode.use_inf_as_na = True\n",
    "X_train.fillna(X_train.max(),inplace=True)\n",
    "X_test.fillna(X_test.max(),inplace=True)\n",
    "\n",
    "lm=linear_model.LinearRegression()\n",
    "model=lm.fit(X_train,Y_train)\n",
    "pred=lm.predict(X_test)\n",
    "pred=pred.round()\n",
    "pred=(np.maximum(pred,0.))"
   ]
  },
  {
   "cell_type": "code",
   "execution_count": 23,
   "metadata": {},
   "outputs": [
    {
     "name": "stdout",
     "output_type": "stream",
     "text": [
      "[[ 4.  1.  2.]\n",
      " [ 3.  2.  3.]\n",
      " [ 3.  1.  1.]\n",
      " [ 7.  1.  2.]\n",
      " [ 8.  1.  3.]]\n",
      "[[-2.19780299  0.05049652 -0.14777505]\n",
      " [-1.47377848  0.00679751  0.16018448]\n",
      " [-2.68756793  0.01390734  0.25398113]]\n",
      "[ 1.23425639  1.73473692  2.94322868]\n"
     ]
    }
   ],
   "source": [
    "print(pred[0:5])\n",
    "print(model.coef_)\n",
    "print(model.intercept_)"
   ]
  },
  {
   "cell_type": "code",
   "execution_count": 24,
   "metadata": {},
   "outputs": [],
   "source": [
    "np.savetxt(\"G://DMA_PROJECT//weibo_predict_result3.csv\",pred,delimiter=',',header=\"forward_count,comment_count,like_count\",comments=\"\")\n",
    "result=pd.read_csv(\"G://DMA_PROJECT//weibo_predict_result3.csv\")"
   ]
  },
  {
   "cell_type": "code",
   "execution_count": 25,
   "metadata": {},
   "outputs": [
    {
     "name": "stderr",
     "output_type": "stream",
     "text": [
      "G:\\Anaconda\\lib\\site-packages\\ipykernel_launcher.py:5: SettingWithCopyWarning: \n",
      "A value is trying to be set on a copy of a slice from a DataFrame.\n",
      "Try using .loc[row_indexer,col_indexer] = value instead\n",
      "\n",
      "See the caveats in the documentation: http://pandas.pydata.org/pandas-docs/stable/indexing.html#indexing-view-versus-copy\n",
      "  \"\"\"\n"
     ]
    },
    {
     "name": "stdout",
     "output_type": "stream",
     "text": [
      "Score on the training set:13.79%\n"
     ]
    }
   ],
   "source": [
    "train_real_pred = Y_test\n",
    "forward=result['forward_count'].values\n",
    "comment=result['forward_count'].values\n",
    "like=result['forward_count'].values\n",
    "train_real_pred['fp'],train_real_pred['cp'],train_real_pred['lp'] = forward,comment,like\n",
    "print (\"Score on the training set:{0:.2f}%\".format(precision(train_real_pred.values)*100))"
   ]
  },
  {
   "cell_type": "markdown",
   "metadata": {},
   "source": [
    "## Model 3:  (Factors:Time: (Hour, Min, Sec), Media, Length, Emoji)"
   ]
  },
  {
   "cell_type": "code",
   "execution_count": 27,
   "metadata": {},
   "outputs": [
    {
     "name": "stdout",
     "output_type": "stream",
     "text": [
      "(1044681, 6) (1044681, 3)\n",
      "(184937, 6) (184937, 3)\n"
     ]
    },
    {
     "name": "stderr",
     "output_type": "stream",
     "text": [
      "G:\\Anaconda\\lib\\site-packages\\pandas\\core\\generic.py:5430: SettingWithCopyWarning: \n",
      "A value is trying to be set on a copy of a slice from a DataFrame\n",
      "\n",
      "See the caveats in the documentation: http://pandas.pydata.org/pandas-docs/stable/indexing.html#indexing-view-versus-copy\n",
      "  self._update_inplace(new_data)\n"
     ]
    }
   ],
   "source": [
    "X_train=train[[\"content_media_count\",\"content_length\",\"content_emoji_count\",\"hour\",\"min\",\"sec\"]]\n",
    "Y_train=train[[\"forward_count\",\"comment_count\",\"like_count\"]]\n",
    "X_test=predict[[\"content_media_count\",\"content_length\",\"content_emoji_count\",\"hour\",\"min\",\"sec\"]]\n",
    "Y_test=predict[[\"forward_count\",\"comment_count\",\"like_count\"]]\n",
    "print(X_train.shape,Y_train.shape)\n",
    "print(X_test.shape,Y_test.shape)\n",
    "\n",
    "pd.options.mode.use_inf_as_na = True\n",
    "X_train.fillna(X_train.max(),inplace=True)\n",
    "X_test.fillna(X_test.max(),inplace=True)\n",
    "\n",
    "lm=linear_model.LinearRegression()\n",
    "model=lm.fit(X_train,Y_train)\n",
    "pred=lm.predict(X_test)\n",
    "pred=pred.round()\n",
    "pred=(np.maximum(pred,0.))"
   ]
  },
  {
   "cell_type": "code",
   "execution_count": 28,
   "metadata": {},
   "outputs": [
    {
     "name": "stdout",
     "output_type": "stream",
     "text": [
      "[[  4.   1.   1.]\n",
      " [  1.   2.   3.]\n",
      " [  2.   1.   1.]\n",
      " [  4.   1.   1.]\n",
      " [ 10.   2.   4.]]\n",
      "[[-2.16126691  0.04995623 -0.14079719  0.09097968 -0.05802816 -0.03386975]\n",
      " [-1.46714342  0.0068272   0.15966872  0.02589544 -0.00483482 -0.00418282]\n",
      " [-2.6652836   0.0137497   0.25624217  0.07054347 -0.03242168 -0.01633076]]\n",
      "[ 2.62859063  1.63033587  3.36618167]\n"
     ]
    }
   ],
   "source": [
    "print(pred[0:5])\n",
    "print(model.coef_)\n",
    "print(model.intercept_)"
   ]
  },
  {
   "cell_type": "code",
   "execution_count": 29,
   "metadata": {},
   "outputs": [],
   "source": [
    "np.savetxt(\"G://DMA_PROJECT//weibo_predict_result4.csv\",pred,delimiter=',',header=\"forward_count,comment_count,like_count\",comments=\"\")\n",
    "result=pd.read_csv(\"G://DMA_PROJECT//weibo_predict_result4.csv\")"
   ]
  },
  {
   "cell_type": "code",
   "execution_count": 30,
   "metadata": {},
   "outputs": [
    {
     "name": "stderr",
     "output_type": "stream",
     "text": [
      "G:\\Anaconda\\lib\\site-packages\\ipykernel_launcher.py:5: SettingWithCopyWarning: \n",
      "A value is trying to be set on a copy of a slice from a DataFrame.\n",
      "Try using .loc[row_indexer,col_indexer] = value instead\n",
      "\n",
      "See the caveats in the documentation: http://pandas.pydata.org/pandas-docs/stable/indexing.html#indexing-view-versus-copy\n",
      "  \"\"\"\n"
     ]
    },
    {
     "name": "stdout",
     "output_type": "stream",
     "text": [
      "Score on the training set:15.41%\n"
     ]
    }
   ],
   "source": [
    "train_real_pred = Y_test\n",
    "forward=result['forward_count'].values\n",
    "comment=result['forward_count'].values\n",
    "like=result['forward_count'].values\n",
    "train_real_pred['fp'],train_real_pred['cp'],train_real_pred['lp'] = forward,comment,like\n",
    "print (\"Score on the training set:{0:.2f}%\".format(precision(train_real_pred.values)*100))"
   ]
  },
  {
   "cell_type": "markdown",
   "metadata": {},
   "source": [
    "### Analysis: New Factors not yeilding very satisfactory results"
   ]
  },
  {
   "cell_type": "markdown",
   "metadata": {},
   "source": [
    "## 1 b) Combination with old factors"
   ]
  },
  {
   "cell_type": "markdown",
   "metadata": {},
   "source": [
    "## Model 4: (Factors: Median,Time: (Hour, Min, Sec), Media, Length, Emoji)"
   ]
  },
  {
   "cell_type": "code",
   "execution_count": 40,
   "metadata": {},
   "outputs": [
    {
     "name": "stdout",
     "output_type": "stream",
     "text": [
      "(1044681, 9) (1044681, 3)\n",
      "(184937, 9) (184937, 3)\n"
     ]
    },
    {
     "name": "stderr",
     "output_type": "stream",
     "text": [
      "G:\\Anaconda\\lib\\site-packages\\pandas\\core\\generic.py:5430: SettingWithCopyWarning: \n",
      "A value is trying to be set on a copy of a slice from a DataFrame\n",
      "\n",
      "See the caveats in the documentation: http://pandas.pydata.org/pandas-docs/stable/indexing.html#indexing-view-versus-copy\n",
      "  self._update_inplace(new_data)\n"
     ]
    }
   ],
   "source": [
    "X_train=train[[\"content_media_count\",\"content_length\",\"content_emoji_count\",\"hour\",\"min\",\"sec\",\"forward_median\",\"comment_median\",\"like_median\"]]\n",
    "Y_train=train[[\"forward_count\",\"comment_count\",\"like_count\"]]\n",
    "X_test=predict[[\"content_media_count\",\"content_length\",\"content_emoji_count\",\"hour\",\"min\",\"sec\",\"forward_median\",\"comment_median\",\"like_median\"]]\n",
    "Y_test=predict[[\"forward_count\",\"comment_count\",\"like_count\"]]\n",
    "print(X_train.shape,Y_train.shape)\n",
    "print(X_test.shape,Y_test.shape)\n",
    "\n",
    "pd.options.mode.use_inf_as_na = True\n",
    "X_train.fillna(X_train.max(),inplace=True)\n",
    "X_test.fillna(X_test.max(),inplace=True)\n",
    "\n",
    "lm=linear_model.LinearRegression()\n",
    "model=lm.fit(X_train,Y_train)\n",
    "pred=lm.predict(X_test)\n",
    "pred=pred.round()\n",
    "pred=(np.maximum(pred,0.))"
   ]
  },
  {
   "cell_type": "code",
   "execution_count": 41,
   "metadata": {},
   "outputs": [
    {
     "name": "stdout",
     "output_type": "stream",
     "text": [
      "[[  3.   4.   3.]\n",
      " [  3.   4.   3.]\n",
      " [  3.   4.   3.]\n",
      " [ 13.   7.   8.]\n",
      " [  2.   2.   2.]]\n",
      "[[ -2.63364425e-01   1.91174376e-02   5.54642973e-02   3.76150971e-02\n",
      "    5.27858190e-04   1.68362209e-03   1.58279691e+00   1.67729136e+00\n",
      "   -2.93017304e-01]\n",
      " [ -6.60961017e-01   2.55079540e-03   1.00504045e-01   1.24809468e-02\n",
      "    2.35146358e-03   1.20243289e-03   7.17940397e-02   1.55348700e+00\n",
      "    4.45266999e-03]\n",
      " [ -8.70474303e-01   9.23346652e-04   5.98607519e-02   2.34643687e-02\n",
      "    4.45920014e-05   1.52298289e-03   1.45839466e-01   3.91354761e-01\n",
      "    1.06591334e+00]]\n",
      "[-1.04897282  0.36245024  0.43019058]\n"
     ]
    }
   ],
   "source": [
    "print(pred[0:5])\n",
    "print(model.coef_)\n",
    "print(model.intercept_)"
   ]
  },
  {
   "cell_type": "markdown",
   "metadata": {},
   "source": [
    "## Analysis: Weights assigned to Statistical Factors is higher"
   ]
  },
  {
   "cell_type": "code",
   "execution_count": 42,
   "metadata": {},
   "outputs": [],
   "source": [
    "np.savetxt(\"G://DMA_PROJECT//weibo_predict_result5.csv\",pred,delimiter=',',header=\"forward_count,comment_count,like_count\",comments=\"\")\n",
    "result=pd.read_csv(\"G://DMA_PROJECT//weibo_predict_result5.csv\")"
   ]
  },
  {
   "cell_type": "code",
   "execution_count": 44,
   "metadata": {},
   "outputs": [
    {
     "name": "stderr",
     "output_type": "stream",
     "text": [
      "G:\\Anaconda\\lib\\site-packages\\ipykernel_launcher.py:2: SettingWithCopyWarning: \n",
      "A value is trying to be set on a copy of a slice from a DataFrame.\n",
      "Try using .loc[row_indexer,col_indexer] = value instead\n",
      "\n",
      "See the caveats in the documentation: http://pandas.pydata.org/pandas-docs/stable/indexing.html#indexing-view-versus-copy\n",
      "  \n",
      "G:\\Anaconda\\lib\\site-packages\\ipykernel_launcher.py:3: SettingWithCopyWarning: \n",
      "A value is trying to be set on a copy of a slice from a DataFrame.\n",
      "Try using .loc[row_indexer,col_indexer] = value instead\n",
      "\n",
      "See the caveats in the documentation: http://pandas.pydata.org/pandas-docs/stable/indexing.html#indexing-view-versus-copy\n",
      "  This is separate from the ipykernel package so we can avoid doing imports until\n",
      "G:\\Anaconda\\lib\\site-packages\\ipykernel_launcher.py:4: SettingWithCopyWarning: \n",
      "A value is trying to be set on a copy of a slice from a DataFrame.\n",
      "Try using .loc[row_indexer,col_indexer] = value instead\n",
      "\n",
      "See the caveats in the documentation: http://pandas.pydata.org/pandas-docs/stable/indexing.html#indexing-view-versus-copy\n",
      "  after removing the cwd from sys.path.\n"
     ]
    },
    {
     "name": "stdout",
     "output_type": "stream",
     "text": [
      "Score on the training set:32.47%\n"
     ]
    }
   ],
   "source": [
    "train_real_pred = Y_test\n",
    "train_real_pred['fp']=result['forward_count'].values\n",
    "train_real_pred['cp']=result['comment_count'].values\n",
    "train_real_pred['lp']=result['like_count'].values\n",
    "train_real_pred=train_real_pred.round()\n",
    "print (\"Score on the training set:{0:.2f}%\".format(precision(train_real_pred.values)*100))"
   ]
  },
  {
   "cell_type": "markdown",
   "metadata": {},
   "source": [
    "## Analysis: \n",
    "## 1. Median factor boosted accuracy yet again\n",
    "## 2. Separate predictions are necessory for F C L as in cases like Forward won't need Like Median and Comment Median. Also Each of F C L can have different best factors"
   ]
  },
  {
   "cell_type": "markdown",
   "metadata": {},
   "source": [
    "## 1 c) Separate prediction Models for FCL and Final Model"
   ]
  },
  {
   "cell_type": "markdown",
   "metadata": {},
   "source": [
    "## Model 5: (Factors: Median, Min, Max, Media, Emoji)"
   ]
  },
  {
   "cell_type": "code",
   "execution_count": 45,
   "metadata": {},
   "outputs": [
    {
     "name": "stderr",
     "output_type": "stream",
     "text": [
      "G:\\Anaconda\\lib\\site-packages\\pandas\\core\\generic.py:5430: SettingWithCopyWarning: \n",
      "A value is trying to be set on a copy of a slice from a DataFrame\n",
      "\n",
      "See the caveats in the documentation: http://pandas.pydata.org/pandas-docs/stable/indexing.html#indexing-view-versus-copy\n",
      "  self._update_inplace(new_data)\n"
     ]
    },
    {
     "name": "stdout",
     "output_type": "stream",
     "text": [
      "(1044681, 5) (1044681, 1)\n",
      "(184937, 5) (184937, 1)\n",
      "(1044681, 5) (1044681, 1)\n",
      "(184937, 5) (184937, 1)\n",
      "(1044681, 5) (1044681, 1)\n",
      "(184937, 5) (184937, 1)\n"
     ]
    }
   ],
   "source": [
    "X_train1=train[[\"forward_median\",\"forward_mean\",\"forward_min\",\"content_media_count\",\"content_emoji_count\"]]\n",
    "Y_train1=train[[\"forward_count\"]]\n",
    "X_test1=predict[[\"forward_median\",\"forward_mean\",\"forward_min\",\"content_media_count\",\"content_emoji_count\"]]\n",
    "Y_test1=predict[[\"forward_count\"]]\n",
    "\n",
    "X_train2=train[[\"comment_median\",\"comment_mean\",\"comment_min\",\"content_media_count\",\"content_emoji_count\"]]\n",
    "Y_train2=train[[\"comment_count\"]]\n",
    "X_test2=predict[[\"comment_median\",\"comment_mean\",\"comment_min\",\"content_media_count\",\"content_emoji_count\"]]\n",
    "Y_test2=predict[[\"comment_count\"]]\n",
    "\n",
    "X_train3=train[[\"like_median\",\"like_mean\",\"like_min\",\"content_media_count\",\"content_emoji_count\"]]\n",
    "Y_train3=train[[\"like_count\"]]\n",
    "X_test3=predict[[\"like_median\",\"like_mean\",\"like_min\",\"content_media_count\",\"content_emoji_count\"]]\n",
    "Y_test3=predict[[\"like_count\"]]\n",
    "\n",
    "pd.options.mode.use_inf_as_na = True\n",
    "X_train1.fillna(X_train1.max(),inplace=True)\n",
    "X_test1.fillna(X_test1.max(),inplace=True)\n",
    "X_train2.fillna(X_train2.max(),inplace=True)\n",
    "X_test2.fillna(X_test2.max(),inplace=True)\n",
    "X_train3.fillna(X_train3.max(),inplace=True)\n",
    "X_test3.fillna(X_test3.max(),inplace=True)\n",
    "\n",
    "print(X_train1.shape,Y_train1.shape)\n",
    "print(X_test1.shape,Y_test1.shape)\n",
    "\n",
    "print(X_train2.shape,Y_train2.shape)\n",
    "print(X_test2.shape,Y_test2.shape)\n",
    "\n",
    "print(X_train3.shape,Y_train3.shape)\n",
    "print(X_test3.shape,Y_test3.shape)"
   ]
  },
  {
   "cell_type": "code",
   "execution_count": 46,
   "metadata": {},
   "outputs": [],
   "source": [
    "lm1=linear_model.LinearRegression()\n",
    "model1=lm1.fit(X_train1,Y_train1)\n",
    "pred1=lm1.predict(X_test1)\n",
    "pred1=pred1.round()\n",
    "pred1=(np.maximum(pred1,0.))\n",
    "\n",
    "lm2=linear_model.LinearRegression()\n",
    "model2=lm2.fit(X_train2,Y_train2)\n",
    "pred2=lm2.predict(X_test2)\n",
    "pred2=pred2.round()\n",
    "pred2=(np.maximum(pred2,0.))\n",
    "\n",
    "lm3=linear_model.LinearRegression()\n",
    "model3=lm3.fit(X_train3,Y_train3)\n",
    "pred3=lm3.predict(X_test3)\n",
    "pred3=pred3.round()\n",
    "pred3=(np.maximum(pred3,0.))"
   ]
  },
  {
   "cell_type": "code",
   "execution_count": 48,
   "metadata": {},
   "outputs": [
    {
     "name": "stdout",
     "output_type": "stream",
     "text": [
      "[[  2.]\n",
      " [  2.]\n",
      " [  2.]\n",
      " [ 13.]\n",
      " [ 12.]]\n",
      "[[ 0.44920013  0.84888874 -0.28999774  0.32885539  0.01281363]]\n",
      "[-0.20643995]\n",
      "[[ 4.]\n",
      " [ 4.]\n",
      " [ 4.]\n",
      " [ 4.]\n",
      " [ 3.]]\n",
      "[[-0.23456946  1.16942801  0.04188341 -0.33471336  0.02751557]]\n",
      "[ 0.19200623]\n",
      "[[ 3.]\n",
      " [ 3.]\n",
      " [ 3.]\n",
      " [ 7.]\n",
      " [ 4.]]\n",
      "[[ 0.13417819  0.93515754 -0.20071856 -0.64595136 -0.11687872]]\n",
      "[ 0.47901386]\n"
     ]
    }
   ],
   "source": [
    "print(pred1[0:5])\n",
    "print(model1.coef_)\n",
    "print(model1.intercept_)\n",
    "\n",
    "print(pred2[0:5])\n",
    "print(model2.coef_)\n",
    "print(model2.intercept_)\n",
    "\n",
    "print(pred3[0:5])\n",
    "print(model3.coef_)\n",
    "print(model3.intercept_)"
   ]
  },
  {
   "cell_type": "code",
   "execution_count": 47,
   "metadata": {},
   "outputs": [],
   "source": [
    "np.savetxt(\"G://DMA_PROJECT//weibo_predict_resultc1.csv\",pred1,delimiter=',',header=\"forward_count\",comments=\"\")\n",
    "result1=pd.read_csv(\"G://DMA_PROJECT//weibo_predict_resultc1.csv\")\n",
    "np.savetxt(\"G://DMA_PROJECT//weibo_predict_resultc2.csv\",pred2,delimiter=',',header=\"comment_count\",comments=\"\")\n",
    "result2=pd.read_csv(\"G://DMA_PROJECT//weibo_predict_resultc2.csv\")\n",
    "np.savetxt(\"G://DMA_PROJECT//weibo_predict_resultc3.csv\",pred3,delimiter=',',header=\"like_count\",comments=\"\")\n",
    "result3=pd.read_csv(\"G://DMA_PROJECT//weibo_predict_resultc3.csv\")"
   ]
  },
  {
   "cell_type": "code",
   "execution_count": 49,
   "metadata": {},
   "outputs": [
    {
     "name": "stdout",
     "output_type": "stream",
     "text": [
      "Score on the training set:38.0378%\n"
     ]
    }
   ],
   "source": [
    "train_real_pred = pd.concat([Y_test1,Y_test2,Y_test3],axis=1)\n",
    "train_real_pred['fp']=result1['forward_count']\n",
    "train_real_pred['cp']=result2['comment_count']\n",
    "train_real_pred['lp']=result3['like_count']\n",
    "train_real_pred=train_real_pred.round()\n",
    "print (\"Score on the training set:{0:.4f}%\".format(precision(train_real_pred.values)*100))"
   ]
  },
  {
   "cell_type": "markdown",
   "metadata": {},
   "source": [
    "## Analysis: This is the best accuracy we got out of all the models we tried "
   ]
  },
  {
   "cell_type": "markdown",
   "metadata": {},
   "source": [
    "## We got the same accuracy for another model...."
   ]
  },
  {
   "cell_type": "markdown",
   "metadata": {},
   "source": [
    "## Model 6: (Factors: Median, Min, Max, Media, Emoji, Default Values)"
   ]
  },
  {
   "cell_type": "code",
   "execution_count": 50,
   "metadata": {},
   "outputs": [
    {
     "name": "stderr",
     "output_type": "stream",
     "text": [
      "G:\\Anaconda\\lib\\site-packages\\pandas\\core\\generic.py:5430: SettingWithCopyWarning: \n",
      "A value is trying to be set on a copy of a slice from a DataFrame\n",
      "\n",
      "See the caveats in the documentation: http://pandas.pydata.org/pandas-docs/stable/indexing.html#indexing-view-versus-copy\n",
      "  self._update_inplace(new_data)\n"
     ]
    },
    {
     "name": "stdout",
     "output_type": "stream",
     "text": [
      "(1044681, 6) (1044681, 1)\n",
      "(184937, 6) (184937, 1)\n",
      "(1044681, 6) (1044681, 1)\n",
      "(184937, 6) (184937, 1)\n",
      "(1044681, 6) (1044681, 1)\n",
      "(184937, 6) (184937, 1)\n"
     ]
    }
   ],
   "source": [
    "X_train1=train[[\"forward_median\",\"forward_mean\",\"forward_min\",\"content_media_count\",\"content_emoji_count\",\"default_forward\"]]\n",
    "Y_train1=train[[\"forward_count\"]]\n",
    "X_test1=predict[[\"forward_median\",\"forward_mean\",\"forward_min\",\"content_media_count\",\"content_emoji_count\",\"default_forward\"]]\n",
    "Y_test1=predict[[\"forward_count\"]]\n",
    "\n",
    "X_train2=train[[\"comment_median\",\"comment_mean\",\"comment_min\",\"content_media_count\",\"content_emoji_count\",\"default_comment\"]]\n",
    "Y_train2=train[[\"comment_count\"]]\n",
    "X_test2=predict[[\"comment_median\",\"comment_mean\",\"comment_min\",\"content_media_count\",\"content_emoji_count\",\"default_comment\"]]\n",
    "Y_test2=predict[[\"comment_count\"]]\n",
    "\n",
    "X_train3=train[[\"like_median\",\"like_mean\",\"like_min\",\"content_media_count\",\"content_emoji_count\",\"default_like\"]]\n",
    "Y_train3=train[[\"like_count\"]]\n",
    "X_test3=predict[[\"like_median\",\"like_mean\",\"like_min\",\"content_media_count\",\"content_emoji_count\",\"default_like\"]]\n",
    "Y_test3=predict[[\"like_count\"]]\n",
    "\n",
    "pd.options.mode.use_inf_as_na = True\n",
    "X_train1.fillna(X_train1.max(),inplace=True)\n",
    "X_test1.fillna(X_test1.max(),inplace=True)\n",
    "X_train2.fillna(X_train2.max(),inplace=True)\n",
    "X_test2.fillna(X_test2.max(),inplace=True)\n",
    "X_train3.fillna(X_train3.max(),inplace=True)\n",
    "X_test3.fillna(X_test3.max(),inplace=True)\n",
    "\n",
    "print(X_train1.shape,Y_train1.shape)\n",
    "print(X_test1.shape,Y_test1.shape)\n",
    "\n",
    "print(X_train2.shape,Y_train2.shape)\n",
    "print(X_test2.shape,Y_test2.shape)\n",
    "\n",
    "print(X_train3.shape,Y_train3.shape)\n",
    "print(X_test3.shape,Y_test3.shape)"
   ]
  },
  {
   "cell_type": "code",
   "execution_count": 51,
   "metadata": {},
   "outputs": [],
   "source": [
    "lm1=linear_model.LinearRegression()\n",
    "model1=lm1.fit(X_train1,Y_train1)\n",
    "pred1=lm1.predict(X_test1)\n",
    "pred1=pred1.round()\n",
    "pred1=(np.maximum(pred1,0.))\n",
    "\n",
    "lm2=linear_model.LinearRegression()\n",
    "model2=lm2.fit(X_train2,Y_train2)\n",
    "pred2=lm2.predict(X_test2)\n",
    "pred2=pred2.round()\n",
    "pred2=(np.maximum(pred2,0.))\n",
    "\n",
    "lm3=linear_model.LinearRegression()\n",
    "model3=lm3.fit(X_train3,Y_train3)\n",
    "pred3=lm3.predict(X_test3)\n",
    "pred3=pred3.round()\n",
    "pred3=(np.maximum(pred3,0.))"
   ]
  },
  {
   "cell_type": "code",
   "execution_count": 52,
   "metadata": {},
   "outputs": [
    {
     "name": "stdout",
     "output_type": "stream",
     "text": [
      "[[  2.]\n",
      " [  2.]\n",
      " [  2.]\n",
      " [ 13.]\n",
      " [ 12.]]\n",
      "[[ 0.44920013  0.84888874 -0.28999774  0.32885539  0.01281363  0.        ]]\n",
      "[-0.20643995]\n",
      "[[ 4.]\n",
      " [ 4.]\n",
      " [ 4.]\n",
      " [ 4.]\n",
      " [ 3.]]\n",
      "[[-0.23456946  1.16942801  0.04188341 -0.33471336  0.02751557  0.        ]]\n",
      "[ 0.19200623]\n",
      "[[ 3.]\n",
      " [ 3.]\n",
      " [ 3.]\n",
      " [ 7.]\n",
      " [ 4.]]\n",
      "[[ 0.13417819  0.93515754 -0.20071856 -0.64595136 -0.11687872  0.        ]]\n",
      "[ 0.47901386]\n"
     ]
    }
   ],
   "source": [
    "print(pred1[0:5])\n",
    "print(model1.coef_)\n",
    "print(model1.intercept_)\n",
    "\n",
    "print(pred2[0:5])\n",
    "print(model2.coef_)\n",
    "print(model2.intercept_)\n",
    "\n",
    "print(pred3[0:5])\n",
    "print(model3.coef_)\n",
    "print(model3.intercept_)"
   ]
  },
  {
   "cell_type": "code",
   "execution_count": 53,
   "metadata": {},
   "outputs": [],
   "source": [
    "np.savetxt(\"G://DMA_PROJECT//weibo_predict_resultd1.csv\",pred1,delimiter=',',header=\"forward_count\",comments=\"\")\n",
    "result1=pd.read_csv(\"G://DMA_PROJECT//weibo_predict_resultd1.csv\")\n",
    "np.savetxt(\"G://DMA_PROJECT//weibo_predict_resultd2.csv\",pred2,delimiter=',',header=\"comment_count\",comments=\"\")\n",
    "result2=pd.read_csv(\"G://DMA_PROJECT//weibo_predict_resultd2.csv\")\n",
    "np.savetxt(\"G://DMA_PROJECT//weibo_predict_resultd3.csv\",pred3,delimiter=',',header=\"like_count\",comments=\"\")\n",
    "result3=pd.read_csv(\"G://DMA_PROJECT//weibo_predict_resultd3.csv\")"
   ]
  },
  {
   "cell_type": "code",
   "execution_count": 54,
   "metadata": {},
   "outputs": [
    {
     "name": "stdout",
     "output_type": "stream",
     "text": [
      "Score on the training set:38.0378%\n"
     ]
    }
   ],
   "source": [
    "train_real_pred = pd.concat([Y_test1,Y_test2,Y_test3],axis=1)\n",
    "train_real_pred['fp']=result1['forward_count']\n",
    "train_real_pred['cp']=result2['comment_count']\n",
    "train_real_pred['lp']=result3['like_count']\n",
    "train_real_pred=train_real_pred.round()\n",
    "print (\"Score on the training set:{0:.4f}%\".format(precision(train_real_pred.values)*100))"
   ]
  },
  {
   "cell_type": "markdown",
   "metadata": {},
   "source": [
    "## Analysis: Since Model with less factors is more preferred so Model 5 is the Final Model"
   ]
  },
  {
   "cell_type": "markdown",
   "metadata": {},
   "source": [
    "# -----------------------------------------Final Model Analysis-------------------------------------"
   ]
  },
  {
   "cell_type": "markdown",
   "metadata": {},
   "source": [
    "## Factors for forward: \"forward_median\",\"forward_mean\",\"forward_min\",\"content_media_count\",\"content_emoji_count\"\n",
    "## Factors for comment: \"comment_median\",\"comment_mean\",\"comment_min\",\"content_media_count\",\"content_emoji_count\"\n",
    "## Factors for like: \"like_median\",\"like_mean\",\"like_min\",\"content_media_count\",\"content_emoji_count\""
   ]
  },
  {
   "cell_type": "markdown",
   "metadata": {},
   "source": [
    "## Linear Equations:\n",
    "## forward_count = 0.44 x forward_median + 0.84 x forward_mean - 0.28 x forward_min + 0.32 x content_media_count + 0.01 x content_emoji_count - 0.2\n",
    "\n",
    "## comment_count = 0.23 x comment_median + 1.16 x comment_mean - 0.04 x comment_min - 0.33 x content_media_count + 0.02 x content_emoji_count + 0.19\n",
    "\n",
    "## like_count = 0.13 x like_median + 0.93 x like_mean - 0.2 x like_min - 0.64 x content_media_count - 0.11 x content_emoji_count + 0.47"
   ]
  },
  {
   "cell_type": "markdown",
   "metadata": {},
   "source": [
    "# Final Precision: 38.04%"
   ]
  },
  {
   "cell_type": "markdown",
   "metadata": {},
   "source": [
    "# Graphical Analysis of final Model"
   ]
  },
  {
   "cell_type": "markdown",
   "metadata": {},
   "source": [
    "### Forward Predictions"
   ]
  },
  {
   "cell_type": "code",
   "execution_count": 57,
   "metadata": {},
   "outputs": [
    {
     "data": {
      "text/plain": [
       "<matplotlib.collections.PathCollection at 0x5eefb6fc18>"
      ]
     },
     "execution_count": 57,
     "metadata": {},
     "output_type": "execute_result"
    },
    {
     "data": {
      "image/png": "[encoded data removed]",
      "text/plain": [
       "<Figure size 432x288 with 1 Axes>"
      ]
     },
     "metadata": {},
     "output_type": "display_data"
    }
   ],
   "source": [
    "plt.scatter(Y_test1,pred1)"
   ]
  },
  {
   "cell_type": "markdown",
   "metadata": {},
   "source": [
    "### Comment Predictions"
   ]
  },
  {
   "cell_type": "code",
   "execution_count": 58,
   "metadata": {},
   "outputs": [
    {
     "data": {
      "text/plain": [
       "<matplotlib.collections.PathCollection at 0x5eefae5668>"
      ]
     },
     "execution_count": 58,
     "metadata": {},
     "output_type": "execute_result"
    },
    {
     "data": {
      "image/png": "[encoded data removed]",
      "text/plain": [
       "<Figure size 432x288 with 1 Axes>"
      ]
     },
     "metadata": {},
     "output_type": "display_data"
    }
   ],
   "source": [
    "plt.scatter(Y_test2,pred2)"
   ]
  },
  {
   "cell_type": "markdown",
   "metadata": {},
   "source": [
    "### Like Predictions"
   ]
  },
  {
   "cell_type": "code",
   "execution_count": 59,
   "metadata": {},
   "outputs": [
    {
     "data": {
      "text/plain": [
       "<matplotlib.collections.PathCollection at 0x5eefb960b8>"
      ]
     },
     "execution_count": 59,
     "metadata": {},
     "output_type": "execute_result"
    },
    {
     "data": {
      "image/png": "[encoded data removed]",
      "text/plain": [
       "<Figure size 432x288 with 1 Axes>"
      ]
     },
     "metadata": {},
     "output_type": "display_data"
    }
   ],
   "source": [
    "plt.scatter(Y_test3,pred3)"
   ]
  },
  {
   "cell_type": "markdown",
   "metadata": {},
   "source": [
    "## Analysis: Better prediction for lower F C L"
   ]
  },
  {
   "cell_type": "markdown",
   "metadata": {},
   "source": [
    "# Scope and Learnings\n"
   ]
  },
  {
   "cell_type": "markdown",
   "metadata": {},
   "source": [
    "## 1. Though we got satisfactory results from our above factors, Sina Weibo Prediction consists of vast factors for prediction and further new factors are very much possible to find like BOW and polarity which can increase the accuracy. More In depth analysis for these microblog site factors can lead to more better results. \n",
    "## 2. Due to some factors hard to process like BOW and Polarity for relatively large data we might not have used them for selected models used here but these can also be used for better results.\n",
    "## 3. We have considered BOW and polarity for approx first 10K tuples and computed accuracy.This work can further be carried out.\n"
   ]
  },
  {
   "cell_type": "markdown",
   "metadata": {},
   "source": [
    "# Limitation"
   ]
  },
  {
   "cell_type": "markdown",
   "metadata": {},
   "source": [
    "\n",
    "## Prediction for higher F C L is less accurate"
   ]
  },
  {
   "cell_type": "markdown",
   "metadata": {},
   "source": []
  }
 ],
 "metadata": {
  "kernelspec": {
   "display_name": "Python 3",
   "language": "python",
   "name": "python3"
  },
  "language_info": {
   "codemirror_mode": {
    "name": "ipython",
    "version": 3
   },
   "file_extension": ".py",
   "mimetype": "text/x-python",
   "name": "python",
   "nbconvert_exporter": "python",
   "pygments_lexer": "ipython3",
   "version": "3.6.5"
  }
 },
 "nbformat": 4,
 "nbformat_minor": 2
}
