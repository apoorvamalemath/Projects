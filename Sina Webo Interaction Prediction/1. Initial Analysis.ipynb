{
 "cells": [
  {
   "cell_type": "markdown",
   "metadata": {},
   "source": [
    "# Understanding the data\n"
   ]
  },
  {
   "cell_type": "code",
   "execution_count": null,
   "metadata": {},
   "outputs": [],
   "source": [
    "import numpy as np\n",
    "import pandas as pd\n",
    "import matplotlib.pyplot as plt\n",
    "import seaborn as sns \n",
    "%pylab inline\n",
    "import copy\n",
    "from googletrans import Translator\n",
    "import emoji\n",
    "import re"
   ]
  },
  {
   "cell_type": "code",
   "execution_count": 3,
   "metadata": {},
   "outputs": [],
   "source": [
    "#Names = ['u_id','m_id','time','forward_count','comment_count','like_count','content']\n",
    "Names = ['u_id','m_id','time','content']\n",
    "\n",
    "train_dataset= pd.read_fwf(\"G:\\\\weibo_train_data.txt\",header=None,names=Names ,encoding='utf-8',delimiter=\"\\t\")\n",
    "\n",
    "# fixed width formatted lines."
   ]
  },
  {
   "cell_type": "markdown",
   "metadata": {},
   "source": [
    "# Observing the dataset "
   ]
  },
  {
   "cell_type": "code",
   "execution_count": 3,
   "metadata": {},
   "outputs": [
    {
     "data": {
      "text/html": [
       "<div>\n",
       "<style scoped>\n",
       "    .dataframe tbody tr th:only-of-type {\n",
       "        vertical-align: middle;\n",
       "    }\n",
       "\n",
       "    .dataframe tbody tr th {\n",
       "        vertical-align: top;\n",
       "    }\n",
       "\n",
       "    .dataframe thead th {\n",
       "        text-align: right;\n",
       "    }\n",
       "</style>\n",
       "<table border=\"1\" class=\"dataframe\">\n",
       "  <thead>\n",
       "    <tr style=\"text-align: right;\">\n",
       "      <th></th>\n",
       "      <th>u_id</th>\n",
       "      <th>m_id</th>\n",
       "      <th>time</th>\n",
       "      <th>content</th>\n",
       "    </tr>\n",
       "  </thead>\n",
       "  <tbody>\n",
       "    <tr>\n",
       "      <th>0</th>\n",
       "      <td>d38e9bed5d98110dc2489d0d1cac3c2a</td>\n",
       "      <td>7d45833d9865727a88b960b0603c19f6</td>\n",
       "      <td>2015-02-23 17:41:29</td>\n",
       "      <td>0\\t0\\t0\\t丽江旅游(sz002033)#股票##炒股##财经##理财##投资#推荐包...</td>\n",
       "    </tr>\n",
       "    <tr>\n",
       "      <th>1</th>\n",
       "      <td>fa13974743d3fe6ff40d21b872325e9e</td>\n",
       "      <td>8169f1d45051e08ef213bf1106b1225d</td>\n",
       "      <td>2015-02-14 12:49:58</td>\n",
       "      <td>0\\t0\\t0\\t#丁辰灵的红包#挣钱是一种能力，抢红包拼的是技术。我抢到了丁辰灵 和@阚洪...</td>\n",
       "    </tr>\n",
       "    <tr>\n",
       "      <th>2</th>\n",
       "      <td>da534fe87e7a52777bee5c30573ed5fd</td>\n",
       "      <td>68cd0258c31c2c525f94febea2d9523b</td>\n",
       "      <td>2015-03-31 13:58:06</td>\n",
       "      <td>0\\t0\\t0\\t淘宝网这些傻逼。。。气的劳资有火没地儿发~尼玛，你们都瞎了</td>\n",
       "    </tr>\n",
       "    <tr>\n",
       "      <th>3</th>\n",
       "      <td>e06a22b7e065e559a1f0bf7841a85c51</td>\n",
       "      <td>00b9f86b4915aedb7db943c54fd19d59</td>\n",
       "      <td>2015-06-11 20:39:57</td>\n",
       "      <td>0\\t4\\t3\\t看点不能说的，你们都懂[笑cry]</td>\n",
       "    </tr>\n",
       "    <tr>\n",
       "      <th>4</th>\n",
       "      <td>f9828598f9664d4e347ef2048ce17734</td>\n",
       "      <td>c7f6f66044c0c5a3330e2c5371be6824</td>\n",
       "      <td>2015-03-10 18:02:38</td>\n",
       "      <td>0\\t0\\t0\\t111多张</td>\n",
       "    </tr>\n",
       "    <tr>\n",
       "      <th>5</th>\n",
       "      <td>d80f3d3c5c1d658e82b837a4dd1af849</td>\n",
       "      <td>bfc0819b83ec59ce767287077f2b3507</td>\n",
       "      <td>2015-02-13 01:09:41</td>\n",
       "      <td>0\\t0\\t0\\t有生之年！我最喜欢的up主跟我的三体勾搭到一起了！幸福感爆棚！ @黑桐谷歌...</td>\n",
       "    </tr>\n",
       "    <tr>\n",
       "      <th>6</th>\n",
       "      <td>f349a67d1cd7c8683c5bbc5f8486e193</td>\n",
       "      <td>83674a60e5310195fc35d97ea8f45c46</td>\n",
       "      <td>2015-07-15 01:16:24</td>\n",
       "      <td>0\\t0\\t0\\t论优衣库试衣间隔音效果好坏？ http://t.cn/RL5aSzp（分享...</td>\n",
       "    </tr>\n",
       "    <tr>\n",
       "      <th>7</th>\n",
       "      <td>24b621c98f2594b698c0b1d60c9ae6db</td>\n",
       "      <td>2cbd3d514ed5ad3dab81aa043c8b3d0a</td>\n",
       "      <td>2015-05-19 10:24:57</td>\n",
       "      <td>0\\t0\\t0\\t如此平凡的日常一幕，还能够再积累多少呢。 终有一天，当我们到了看着这张照片...</td>\n",
       "    </tr>\n",
       "    <tr>\n",
       "      <th>8</th>\n",
       "      <td>e44d81d630e4f382f657e72aa4b685da</td>\n",
       "      <td>8a88a25f9f26ed9f79080eaacc1a8668</td>\n",
       "      <td>2015-02-11 11:03:36</td>\n",
       "      <td>0\\t1\\t0\\t#罗永浩的红包#二十三，糖瓜儿粘，抢个红包乐翻天！我抢到了罗永浩 和@_王...</td>\n",
       "    </tr>\n",
       "    <tr>\n",
       "      <th>9</th>\n",
       "      <td>fbe6c953632e1b3dda66cf6118b6ab12</td>\n",
       "      <td>f359a74cb4ac6150a3af8325eda04ea0</td>\n",
       "      <td>2015-03-22 00:54:34</td>\n",
       "      <td>0\\t0\\t0\\t有好东西分享给你！闪记笔记记事，最好用的中文待办软件，还等什么？快去下载：...</td>\n",
       "    </tr>\n",
       "  </tbody>\n",
       "</table>\n",
       "</div>"
      ],
      "text/plain": [
       "                               u_id                              m_id  \\\n",
       "0  d38e9bed5d98110dc2489d0d1cac3c2a  7d45833d9865727a88b960b0603c19f6   \n",
       "1  fa13974743d3fe6ff40d21b872325e9e  8169f1d45051e08ef213bf1106b1225d   \n",
       "2  da534fe87e7a52777bee5c30573ed5fd  68cd0258c31c2c525f94febea2d9523b   \n",
       "3  e06a22b7e065e559a1f0bf7841a85c51  00b9f86b4915aedb7db943c54fd19d59   \n",
       "4  f9828598f9664d4e347ef2048ce17734  c7f6f66044c0c5a3330e2c5371be6824   \n",
       "5  d80f3d3c5c1d658e82b837a4dd1af849  bfc0819b83ec59ce767287077f2b3507   \n",
       "6  f349a67d1cd7c8683c5bbc5f8486e193  83674a60e5310195fc35d97ea8f45c46   \n",
       "7  24b621c98f2594b698c0b1d60c9ae6db  2cbd3d514ed5ad3dab81aa043c8b3d0a   \n",
       "8  e44d81d630e4f382f657e72aa4b685da  8a88a25f9f26ed9f79080eaacc1a8668   \n",
       "9  fbe6c953632e1b3dda66cf6118b6ab12  f359a74cb4ac6150a3af8325eda04ea0   \n",
       "\n",
       "                  time                                            content  \n",
       "0  2015-02-23 17:41:29  0\\t0\\t0\\t丽江旅游(sz002033)#股票##炒股##财经##理财##投资#推荐包...  \n",
       "1  2015-02-14 12:49:58  0\\t0\\t0\\t#丁辰灵的红包#挣钱是一种能力，抢红包拼的是技术。我抢到了丁辰灵 和@阚洪...  \n",
       "2  2015-03-31 13:58:06             0\\t0\\t0\\t淘宝网这些傻逼。。。气的劳资有火没地儿发~尼玛，你们都瞎了  \n",
       "3  2015-06-11 20:39:57                         0\\t4\\t3\\t看点不能说的，你们都懂[笑cry]  \n",
       "4  2015-03-10 18:02:38                                     0\\t0\\t0\\t111多张  \n",
       "5  2015-02-13 01:09:41  0\\t0\\t0\\t有生之年！我最喜欢的up主跟我的三体勾搭到一起了！幸福感爆棚！ @黑桐谷歌...  \n",
       "6  2015-07-15 01:16:24  0\\t0\\t0\\t论优衣库试衣间隔音效果好坏？ http://t.cn/RL5aSzp（分享...  \n",
       "7  2015-05-19 10:24:57  0\\t0\\t0\\t如此平凡的日常一幕，还能够再积累多少呢。 终有一天，当我们到了看着这张照片...  \n",
       "8  2015-02-11 11:03:36  0\\t1\\t0\\t#罗永浩的红包#二十三，糖瓜儿粘，抢个红包乐翻天！我抢到了罗永浩 和@_王...  \n",
       "9  2015-03-22 00:54:34  0\\t0\\t0\\t有好东西分享给你！闪记笔记记事，最好用的中文待办软件，还等什么？快去下载：...  "
      ]
     },
     "execution_count": 3,
     "metadata": {},
     "output_type": "execute_result"
    }
   ],
   "source": [
    "train_dataset.head(10)"
   ]
  },
  {
   "cell_type": "code",
   "execution_count": 4,
   "metadata": {},
   "outputs": [
    {
     "name": "stdout",
     "output_type": "stream",
     "text": [
      "Predict_Dataset has 1229618 records\n"
     ]
    }
   ],
   "source": [
    "print(\"Predict_Dataset has \"+str(train_dataset.shape[0])+\" records\")"
   ]
  },
  {
   "cell_type": "code",
   "execution_count": 6,
   "metadata": {},
   "outputs": [
    {
     "name": "stdout",
     "output_type": "stream",
     "text": [
      "Predict_Dataset has 4 attributes\n"
     ]
    }
   ],
   "source": [
    "print(\"Predict_Dataset has \"+str(train_dataset.shape[1])+\" attributes\")"
   ]
  },
  {
   "cell_type": "code",
   "execution_count": 6,
   "metadata": {},
   "outputs": [],
   "source": [
    "train_content_mix=train_dataset['content']"
   ]
  },
  {
   "cell_type": "code",
   "execution_count": 7,
   "metadata": {},
   "outputs": [
    {
     "name": "stdout",
     "output_type": "stream",
     "text": [
      "   0  1  2                                                  3\n",
      "0  0  0  0  丽江旅游(sz002033)#股票##炒股##财经##理财##投资#推荐包赢股，盈利对半分成...\n",
      "1  0  0  0  #丁辰灵的红包#挣钱是一种能力，抢红包拼的是技术。我抢到了丁辰灵 和@阚洪岩 一起发出的现金...\n",
      "2  0  0  0                      淘宝网这些傻逼。。。气的劳资有火没地儿发~尼玛，你们都瞎了\n",
      "3  0  4  3                                  看点不能说的，你们都懂[笑cry]\n",
      "4  0  0  0                                              111多张\n"
     ]
    }
   ],
   "source": [
    "train_content_split = pd.DataFrame(train_content_mix.str.split('\\t',expand=True))\n",
    "print(train_content_split.head(5))"
   ]
  },
  {
   "cell_type": "code",
   "execution_count": 8,
   "metadata": {},
   "outputs": [
    {
     "name": "stdout",
     "output_type": "stream",
     "text": [
      "                               u_id                              m_id  \\\n",
      "0  d38e9bed5d98110dc2489d0d1cac3c2a  7d45833d9865727a88b960b0603c19f6   \n",
      "1  fa13974743d3fe6ff40d21b872325e9e  8169f1d45051e08ef213bf1106b1225d   \n",
      "2  da534fe87e7a52777bee5c30573ed5fd  68cd0258c31c2c525f94febea2d9523b   \n",
      "3  e06a22b7e065e559a1f0bf7841a85c51  00b9f86b4915aedb7db943c54fd19d59   \n",
      "4  f9828598f9664d4e347ef2048ce17734  c7f6f66044c0c5a3330e2c5371be6824   \n",
      "\n",
      "                  time                                            content  0  \\\n",
      "0  2015-02-23 17:41:29  0\\t0\\t0\\t丽江旅游(sz002033)#股票##炒股##财经##理财##投资#推荐包...  0   \n",
      "1  2015-02-14 12:49:58  0\\t0\\t0\\t#丁辰灵的红包#挣钱是一种能力，抢红包拼的是技术。我抢到了丁辰灵 和@阚洪...  0   \n",
      "2  2015-03-31 13:58:06             0\\t0\\t0\\t淘宝网这些傻逼。。。气的劳资有火没地儿发~尼玛，你们都瞎了  0   \n",
      "3  2015-06-11 20:39:57                         0\\t4\\t3\\t看点不能说的，你们都懂[笑cry]  0   \n",
      "4  2015-03-10 18:02:38                                     0\\t0\\t0\\t111多张  0   \n",
      "\n",
      "   1  2                                                  3  \n",
      "0  0  0  丽江旅游(sz002033)#股票##炒股##财经##理财##投资#推荐包赢股，盈利对半分成...  \n",
      "1  0  0  #丁辰灵的红包#挣钱是一种能力，抢红包拼的是技术。我抢到了丁辰灵 和@阚洪岩 一起发出的现金...  \n",
      "2  0  0                      淘宝网这些傻逼。。。气的劳资有火没地儿发~尼玛，你们都瞎了  \n",
      "3  4  3                                  看点不能说的，你们都懂[笑cry]  \n",
      "4  0  0                                              111多张  \n"
     ]
    }
   ],
   "source": [
    "#frames = [train_data,train_content_split]\n",
    "#esult = pd.concat(frames)\n",
    "#df['uid']=train_data['u_id']\n",
    "\n",
    "train_dataset2 = pd.concat([train_dataset,train_content_split], axis=1)\n",
    "print(train_dataset2.head(5))"
   ]
  },
  {
   "cell_type": "code",
   "execution_count": 9,
   "metadata": {
    "scrolled": true
   },
   "outputs": [
    {
     "data": {
      "text/html": [
       "<div>\n",
       "<style scoped>\n",
       "    .dataframe tbody tr th:only-of-type {\n",
       "        vertical-align: middle;\n",
       "    }\n",
       "\n",
       "    .dataframe tbody tr th {\n",
       "        vertical-align: top;\n",
       "    }\n",
       "\n",
       "    .dataframe thead th {\n",
       "        text-align: right;\n",
       "    }\n",
       "</style>\n",
       "<table border=\"1\" class=\"dataframe\">\n",
       "  <thead>\n",
       "    <tr style=\"text-align: right;\">\n",
       "      <th></th>\n",
       "      <th>u_id</th>\n",
       "      <th>m_id</th>\n",
       "      <th>time</th>\n",
       "      <th>forward_count</th>\n",
       "      <th>comment_count</th>\n",
       "      <th>like_count</th>\n",
       "      <th>content</th>\n",
       "    </tr>\n",
       "  </thead>\n",
       "  <tbody>\n",
       "    <tr>\n",
       "      <th>0</th>\n",
       "      <td>d38e9bed5d98110dc2489d0d1cac3c2a</td>\n",
       "      <td>7d45833d9865727a88b960b0603c19f6</td>\n",
       "      <td>2015-02-23 17:41:29</td>\n",
       "      <td>0</td>\n",
       "      <td>0</td>\n",
       "      <td>0</td>\n",
       "      <td>丽江旅游(sz002033)#股票##炒股##财经##理财##投资#推荐包赢股，盈利对半分成...</td>\n",
       "    </tr>\n",
       "    <tr>\n",
       "      <th>1</th>\n",
       "      <td>fa13974743d3fe6ff40d21b872325e9e</td>\n",
       "      <td>8169f1d45051e08ef213bf1106b1225d</td>\n",
       "      <td>2015-02-14 12:49:58</td>\n",
       "      <td>0</td>\n",
       "      <td>0</td>\n",
       "      <td>0</td>\n",
       "      <td>#丁辰灵的红包#挣钱是一种能力，抢红包拼的是技术。我抢到了丁辰灵 和@阚洪岩 一起发出的现金...</td>\n",
       "    </tr>\n",
       "    <tr>\n",
       "      <th>2</th>\n",
       "      <td>da534fe87e7a52777bee5c30573ed5fd</td>\n",
       "      <td>68cd0258c31c2c525f94febea2d9523b</td>\n",
       "      <td>2015-03-31 13:58:06</td>\n",
       "      <td>0</td>\n",
       "      <td>0</td>\n",
       "      <td>0</td>\n",
       "      <td>淘宝网这些傻逼。。。气的劳资有火没地儿发~尼玛，你们都瞎了</td>\n",
       "    </tr>\n",
       "    <tr>\n",
       "      <th>3</th>\n",
       "      <td>e06a22b7e065e559a1f0bf7841a85c51</td>\n",
       "      <td>00b9f86b4915aedb7db943c54fd19d59</td>\n",
       "      <td>2015-06-11 20:39:57</td>\n",
       "      <td>0</td>\n",
       "      <td>4</td>\n",
       "      <td>3</td>\n",
       "      <td>看点不能说的，你们都懂[笑cry]</td>\n",
       "    </tr>\n",
       "    <tr>\n",
       "      <th>4</th>\n",
       "      <td>f9828598f9664d4e347ef2048ce17734</td>\n",
       "      <td>c7f6f66044c0c5a3330e2c5371be6824</td>\n",
       "      <td>2015-03-10 18:02:38</td>\n",
       "      <td>0</td>\n",
       "      <td>0</td>\n",
       "      <td>0</td>\n",
       "      <td>111多张</td>\n",
       "    </tr>\n",
       "  </tbody>\n",
       "</table>\n",
       "</div>"
      ],
      "text/plain": [
       "                               u_id                              m_id  \\\n",
       "0  d38e9bed5d98110dc2489d0d1cac3c2a  7d45833d9865727a88b960b0603c19f6   \n",
       "1  fa13974743d3fe6ff40d21b872325e9e  8169f1d45051e08ef213bf1106b1225d   \n",
       "2  da534fe87e7a52777bee5c30573ed5fd  68cd0258c31c2c525f94febea2d9523b   \n",
       "3  e06a22b7e065e559a1f0bf7841a85c51  00b9f86b4915aedb7db943c54fd19d59   \n",
       "4  f9828598f9664d4e347ef2048ce17734  c7f6f66044c0c5a3330e2c5371be6824   \n",
       "\n",
       "                  time forward_count comment_count like_count  \\\n",
       "0  2015-02-23 17:41:29             0             0          0   \n",
       "1  2015-02-14 12:49:58             0             0          0   \n",
       "2  2015-03-31 13:58:06             0             0          0   \n",
       "3  2015-06-11 20:39:57             0             4          3   \n",
       "4  2015-03-10 18:02:38             0             0          0   \n",
       "\n",
       "                                             content  \n",
       "0  丽江旅游(sz002033)#股票##炒股##财经##理财##投资#推荐包赢股，盈利对半分成...  \n",
       "1  #丁辰灵的红包#挣钱是一种能力，抢红包拼的是技术。我抢到了丁辰灵 和@阚洪岩 一起发出的现金...  \n",
       "2                      淘宝网这些傻逼。。。气的劳资有火没地儿发~尼玛，你们都瞎了  \n",
       "3                                  看点不能说的，你们都懂[笑cry]  \n",
       "4                                              111多张  "
      ]
     },
     "execution_count": 9,
     "metadata": {},
     "output_type": "execute_result"
    }
   ],
   "source": [
    "del train_dataset2['content']\n",
    "train_dataset2.rename(columns={0:'forward_count'},inplace=True)\n",
    "train_dataset2.rename(columns={1:'comment_count'},inplace=True)\n",
    "train_dataset2.rename(columns={2:'like_count'},inplace=True)\n",
    "train_dataset2.rename(columns={3:'content'},inplace=True)\n",
    "train_dataset2.head(5)"
   ]
  },
  {
   "cell_type": "code",
   "execution_count": 17,
   "metadata": {},
   "outputs": [
    {
     "name": "stdout",
     "output_type": "stream",
     "text": [
      "                                             content\n",
      "0  丽江旅游(sz002033)#股票##炒股##财经##理财##投资#推荐包赢股，盈利对半分成...\n",
      "1  #丁辰灵的红包#挣钱是一种能力，抢红包拼的是技术。我抢到了丁辰灵 和@阚洪岩 一起发出的现金...\n",
      "2                      淘宝网这些傻逼。。。气的劳资有火没地儿发~尼玛，你们都瞎了\n",
      "3                                  看点不能说的，你们都懂[笑cry]\n",
      "4                                              111多张\n"
     ]
    }
   ],
   "source": [
    "translate_dataframe = pd.DataFrame(data=train_dataset2['content'].head(10))\n",
    "translator = Translator()\n",
    "translate_dataframe[\"English_content\"] = translate_dataframe['content'].map(lambda x: translator.translate(x, src=\"zh-CN\", dest=\"en\").text)"
   ]
  },
  {
   "cell_type": "code",
   "execution_count": 18,
   "metadata": {
    "scrolled": false
   },
   "outputs": [
    {
     "name": "stdout",
     "output_type": "stream",
     "text": [
      "                                             content  \\\n",
      "0  丽江旅游(sz002033)#股票##炒股##财经##理财##投资#推荐包赢股，盈利对半分成...   \n",
      "1  #丁辰灵的红包#挣钱是一种能力，抢红包拼的是技术。我抢到了丁辰灵 和@阚洪岩 一起发出的现金...   \n",
      "2                      淘宝网这些傻逼。。。气的劳资有火没地儿发~尼玛，你们都瞎了   \n",
      "3                                  看点不能说的，你们都懂[笑cry]   \n",
      "4                                              111多张   \n",
      "5  有生之年！我最喜欢的up主跟我的三体勾搭到一起了！幸福感爆棚！ @黑桐谷歌  http://...   \n",
      "6        论优衣库试衣间隔音效果好坏？ http://t.cn/RL5aSzp（分享自 @知乎）   \n",
      "7  如此平凡的日常一幕，还能够再积累多少呢。 终有一天，当我们到了看着这张照片能感受到一阵怀念的...   \n",
      "8  #罗永浩的红包#二十三，糖瓜儿粘，抢个红包乐翻天！我抢到了罗永浩 和@_王先森就是我 一起发...   \n",
      "9  有好东西分享给你！闪记笔记记事，最好用的中文待办软件，还等什么？快去下载： http://t...   \n",
      "\n",
      "                                     English_content  \n",
      "0  Lijiang Tourism (sz002033)#Stock##炒股##财经##理财##...  \n",
      "1  #丁辰灵的红包# Earning money is a kind of ability. I...  \n",
      "2  Taobao.com is stupid. . . The labor of the gas...  \n",
      "3  You can't say anything, you all know [laughing...  \n",
      "4                                      More than 111  \n",
      "5  For a lifetime! My favorite up master is with ...  \n",
      "6  On the effect of UNIQLO's fitting interval sou...  \n",
      "7  How much more can you accumulate in such an or...  \n",
      "8  #罗永浩的红包# Twenty-three, sugar melons sticky, gr...  \n",
      "9  Have something to share with you! Flash note n...  \n"
     ]
    }
   ],
   "source": [
    "print(translate_dataframe)"
   ]
  },
  {
   "cell_type": "code",
   "execution_count": 19,
   "metadata": {},
   "outputs": [
    {
     "data": {
      "text/html": [
       "<div>\n",
       "<style scoped>\n",
       "    .dataframe tbody tr th:only-of-type {\n",
       "        vertical-align: middle;\n",
       "    }\n",
       "\n",
       "    .dataframe tbody tr th {\n",
       "        vertical-align: top;\n",
       "    }\n",
       "\n",
       "    .dataframe thead th {\n",
       "        text-align: right;\n",
       "    }\n",
       "</style>\n",
       "<table border=\"1\" class=\"dataframe\">\n",
       "  <thead>\n",
       "    <tr style=\"text-align: right;\">\n",
       "      <th></th>\n",
       "      <th>u_id</th>\n",
       "      <th>m_id</th>\n",
       "      <th>time</th>\n",
       "      <th>forward_count</th>\n",
       "      <th>comment_count</th>\n",
       "      <th>like_count</th>\n",
       "      <th>content</th>\n",
       "    </tr>\n",
       "  </thead>\n",
       "  <tbody>\n",
       "    <tr>\n",
       "      <th>0</th>\n",
       "      <td>d38e9bed5d98110dc2489d0d1cac3c2a</td>\n",
       "      <td>7d45833d9865727a88b960b0603c19f6</td>\n",
       "      <td>2015-02-23 17:41:29</td>\n",
       "      <td>0</td>\n",
       "      <td>0</td>\n",
       "      <td>0</td>\n",
       "      <td>丽江旅游(sz002033)#股票##炒股##财经##理财##投资#推荐包赢股，盈利对半分成...</td>\n",
       "    </tr>\n",
       "    <tr>\n",
       "      <th>1</th>\n",
       "      <td>fa13974743d3fe6ff40d21b872325e9e</td>\n",
       "      <td>8169f1d45051e08ef213bf1106b1225d</td>\n",
       "      <td>2015-02-14 12:49:58</td>\n",
       "      <td>0</td>\n",
       "      <td>0</td>\n",
       "      <td>0</td>\n",
       "      <td>#丁辰灵的红包#挣钱是一种能力，抢红包拼的是技术。我抢到了丁辰灵 和@阚洪岩 一起发出的现金...</td>\n",
       "    </tr>\n",
       "    <tr>\n",
       "      <th>2</th>\n",
       "      <td>da534fe87e7a52777bee5c30573ed5fd</td>\n",
       "      <td>68cd0258c31c2c525f94febea2d9523b</td>\n",
       "      <td>2015-03-31 13:58:06</td>\n",
       "      <td>0</td>\n",
       "      <td>0</td>\n",
       "      <td>0</td>\n",
       "      <td>淘宝网这些傻逼。。。气的劳资有火没地儿发~尼玛，你们都瞎了</td>\n",
       "    </tr>\n",
       "    <tr>\n",
       "      <th>3</th>\n",
       "      <td>e06a22b7e065e559a1f0bf7841a85c51</td>\n",
       "      <td>00b9f86b4915aedb7db943c54fd19d59</td>\n",
       "      <td>2015-06-11 20:39:57</td>\n",
       "      <td>0</td>\n",
       "      <td>4</td>\n",
       "      <td>3</td>\n",
       "      <td>看点不能说的，你们都懂[笑cry]</td>\n",
       "    </tr>\n",
       "    <tr>\n",
       "      <th>4</th>\n",
       "      <td>f9828598f9664d4e347ef2048ce17734</td>\n",
       "      <td>c7f6f66044c0c5a3330e2c5371be6824</td>\n",
       "      <td>2015-03-10 18:02:38</td>\n",
       "      <td>0</td>\n",
       "      <td>0</td>\n",
       "      <td>0</td>\n",
       "      <td>111多张</td>\n",
       "    </tr>\n",
       "    <tr>\n",
       "      <th>5</th>\n",
       "      <td>d80f3d3c5c1d658e82b837a4dd1af849</td>\n",
       "      <td>bfc0819b83ec59ce767287077f2b3507</td>\n",
       "      <td>2015-02-13 01:09:41</td>\n",
       "      <td>0</td>\n",
       "      <td>0</td>\n",
       "      <td>0</td>\n",
       "      <td>有生之年！我最喜欢的up主跟我的三体勾搭到一起了！幸福感爆棚！ @黑桐谷歌  http://...</td>\n",
       "    </tr>\n",
       "    <tr>\n",
       "      <th>6</th>\n",
       "      <td>f349a67d1cd7c8683c5bbc5f8486e193</td>\n",
       "      <td>83674a60e5310195fc35d97ea8f45c46</td>\n",
       "      <td>2015-07-15 01:16:24</td>\n",
       "      <td>0</td>\n",
       "      <td>0</td>\n",
       "      <td>0</td>\n",
       "      <td>论优衣库试衣间隔音效果好坏？ http://t.cn/RL5aSzp（分享自 @知乎）</td>\n",
       "    </tr>\n",
       "    <tr>\n",
       "      <th>7</th>\n",
       "      <td>24b621c98f2594b698c0b1d60c9ae6db</td>\n",
       "      <td>2cbd3d514ed5ad3dab81aa043c8b3d0a</td>\n",
       "      <td>2015-05-19 10:24:57</td>\n",
       "      <td>0</td>\n",
       "      <td>0</td>\n",
       "      <td>0</td>\n",
       "      <td>如此平凡的日常一幕，还能够再积累多少呢。 终有一天，当我们到了看着这张照片能感受到一阵怀念的...</td>\n",
       "    </tr>\n",
       "    <tr>\n",
       "      <th>8</th>\n",
       "      <td>e44d81d630e4f382f657e72aa4b685da</td>\n",
       "      <td>8a88a25f9f26ed9f79080eaacc1a8668</td>\n",
       "      <td>2015-02-11 11:03:36</td>\n",
       "      <td>0</td>\n",
       "      <td>1</td>\n",
       "      <td>0</td>\n",
       "      <td>#罗永浩的红包#二十三，糖瓜儿粘，抢个红包乐翻天！我抢到了罗永浩 和@_王先森就是我 一起发...</td>\n",
       "    </tr>\n",
       "    <tr>\n",
       "      <th>9</th>\n",
       "      <td>fbe6c953632e1b3dda66cf6118b6ab12</td>\n",
       "      <td>f359a74cb4ac6150a3af8325eda04ea0</td>\n",
       "      <td>2015-03-22 00:54:34</td>\n",
       "      <td>0</td>\n",
       "      <td>0</td>\n",
       "      <td>0</td>\n",
       "      <td>有好东西分享给你！闪记笔记记事，最好用的中文待办软件，还等什么？快去下载： http://t...</td>\n",
       "    </tr>\n",
       "    <tr>\n",
       "      <th>10</th>\n",
       "      <td>f9a3ca6bc1e75d173cfc98ec4b108072</td>\n",
       "      <td>c7bc3445e8b90db8cc5e045f606dc1ee</td>\n",
       "      <td>2015-02-11 19:29:04</td>\n",
       "      <td>21</td>\n",
       "      <td>2</td>\n",
       "      <td>6</td>\n",
       "      <td>http://t.cn/RwUFNuQ Microsoft Azure Machine Le...</td>\n",
       "    </tr>\n",
       "    <tr>\n",
       "      <th>11</th>\n",
       "      <td>3c68bbb9da57fcc752c8a493d91bdd3a</td>\n",
       "      <td>77e14cf9d460715e84c51747c3641a9b</td>\n",
       "      <td>2015-04-28 00:14:05</td>\n",
       "      <td>0</td>\n",
       "      <td>0</td>\n",
       "      <td>2</td>\n",
       "      <td>#边走边唱#生命会有许多风雨让我们痛，但我们会在痛苦中成长，而且喜欢。[心]喜欢能有这样的世...</td>\n",
       "    </tr>\n",
       "    <tr>\n",
       "      <th>12</th>\n",
       "      <td>104e8d55e98eb3cd834810088af039fe</td>\n",
       "      <td>ee0b2c9d35bfeb0fbc5b3a8677f4a18c</td>\n",
       "      <td>2015-02-14 23:42:23</td>\n",
       "      <td>9</td>\n",
       "      <td>10</td>\n",
       "      <td>15</td>\n",
       "      <td>准备测第一批集群数据。</td>\n",
       "    </tr>\n",
       "    <tr>\n",
       "      <th>13</th>\n",
       "      <td>0d15005d6397fb5ce1d45e7c834f7370</td>\n",
       "      <td>9c954d63fcfea19dca8d81a4f3b53861</td>\n",
       "      <td>2015-06-19 14:35:03</td>\n",
       "      <td>0</td>\n",
       "      <td>0</td>\n",
       "      <td>0</td>\n",
       "      <td>【蛋糕】1.奶油奶酪+黄油.牛奶拌匀;2.蛋黄打散+牛奶.面粉.糖拌匀;3.1和2混匀;4....</td>\n",
       "    </tr>\n",
       "    <tr>\n",
       "      <th>14</th>\n",
       "      <td>875a4a77b339d93f819e2c4de5bd0b57</td>\n",
       "      <td>f2cdcdbcec9ff47cbb3c6a636e4b92a3</td>\n",
       "      <td>2015-07-01 04:11:48</td>\n",
       "      <td>0</td>\n",
       "      <td>0</td>\n",
       "      <td>0</td>\n",
       "      <td>#IT#【武汉一专车司机因毒驾被治安拘留】新华网武汉6月29日电(记者冯国栋)记者28日从武...</td>\n",
       "    </tr>\n",
       "    <tr>\n",
       "      <th>15</th>\n",
       "      <td>380a2219670f50dc87efce3380bea6e8</td>\n",
       "      <td>46f10244d02afa85d12346ce28e3cec5</td>\n",
       "      <td>2015-03-11 08:00:24</td>\n",
       "      <td>0</td>\n",
       "      <td>0</td>\n",
       "      <td>0</td>\n",
       "      <td>【今年不管你做哪一行，都看看这篇文章】 http://t.cn/RwBO6Me（分享自 @新...</td>\n",
       "    </tr>\n",
       "    <tr>\n",
       "      <th>16</th>\n",
       "      <td>b9b88b0fc105fb08a552e782afa4342e</td>\n",
       "      <td>cb907eb1bdbc198ed0944cc3b7e24f91</td>\n",
       "      <td>2015-05-04 22:10:22</td>\n",
       "      <td>0</td>\n",
       "      <td>0</td>\n",
       "      <td>0</td>\n",
       "      <td>我分享了@励志这件小事 的文章 http://t.cn/RAuDfN7</td>\n",
       "    </tr>\n",
       "    <tr>\n",
       "      <th>17</th>\n",
       "      <td>f18eb14365c0d7248fab1b9c464f4e70</td>\n",
       "      <td>096543bd8746869982d1a7557164dd0d</td>\n",
       "      <td>2015-02-18 21:37:17</td>\n",
       "      <td>0</td>\n",
       "      <td>0</td>\n",
       "      <td>0</td>\n",
       "      <td>#伊能靜的红包#挣钱是一种能力，抢红包拼的是技术。我抢到了伊能靜 和@支付宝钱包 一起发出的...</td>\n",
       "    </tr>\n",
       "    <tr>\n",
       "      <th>18</th>\n",
       "      <td>0fc17bf5e2dc789dd48505df1f5b14fd</td>\n",
       "      <td>4c1e2418127811d212d0e3867a99db3e</td>\n",
       "      <td>2015-07-13 05:07:28</td>\n",
       "      <td>0</td>\n",
       "      <td>0</td>\n",
       "      <td>1</td>\n",
       "      <td>羽田机场~~ http://t.cn/RLGJidL</td>\n",
       "    </tr>\n",
       "    <tr>\n",
       "      <th>19</th>\n",
       "      <td>dd749a5af07c04ce7de451273a983671</td>\n",
       "      <td>419dd71d562883ef836e774bc3f4e163</td>\n",
       "      <td>2015-07-30 14:24:28</td>\n",
       "      <td>0</td>\n",
       "      <td>0</td>\n",
       "      <td>0</td>\n",
       "      <td>分享了-KUTLUK-的歌单《Piano,奏响灵魂深处...》 http://t.cn/...</td>\n",
       "    </tr>\n",
       "    <tr>\n",
       "      <th>20</th>\n",
       "      <td>a984551b159fcdc0a48f9e38ecb1488f</td>\n",
       "      <td>baa0051d359555601ab61df684787f0f</td>\n",
       "      <td>2015-02-03 20:09:49</td>\n",
       "      <td>0</td>\n",
       "      <td>0</td>\n",
       "      <td>0</td>\n",
       "      <td>分享专辑http://t.cn/RZs52s1（@网易云音乐）</td>\n",
       "    </tr>\n",
       "    <tr>\n",
       "      <th>21</th>\n",
       "      <td>2e0467b73d0f6f9e5607a6174581fdd8</td>\n",
       "      <td>2fd200a7f670138c2026091c3b01532a</td>\n",
       "      <td>2015-04-15 15:49:11</td>\n",
       "      <td>0</td>\n",
       "      <td>0</td>\n",
       "      <td>2</td>\n",
       "      <td>看了这个问题一切明了了。最近真的就处在“进入保护模式，尽量帮他挡掉那些无聊琐碎的流程”的状态...</td>\n",
       "    </tr>\n",
       "    <tr>\n",
       "      <th>22</th>\n",
       "      <td>819656f05994b00b7260daf7346586a7</td>\n",
       "      <td>95590e88cac5d8c9d1a496bc3bd42f07</td>\n",
       "      <td>2015-05-27 14:50:18</td>\n",
       "      <td>6</td>\n",
       "      <td>1</td>\n",
       "      <td>1</td>\n",
       "      <td>搜狗实验室文本分类语料 http://t.cn/R2c1ocE</td>\n",
       "    </tr>\n",
       "    <tr>\n",
       "      <th>23</th>\n",
       "      <td>91ce7c63b272f2037a3e702c10163fa3</td>\n",
       "      <td>8b4e85a881afaff91f276eac7bfb6604</td>\n",
       "      <td>2015-02-13 18:48:37</td>\n",
       "      <td>0</td>\n",
       "      <td>0</td>\n",
       "      <td>0</td>\n",
       "      <td>#稀酷客(随书光盘)#《Access 2007从入门到精通》.(创锐文化).[iso]@ck...</td>\n",
       "    </tr>\n",
       "    <tr>\n",
       "      <th>24</th>\n",
       "      <td>4680e73f9e7a6b87dec62a86a7821c17</td>\n",
       "      <td>b2db095af290b3a36cf798a3e17528d8</td>\n",
       "      <td>2015-03-12 15:19:54</td>\n",
       "      <td>0</td>\n",
       "      <td>0</td>\n",
       "      <td>0</td>\n",
       "      <td>发表了博文《p2p网络理财平台菜鸟需要知道的网贷行业门道》同股票投资一样，p2p网络理财平台...</td>\n",
       "    </tr>\n",
       "    <tr>\n",
       "      <th>25</th>\n",
       "      <td>976e85e3ededdd9b2c2a3179eb7ae8ab</td>\n",
       "      <td>9540ee0cf7ccfae523020c8025e7095f</td>\n",
       "      <td>2015-03-21 22:04:55</td>\n",
       "      <td>0</td>\n",
       "      <td>0</td>\n",
       "      <td>0</td>\n",
       "      <td>慧聪网并购中关村在线的行业逻辑  （分享自 @TECH2IPO） http://t.cn/R...</td>\n",
       "    </tr>\n",
       "    <tr>\n",
       "      <th>26</th>\n",
       "      <td>6623347e5f19f35f2d02ad515b96524c</td>\n",
       "      <td>9a2f48a870843d1964a03c6642b309d5</td>\n",
       "      <td>2015-07-21 01:06:53</td>\n",
       "      <td>0</td>\n",
       "      <td>0</td>\n",
       "      <td>0</td>\n",
       "      <td>#糟蹋酒鬼菜#老板每次推荐完他们家的下酒菜，就会拼命的安利上等的酒……我每次都会妥协的喝两罐汽水。</td>\n",
       "    </tr>\n",
       "    <tr>\n",
       "      <th>27</th>\n",
       "      <td>cf727e70b6661387cf6aadf01d2eb32c</td>\n",
       "      <td>bff281350f035db0e84c25394865d86a</td>\n",
       "      <td>2015-02-19 06:02:06</td>\n",
       "      <td>0</td>\n",
       "      <td>0</td>\n",
       "      <td>0</td>\n",
       "      <td>国内很落后在于 我曾经是做化工sensor的 别人以为我是医生 就是产业落后到老百姓不知道工...</td>\n",
       "    </tr>\n",
       "    <tr>\n",
       "      <th>28</th>\n",
       "      <td>de0836c1c5d40a5cae64a964a0b54894</td>\n",
       "      <td>c3345fd72cad53ca9bffd63634170ba0</td>\n",
       "      <td>2015-04-20 22:36:23</td>\n",
       "      <td>0</td>\n",
       "      <td>0</td>\n",
       "      <td>1</td>\n",
       "      <td>分享@小輝at1989 的美拍 这位天王真的瘦了很多，去年QQ音乐到现在！But，你耍帅差点...</td>\n",
       "    </tr>\n",
       "    <tr>\n",
       "      <th>29</th>\n",
       "      <td>c8848f18da5911d0389c3ac70fe13204</td>\n",
       "      <td>fa352495e646a3f7ff979267c490fd89</td>\n",
       "      <td>2015-06-11 23:46:08</td>\n",
       "      <td>0</td>\n",
       "      <td>0</td>\n",
       "      <td>0</td>\n",
       "      <td>冲着歌名就分享一下😅 分享了赵照的单曲《回家吃饭》http://t.cn/R2l7VxP（@...</td>\n",
       "    </tr>\n",
       "  </tbody>\n",
       "</table>\n",
       "</div>"
      ],
      "text/plain": [
       "                                u_id                              m_id  \\\n",
       "0   d38e9bed5d98110dc2489d0d1cac3c2a  7d45833d9865727a88b960b0603c19f6   \n",
       "1   fa13974743d3fe6ff40d21b872325e9e  8169f1d45051e08ef213bf1106b1225d   \n",
       "2   da534fe87e7a52777bee5c30573ed5fd  68cd0258c31c2c525f94febea2d9523b   \n",
       "3   e06a22b7e065e559a1f0bf7841a85c51  00b9f86b4915aedb7db943c54fd19d59   \n",
       "4   f9828598f9664d4e347ef2048ce17734  c7f6f66044c0c5a3330e2c5371be6824   \n",
       "5   d80f3d3c5c1d658e82b837a4dd1af849  bfc0819b83ec59ce767287077f2b3507   \n",
       "6   f349a67d1cd7c8683c5bbc5f8486e193  83674a60e5310195fc35d97ea8f45c46   \n",
       "7   24b621c98f2594b698c0b1d60c9ae6db  2cbd3d514ed5ad3dab81aa043c8b3d0a   \n",
       "8   e44d81d630e4f382f657e72aa4b685da  8a88a25f9f26ed9f79080eaacc1a8668   \n",
       "9   fbe6c953632e1b3dda66cf6118b6ab12  f359a74cb4ac6150a3af8325eda04ea0   \n",
       "10  f9a3ca6bc1e75d173cfc98ec4b108072  c7bc3445e8b90db8cc5e045f606dc1ee   \n",
       "11  3c68bbb9da57fcc752c8a493d91bdd3a  77e14cf9d460715e84c51747c3641a9b   \n",
       "12  104e8d55e98eb3cd834810088af039fe  ee0b2c9d35bfeb0fbc5b3a8677f4a18c   \n",
       "13  0d15005d6397fb5ce1d45e7c834f7370  9c954d63fcfea19dca8d81a4f3b53861   \n",
       "14  875a4a77b339d93f819e2c4de5bd0b57  f2cdcdbcec9ff47cbb3c6a636e4b92a3   \n",
       "15  380a2219670f50dc87efce3380bea6e8  46f10244d02afa85d12346ce28e3cec5   \n",
       "16  b9b88b0fc105fb08a552e782afa4342e  cb907eb1bdbc198ed0944cc3b7e24f91   \n",
       "17  f18eb14365c0d7248fab1b9c464f4e70  096543bd8746869982d1a7557164dd0d   \n",
       "18  0fc17bf5e2dc789dd48505df1f5b14fd  4c1e2418127811d212d0e3867a99db3e   \n",
       "19  dd749a5af07c04ce7de451273a983671  419dd71d562883ef836e774bc3f4e163   \n",
       "20  a984551b159fcdc0a48f9e38ecb1488f  baa0051d359555601ab61df684787f0f   \n",
       "21  2e0467b73d0f6f9e5607a6174581fdd8  2fd200a7f670138c2026091c3b01532a   \n",
       "22  819656f05994b00b7260daf7346586a7  95590e88cac5d8c9d1a496bc3bd42f07   \n",
       "23  91ce7c63b272f2037a3e702c10163fa3  8b4e85a881afaff91f276eac7bfb6604   \n",
       "24  4680e73f9e7a6b87dec62a86a7821c17  b2db095af290b3a36cf798a3e17528d8   \n",
       "25  976e85e3ededdd9b2c2a3179eb7ae8ab  9540ee0cf7ccfae523020c8025e7095f   \n",
       "26  6623347e5f19f35f2d02ad515b96524c  9a2f48a870843d1964a03c6642b309d5   \n",
       "27  cf727e70b6661387cf6aadf01d2eb32c  bff281350f035db0e84c25394865d86a   \n",
       "28  de0836c1c5d40a5cae64a964a0b54894  c3345fd72cad53ca9bffd63634170ba0   \n",
       "29  c8848f18da5911d0389c3ac70fe13204  fa352495e646a3f7ff979267c490fd89   \n",
       "\n",
       "                   time forward_count comment_count like_count  \\\n",
       "0   2015-02-23 17:41:29             0             0          0   \n",
       "1   2015-02-14 12:49:58             0             0          0   \n",
       "2   2015-03-31 13:58:06             0             0          0   \n",
       "3   2015-06-11 20:39:57             0             4          3   \n",
       "4   2015-03-10 18:02:38             0             0          0   \n",
       "5   2015-02-13 01:09:41             0             0          0   \n",
       "6   2015-07-15 01:16:24             0             0          0   \n",
       "7   2015-05-19 10:24:57             0             0          0   \n",
       "8   2015-02-11 11:03:36             0             1          0   \n",
       "9   2015-03-22 00:54:34             0             0          0   \n",
       "10  2015-02-11 19:29:04            21             2          6   \n",
       "11  2015-04-28 00:14:05             0             0          2   \n",
       "12  2015-02-14 23:42:23             9            10         15   \n",
       "13  2015-06-19 14:35:03             0             0          0   \n",
       "14  2015-07-01 04:11:48             0             0          0   \n",
       "15  2015-03-11 08:00:24             0             0          0   \n",
       "16  2015-05-04 22:10:22             0             0          0   \n",
       "17  2015-02-18 21:37:17             0             0          0   \n",
       "18  2015-07-13 05:07:28             0             0          1   \n",
       "19  2015-07-30 14:24:28             0             0          0   \n",
       "20  2015-02-03 20:09:49             0             0          0   \n",
       "21  2015-04-15 15:49:11             0             0          2   \n",
       "22  2015-05-27 14:50:18             6             1          1   \n",
       "23  2015-02-13 18:48:37             0             0          0   \n",
       "24  2015-03-12 15:19:54             0             0          0   \n",
       "25  2015-03-21 22:04:55             0             0          0   \n",
       "26  2015-07-21 01:06:53             0             0          0   \n",
       "27  2015-02-19 06:02:06             0             0          0   \n",
       "28  2015-04-20 22:36:23             0             0          1   \n",
       "29  2015-06-11 23:46:08             0             0          0   \n",
       "\n",
       "                                              content  \n",
       "0   丽江旅游(sz002033)#股票##炒股##财经##理财##投资#推荐包赢股，盈利对半分成...  \n",
       "1   #丁辰灵的红包#挣钱是一种能力，抢红包拼的是技术。我抢到了丁辰灵 和@阚洪岩 一起发出的现金...  \n",
       "2                       淘宝网这些傻逼。。。气的劳资有火没地儿发~尼玛，你们都瞎了  \n",
       "3                                   看点不能说的，你们都懂[笑cry]  \n",
       "4                                               111多张  \n",
       "5   有生之年！我最喜欢的up主跟我的三体勾搭到一起了！幸福感爆棚！ @黑桐谷歌  http://...  \n",
       "6         论优衣库试衣间隔音效果好坏？ http://t.cn/RL5aSzp（分享自 @知乎）  \n",
       "7   如此平凡的日常一幕，还能够再积累多少呢。 终有一天，当我们到了看着这张照片能感受到一阵怀念的...  \n",
       "8   #罗永浩的红包#二十三，糖瓜儿粘，抢个红包乐翻天！我抢到了罗永浩 和@_王先森就是我 一起发...  \n",
       "9   有好东西分享给你！闪记笔记记事，最好用的中文待办软件，还等什么？快去下载： http://t...  \n",
       "10  http://t.cn/RwUFNuQ Microsoft Azure Machine Le...  \n",
       "11  #边走边唱#生命会有许多风雨让我们痛，但我们会在痛苦中成长，而且喜欢。[心]喜欢能有这样的世...  \n",
       "12                                        准备测第一批集群数据。  \n",
       "13  【蛋糕】1.奶油奶酪+黄油.牛奶拌匀;2.蛋黄打散+牛奶.面粉.糖拌匀;3.1和2混匀;4....  \n",
       "14  #IT#【武汉一专车司机因毒驾被治安拘留】新华网武汉6月29日电(记者冯国栋)记者28日从武...  \n",
       "15  【今年不管你做哪一行，都看看这篇文章】 http://t.cn/RwBO6Me（分享自 @新...  \n",
       "16                我分享了@励志这件小事 的文章 http://t.cn/RAuDfN7  \n",
       "17  #伊能靜的红包#挣钱是一种能力，抢红包拼的是技术。我抢到了伊能靜 和@支付宝钱包 一起发出的...  \n",
       "18                         羽田机场~~ http://t.cn/RLGJidL  \n",
       "19    分享了-KUTLUK-的歌单《Piano,奏响灵魂深处...》 http://t.cn/...  \n",
       "20                    分享专辑http://t.cn/RZs52s1（@网易云音乐）  \n",
       "21  看了这个问题一切明了了。最近真的就处在“进入保护模式，尽量帮他挡掉那些无聊琐碎的流程”的状态...  \n",
       "22                    搜狗实验室文本分类语料 http://t.cn/R2c1ocE  \n",
       "23  #稀酷客(随书光盘)#《Access 2007从入门到精通》.(创锐文化).[iso]@ck...  \n",
       "24  发表了博文《p2p网络理财平台菜鸟需要知道的网贷行业门道》同股票投资一样，p2p网络理财平台...  \n",
       "25  慧聪网并购中关村在线的行业逻辑  （分享自 @TECH2IPO） http://t.cn/R...  \n",
       "26  #糟蹋酒鬼菜#老板每次推荐完他们家的下酒菜，就会拼命的安利上等的酒……我每次都会妥协的喝两罐汽水。  \n",
       "27  国内很落后在于 我曾经是做化工sensor的 别人以为我是医生 就是产业落后到老百姓不知道工...  \n",
       "28  分享@小輝at1989 的美拍 这位天王真的瘦了很多，去年QQ音乐到现在！But，你耍帅差点...  \n",
       "29  冲着歌名就分享一下😅 分享了赵照的单曲《回家吃饭》http://t.cn/R2l7VxP（@...  "
      ]
     },
     "execution_count": 19,
     "metadata": {},
     "output_type": "execute_result"
    }
   ],
   "source": [
    "train_dataset2.head(30)"
   ]
  },
  {
   "cell_type": "code",
   "execution_count": null,
   "metadata": {},
   "outputs": [],
   "source": [
    "emoji_pattern=re.compile(\"[\"\n",
    "                         u\"\\U0001F600-\\U0001F64F\"\n",
    "                         u\"\\U0001F300-\\U0001F5FF\"\n",
    "                         u\"\\U0001F680-\\U0001F6FF\"\n",
    "                         u\"\\U0001F1E0-\\U0001F1FF\"\n",
    "                         \"]+\",flags=re.UNICODE)\n",
    "train_dataset2['content']=emoji_pattern.sub(r'',str(train_dataset2['content']))"
   ]
  },
  {
   "cell_type": "code",
   "execution_count": 1,
   "metadata": {},
   "outputs": [],
   "source": [
    "translate_dataframe = pd.DataFrame(data=train_dataset2['content'].head(30))\n",
    "translator = Translator()\n",
    "translate_dataframe[\"English_content\"] = translate_dataframe['content'].map(lambda x: translator.translate(x, src=\"zh-CN\", dest=\"en\").text)"
   ]
  },
  {
   "cell_type": "code",
   "execution_count": 19,
   "metadata": {},
   "outputs": [
    {
     "data": {
      "text/plain": [
       "count     1229618\n",
       "unique       1243\n",
       "top             0\n",
       "freq      1009457\n",
       "Name: forward_count, dtype: object"
      ]
     },
     "execution_count": 19,
     "metadata": {},
     "output_type": "execute_result"
    }
   ],
   "source": [
    "train_dataset2.forward_count.describe()"
   ]
  },
  {
   "cell_type": "code",
   "execution_count": 14,
   "metadata": {},
   "outputs": [
    {
     "data": {
      "text/plain": [
       "count     1229618\n",
       "unique        527\n",
       "top             0\n",
       "freq       975602\n",
       "Name: comment_count, dtype: object"
      ]
     },
     "execution_count": 14,
     "metadata": {},
     "output_type": "execute_result"
    }
   ],
   "source": [
    "train_dataset2.comment_count.describe()"
   ]
  },
  {
   "cell_type": "code",
   "execution_count": 15,
   "metadata": {},
   "outputs": [
    {
     "data": {
      "text/plain": [
       "count     1229618\n",
       "unique       1020\n",
       "top             0\n",
       "freq       920818\n",
       "Name: like_count, dtype: object"
      ]
     },
     "execution_count": 15,
     "metadata": {},
     "output_type": "execute_result"
    }
   ],
   "source": [
    "train_dataset2.like_count.describe()"
   ]
  },
  {
   "cell_type": "code",
   "execution_count": 10,
   "metadata": {},
   "outputs": [],
   "source": [
    "train_dataset3=pd.DataFrame(train_dataset2.time.str.split(' ',1).tolist(),columns=['date','new_time'])"
   ]
  },
  {
   "cell_type": "code",
   "execution_count": 9,
   "metadata": {},
   "outputs": [
    {
     "data": {
      "text/html": [
       "<div>\n",
       "<style scoped>\n",
       "    .dataframe tbody tr th:only-of-type {\n",
       "        vertical-align: middle;\n",
       "    }\n",
       "\n",
       "    .dataframe tbody tr th {\n",
       "        vertical-align: top;\n",
       "    }\n",
       "\n",
       "    .dataframe thead th {\n",
       "        text-align: right;\n",
       "    }\n",
       "</style>\n",
       "<table border=\"1\" class=\"dataframe\">\n",
       "  <thead>\n",
       "    <tr style=\"text-align: right;\">\n",
       "      <th></th>\n",
       "      <th>date</th>\n",
       "      <th>new_time</th>\n",
       "    </tr>\n",
       "  </thead>\n",
       "  <tbody>\n",
       "    <tr>\n",
       "      <th>0</th>\n",
       "      <td>2015-02-23</td>\n",
       "      <td>17:41:29</td>\n",
       "    </tr>\n",
       "    <tr>\n",
       "      <th>1</th>\n",
       "      <td>2015-02-14</td>\n",
       "      <td>12:49:58</td>\n",
       "    </tr>\n",
       "    <tr>\n",
       "      <th>2</th>\n",
       "      <td>2015-03-31</td>\n",
       "      <td>13:58:06</td>\n",
       "    </tr>\n",
       "    <tr>\n",
       "      <th>3</th>\n",
       "      <td>2015-06-11</td>\n",
       "      <td>20:39:57</td>\n",
       "    </tr>\n",
       "    <tr>\n",
       "      <th>4</th>\n",
       "      <td>2015-03-10</td>\n",
       "      <td>18:02:38</td>\n",
       "    </tr>\n",
       "  </tbody>\n",
       "</table>\n",
       "</div>"
      ],
      "text/plain": [
       "         date  new_time\n",
       "0  2015-02-23  17:41:29\n",
       "1  2015-02-14  12:49:58\n",
       "2  2015-03-31  13:58:06\n",
       "3  2015-06-11  20:39:57\n",
       "4  2015-03-10  18:02:38"
      ]
     },
     "execution_count": 9,
     "metadata": {},
     "output_type": "execute_result"
    }
   ],
   "source": [
    "train_dataset3.head()"
   ]
  },
  {
   "cell_type": "code",
   "execution_count": 11,
   "metadata": {},
   "outputs": [
    {
     "data": {
      "text/html": [
       "<div>\n",
       "<style scoped>\n",
       "    .dataframe tbody tr th:only-of-type {\n",
       "        vertical-align: middle;\n",
       "    }\n",
       "\n",
       "    .dataframe tbody tr th {\n",
       "        vertical-align: top;\n",
       "    }\n",
       "\n",
       "    .dataframe thead th {\n",
       "        text-align: right;\n",
       "    }\n",
       "</style>\n",
       "<table border=\"1\" class=\"dataframe\">\n",
       "  <thead>\n",
       "    <tr style=\"text-align: right;\">\n",
       "      <th></th>\n",
       "      <th>u_id</th>\n",
       "      <th>m_id</th>\n",
       "      <th>forward_count</th>\n",
       "      <th>comment_count</th>\n",
       "      <th>like_count</th>\n",
       "      <th>date</th>\n",
       "      <th>time</th>\n",
       "    </tr>\n",
       "  </thead>\n",
       "  <tbody>\n",
       "    <tr>\n",
       "      <th>0</th>\n",
       "      <td>d38e9bed5d98110dc2489d0d1cac3c2a</td>\n",
       "      <td>7d45833d9865727a88b960b0603c19f6</td>\n",
       "      <td>0</td>\n",
       "      <td>0</td>\n",
       "      <td>0</td>\n",
       "      <td>2015-02-23</td>\n",
       "      <td>17:41:29</td>\n",
       "    </tr>\n",
       "    <tr>\n",
       "      <th>1</th>\n",
       "      <td>fa13974743d3fe6ff40d21b872325e9e</td>\n",
       "      <td>8169f1d45051e08ef213bf1106b1225d</td>\n",
       "      <td>0</td>\n",
       "      <td>0</td>\n",
       "      <td>0</td>\n",
       "      <td>2015-02-14</td>\n",
       "      <td>12:49:58</td>\n",
       "    </tr>\n",
       "    <tr>\n",
       "      <th>2</th>\n",
       "      <td>da534fe87e7a52777bee5c30573ed5fd</td>\n",
       "      <td>68cd0258c31c2c525f94febea2d9523b</td>\n",
       "      <td>0</td>\n",
       "      <td>0</td>\n",
       "      <td>0</td>\n",
       "      <td>2015-03-31</td>\n",
       "      <td>13:58:06</td>\n",
       "    </tr>\n",
       "    <tr>\n",
       "      <th>3</th>\n",
       "      <td>e06a22b7e065e559a1f0bf7841a85c51</td>\n",
       "      <td>00b9f86b4915aedb7db943c54fd19d59</td>\n",
       "      <td>0</td>\n",
       "      <td>4</td>\n",
       "      <td>3</td>\n",
       "      <td>2015-06-11</td>\n",
       "      <td>20:39:57</td>\n",
       "    </tr>\n",
       "    <tr>\n",
       "      <th>4</th>\n",
       "      <td>f9828598f9664d4e347ef2048ce17734</td>\n",
       "      <td>c7f6f66044c0c5a3330e2c5371be6824</td>\n",
       "      <td>0</td>\n",
       "      <td>0</td>\n",
       "      <td>0</td>\n",
       "      <td>2015-03-10</td>\n",
       "      <td>18:02:38</td>\n",
       "    </tr>\n",
       "  </tbody>\n",
       "</table>\n",
       "</div>"
      ],
      "text/plain": [
       "                               u_id                              m_id  \\\n",
       "0  d38e9bed5d98110dc2489d0d1cac3c2a  7d45833d9865727a88b960b0603c19f6   \n",
       "1  fa13974743d3fe6ff40d21b872325e9e  8169f1d45051e08ef213bf1106b1225d   \n",
       "2  da534fe87e7a52777bee5c30573ed5fd  68cd0258c31c2c525f94febea2d9523b   \n",
       "3  e06a22b7e065e559a1f0bf7841a85c51  00b9f86b4915aedb7db943c54fd19d59   \n",
       "4  f9828598f9664d4e347ef2048ce17734  c7f6f66044c0c5a3330e2c5371be6824   \n",
       "\n",
       "  forward_count comment_count like_count        date      time  \n",
       "0             0             0          0  2015-02-23  17:41:29  \n",
       "1             0             0          0  2015-02-14  12:49:58  \n",
       "2             0             0          0  2015-03-31  13:58:06  \n",
       "3             0             4          3  2015-06-11  20:39:57  \n",
       "4             0             0          0  2015-03-10  18:02:38  "
      ]
     },
     "execution_count": 11,
     "metadata": {},
     "output_type": "execute_result"
    }
   ],
   "source": [
    "train_dataset4 = pd.concat([train_dataset2,train_dataset3], axis=1)\n",
    "del train_dataset4['time']\n",
    "del train_dataset4['content']\n",
    "train_dataset4.rename(columns={0:'forward_count'},inplace=True)\n",
    "train_dataset4.rename(columns={1:'comment_count'},inplace=True)\n",
    "train_dataset4.rename(columns={2:'like_count'},inplace=True)\n",
    "train_dataset4.rename(columns={3:'content'},inplace=True)\n",
    "train_dataset4.rename(columns={'new_time':'time'},inplace=True)\n",
    "train_dataset4.head(5)"
   ]
  },
  {
   "cell_type": "markdown",
   "metadata": {},
   "source": [
    "# Observing trend of number of likes with respect to each month"
   ]
  },
  {
   "cell_type": "code",
   "execution_count": 15,
   "metadata": {},
   "outputs": [
    {
     "data": {
      "text/plain": [
       "(array([1., 2., 3., 4., 5., 6., 7., 8.]),\n",
       " <a list of 8 Text xticklabel objects>)"
      ]
     },
     "execution_count": 15,
     "metadata": {},
     "output_type": "execute_result"
    },
    {
     "data": {
      "image/png": "[encoded data removed]",
      "text/plain": [
       "<Figure size 432x288 with 1 Axes>"
      ]
     },
     "metadata": {},
     "output_type": "display_data"
    }
   ],
   "source": [
    "#Month vs Like_Count\n",
    "train_dataset5=train_dataset4.sort_values('date',ascending=True)\n",
    "train_dataset5['like_count']=train_dataset5['like_count'].astype(float)\n",
    "train_dataset5['month']=pd.DatetimeIndex(train_dataset5['date']).month\n",
    "plt.plot(train_dataset5['month'],train_dataset5['like_count'])\n",
    "plt.xticks(rotation='vertical')"
   ]
  },
  {
   "cell_type": "markdown",
   "metadata": {},
   "source": [
    "# Observing trend of number of forwards with respect to each month"
   ]
  },
  {
   "cell_type": "code",
   "execution_count": null,
   "metadata": {},
   "outputs": [],
   "source": [
    "#Month vs Forward_Count\n",
    "train_dataset5=train_dataset4.sort_values('date',ascending=True)\n",
    "train_dataset5['forward_count']=train_dataset5['forward_count'].astype(float)\n",
    "train_dataset5['month']=pd.DatetimeIndex(train_dataset5['date']).month\n",
    "plt.bar(train_dataset5['month'],train_dataset5['forward_count'])\n",
    "#plt.xticks(rotation='vertical')"
   ]
  },
  {
   "cell_type": "markdown",
   "metadata": {},
   "source": [
    "# Observing trend of number of comments with respect to each month"
   ]
  },
  {
   "cell_type": "code",
   "execution_count": 52,
   "metadata": {},
   "outputs": [
    {
     "data": {
      "text/plain": [
       "(array([1., 2., 3., 4., 5., 6., 7., 8.]),\n",
       " <a list of 8 Text xticklabel objects>)"
      ]
     },
     "execution_count": 52,
     "metadata": {},
     "output_type": "execute_result"
    },
    {
     "data": {
      "image/png": "[encoded data removed]",
      "text/plain": [
       "<Figure size 432x288 with 1 Axes>"
      ]
     },
     "metadata": {},
     "output_type": "display_data"
    }
   ],
   "source": [
    "#Month vs Comment_Count\n",
    "train_dataset5=train_dataset4.sort_values('date',ascending=True)\n",
    "train_dataset5['comment_count']=train_dataset5['comment_count'].astype(float)\n",
    "train_dataset5['month']=pd.DatetimeIndex(train_dataset5['date']).month\n",
    "plt.plot(train_dataset5['month'],train_dataset5['comment_count'])\n",
    "plt.xticks(rotation='vertical')"
   ]
  },
  {
   "cell_type": "code",
   "execution_count": 53,
   "metadata": {},
   "outputs": [
    {
     "data": {
      "text/plain": [
       "(array([1900., 1925., 1950., 1975., 2000., 2025., 2050., 2075., 2100.,\n",
       "        2125., 2150.]), <a list of 11 Text xticklabel objects>)"
      ]
     },
     "execution_count": 53,
     "metadata": {},
     "output_type": "execute_result"
    },
    {
     "data": {
      "image/png": "[encoded data removed]",
      "text/plain": [
       "<Figure size 432x288 with 1 Axes>"
      ]
     },
     "metadata": {},
     "output_type": "display_data"
    }
   ],
   "source": [
    "#Year vs Like_Count\n",
    "train_dataset5=train_dataset4.sort_values('date',ascending=True)\n",
    "train_dataset5['like_count']=train_dataset5['like_count'].astype(float)\n",
    "train_dataset5['year']=pd.DatetimeIndex(train_dataset5['date']).year\n",
    "plt.plot(train_dataset5['year'],train_dataset5['like_count'])\n",
    "plt.xticks(rotation='vertical')"
   ]
  },
  {
   "cell_type": "markdown",
   "metadata": {},
   "source": [
    "# Observing trend of number of likes on hourly basis"
   ]
  },
  {
   "cell_type": "code",
   "execution_count": 16,
   "metadata": {},
   "outputs": [
    {
     "data": {
      "text/plain": [
       "(array([-5.,  0.,  5., 10., 15., 20., 25.]),\n",
       " <a list of 7 Text xticklabel objects>)"
      ]
     },
     "execution_count": 16,
     "metadata": {},
     "output_type": "execute_result"
    },
    {
     "data": {
      "image/png": "[encoded data removed]",
      "text/plain": [
       "<Figure size 432x288 with 1 Axes>"
      ]
     },
     "metadata": {},
     "output_type": "display_data"
    }
   ],
   "source": [
    "#Hour vs Like_Count\n",
    "train_dataset5=train_dataset4.sort_values('time',ascending=True)\n",
    "train_dataset5['like_count']=train_dataset5['like_count'].astype(float)\n",
    "train_dataset5['hour']=pd.DatetimeIndex(train_dataset5['time']).hour\n",
    "plt.plot(train_dataset5['hour'],train_dataset5['like_count'])\n",
    "plt.xticks(rotation='vertical')"
   ]
  },
  {
   "cell_type": "code",
   "execution_count": null,
   "metadata": {},
   "outputs": [],
   "source": []
  },
  {
   "cell_type": "code",
   "execution_count": null,
   "metadata": {},
   "outputs": [],
   "source": [
    "#Hour vs forward_Count\n",
    "train_dataset5=train_dataset4.sort_values('time',ascending=True)\n",
    "train_dataset5['forward_count']=train_dataset5['forward_count'].astype(float)\n",
    "train_dataset5['hour']=pd.DatetimeIndex(train_dataset5['time']).hour\n",
    "plt.bar(train_dataset5['hour'],train_dataset5['forward_count'])\n",
    "plt.xticks(rotation='vertical')"
   ]
  },
  {
   "cell_type": "code",
   "execution_count": 18,
   "metadata": {},
   "outputs": [
    {
     "data": {
      "text/plain": [
       "(array([-5.,  0.,  5., 10., 15., 20., 25.]),\n",
       " <a list of 7 Text xticklabel objects>)"
      ]
     },
     "execution_count": 18,
     "metadata": {},
     "output_type": "execute_result"
    },
    {
     "data": {
      "image/png": "[encoded data removed]",
      "text/plain": [
       "<Figure size 432x288 with 1 Axes>"
      ]
     },
     "metadata": {},
     "output_type": "display_data"
    }
   ],
   "source": [
    "#Hour vs comment_Count\n",
    "train_dataset5=train_dataset4.sort_values('time',ascending=True)\n",
    "train_dataset5['comment_count']=train_dataset5['comment_count'].astype(float)\n",
    "train_dataset5['hour']=pd.DatetimeIndex(train_dataset5['time']).hour\n",
    "plt.plot(train_dataset5['hour'],train_dataset5['comment_count'])\n",
    "plt.xticks(rotation='vertical')"
   ]
  },
  {
   "cell_type": "code",
   "execution_count": null,
   "metadata": {},
   "outputs": [],
   "source": []
  }
 ],
 "metadata": {
  "kernelspec": {
   "display_name": "Python 3",
   "language": "python",
   "name": "python3"
  },
  "language_info": {
   "codemirror_mode": {
    "name": "ipython",
    "version": 3
   },
   "file_extension": ".py",
   "mimetype": "text/x-python",
   "name": "python",
   "nbconvert_exporter": "python",
   "pygments_lexer": "ipython3",
   "version": "3.6.5"
  }
 },
 "nbformat": 4,
 "nbformat_minor": 2
}
