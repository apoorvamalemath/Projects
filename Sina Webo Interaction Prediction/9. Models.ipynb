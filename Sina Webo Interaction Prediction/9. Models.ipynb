{
 "cells": [
  {
   "cell_type": "code",
   "execution_count": 1,
   "metadata": {},
   "outputs": [],
   "source": [
    "import pandas as pd\n",
    "import numpy as np\n",
    "from sklearn import linear_model\n",
    "from sklearn.model_selection import train_test_split\n",
    "from sklearn.metrics import accuracy_score\n",
    "from matplotlib import pyplot as plt\n",
    "import statsmodels.api as sm"
   ]
  },
  {
   "cell_type": "code",
   "execution_count": 2,
   "metadata": {},
   "outputs": [
    {
     "name": "stdout",
     "output_type": "stream",
     "text": [
      "importing Jupyter notebook from evaluation.ipynb\n",
      "importing Jupyter notebook from runTime.ipynb\n"
     ]
    }
   ],
   "source": [
    "import import_ipynb\n",
    "from evaluation import precision\n",
    "from runTime import runTime"
   ]
  },
  {
   "cell_type": "code",
   "execution_count": 3,
   "metadata": {},
   "outputs": [
    {
     "name": "stdout",
     "output_type": "stream",
     "text": [
      "importing Jupyter notebook from evaluation2.ipynb\n"
     ]
    }
   ],
   "source": [
    "from evaluation2 import precision2"
   ]
  },
  {
   "cell_type": "code",
   "execution_count": 4,
   "metadata": {},
   "outputs": [],
   "source": [
    "df1=pd.read_csv(\"E:\\\\5th Sem\\\\DMA Project\\\\Model Evaluation\\\\weibo_train1_cp.csv\")\n",
    "df2=pd.read_csv(\"E:\\\\5th Sem\\\\DMA Project\\\\Model Evaluation\\\\weibo_train2_cp.csv\")\n",
    "frames=[df1,df2]\n",
    "train_dataset=pd.concat(frames)\n",
    "predict_dataset=pd.read_csv(\"E:\\\\5th Sem\\\\DMA Project\\\\Model Evaluation\\\\weibo_predict_cp.csv\")"
   ]
  },
  {
   "cell_type": "code",
   "execution_count": 5,
   "metadata": {},
   "outputs": [],
   "source": [
    "train_dataset['date']=pd.to_datetime(train_dataset['date'],errors='coerce')"
   ]
  },
  {
   "cell_type": "code",
   "execution_count": 6,
   "metadata": {},
   "outputs": [],
   "source": [
    "train_month=[g for n, g in train_dataset.groupby(pd.Grouper(key='date',freq='M'))]"
   ]
  },
  {
   "cell_type": "code",
   "execution_count": 7,
   "metadata": {},
   "outputs": [],
   "source": [
    "train_dataset['time']=pd.to_datetime(train_dataset['time'],errors='coerce')"
   ]
  },
  {
   "cell_type": "code",
   "execution_count": 8,
   "metadata": {},
   "outputs": [],
   "source": [
    "train_hour=[g for n, g in train_dataset.groupby(pd.Grouper(key='time',freq='H'))]"
   ]
  },
  {
   "cell_type": "code",
   "execution_count": 9,
   "metadata": {},
   "outputs": [],
   "source": [
    "train_month[0].to_csv(\"E:\\\\5th Sem\\\\DMA Project\\\\Model Evaluation\\\\weibo_train_feb_cp.csv\",sep=',',index=False,encoding='utf-8')\n",
    "train_month[1].to_csv(\"E:\\\\5th Sem\\\\DMA Project\\\\Model Evaluation\\\\weibo_train_march_cp.csv\",sep=',',index=False,encoding='utf-8')\n",
    "train_month[2].to_csv(\"E:\\\\5th Sem\\\\DMA Project\\\\Model Evaluation\\\\weibo_train_april_cp.csv\",sep=',',index=False,encoding='utf-8')\n",
    "train_month[3].to_csv(\"E:\\\\5th Sem\\\\DMA Project\\\\Model Evaluation\\\\weibo_train_may_cp.csv\",sep=',',index=False,encoding='utf-8')\n",
    "train_month[4].to_csv(\"E:\\\\5th Sem\\\\DMA Project\\\\Model Evaluation\\\\weibo_train_june_cp.csv\",sep=',',index=False,encoding='utf-8')\n",
    "train_month[5].to_csv(\"E:\\\\5th Sem\\\\DMA Project\\\\Model Evaluation\\\\weibo_train_july_cp.csv\",sep=',',index=False,encoding='utf-8')"
   ]
  },
  {
   "cell_type": "code",
   "execution_count": 13,
   "metadata": {},
   "outputs": [],
   "source": [
    "i=0\n",
    "for i in range(0,24):\n",
    "    path=\"E:\\\\5th Sem\\\\DMA Project\\\\Model Evaluation\\\\weibo_train_hour_\"+str(i)+\"_cp.csv\"\n",
    "    train_hour[i].to_csv(path,sep=',',index=False,encoding='utf-8')\n"
   ]
  },
  {
   "cell_type": "code",
   "execution_count": 14,
   "metadata": {},
   "outputs": [],
   "source": [
    "frames1=[train_month[0],train_month[1],train_month[2],train_month[3],train_month[4]]\n",
    "train=pd.concat(frames1)\n",
    "predict=train_month[5]"
   ]
  },
  {
   "cell_type": "markdown",
   "metadata": {},
   "source": [
    "# Model 1 (Factors: Media, #, @, ?, !, Length, Emoji)"
   ]
  },
  {
   "cell_type": "code",
   "execution_count": 15,
   "metadata": {},
   "outputs": [],
   "source": [
    "X_train=train[[\"content_media_count\",\"content_#_count\",\"content_@_count\",\"content_?_count\",\"content_!_count\",\"content_length\",\"content_emoji_count\"]]\n",
    "Y_train=train[[\"forward_count\",\"comment_count\",\"like_count\"]]\n",
    "X_test=predict[[\"content_media_count\",\"content_#_count\",\"content_@_count\",\"content_?_count\",\"content_!_count\",\"content_length\",\"content_emoji_count\"]]\n",
    "Y_test=predict[[\"forward_count\",\"comment_count\",\"like_count\"]]"
   ]
  },
  {
   "cell_type": "code",
   "execution_count": 16,
   "metadata": {},
   "outputs": [
    {
     "name": "stdout",
     "output_type": "stream",
     "text": [
      "(1044681, 7) (1044681, 3)\n",
      "(184937, 7) (184937, 3)\n"
     ]
    }
   ],
   "source": [
    "print(X_train.shape,Y_train.shape)\n",
    "print(X_test.shape,Y_test.shape)"
   ]
  },
  {
   "cell_type": "code",
   "execution_count": 17,
   "metadata": {},
   "outputs": [
    {
     "name": "stderr",
     "output_type": "stream",
     "text": [
      "C:\\Users\\DELL\\Anaconda3\\lib\\site-packages\\pandas\\core\\generic.py:5430: SettingWithCopyWarning: \n",
      "A value is trying to be set on a copy of a slice from a DataFrame\n",
      "\n",
      "See the caveats in the documentation: http://pandas.pydata.org/pandas-docs/stable/indexing.html#indexing-view-versus-copy\n",
      "  self._update_inplace(new_data)\n"
     ]
    }
   ],
   "source": [
    "pd.options.mode.use_inf_as_na = True\n",
    "X_train.fillna(X_train.max(),inplace=True)\n",
    "X_test.fillna(X_test.max(),inplace=True)"
   ]
  },
  {
   "cell_type": "code",
   "execution_count": 18,
   "metadata": {},
   "outputs": [],
   "source": [
    "lm=linear_model.LinearRegression()\n",
    "model=lm.fit(X_train,Y_train)\n",
    "pred=lm.predict(X_test)\n",
    "pred=pred.round()\n",
    "pred=(np.maximum(pred,0.))"
   ]
  },
  {
   "cell_type": "code",
   "execution_count": 19,
   "metadata": {},
   "outputs": [
    {
     "name": "stdout",
     "output_type": "stream",
     "text": [
      "[[ 4.  1.  2.]\n",
      " [ 3.  2.  3.]\n",
      " [ 3.  1.  1.]\n",
      " [ 7.  1.  2.]\n",
      " [ 9.  2.  3.]]\n"
     ]
    }
   ],
   "source": [
    "print(pred[0:5])"
   ]
  },
  {
   "cell_type": "code",
   "execution_count": 20,
   "metadata": {},
   "outputs": [
    {
     "name": "stdout",
     "output_type": "stream",
     "text": [
      "[[-2.13937044 -0.36595303 -0.29844433 -0.04270781 -0.20884535  0.05323583\n",
      "  -0.11373958]\n",
      " [-1.46356558 -0.15223682 -0.02946097 -0.00326344 -0.04880305  0.00769467\n",
      "   0.1747673 ]\n",
      " [-2.6330917  -0.13749083 -0.32811723 -0.01394959 -0.071054    0.01544652\n",
      "   0.26583545]]\n"
     ]
    }
   ],
   "source": [
    "print(model.coef_)"
   ]
  },
  {
   "cell_type": "code",
   "execution_count": 21,
   "metadata": {},
   "outputs": [
    {
     "name": "stdout",
     "output_type": "stream",
     "text": [
      "[ 1.31437859  1.76293348  2.98461306]\n"
     ]
    }
   ],
   "source": [
    "print(model.intercept_)"
   ]
  },
  {
   "cell_type": "code",
   "execution_count": 22,
   "metadata": {},
   "outputs": [],
   "source": [
    "np.savetxt(\"E:\\\\5th Sem\\\\DMA Project\\\\Model Evaluation\\\\weibo_predict_result2.csv\",pred,delimiter=',',header=\"forward_count,comment_count,like_count\",comments=\"\")\n",
    "result=pd.read_csv(\"E:\\\\5th Sem\\\\DMA Project\\\\Model Evaluation\\\\weibo_predict_result2.csv\")"
   ]
  },
  {
   "cell_type": "code",
   "execution_count": 23,
   "metadata": {},
   "outputs": [
    {
     "name": "stderr",
     "output_type": "stream",
     "text": [
      "C:\\Users\\DELL\\Anaconda3\\lib\\site-packages\\ipykernel_launcher.py:5: SettingWithCopyWarning: \n",
      "A value is trying to be set on a copy of a slice from a DataFrame.\n",
      "Try using .loc[row_indexer,col_indexer] = value instead\n",
      "\n",
      "See the caveats in the documentation: http://pandas.pydata.org/pandas-docs/stable/indexing.html#indexing-view-versus-copy\n",
      "  \"\"\"\n"
     ]
    },
    {
     "name": "stdout",
     "output_type": "stream",
     "text": [
      "Score on the training set:3.69%\n"
     ]
    }
   ],
   "source": [
    "train_real_pred = Y_test\n",
    "forward=result['forward_count'].values\n",
    "comment=result['forward_count'].values\n",
    "like=result['forward_count'].values\n",
    "train_real_pred['fp'],train_real_pred['cp'],train_real_pred['lp'] = forward,comment,like\n",
    "print (\"Score on the training set:{0:.2f}%\".format(precision(train_real_pred.values)*100))"
   ]
  },
  {
   "cell_type": "markdown",
   "metadata": {},
   "source": [
    "# Model 2 (Media, Length, Emoji)"
   ]
  },
  {
   "cell_type": "code",
   "execution_count": 27,
   "metadata": {},
   "outputs": [],
   "source": [
    "X_train=train[[\"content_media_count\",\"content_length\",\"content_emoji_count\"]]\n",
    "Y_train=train[[\"forward_count\",\"comment_count\",\"like_count\"]]\n",
    "X_test=predict[[\"content_media_count\",\"content_length\",\"content_emoji_count\"]]\n",
    "Y_test=predict[[\"forward_count\",\"comment_count\",\"like_count\"]]"
   ]
  },
  {
   "cell_type": "code",
   "execution_count": 28,
   "metadata": {},
   "outputs": [
    {
     "name": "stdout",
     "output_type": "stream",
     "text": [
      "(1044681, 3) (1044681, 3)\n",
      "(184937, 3) (184937, 3)\n"
     ]
    }
   ],
   "source": [
    "print(X_train.shape,Y_train.shape)\n",
    "print(X_test.shape,Y_test.shape)"
   ]
  },
  {
   "cell_type": "code",
   "execution_count": 29,
   "metadata": {},
   "outputs": [
    {
     "name": "stderr",
     "output_type": "stream",
     "text": [
      "C:\\Users\\DELL\\Anaconda3\\lib\\site-packages\\pandas\\core\\generic.py:5430: SettingWithCopyWarning: \n",
      "A value is trying to be set on a copy of a slice from a DataFrame\n",
      "\n",
      "See the caveats in the documentation: http://pandas.pydata.org/pandas-docs/stable/indexing.html#indexing-view-versus-copy\n",
      "  self._update_inplace(new_data)\n"
     ]
    }
   ],
   "source": [
    "pd.options.mode.use_inf_as_na = True\n",
    "X_train.fillna(X_train.max(),inplace=True)\n",
    "X_test.fillna(X_test.max(),inplace=True)"
   ]
  },
  {
   "cell_type": "code",
   "execution_count": 30,
   "metadata": {},
   "outputs": [],
   "source": [
    "lm=linear_model.LinearRegression()\n",
    "model=lm.fit(X_train,Y_train)\n",
    "pred=lm.predict(X_test)\n",
    "pred=pred.round()\n",
    "pred=(np.maximum(pred,0.))"
   ]
  },
  {
   "cell_type": "code",
   "execution_count": 31,
   "metadata": {},
   "outputs": [
    {
     "name": "stdout",
     "output_type": "stream",
     "text": [
      "[[ 4.  1.  2.]\n",
      " [ 3.  2.  3.]\n",
      " [ 3.  1.  1.]\n",
      " [ 7.  1.  2.]\n",
      " [ 8.  1.  3.]]\n"
     ]
    }
   ],
   "source": [
    "print(pred[0:5])"
   ]
  },
  {
   "cell_type": "code",
   "execution_count": 32,
   "metadata": {},
   "outputs": [
    {
     "name": "stdout",
     "output_type": "stream",
     "text": [
      "[[-2.19780299  0.05049652 -0.14777505]\n",
      " [-1.47377848  0.00679751  0.16018448]\n",
      " [-2.68756793  0.01390734  0.25398113]]\n"
     ]
    }
   ],
   "source": [
    "print(model.coef_)"
   ]
  },
  {
   "cell_type": "code",
   "execution_count": 33,
   "metadata": {},
   "outputs": [
    {
     "name": "stdout",
     "output_type": "stream",
     "text": [
      "[ 1.23425639  1.73473692  2.94322868]\n"
     ]
    }
   ],
   "source": [
    "print(model.intercept_)"
   ]
  },
  {
   "cell_type": "code",
   "execution_count": 35,
   "metadata": {},
   "outputs": [],
   "source": [
    "np.savetxt(\"E:\\\\5th Sem\\\\DMA Project\\\\Model Evaluation\\\\weibo_predict_result3.csv\",pred,delimiter=',',header=\"forward_count,comment_count,like_count\",comments=\"\")\n",
    "result=pd.read_csv(\"E:\\\\5th Sem\\\\DMA Project\\\\Model Evaluation\\\\weibo_predict_result3.csv\")"
   ]
  },
  {
   "cell_type": "code",
   "execution_count": 36,
   "metadata": {},
   "outputs": [
    {
     "name": "stderr",
     "output_type": "stream",
     "text": [
      "C:\\Users\\DELL\\Anaconda3\\lib\\site-packages\\ipykernel_launcher.py:5: SettingWithCopyWarning: \n",
      "A value is trying to be set on a copy of a slice from a DataFrame.\n",
      "Try using .loc[row_indexer,col_indexer] = value instead\n",
      "\n",
      "See the caveats in the documentation: http://pandas.pydata.org/pandas-docs/stable/indexing.html#indexing-view-versus-copy\n",
      "  \"\"\"\n"
     ]
    },
    {
     "name": "stdout",
     "output_type": "stream",
     "text": [
      "Score on the training set:3.79%\n"
     ]
    }
   ],
   "source": [
    "train_real_pred = Y_test\n",
    "forward=result['forward_count'].values\n",
    "comment=result['forward_count'].values\n",
    "like=result['forward_count'].values\n",
    "train_real_pred['fp'],train_real_pred['cp'],train_real_pred['lp'] = forward,comment,like\n",
    "print (\"Score on the training set:{0:.2f}%\".format(precision(train_real_pred.values)*100))"
   ]
  },
  {
   "cell_type": "markdown",
   "metadata": {},
   "source": [
    "# Model 3(Media)"
   ]
  },
  {
   "cell_type": "code",
   "execution_count": 37,
   "metadata": {},
   "outputs": [],
   "source": [
    "X_train=train[[\"content_media_count\"]]\n",
    "Y_train=train[[\"forward_count\",\"comment_count\",\"like_count\"]]\n",
    "X_test=predict[[\"content_media_count\"]]\n",
    "Y_test=predict[[\"forward_count\",\"comment_count\",\"like_count\"]]"
   ]
  },
  {
   "cell_type": "code",
   "execution_count": 38,
   "metadata": {},
   "outputs": [
    {
     "name": "stdout",
     "output_type": "stream",
     "text": [
      "(1044681, 1) (1044681, 3)\n",
      "(184937, 1) (184937, 3)\n"
     ]
    }
   ],
   "source": [
    "print(X_train.shape,Y_train.shape)\n",
    "print(X_test.shape,Y_test.shape)"
   ]
  },
  {
   "cell_type": "code",
   "execution_count": 39,
   "metadata": {},
   "outputs": [
    {
     "name": "stderr",
     "output_type": "stream",
     "text": [
      "C:\\Users\\DELL\\Anaconda3\\lib\\site-packages\\pandas\\core\\generic.py:5430: SettingWithCopyWarning: \n",
      "A value is trying to be set on a copy of a slice from a DataFrame\n",
      "\n",
      "See the caveats in the documentation: http://pandas.pydata.org/pandas-docs/stable/indexing.html#indexing-view-versus-copy\n",
      "  self._update_inplace(new_data)\n"
     ]
    }
   ],
   "source": [
    "pd.options.mode.use_inf_as_na = True\n",
    "X_train.fillna(X_train.max(),inplace=True)\n",
    "X_test.fillna(X_test.max(),inplace=True)"
   ]
  },
  {
   "cell_type": "code",
   "execution_count": 40,
   "metadata": {},
   "outputs": [],
   "source": [
    "lm=linear_model.LinearRegression()\n",
    "model=lm.fit(X_train,Y_train)\n",
    "pred=lm.predict(X_test)\n",
    "pred=pred.round()\n",
    "pred=(np.maximum(pred,0.))"
   ]
  },
  {
   "cell_type": "code",
   "execution_count": 41,
   "metadata": {},
   "outputs": [
    {
     "name": "stdout",
     "output_type": "stream",
     "text": [
      "[[ 3.  1.  1.]\n",
      " [ 4.  2.  4.]\n",
      " [ 3.  1.  1.]\n",
      " [ 3.  1.  1.]\n",
      " [ 3.  1.  1.]]\n"
     ]
    }
   ],
   "source": [
    "print(pred[0:5])"
   ]
  },
  {
   "cell_type": "code",
   "execution_count": 42,
   "metadata": {},
   "outputs": [
    {
     "name": "stdout",
     "output_type": "stream",
     "text": [
      "[[-0.62388914]\n",
      " [-1.26343548]\n",
      " [-2.25659216]]\n"
     ]
    }
   ],
   "source": [
    "print(model.coef_)"
   ]
  },
  {
   "cell_type": "code",
   "execution_count": 43,
   "metadata": {},
   "outputs": [
    {
     "name": "stdout",
     "output_type": "stream",
     "text": [
      "[ 3.86255173  2.09158813  3.67207903]\n"
     ]
    }
   ],
   "source": [
    "print(model.intercept_)"
   ]
  },
  {
   "cell_type": "code",
   "execution_count": 45,
   "metadata": {},
   "outputs": [],
   "source": [
    "np.savetxt(\"E:\\\\5th Sem\\\\DMA Project\\\\Model Evaluation\\\\weibo_predict_result4.csv\",pred,delimiter=',',header=\"forward_count,comment_count,like_count\",comments=\"\")\n",
    "result=pd.read_csv(\"E:\\\\5th Sem\\\\DMA Project\\\\Model Evaluation\\\\weibo_predict_result4.csv\")"
   ]
  },
  {
   "cell_type": "code",
   "execution_count": 33,
   "metadata": {},
   "outputs": [
    {
     "name": "stderr",
     "output_type": "stream",
     "text": [
      "G:\\Anaconda\\lib\\site-packages\\ipykernel_launcher.py:2: SettingWithCopyWarning: \n",
      "A value is trying to be set on a copy of a slice from a DataFrame.\n",
      "Try using .loc[row_indexer,col_indexer] = value instead\n",
      "\n",
      "See the caveats in the documentation: http://pandas.pydata.org/pandas-docs/stable/indexing.html#indexing-view-versus-copy\n",
      "  \n",
      "G:\\Anaconda\\lib\\site-packages\\ipykernel_launcher.py:3: SettingWithCopyWarning: \n",
      "A value is trying to be set on a copy of a slice from a DataFrame.\n",
      "Try using .loc[row_indexer,col_indexer] = value instead\n",
      "\n",
      "See the caveats in the documentation: http://pandas.pydata.org/pandas-docs/stable/indexing.html#indexing-view-versus-copy\n",
      "  This is separate from the ipykernel package so we can avoid doing imports until\n",
      "G:\\Anaconda\\lib\\site-packages\\ipykernel_launcher.py:4: SettingWithCopyWarning: \n",
      "A value is trying to be set on a copy of a slice from a DataFrame.\n",
      "Try using .loc[row_indexer,col_indexer] = value instead\n",
      "\n",
      "See the caveats in the documentation: http://pandas.pydata.org/pandas-docs/stable/indexing.html#indexing-view-versus-copy\n",
      "  after removing the cwd from sys.path.\n"
     ]
    },
    {
     "name": "stdout",
     "output_type": "stream",
     "text": [
      "Score on the training set:3.59%\n"
     ]
    }
   ],
   "source": [
    "train_real_pred = Y_test\n",
    "train_real_pred['fp']=result['forward_count'].values\n",
    "train_real_pred['cp']=result['comment_count'].values\n",
    "train_real_pred['lp']=result['like_count'].values\n",
    "train_real_pred=train_real_pred.round()\n",
    "print (\"Score on the training set:{0:.2f}%\".format(precision(train_real_pred.values)*100))"
   ]
  },
  {
   "cell_type": "markdown",
   "metadata": {},
   "source": [
    "# Model 4 (Time) Pre-requisite"
   ]
  },
  {
   "cell_type": "code",
   "execution_count": 34,
   "metadata": {},
   "outputs": [
    {
     "name": "stdout",
     "output_type": "stream",
     "text": [
      "done\n",
      "done\n",
      "done\n"
     ]
    }
   ],
   "source": [
    "train_dataset['hour']=pd.DatetimeIndex(train_dataset['time']).hour\n",
    "print(\"done\")\n",
    "train_dataset['min']=pd.DatetimeIndex(train_dataset['time']).minute\n",
    "print(\"done\")\n",
    "train_dataset['sec']=pd.DatetimeIndex(train_dataset['time']).second\n",
    "print(\"done\")"
   ]
  },
  {
   "cell_type": "code",
   "execution_count": 95,
   "metadata": {},
   "outputs": [
    {
     "name": "stdout",
     "output_type": "stream",
     "text": [
      "done\n",
      "done\n",
      "done\n"
     ]
    }
   ],
   "source": [
    "predict_dataset['hour']=pd.DatetimeIndex(predict_dataset['time']).hour\n",
    "print(\"done\")\n",
    "predict_dataset['min']=pd.DatetimeIndex(predict_dataset['time']).minute\n",
    "print(\"done\")\n",
    "predict_dataset['sec']=pd.DatetimeIndex(predict_dataset['time']).second\n",
    "print(\"done\")"
   ]
  },
  {
   "cell_type": "code",
   "execution_count": 98,
   "metadata": {},
   "outputs": [],
   "source": [
    "train_dataset.head(614809).to_csv(\"G://DMA_PROJECT//weibo_train1_cpt.csv\",sep=',',index=False,encoding='utf-8')\n",
    "train_dataset.tail(614809).to_csv(\"G://DMA_PROJECT//weibo_train2_cpt.csv\",sep=',',index=False,encoding='utf-8')\n",
    "predict_dataset.to_csv(\"G://DMA_PROJECT//weibo_predict_cpt.csv\",sep=',',index=False,encoding='utf-8')"
   ]
  },
  {
   "cell_type": "code",
   "execution_count": 4,
   "metadata": {},
   "outputs": [],
   "source": [
    "df1=pd.read_csv(\"G://DMA_PROJECT//weibo_train1_cpt.csv\")\n",
    "df2=pd.read_csv(\"G://DMA_PROJECT//weibo_train2_cpt.csv\")\n",
    "frames=[df1,df2]\n",
    "train_dataset=pd.concat(frames)\n",
    "predict_dataset=pd.read_csv(\"G://DMA_PROJECT//weibo_predict_cpt.csv\")"
   ]
  },
  {
   "cell_type": "code",
   "execution_count": 100,
   "metadata": {},
   "outputs": [],
   "source": [
    "train_dataset['date']=pd.to_datetime(train_dataset['date'],errors='coerce')"
   ]
  },
  {
   "cell_type": "code",
   "execution_count": 101,
   "metadata": {},
   "outputs": [],
   "source": [
    "train_month=[g for n, g in train_dataset.groupby(pd.Grouper(key='date',freq='M'))]"
   ]
  },
  {
   "cell_type": "code",
   "execution_count": 102,
   "metadata": {},
   "outputs": [],
   "source": [
    "train_month[0].to_csv(\"G://DMA_PROJECT//weibo_train_feb_cpt.csv\",sep=',',index=False,encoding='utf-8')\n",
    "train_month[1].to_csv(\"G://DMA_PROJECT//weibo_train_march_cpt.csv\",sep=',',index=False,encoding='utf-8')\n",
    "train_month[2].to_csv(\"G://DMA_PROJECT//weibo_train_april_cpt.csv\",sep=',',index=False,encoding='utf-8')\n",
    "train_month[3].to_csv(\"G://DMA_PROJECT//weibo_train_may_cpt.csv\",sep=',',index=False,encoding='utf-8')\n",
    "train_month[4].to_csv(\"G://DMA_PROJECT//weibo_train_june_cpt.csv\",sep=',',index=False,encoding='utf-8')\n",
    "train_month[5].to_csv(\"G://DMA_PROJECT//weibo_train_july_cpt.csv\",sep=',',index=False,encoding='utf-8')"
   ]
  },
  {
   "cell_type": "code",
   "execution_count": 35,
   "metadata": {},
   "outputs": [],
   "source": [
    "train_month[0]=pd.read_csv(\"G://DMA_PROJECT//weibo_train_feb_cpt.csv\")\n",
    "train_month[1]=pd.read_csv(\"G://DMA_PROJECT//weibo_train_march_cpt.csv\")\n",
    "train_month[2]=pd.read_csv(\"G://DMA_PROJECT//weibo_train_april_cpt.csv\")\n",
    "train_month[3]=pd.read_csv(\"G://DMA_PROJECT//weibo_train_may_cpt.csv\")\n",
    "train_month[4]=pd.read_csv(\"G://DMA_PROJECT//weibo_train_june_cpt.csv\")\n",
    "train_month[5]=pd.read_csv(\"G://DMA_PROJECT//weibo_train_july_cpt.csv\")"
   ]
  },
  {
   "cell_type": "code",
   "execution_count": 36,
   "metadata": {},
   "outputs": [],
   "source": [
    "frames1=[train_month[0],train_month[1],train_month[2],train_month[3],train_month[4]]\n",
    "train=pd.concat(frames1)\n",
    "predict=train_month[5]"
   ]
  },
  {
   "cell_type": "markdown",
   "metadata": {},
   "source": [
    "# Model 4 (Time: Hour, Min, Sec)"
   ]
  },
  {
   "cell_type": "code",
   "execution_count": 37,
   "metadata": {},
   "outputs": [],
   "source": [
    "X_train=train[[\"hour\",\"min\",\"sec\"]]\n",
    "Y_train=train[[\"forward_count\",\"comment_count\",\"like_count\"]]\n",
    "X_test=predict[[\"hour\",\"min\",\"sec\"]]\n",
    "Y_test=predict[[\"forward_count\",\"comment_count\",\"like_count\"]]"
   ]
  },
  {
   "cell_type": "code",
   "execution_count": 38,
   "metadata": {},
   "outputs": [
    {
     "name": "stdout",
     "output_type": "stream",
     "text": [
      "(1044681, 3) (1044681, 3)\n",
      "(184937, 3) (184937, 3)\n"
     ]
    }
   ],
   "source": [
    "print(X_train.shape,Y_train.shape)\n",
    "print(X_test.shape,Y_test.shape)"
   ]
  },
  {
   "cell_type": "code",
   "execution_count": 39,
   "metadata": {},
   "outputs": [
    {
     "name": "stderr",
     "output_type": "stream",
     "text": [
      "G:\\Anaconda\\lib\\site-packages\\pandas\\core\\generic.py:5430: SettingWithCopyWarning: \n",
      "A value is trying to be set on a copy of a slice from a DataFrame\n",
      "\n",
      "See the caveats in the documentation: http://pandas.pydata.org/pandas-docs/stable/indexing.html#indexing-view-versus-copy\n",
      "  self._update_inplace(new_data)\n"
     ]
    }
   ],
   "source": [
    "pd.options.mode.use_inf_as_na = True\n",
    "X_train.fillna(X_train.max(),inplace=True)\n",
    "X_test.fillna(X_test.max(),inplace=True)"
   ]
  },
  {
   "cell_type": "code",
   "execution_count": 40,
   "metadata": {},
   "outputs": [],
   "source": [
    "lm=linear_model.LinearRegression()\n",
    "model=lm.fit(X_train,Y_train)\n",
    "pred=lm.predict(X_test)\n",
    "pred=pred.round()\n",
    "pred=(np.maximum(pred,0.))"
   ]
  },
  {
   "cell_type": "code",
   "execution_count": 41,
   "metadata": {},
   "outputs": [
    {
     "name": "stdout",
     "output_type": "stream",
     "text": [
      "[[ 3.  1.  2.]\n",
      " [ 2.  1.  2.]\n",
      " [ 3.  1.  2.]\n",
      " [ 1.  1.  1.]\n",
      " [ 6.  1.  3.]]\n"
     ]
    }
   ],
   "source": [
    "print(pred[0:5])"
   ]
  },
  {
   "cell_type": "code",
   "execution_count": 42,
   "metadata": {},
   "outputs": [
    {
     "name": "stdout",
     "output_type": "stream",
     "text": [
      "[[ 0.08066778 -0.06019321 -0.0382752 ]\n",
      " [ 0.02746039 -0.00495496 -0.00478928]\n",
      " [ 0.07295777 -0.03270772 -0.01755154]]\n"
     ]
    }
   ],
   "source": [
    "print(model.coef_)"
   ]
  },
  {
   "cell_type": "code",
   "execution_count": 43,
   "metadata": {},
   "outputs": [
    {
     "name": "stdout",
     "output_type": "stream",
     "text": [
      "[ 5.15832365  1.15751239  2.61598361]\n"
     ]
    }
   ],
   "source": [
    "print(model.intercept_)"
   ]
  },
  {
   "cell_type": "code",
   "execution_count": 44,
   "metadata": {},
   "outputs": [],
   "source": [
    "np.savetxt(\"G://DMA_PROJECT//weibo_predict_result5.csv\",pred,delimiter=',',header=\"forward_count,comment_count,like_count\",comments=\"\")\n",
    "result=pd.read_csv(\"G://DMA_PROJECT//weibo_predict_result5.csv\")"
   ]
  },
  {
   "cell_type": "code",
   "execution_count": 45,
   "metadata": {},
   "outputs": [
    {
     "name": "stderr",
     "output_type": "stream",
     "text": [
      "G:\\Anaconda\\lib\\site-packages\\ipykernel_launcher.py:2: SettingWithCopyWarning: \n",
      "A value is trying to be set on a copy of a slice from a DataFrame.\n",
      "Try using .loc[row_indexer,col_indexer] = value instead\n",
      "\n",
      "See the caveats in the documentation: http://pandas.pydata.org/pandas-docs/stable/indexing.html#indexing-view-versus-copy\n",
      "  \n",
      "G:\\Anaconda\\lib\\site-packages\\ipykernel_launcher.py:3: SettingWithCopyWarning: \n",
      "A value is trying to be set on a copy of a slice from a DataFrame.\n",
      "Try using .loc[row_indexer,col_indexer] = value instead\n",
      "\n",
      "See the caveats in the documentation: http://pandas.pydata.org/pandas-docs/stable/indexing.html#indexing-view-versus-copy\n",
      "  This is separate from the ipykernel package so we can avoid doing imports until\n",
      "G:\\Anaconda\\lib\\site-packages\\ipykernel_launcher.py:4: SettingWithCopyWarning: \n",
      "A value is trying to be set on a copy of a slice from a DataFrame.\n",
      "Try using .loc[row_indexer,col_indexer] = value instead\n",
      "\n",
      "See the caveats in the documentation: http://pandas.pydata.org/pandas-docs/stable/indexing.html#indexing-view-versus-copy\n",
      "  after removing the cwd from sys.path.\n"
     ]
    },
    {
     "name": "stdout",
     "output_type": "stream",
     "text": [
      "Score on the training set:4.19%\n"
     ]
    }
   ],
   "source": [
    "train_real_pred = Y_test\n",
    "train_real_pred['fp']=result['forward_count'].values\n",
    "train_real_pred['cp']=result['comment_count'].values\n",
    "train_real_pred['lp']=result['like_count'].values\n",
    "train_real_pred=train_real_pred.round()\n",
    "print (\"Score on the training set:{0:.2f}%\".format(precision(train_real_pred.values)*100))"
   ]
  },
  {
   "cell_type": "markdown",
   "metadata": {},
   "source": [
    "# Model 5 (Time: Hour)"
   ]
  },
  {
   "cell_type": "code",
   "execution_count": 46,
   "metadata": {},
   "outputs": [],
   "source": [
    "X_train=train[[\"hour\"]]\n",
    "Y_train=train[[\"forward_count\",\"comment_count\",\"like_count\"]]\n",
    "X_test=predict[[\"hour\"]]\n",
    "Y_test=predict[[\"forward_count\",\"comment_count\",\"like_count\"]]"
   ]
  },
  {
   "cell_type": "code",
   "execution_count": 47,
   "metadata": {},
   "outputs": [
    {
     "name": "stdout",
     "output_type": "stream",
     "text": [
      "(1044681, 1) (1044681, 3)\n",
      "(184937, 1) (184937, 3)\n"
     ]
    }
   ],
   "source": [
    "print(X_train.shape,Y_train.shape)\n",
    "print(X_test.shape,Y_test.shape)"
   ]
  },
  {
   "cell_type": "code",
   "execution_count": 48,
   "metadata": {},
   "outputs": [
    {
     "name": "stderr",
     "output_type": "stream",
     "text": [
      "G:\\Anaconda\\lib\\site-packages\\pandas\\core\\generic.py:5430: SettingWithCopyWarning: \n",
      "A value is trying to be set on a copy of a slice from a DataFrame\n",
      "\n",
      "See the caveats in the documentation: http://pandas.pydata.org/pandas-docs/stable/indexing.html#indexing-view-versus-copy\n",
      "  self._update_inplace(new_data)\n"
     ]
    }
   ],
   "source": [
    "pd.options.mode.use_inf_as_na = True\n",
    "X_train.fillna(X_train.max(),inplace=True)\n",
    "X_test.fillna(X_test.max(),inplace=True)"
   ]
  },
  {
   "cell_type": "code",
   "execution_count": 49,
   "metadata": {},
   "outputs": [],
   "source": [
    "lm=linear_model.LinearRegression()\n",
    "model=lm.fit(X_train,Y_train)\n",
    "pred=lm.predict(X_test)\n",
    "pred=pred.round()\n",
    "pred=(np.maximum(pred,0.))"
   ]
  },
  {
   "cell_type": "code",
   "execution_count": 50,
   "metadata": {},
   "outputs": [
    {
     "name": "stdout",
     "output_type": "stream",
     "text": [
      "[[ 3.  1.  1.]\n",
      " [ 4.  1.  2.]\n",
      " [ 3.  1.  2.]\n",
      " [ 3.  1.  2.]\n",
      " [ 3.  1.  2.]]\n"
     ]
    }
   ],
   "source": [
    "print(pred[0:5])"
   ]
  },
  {
   "cell_type": "code",
   "execution_count": 51,
   "metadata": {},
   "outputs": [
    {
     "name": "stdout",
     "output_type": "stream",
     "text": [
      "[[ 0.07590631]\n",
      " [ 0.02704577]\n",
      " [ 0.0704154 ]]\n"
     ]
    }
   ],
   "source": [
    "print(model.coef_)"
   ]
  },
  {
   "cell_type": "code",
   "execution_count": 52,
   "metadata": {},
   "outputs": [
    {
     "name": "stdout",
     "output_type": "stream",
     "text": [
      "[ 2.40776056  0.88480607  1.21309106]\n"
     ]
    }
   ],
   "source": [
    "print(model.intercept_)"
   ]
  },
  {
   "cell_type": "code",
   "execution_count": 53,
   "metadata": {},
   "outputs": [],
   "source": [
    "np.savetxt(\"G://DMA_PROJECT//weibo_predict_result6.csv\",pred,delimiter=',',header=\"forward_count,comment_count,like_count\",comments=\"\")\n",
    "result=pd.read_csv(\"G://DMA_PROJECT//weibo_predict_result6.csv\")"
   ]
  },
  {
   "cell_type": "code",
   "execution_count": 54,
   "metadata": {},
   "outputs": [
    {
     "name": "stderr",
     "output_type": "stream",
     "text": [
      "G:\\Anaconda\\lib\\site-packages\\ipykernel_launcher.py:2: SettingWithCopyWarning: \n",
      "A value is trying to be set on a copy of a slice from a DataFrame.\n",
      "Try using .loc[row_indexer,col_indexer] = value instead\n",
      "\n",
      "See the caveats in the documentation: http://pandas.pydata.org/pandas-docs/stable/indexing.html#indexing-view-versus-copy\n",
      "  \n",
      "G:\\Anaconda\\lib\\site-packages\\ipykernel_launcher.py:3: SettingWithCopyWarning: \n",
      "A value is trying to be set on a copy of a slice from a DataFrame.\n",
      "Try using .loc[row_indexer,col_indexer] = value instead\n",
      "\n",
      "See the caveats in the documentation: http://pandas.pydata.org/pandas-docs/stable/indexing.html#indexing-view-versus-copy\n",
      "  This is separate from the ipykernel package so we can avoid doing imports until\n",
      "G:\\Anaconda\\lib\\site-packages\\ipykernel_launcher.py:4: SettingWithCopyWarning: \n",
      "A value is trying to be set on a copy of a slice from a DataFrame.\n",
      "Try using .loc[row_indexer,col_indexer] = value instead\n",
      "\n",
      "See the caveats in the documentation: http://pandas.pydata.org/pandas-docs/stable/indexing.html#indexing-view-versus-copy\n",
      "  after removing the cwd from sys.path.\n"
     ]
    },
    {
     "name": "stdout",
     "output_type": "stream",
     "text": [
      "Score on the training set:3.66%\n"
     ]
    }
   ],
   "source": [
    "train_real_pred = Y_test\n",
    "train_real_pred['fp']=result['forward_count'].values\n",
    "train_real_pred['cp']=result['comment_count'].values\n",
    "train_real_pred['lp']=result['like_count'].values\n",
    "train_real_pred=train_real_pred.round()\n",
    "print (\"Score on the training set:{0:.2f}%\".format(precision(train_real_pred.values)*100))"
   ]
  },
  {
   "cell_type": "markdown",
   "metadata": {},
   "source": [
    "# Model 6  Time: (Hour, Min, Sec), Media, Length, Emoji"
   ]
  },
  {
   "cell_type": "code",
   "execution_count": 55,
   "metadata": {},
   "outputs": [],
   "source": [
    "X_train=train[[\"content_media_count\",\"content_length\",\"content_emoji_count\",\"hour\",\"min\",\"sec\"]]\n",
    "Y_train=train[[\"forward_count\",\"comment_count\",\"like_count\"]]\n",
    "X_test=predict[[\"content_media_count\",\"content_length\",\"content_emoji_count\",\"hour\",\"min\",\"sec\"]]\n",
    "Y_test=predict[[\"forward_count\",\"comment_count\",\"like_count\"]]"
   ]
  },
  {
   "cell_type": "code",
   "execution_count": 56,
   "metadata": {},
   "outputs": [
    {
     "name": "stdout",
     "output_type": "stream",
     "text": [
      "(1044681, 6) (1044681, 3)\n",
      "(184937, 6) (184937, 3)\n"
     ]
    }
   ],
   "source": [
    "print(X_train.shape,Y_train.shape)\n",
    "print(X_test.shape,Y_test.shape)"
   ]
  },
  {
   "cell_type": "code",
   "execution_count": 57,
   "metadata": {},
   "outputs": [
    {
     "name": "stderr",
     "output_type": "stream",
     "text": [
      "G:\\Anaconda\\lib\\site-packages\\pandas\\core\\generic.py:5430: SettingWithCopyWarning: \n",
      "A value is trying to be set on a copy of a slice from a DataFrame\n",
      "\n",
      "See the caveats in the documentation: http://pandas.pydata.org/pandas-docs/stable/indexing.html#indexing-view-versus-copy\n",
      "  self._update_inplace(new_data)\n"
     ]
    }
   ],
   "source": [
    "pd.options.mode.use_inf_as_na = True\n",
    "X_train.fillna(X_train.max(),inplace=True)\n",
    "X_test.fillna(X_test.max(),inplace=True)"
   ]
  },
  {
   "cell_type": "code",
   "execution_count": 58,
   "metadata": {},
   "outputs": [],
   "source": [
    "lm=linear_model.LinearRegression()\n",
    "model=lm.fit(X_train,Y_train)\n",
    "pred=lm.predict(X_test)\n",
    "pred=pred.round()\n",
    "pred=(np.maximum(pred,0.))"
   ]
  },
  {
   "cell_type": "code",
   "execution_count": 59,
   "metadata": {},
   "outputs": [
    {
     "name": "stdout",
     "output_type": "stream",
     "text": [
      "[[  4.   1.   1.]\n",
      " [  1.   2.   3.]\n",
      " [  2.   1.   1.]\n",
      " [  4.   1.   1.]\n",
      " [ 10.   2.   4.]]\n"
     ]
    }
   ],
   "source": [
    "print(pred[0:5])"
   ]
  },
  {
   "cell_type": "code",
   "execution_count": 60,
   "metadata": {},
   "outputs": [
    {
     "name": "stdout",
     "output_type": "stream",
     "text": [
      "[[-2.16126691  0.04995623 -0.14079719  0.09097968 -0.05802816 -0.03386975]\n",
      " [-1.46714342  0.0068272   0.15966872  0.02589544 -0.00483482 -0.00418282]\n",
      " [-2.6652836   0.0137497   0.25624217  0.07054347 -0.03242168 -0.01633076]]\n"
     ]
    }
   ],
   "source": [
    "print(model.coef_)"
   ]
  },
  {
   "cell_type": "code",
   "execution_count": 61,
   "metadata": {},
   "outputs": [
    {
     "name": "stdout",
     "output_type": "stream",
     "text": [
      "[ 2.62859063  1.63033587  3.36618167]\n"
     ]
    }
   ],
   "source": [
    "print(model.intercept_)"
   ]
  },
  {
   "cell_type": "code",
   "execution_count": 62,
   "metadata": {},
   "outputs": [],
   "source": [
    "np.savetxt(\"G://DMA_PROJECT//weibo_predict_result7.csv\",pred,delimiter=',',header=\"forward_count,comment_count,like_count\",comments=\"\")\n",
    "result=pd.read_csv(\"G://DMA_PROJECT//weibo_predict_result7.csv\")"
   ]
  },
  {
   "cell_type": "code",
   "execution_count": 63,
   "metadata": {},
   "outputs": [
    {
     "name": "stderr",
     "output_type": "stream",
     "text": [
      "G:\\Anaconda\\lib\\site-packages\\ipykernel_launcher.py:2: SettingWithCopyWarning: \n",
      "A value is trying to be set on a copy of a slice from a DataFrame.\n",
      "Try using .loc[row_indexer,col_indexer] = value instead\n",
      "\n",
      "See the caveats in the documentation: http://pandas.pydata.org/pandas-docs/stable/indexing.html#indexing-view-versus-copy\n",
      "  \n",
      "G:\\Anaconda\\lib\\site-packages\\ipykernel_launcher.py:3: SettingWithCopyWarning: \n",
      "A value is trying to be set on a copy of a slice from a DataFrame.\n",
      "Try using .loc[row_indexer,col_indexer] = value instead\n",
      "\n",
      "See the caveats in the documentation: http://pandas.pydata.org/pandas-docs/stable/indexing.html#indexing-view-versus-copy\n",
      "  This is separate from the ipykernel package so we can avoid doing imports until\n",
      "G:\\Anaconda\\lib\\site-packages\\ipykernel_launcher.py:4: SettingWithCopyWarning: \n",
      "A value is trying to be set on a copy of a slice from a DataFrame.\n",
      "Try using .loc[row_indexer,col_indexer] = value instead\n",
      "\n",
      "See the caveats in the documentation: http://pandas.pydata.org/pandas-docs/stable/indexing.html#indexing-view-versus-copy\n",
      "  after removing the cwd from sys.path.\n"
     ]
    },
    {
     "name": "stdout",
     "output_type": "stream",
     "text": [
      "Score on the training set:6.89%\n"
     ]
    }
   ],
   "source": [
    "train_real_pred = Y_test\n",
    "train_real_pred['fp']=result['forward_count'].values\n",
    "train_real_pred['cp']=result['comment_count'].values\n",
    "train_real_pred['lp']=result['like_count'].values\n",
    "train_real_pred=train_real_pred.round()\n",
    "print (\"Score on the training set:{0:.2f}%\".format(precision(train_real_pred.values)*100))"
   ]
  },
  {
   "cell_type": "markdown",
   "metadata": {},
   "source": [
    "# Model 7: Stats Pre-requisite"
   ]
  },
  {
   "cell_type": "code",
   "execution_count": 5,
   "metadata": {},
   "outputs": [],
   "source": [
    "df1=pd.read_csv(\"G://DMA_PROJECT//weibo_train1_cpt.csv\")\n",
    "df2=pd.read_csv(\"G://DMA_PROJECT//weibo_train2_cpt.csv\")\n",
    "frames=[df1,df2]\n",
    "train_dataset=pd.concat(frames)\n",
    "predict_dataset=pd.read_csv(\"G://DMA_PROJECT//weibo_predict_cpt.csv\")"
   ]
  },
  {
   "cell_type": "code",
   "execution_count": 6,
   "metadata": {},
   "outputs": [],
   "source": [
    "stat=pd.read_csv(\"G://DMA_PROJECT//train_uid_stat.csv\")"
   ]
  },
  {
   "cell_type": "code",
   "execution_count": 7,
   "metadata": {},
   "outputs": [],
   "source": [
    "trainstat=pd.merge(train_dataset,stat,on=['u_id'])\n",
    "predictstat=pd.merge(train_dataset,stat,on=['u_id'])"
   ]
  },
  {
   "cell_type": "code",
   "execution_count": 9,
   "metadata": {},
   "outputs": [
    {
     "data": {
      "text/html": [
       "<div>\n",
       "<style scoped>\n",
       "    .dataframe tbody tr th:only-of-type {\n",
       "        vertical-align: middle;\n",
       "    }\n",
       "\n",
       "    .dataframe tbody tr th {\n",
       "        vertical-align: top;\n",
       "    }\n",
       "\n",
       "    .dataframe thead th {\n",
       "        text-align: right;\n",
       "    }\n",
       "</style>\n",
       "<table border=\"1\" class=\"dataframe\">\n",
       "  <thead>\n",
       "    <tr style=\"text-align: right;\">\n",
       "      <th></th>\n",
       "      <th>u_id</th>\n",
       "      <th>m_id</th>\n",
       "      <th>forward_count</th>\n",
       "      <th>comment_count</th>\n",
       "      <th>like_count</th>\n",
       "      <th>content</th>\n",
       "      <th>date</th>\n",
       "      <th>time</th>\n",
       "      <th>content_media_count</th>\n",
       "      <th>content_#_count</th>\n",
       "      <th>...</th>\n",
       "      <th>forward_median</th>\n",
       "      <th>forward_mean</th>\n",
       "      <th>comment_min</th>\n",
       "      <th>comment_max</th>\n",
       "      <th>comment_median</th>\n",
       "      <th>comment_mean</th>\n",
       "      <th>like_min</th>\n",
       "      <th>like_max</th>\n",
       "      <th>like_median</th>\n",
       "      <th>like_mean</th>\n",
       "    </tr>\n",
       "  </thead>\n",
       "  <tbody>\n",
       "    <tr>\n",
       "      <th>0</th>\n",
       "      <td>d38e9bed5d98110dc2489d0d1cac3c2a</td>\n",
       "      <td>7d45833d9865727a88b960b0603c19f6</td>\n",
       "      <td>0</td>\n",
       "      <td>0</td>\n",
       "      <td>0</td>\n",
       "      <td>丽江旅游(sz002033)#股票##炒股##财经##理财##投资#推荐包赢股，盈利对半分成...</td>\n",
       "      <td>2015-02-23</td>\n",
       "      <td>17:41:29</td>\n",
       "      <td>0.0</td>\n",
       "      <td>10.0</td>\n",
       "      <td>...</td>\n",
       "      <td>0</td>\n",
       "      <td>1</td>\n",
       "      <td>0</td>\n",
       "      <td>48</td>\n",
       "      <td>0</td>\n",
       "      <td>0</td>\n",
       "      <td>0</td>\n",
       "      <td>5</td>\n",
       "      <td>0</td>\n",
       "      <td>0</td>\n",
       "    </tr>\n",
       "    <tr>\n",
       "      <th>1</th>\n",
       "      <td>d38e9bed5d98110dc2489d0d1cac3c2a</td>\n",
       "      <td>00755196c77936bf44656ada98291c59</td>\n",
       "      <td>0</td>\n",
       "      <td>0</td>\n",
       "      <td>0</td>\n",
       "      <td>想开了就是幸福，想不开就是痛苦…http://t.cn/RLqzYa1</td>\n",
       "      <td>2015-07-13</td>\n",
       "      <td>19:24:50</td>\n",
       "      <td>1.0</td>\n",
       "      <td>0.0</td>\n",
       "      <td>...</td>\n",
       "      <td>0</td>\n",
       "      <td>1</td>\n",
       "      <td>0</td>\n",
       "      <td>48</td>\n",
       "      <td>0</td>\n",
       "      <td>0</td>\n",
       "      <td>0</td>\n",
       "      <td>5</td>\n",
       "      <td>0</td>\n",
       "      <td>0</td>\n",
       "    </tr>\n",
       "    <tr>\n",
       "      <th>2</th>\n",
       "      <td>d38e9bed5d98110dc2489d0d1cac3c2a</td>\n",
       "      <td>4fedf3888b1e16592f0e0bdc8b393845</td>\n",
       "      <td>0</td>\n",
       "      <td>0</td>\n",
       "      <td>0</td>\n",
       "      <td>300419浩丰科技#股票##股神##股市##炒股##财经##理财##投资# 股票庄家，要求...</td>\n",
       "      <td>2015-03-14</td>\n",
       "      <td>21:22:57</td>\n",
       "      <td>0.0</td>\n",
       "      <td>14.0</td>\n",
       "      <td>...</td>\n",
       "      <td>0</td>\n",
       "      <td>1</td>\n",
       "      <td>0</td>\n",
       "      <td>48</td>\n",
       "      <td>0</td>\n",
       "      <td>0</td>\n",
       "      <td>0</td>\n",
       "      <td>5</td>\n",
       "      <td>0</td>\n",
       "      <td>0</td>\n",
       "    </tr>\n",
       "    <tr>\n",
       "      <th>3</th>\n",
       "      <td>d38e9bed5d98110dc2489d0d1cac3c2a</td>\n",
       "      <td>91be0b8612265aae32725cd4fa80b222</td>\n",
       "      <td>0</td>\n",
       "      <td>0</td>\n",
       "      <td>0</td>\n",
       "      <td>女性被人占便宜从来不生气，是什么心态？http://t.cn/R2n2pRz</td>\n",
       "      <td>2015-06-18</td>\n",
       "      <td>16:25:36</td>\n",
       "      <td>1.0</td>\n",
       "      <td>0.0</td>\n",
       "      <td>...</td>\n",
       "      <td>0</td>\n",
       "      <td>1</td>\n",
       "      <td>0</td>\n",
       "      <td>48</td>\n",
       "      <td>0</td>\n",
       "      <td>0</td>\n",
       "      <td>0</td>\n",
       "      <td>5</td>\n",
       "      <td>0</td>\n",
       "      <td>0</td>\n",
       "    </tr>\n",
       "    <tr>\n",
       "      <th>4</th>\n",
       "      <td>d38e9bed5d98110dc2489d0d1cac3c2a</td>\n",
       "      <td>bd2af99ecf1298f5539f0ddfcdd3ed64</td>\n",
       "      <td>0</td>\n",
       "      <td>0</td>\n",
       "      <td>0</td>\n",
       "      <td>网宿科技(sz300017)#股票##炒股##财经##理财##投资#推荐包赢股，盈利对半分成...</td>\n",
       "      <td>2015-02-23</td>\n",
       "      <td>17:35:31</td>\n",
       "      <td>0.0</td>\n",
       "      <td>10.0</td>\n",
       "      <td>...</td>\n",
       "      <td>0</td>\n",
       "      <td>1</td>\n",
       "      <td>0</td>\n",
       "      <td>48</td>\n",
       "      <td>0</td>\n",
       "      <td>0</td>\n",
       "      <td>0</td>\n",
       "      <td>5</td>\n",
       "      <td>0</td>\n",
       "      <td>0</td>\n",
       "    </tr>\n",
       "  </tbody>\n",
       "</table>\n",
       "<p>5 rows × 30 columns</p>\n",
       "</div>"
      ],
      "text/plain": [
       "                               u_id                              m_id  \\\n",
       "0  d38e9bed5d98110dc2489d0d1cac3c2a  7d45833d9865727a88b960b0603c19f6   \n",
       "1  d38e9bed5d98110dc2489d0d1cac3c2a  00755196c77936bf44656ada98291c59   \n",
       "2  d38e9bed5d98110dc2489d0d1cac3c2a  4fedf3888b1e16592f0e0bdc8b393845   \n",
       "3  d38e9bed5d98110dc2489d0d1cac3c2a  91be0b8612265aae32725cd4fa80b222   \n",
       "4  d38e9bed5d98110dc2489d0d1cac3c2a  bd2af99ecf1298f5539f0ddfcdd3ed64   \n",
       "\n",
       "   forward_count  comment_count  like_count  \\\n",
       "0              0              0           0   \n",
       "1              0              0           0   \n",
       "2              0              0           0   \n",
       "3              0              0           0   \n",
       "4              0              0           0   \n",
       "\n",
       "                                             content        date      time  \\\n",
       "0  丽江旅游(sz002033)#股票##炒股##财经##理财##投资#推荐包赢股，盈利对半分成...  2015-02-23  17:41:29   \n",
       "1                想开了就是幸福，想不开就是痛苦…http://t.cn/RLqzYa1  2015-07-13  19:24:50   \n",
       "2  300419浩丰科技#股票##股神##股市##炒股##财经##理财##投资# 股票庄家，要求...  2015-03-14  21:22:57   \n",
       "3             女性被人占便宜从来不生气，是什么心态？http://t.cn/R2n2pRz  2015-06-18  16:25:36   \n",
       "4  网宿科技(sz300017)#股票##炒股##财经##理财##投资#推荐包赢股，盈利对半分成...  2015-02-23  17:35:31   \n",
       "\n",
       "   content_media_count  content_#_count    ...      forward_median  \\\n",
       "0                  0.0             10.0    ...                   0   \n",
       "1                  1.0              0.0    ...                   0   \n",
       "2                  0.0             14.0    ...                   0   \n",
       "3                  1.0              0.0    ...                   0   \n",
       "4                  0.0             10.0    ...                   0   \n",
       "\n",
       "   forward_mean  comment_min  comment_max  comment_median  comment_mean  \\\n",
       "0             1            0           48               0             0   \n",
       "1             1            0           48               0             0   \n",
       "2             1            0           48               0             0   \n",
       "3             1            0           48               0             0   \n",
       "4             1            0           48               0             0   \n",
       "\n",
       "   like_min  like_max  like_median  like_mean  \n",
       "0         0         5            0          0  \n",
       "1         0         5            0          0  \n",
       "2         0         5            0          0  \n",
       "3         0         5            0          0  \n",
       "4         0         5            0          0  \n",
       "\n",
       "[5 rows x 30 columns]"
      ]
     },
     "execution_count": 9,
     "metadata": {},
     "output_type": "execute_result"
    }
   ],
   "source": [
    "trainstat.head(5)"
   ]
  },
  {
   "cell_type": "code",
   "execution_count": 10,
   "metadata": {},
   "outputs": [],
   "source": [
    "trainstat.head(614809).to_csv(\"G://DMA_PROJECT//weibo_train1_cpts.csv\",sep=',',index=False,encoding='utf-8')\n",
    "trainstat.tail(614809).to_csv(\"G://DMA_PROJECT//weibo_train2_cpts.csv\",sep=',',index=False,encoding='utf-8')\n",
    "predictstat.to_csv(\"G://DMA_PROJECT//weibo_predict_cpts.csv\",sep=',',index=False,encoding='utf-8')"
   ]
  },
  {
   "cell_type": "code",
   "execution_count": 4,
   "metadata": {},
   "outputs": [],
   "source": [
    "df1=pd.read_csv(\"G://DMA_PROJECT//weibo_train1_cpts.csv\")\n",
    "df2=pd.read_csv(\"G://DMA_PROJECT//weibo_train2_cpts.csv\")\n",
    "frames=[df1,df2]\n",
    "train_dataset=pd.concat(frames)\n",
    "predict_dataset=pd.read_csv(\"G://DMA_PROJECT//weibo_predict_cpts.csv\")"
   ]
  },
  {
   "cell_type": "code",
   "execution_count": 5,
   "metadata": {},
   "outputs": [],
   "source": [
    "train_dataset['date']=pd.to_datetime(train_dataset['date'],errors='coerce')"
   ]
  },
  {
   "cell_type": "code",
   "execution_count": 6,
   "metadata": {},
   "outputs": [],
   "source": [
    "train_month=[g for n, g in train_dataset.groupby(pd.Grouper(key='date',freq='M'))]"
   ]
  },
  {
   "cell_type": "code",
   "execution_count": 14,
   "metadata": {},
   "outputs": [],
   "source": [
    "train_month[0].to_csv(\"G://DMA_PROJECT//weibo_train_feb_cpts.csv\",sep=',',index=False,encoding='utf-8')\n",
    "train_month[1].to_csv(\"G://DMA_PROJECT//weibo_train_march_cpts.csv\",sep=',',index=False,encoding='utf-8')\n",
    "train_month[2].to_csv(\"G://DMA_PROJECT//weibo_train_april_cpts.csv\",sep=',',index=False,encoding='utf-8')\n",
    "train_month[3].to_csv(\"G://DMA_PROJECT//weibo_train_may_cpts.csv\",sep=',',index=False,encoding='utf-8')\n",
    "train_month[4].to_csv(\"G://DMA_PROJECT//weibo_train_june_cpts.csv\",sep=',',index=False,encoding='utf-8')\n",
    "train_month[5].to_csv(\"G://DMA_PROJECT//weibo_train_july_cpts.csv\",sep=',',index=False,encoding='utf-8')"
   ]
  },
  {
   "cell_type": "code",
   "execution_count": 7,
   "metadata": {},
   "outputs": [],
   "source": [
    "train_month[0]=pd.read_csv(\"G://DMA_PROJECT//weibo_train_feb_cpts.csv\")\n",
    "train_month[1]=pd.read_csv(\"G://DMA_PROJECT//weibo_train_march_cpts.csv\")\n",
    "train_month[2]=pd.read_csv(\"G://DMA_PROJECT//weibo_train_april_cpts.csv\")\n",
    "train_month[3]=pd.read_csv(\"G://DMA_PROJECT//weibo_train_may_cpts.csv\")\n",
    "train_month[4]=pd.read_csv(\"G://DMA_PROJECT//weibo_train_june_cpts.csv\")\n",
    "train_month[5]=pd.read_csv(\"G://DMA_PROJECT//weibo_train_july_cpts.csv\")"
   ]
  },
  {
   "cell_type": "code",
   "execution_count": 8,
   "metadata": {},
   "outputs": [],
   "source": [
    "frames1=[train_month[0],train_month[1],train_month[2],train_month[3],train_month[4]]\n",
    "train=pd.concat(frames1)\n",
    "predict=train_month[5]"
   ]
  },
  {
   "cell_type": "markdown",
   "metadata": {},
   "source": [
    "# Model 7 Median,Time: (Hour, Min, Sec), Media, Length, Emoji \n",
    "## Only for Forward Count"
   ]
  },
  {
   "cell_type": "code",
   "execution_count": 9,
   "metadata": {},
   "outputs": [],
   "source": [
    "X_train=train[[\"content_media_count\",\"content_length\",\"content_emoji_count\",\"hour\",\"min\",\"sec\",\"forward_median\"]]\n",
    "Y_train=train[[\"forward_count\"]]\n",
    "X_test=predict[[\"content_media_count\",\"content_length\",\"content_emoji_count\",\"hour\",\"min\",\"sec\",\"forward_median\"]]\n",
    "Y_test=predict[[\"forward_count\"]]"
   ]
  },
  {
   "cell_type": "code",
   "execution_count": 10,
   "metadata": {},
   "outputs": [
    {
     "name": "stdout",
     "output_type": "stream",
     "text": [
      "(1044681, 7) (1044681, 1)\n",
      "(184937, 7) (184937, 1)\n"
     ]
    }
   ],
   "source": [
    "print(X_train.shape,Y_train.shape)\n",
    "print(X_test.shape,Y_test.shape)"
   ]
  },
  {
   "cell_type": "code",
   "execution_count": 11,
   "metadata": {},
   "outputs": [
    {
     "name": "stderr",
     "output_type": "stream",
     "text": [
      "G:\\Anaconda\\lib\\site-packages\\pandas\\core\\generic.py:5430: SettingWithCopyWarning: \n",
      "A value is trying to be set on a copy of a slice from a DataFrame\n",
      "\n",
      "See the caveats in the documentation: http://pandas.pydata.org/pandas-docs/stable/indexing.html#indexing-view-versus-copy\n",
      "  self._update_inplace(new_data)\n"
     ]
    }
   ],
   "source": [
    "pd.options.mode.use_inf_as_na = True\n",
    "X_train.fillna(X_train.max(),inplace=True)\n",
    "X_test.fillna(X_test.max(),inplace=True)"
   ]
  },
  {
   "cell_type": "code",
   "execution_count": 12,
   "metadata": {},
   "outputs": [],
   "source": [
    "lm=linear_model.LinearRegression()\n",
    "model=lm.fit(X_train,Y_train)\n",
    "pred=lm.predict(X_test)\n",
    "pred=pred.round()\n",
    "pred=(np.maximum(pred,0.))"
   ]
  },
  {
   "cell_type": "code",
   "execution_count": 13,
   "metadata": {},
   "outputs": [
    {
     "name": "stdout",
     "output_type": "stream",
     "text": [
      "[[ 1.]\n",
      " [ 1.]\n",
      " [ 1.]\n",
      " [ 8.]\n",
      " [ 1.]]\n"
     ]
    }
   ],
   "source": [
    "print(pred[0:5])"
   ]
  },
  {
   "cell_type": "code",
   "execution_count": 14,
   "metadata": {},
   "outputs": [
    {
     "name": "stdout",
     "output_type": "stream",
     "text": [
      "[[ -7.05031752e-01   2.07778896e-02   6.62467259e-02   4.04463406e-02\n",
      "    6.80481359e-04   9.98897013e-05   1.52380773e+00]]\n"
     ]
    }
   ],
   "source": [
    "print(model.coef_)"
   ]
  },
  {
   "cell_type": "code",
   "execution_count": 15,
   "metadata": {},
   "outputs": [
    {
     "name": "stdout",
     "output_type": "stream",
     "text": [
      "[-0.37795983]\n"
     ]
    }
   ],
   "source": [
    "print(model.intercept_)"
   ]
  },
  {
   "cell_type": "code",
   "execution_count": 16,
   "metadata": {},
   "outputs": [],
   "source": [
    "np.savetxt(\"G://DMA_PROJECT//weibo_predict_result8.csv\",pred,delimiter=',',header=\"forward_count,comment_count,like_count\",comments=\"\")\n",
    "result=pd.read_csv(\"G://DMA_PROJECT//weibo_predict_result8.csv\")"
   ]
  },
  {
   "cell_type": "code",
   "execution_count": 17,
   "metadata": {},
   "outputs": [
    {
     "name": "stderr",
     "output_type": "stream",
     "text": [
      "G:\\Anaconda\\lib\\site-packages\\ipykernel_launcher.py:2: SettingWithCopyWarning: \n",
      "A value is trying to be set on a copy of a slice from a DataFrame.\n",
      "Try using .loc[row_indexer,col_indexer] = value instead\n",
      "\n",
      "See the caveats in the documentation: http://pandas.pydata.org/pandas-docs/stable/indexing.html#indexing-view-versus-copy\n",
      "  \n"
     ]
    },
    {
     "name": "stdout",
     "output_type": "stream",
     "text": [
      "Score on the training set:45.81%\n"
     ]
    }
   ],
   "source": [
    "train_real_pred=Y_test\n",
    "train_real_pred['fp']=result['forward_count'].values\n",
    "train_real_pred=train_real_pred.round()\n",
    "print (\"Score on the training set:{0:.2f}%\".format(precision2(train_real_pred.values)*100))"
   ]
  },
  {
   "cell_type": "markdown",
   "metadata": {},
   "source": [
    "# Model 7 Median,Time: (Hour, Min, Sec), Media, Length, Emoji "
   ]
  },
  {
   "cell_type": "code",
   "execution_count": 39,
   "metadata": {},
   "outputs": [],
   "source": [
    "X_train=train[[\"content_media_count\",\"content_length\",\"content_emoji_count\",\"hour\",\"min\",\"sec\",\"forward_median\",\"comment_median\",\"like_median\"]]\n",
    "Y_train=train[[\"forward_count\",\"comment_count\",\"like_count\"]]\n",
    "X_test=predict[[\"content_media_count\",\"content_length\",\"content_emoji_count\",\"hour\",\"min\",\"sec\",\"forward_median\",\"comment_median\",\"like_median\"]]\n",
    "Y_test=predict[[\"forward_count\",\"comment_count\",\"like_count\"]]"
   ]
  },
  {
   "cell_type": "code",
   "execution_count": 40,
   "metadata": {},
   "outputs": [
    {
     "name": "stdout",
     "output_type": "stream",
     "text": [
      "(1044681, 9) (1044681, 3)\n",
      "(184937, 9) (184937, 3)\n"
     ]
    }
   ],
   "source": [
    "print(X_train.shape,Y_train.shape)\n",
    "print(X_test.shape,Y_test.shape)"
   ]
  },
  {
   "cell_type": "code",
   "execution_count": 41,
   "metadata": {},
   "outputs": [
    {
     "name": "stderr",
     "output_type": "stream",
     "text": [
      "G:\\Anaconda\\lib\\site-packages\\pandas\\core\\generic.py:5430: SettingWithCopyWarning: \n",
      "A value is trying to be set on a copy of a slice from a DataFrame\n",
      "\n",
      "See the caveats in the documentation: http://pandas.pydata.org/pandas-docs/stable/indexing.html#indexing-view-versus-copy\n",
      "  self._update_inplace(new_data)\n"
     ]
    }
   ],
   "source": [
    "pd.options.mode.use_inf_as_na = True\n",
    "X_train.fillna(X_train.max(),inplace=True)\n",
    "X_test.fillna(X_test.max(),inplace=True)"
   ]
  },
  {
   "cell_type": "code",
   "execution_count": 42,
   "metadata": {},
   "outputs": [],
   "source": [
    "lm=linear_model.LinearRegression()\n",
    "model=lm.fit(X_train,Y_train)\n",
    "pred=lm.predict(X_test)\n",
    "pred=pred.round()\n",
    "pred=(np.maximum(pred,0.))"
   ]
  },
  {
   "cell_type": "code",
   "execution_count": 43,
   "metadata": {},
   "outputs": [
    {
     "name": "stdout",
     "output_type": "stream",
     "text": [
      "[[  3.   4.   3.]\n",
      " [  3.   4.   3.]\n",
      " [  3.   4.   3.]\n",
      " [ 13.   7.   8.]\n",
      " [  2.   2.   2.]]\n"
     ]
    }
   ],
   "source": [
    "print(pred[0:5])"
   ]
  },
  {
   "cell_type": "code",
   "execution_count": 44,
   "metadata": {},
   "outputs": [
    {
     "name": "stdout",
     "output_type": "stream",
     "text": [
      "[[ -2.63364425e-01   1.91174376e-02   5.54642973e-02   3.76150971e-02\n",
      "    5.27858190e-04   1.68362209e-03   1.58279691e+00   1.67729136e+00\n",
      "   -2.93017304e-01]\n",
      " [ -6.60961017e-01   2.55079540e-03   1.00504045e-01   1.24809468e-02\n",
      "    2.35146358e-03   1.20243289e-03   7.17940397e-02   1.55348700e+00\n",
      "    4.45266999e-03]\n",
      " [ -8.70474303e-01   9.23346652e-04   5.98607519e-02   2.34643687e-02\n",
      "    4.45920014e-05   1.52298289e-03   1.45839466e-01   3.91354761e-01\n",
      "    1.06591334e+00]]\n"
     ]
    }
   ],
   "source": [
    "print(model.coef_)"
   ]
  },
  {
   "cell_type": "code",
   "execution_count": 45,
   "metadata": {},
   "outputs": [
    {
     "name": "stdout",
     "output_type": "stream",
     "text": [
      "[-1.04897282  0.36245024  0.43019058]\n"
     ]
    }
   ],
   "source": [
    "print(model.intercept_)"
   ]
  },
  {
   "cell_type": "code",
   "execution_count": 46,
   "metadata": {},
   "outputs": [],
   "source": [
    "np.savetxt(\"G://DMA_PROJECT//weibo_predict_result9.csv\",pred,delimiter=',',header=\"forward_count,comment_count,like_count\",comments=\"\")\n",
    "result=pd.read_csv(\"G://DMA_PROJECT//weibo_predict_result9.csv\")"
   ]
  },
  {
   "cell_type": "code",
   "execution_count": 47,
   "metadata": {},
   "outputs": [
    {
     "name": "stderr",
     "output_type": "stream",
     "text": [
      "G:\\Anaconda\\lib\\site-packages\\ipykernel_launcher.py:2: SettingWithCopyWarning: \n",
      "A value is trying to be set on a copy of a slice from a DataFrame.\n",
      "Try using .loc[row_indexer,col_indexer] = value instead\n",
      "\n",
      "See the caveats in the documentation: http://pandas.pydata.org/pandas-docs/stable/indexing.html#indexing-view-versus-copy\n",
      "  \n",
      "G:\\Anaconda\\lib\\site-packages\\ipykernel_launcher.py:3: SettingWithCopyWarning: \n",
      "A value is trying to be set on a copy of a slice from a DataFrame.\n",
      "Try using .loc[row_indexer,col_indexer] = value instead\n",
      "\n",
      "See the caveats in the documentation: http://pandas.pydata.org/pandas-docs/stable/indexing.html#indexing-view-versus-copy\n",
      "  This is separate from the ipykernel package so we can avoid doing imports until\n",
      "G:\\Anaconda\\lib\\site-packages\\ipykernel_launcher.py:4: SettingWithCopyWarning: \n",
      "A value is trying to be set on a copy of a slice from a DataFrame.\n",
      "Try using .loc[row_indexer,col_indexer] = value instead\n",
      "\n",
      "See the caveats in the documentation: http://pandas.pydata.org/pandas-docs/stable/indexing.html#indexing-view-versus-copy\n",
      "  after removing the cwd from sys.path.\n"
     ]
    },
    {
     "name": "stdout",
     "output_type": "stream",
     "text": [
      "Score on the training set:22.47%\n"
     ]
    }
   ],
   "source": [
    "train_real_pred = Y_test\n",
    "train_real_pred['fp']=result['forward_count'].values\n",
    "train_real_pred['cp']=result['comment_count'].values\n",
    "train_real_pred['lp']=result['like_count'].values\n",
    "train_real_pred=train_real_pred.round()\n",
    "print (\"Score on the training set:{0:.2f}%\".format(precision(train_real_pred.values)*100))"
   ]
  },
  {
   "cell_type": "code",
   "execution_count": null,
   "metadata": {},
   "outputs": [],
   "source": []
  }
 ],
 "metadata": {
  "kernelspec": {
   "display_name": "Python 3",
   "language": "python",
   "name": "python3"
  },
  "language_info": {
   "codemirror_mode": {
    "name": "ipython",
    "version": 3
   },
   "file_extension": ".py",
   "mimetype": "text/x-python",
   "name": "python",
   "nbconvert_exporter": "python",
   "pygments_lexer": "ipython3",
   "version": "3.6.5"
  }
 },
 "nbformat": 4,
 "nbformat_minor": 2
}
