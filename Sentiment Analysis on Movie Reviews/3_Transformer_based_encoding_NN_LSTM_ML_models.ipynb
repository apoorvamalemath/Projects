{
 "cells": [
  {
   "cell_type": "markdown",
   "metadata": {},
   "source": [
    "### Custom Neural Network with Sentence-T5 based Transformer for text Encoding"
   ]
  },
  {
   "cell_type": "code",
   "execution_count": 2,
   "metadata": {
    "_cell_guid": "b1076dfc-b9ad-4769-8c92-a6c4dae69d19",
    "_uuid": "8f2839f25d086af736a60e9eeb907d3b93b6e0e5",
    "execution": {
     "iopub.execute_input": "2022-12-08T04:48:05.714533Z",
     "iopub.status.busy": "2022-12-08T04:48:05.714203Z",
     "iopub.status.idle": "2022-12-08T04:48:06.417442Z",
     "shell.execute_reply": "2022-12-08T04:48:06.416504Z",
     "shell.execute_reply.started": "2022-12-08T04:48:05.714480Z"
    }
   },
   "outputs": [
    {
     "name": "stdout",
     "output_type": "stream",
     "text": [
      "/kaggle/input/sentiment-analysis-on-movie-reviews/sampleSubmission.csv\n",
      "/kaggle/input/sentiment-analysis-on-movie-reviews/train.tsv.zip\n",
      "/kaggle/input/sentiment-analysis-on-movie-reviews/test.tsv.zip\n"
     ]
    }
   ],
   "source": [
    "import numpy as np \n",
    "import pandas as pd \n",
    "import os\n",
    "from sklearn.metrics import accuracy_score\n",
    "from sklearn.metrics import precision_score\n",
    "from sklearn.metrics import recall_score\n",
    "from sklearn.metrics import f1_score\n",
    "from sklearn.metrics import roc_auc_score\n",
    "from sklearn.metrics import classification_report\n",
    "\n",
    "for dirname, _, filenames in os.walk('/kaggle/input'):\n",
    "    for filename in filenames:\n",
    "        print(os.path.join(dirname, filename))"
   ]
  },
  {
   "cell_type": "markdown",
   "metadata": {},
   "source": [
    "### Loadind the data"
   ]
  },
  {
   "cell_type": "code",
   "execution_count": 3,
   "metadata": {
    "_cell_guid": "79c7e3d0-c299-4dcb-8224-4455121ee9b0",
    "_uuid": "d629ff2d2480ee46fbb7e2d37f6b5fab8052498a",
    "execution": {
     "iopub.execute_input": "2022-12-08T04:48:08.103283Z",
     "iopub.status.busy": "2022-12-08T04:48:08.102955Z",
     "iopub.status.idle": "2022-12-08T04:48:08.282710Z",
     "shell.execute_reply": "2022-12-08T04:48:08.281852Z",
     "shell.execute_reply.started": "2022-12-08T04:48:08.103250Z"
    }
   },
   "outputs": [],
   "source": [
    "train = pd.read_table('/kaggle/input/sentiment-analysis-on-movie-reviews/train.tsv.zip')"
   ]
  },
  {
   "cell_type": "markdown",
   "metadata": {},
   "source": [
    "## Applying Sentence-T5: Scalable sentence encoders from pre-trained text-to-text models \n",
    "\n",
    "- This is a sentence-transformers model: It maps sentences & paragraphs to a 768 dimensional dense vector space. The model works well for sentence similarity tasks.\n",
    "- Outperforms Sentence-BERT."
   ]
  },
  {
   "cell_type": "code",
   "execution_count": 4,
   "metadata": {
    "execution": {
     "iopub.execute_input": "2022-12-08T04:48:09.716616Z",
     "iopub.status.busy": "2022-12-08T04:48:09.716279Z",
     "iopub.status.idle": "2022-12-08T04:48:26.736017Z",
     "shell.execute_reply": "2022-12-08T04:48:26.735065Z",
     "shell.execute_reply.started": "2022-12-08T04:48:09.716582Z"
    }
   },
   "outputs": [
    {
     "name": "stdout",
     "output_type": "stream",
     "text": [
      "\u001b[31mERROR: pip's dependency resolver does not currently take into account all the packages that are installed. This behaviour is the source of the following dependency conflicts.\n",
      "allennlp 2.3.0 requires transformers<4.6,>=4.1, but you have transformers 4.25.1 which is incompatible.\u001b[0m\n"
     ]
    }
   ],
   "source": [
    "!pip install -q sentence-transformers"
   ]
  },
  {
   "cell_type": "code",
   "execution_count": 5,
   "metadata": {
    "execution": {
     "iopub.execute_input": "2022-12-08T04:48:26.738382Z",
     "iopub.status.busy": "2022-12-08T04:48:26.737978Z",
     "iopub.status.idle": "2022-12-08T04:49:01.548872Z",
     "shell.execute_reply": "2022-12-08T04:49:01.547991Z",
     "shell.execute_reply.started": "2022-12-08T04:48:26.738334Z"
    }
   },
   "outputs": [
    {
     "data": {
      "application/vnd.jupyter.widget-view+json": {
       "model_id": "1e2d5d53c14b451fa6013383e126bd09",
       "version_major": 2,
       "version_minor": 0
      },
      "text/plain": [
       "Downloading:   0%|          | 0.00/1.18k [00:00<?, ?B/s]"
      ]
     },
     "metadata": {},
     "output_type": "display_data"
    },
    {
     "data": {
      "application/vnd.jupyter.widget-view+json": {
       "model_id": "16febf2c7d4948a79a0d6b34b6c5ff46",
       "version_major": 2,
       "version_minor": 0
      },
      "text/plain": [
       "Downloading:   0%|          | 0.00/190 [00:00<?, ?B/s]"
      ]
     },
     "metadata": {},
     "output_type": "display_data"
    },
    {
     "data": {
      "application/vnd.jupyter.widget-view+json": {
       "model_id": "cc739074bb914fb1a1cd493f1a2b40e3",
       "version_major": 2,
       "version_minor": 0
      },
      "text/plain": [
       "Downloading:   0%|          | 0.00/115 [00:00<?, ?B/s]"
      ]
     },
     "metadata": {},
     "output_type": "display_data"
    },
    {
     "data": {
      "application/vnd.jupyter.widget-view+json": {
       "model_id": "c4014091e0d7491eb83f528df83d65fb",
       "version_major": 2,
       "version_minor": 0
      },
      "text/plain": [
       "Downloading:   0%|          | 0.00/2.36M [00:00<?, ?B/s]"
      ]
     },
     "metadata": {},
     "output_type": "display_data"
    },
    {
     "data": {
      "application/vnd.jupyter.widget-view+json": {
       "model_id": "77683c2341fa44f39f6fc109cfd38dbf",
       "version_major": 2,
       "version_minor": 0
      },
      "text/plain": [
       "Downloading:   0%|          | 0.00/2.36M [00:00<?, ?B/s]"
      ]
     },
     "metadata": {},
     "output_type": "display_data"
    },
    {
     "data": {
      "application/vnd.jupyter.widget-view+json": {
       "model_id": "a71c827866544b6880b272ccbf232c43",
       "version_major": 2,
       "version_minor": 0
      },
      "text/plain": [
       "Downloading:   0%|          | 0.00/2.01k [00:00<?, ?B/s]"
      ]
     },
     "metadata": {},
     "output_type": "display_data"
    },
    {
     "data": {
      "application/vnd.jupyter.widget-view+json": {
       "model_id": "106945d3599f4999be0bda2e3e9b8619",
       "version_major": 2,
       "version_minor": 0
      },
      "text/plain": [
       "Downloading:   0%|          | 0.00/1.39k [00:00<?, ?B/s]"
      ]
     },
     "metadata": {},
     "output_type": "display_data"
    },
    {
     "data": {
      "application/vnd.jupyter.widget-view+json": {
       "model_id": "b2c1f03ddb02437fa0432eeaa51bd822",
       "version_major": 2,
       "version_minor": 0
      },
      "text/plain": [
       "Downloading:   0%|          | 0.00/122 [00:00<?, ?B/s]"
      ]
     },
     "metadata": {},
     "output_type": "display_data"
    },
    {
     "data": {
      "application/vnd.jupyter.widget-view+json": {
       "model_id": "eb3c617e31b04ea9b34150773ca530d1",
       "version_major": 2,
       "version_minor": 0
      },
      "text/plain": [
       "Downloading:   0%|          | 0.00/74.6k [00:00<?, ?B/s]"
      ]
     },
     "metadata": {},
     "output_type": "display_data"
    },
    {
     "data": {
      "application/vnd.jupyter.widget-view+json": {
       "model_id": "5fcd144ee8874568b7f6e2bad0d83793",
       "version_major": 2,
       "version_minor": 0
      },
      "text/plain": [
       "Downloading:   0%|          | 0.00/198 [00:00<?, ?B/s]"
      ]
     },
     "metadata": {},
     "output_type": "display_data"
    },
    {
     "data": {
      "application/vnd.jupyter.widget-view+json": {
       "model_id": "afcb2de2ae1c43698a2d0f02995d9aff",
       "version_major": 2,
       "version_minor": 0
      },
      "text/plain": [
       "Downloading:   0%|          | 0.00/219M [00:00<?, ?B/s]"
      ]
     },
     "metadata": {},
     "output_type": "display_data"
    },
    {
     "data": {
      "application/vnd.jupyter.widget-view+json": {
       "model_id": "8586b02ac8684c7f9fd43e51c41290ad",
       "version_major": 2,
       "version_minor": 0
      },
      "text/plain": [
       "Downloading:   0%|          | 0.00/53.0 [00:00<?, ?B/s]"
      ]
     },
     "metadata": {},
     "output_type": "display_data"
    },
    {
     "data": {
      "application/vnd.jupyter.widget-view+json": {
       "model_id": "4a31f85e6be4491ea2932bfd4578d90b",
       "version_major": 2,
       "version_minor": 0
      },
      "text/plain": [
       "Downloading:   0%|          | 0.00/1.79k [00:00<?, ?B/s]"
      ]
     },
     "metadata": {},
     "output_type": "display_data"
    },
    {
     "data": {
      "application/vnd.jupyter.widget-view+json": {
       "model_id": "abdf57dd6ecc4af5921c89ab013a253c",
       "version_major": 2,
       "version_minor": 0
      },
      "text/plain": [
       "Downloading:   0%|          | 0.00/792k [00:00<?, ?B/s]"
      ]
     },
     "metadata": {},
     "output_type": "display_data"
    },
    {
     "data": {
      "application/vnd.jupyter.widget-view+json": {
       "model_id": "eb062059aefc4d0eb07e9cbd19005edf",
       "version_major": 2,
       "version_minor": 0
      },
      "text/plain": [
       "Downloading:   0%|          | 0.00/1.39M [00:00<?, ?B/s]"
      ]
     },
     "metadata": {},
     "output_type": "display_data"
    },
    {
     "data": {
      "application/vnd.jupyter.widget-view+json": {
       "model_id": "b39a118fca484131ad9ed49c0c0b99d0",
       "version_major": 2,
       "version_minor": 0
      },
      "text/plain": [
       "Downloading:   0%|          | 0.00/1.92k [00:00<?, ?B/s]"
      ]
     },
     "metadata": {},
     "output_type": "display_data"
    },
    {
     "data": {
      "application/vnd.jupyter.widget-view+json": {
       "model_id": "6f96a3bc46dd4c2c964a1cd0021cc7bd",
       "version_major": 2,
       "version_minor": 0
      },
      "text/plain": [
       "Downloading:   0%|          | 0.00/461 [00:00<?, ?B/s]"
      ]
     },
     "metadata": {},
     "output_type": "display_data"
    }
   ],
   "source": [
    "from sentence_transformers import SentenceTransformer\n",
    "sbert = SentenceTransformer('sentence-transformers/sentence-t5-base')"
   ]
  },
  {
   "cell_type": "code",
   "execution_count": 6,
   "metadata": {
    "execution": {
     "iopub.execute_input": "2022-12-08T04:49:01.552661Z",
     "iopub.status.busy": "2022-12-08T04:49:01.552383Z",
     "iopub.status.idle": "2022-12-08T04:51:02.156721Z",
     "shell.execute_reply": "2022-12-08T04:51:02.155419Z",
     "shell.execute_reply.started": "2022-12-08T04:49:01.552633Z"
    }
   },
   "outputs": [
    {
     "data": {
      "application/vnd.jupyter.widget-view+json": {
       "model_id": "c16e2694f7c243618badd9d7f09c14f0",
       "version_major": 2,
       "version_minor": 0
      },
      "text/plain": [
       "Batches:   0%|          | 0/4877 [00:00<?, ?it/s]"
      ]
     },
     "metadata": {},
     "output_type": "display_data"
    },
    {
     "name": "stdout",
     "output_type": "stream",
     "text": [
      "(156060, 768)\n"
     ]
    }
   ],
   "source": [
    "encoded_phrases = sbert.encode(train['Phrase'])\n",
    "print(encoded_phrases.shape)"
   ]
  },
  {
   "cell_type": "markdown",
   "metadata": {},
   "source": [
    "### Splitting the train data into train and test"
   ]
  },
  {
   "cell_type": "code",
   "execution_count": 7,
   "metadata": {
    "execution": {
     "iopub.execute_input": "2022-12-08T04:51:02.160357Z",
     "iopub.status.busy": "2022-12-08T04:51:02.159947Z",
     "iopub.status.idle": "2022-12-08T04:51:02.338293Z",
     "shell.execute_reply": "2022-12-08T04:51:02.337248Z",
     "shell.execute_reply.started": "2022-12-08T04:51:02.160308Z"
    }
   },
   "outputs": [
    {
     "name": "stdout",
     "output_type": "stream",
     "text": [
      "(124848, 768) (124848,)\n",
      "(31212, 768) (31212,)\n"
     ]
    }
   ],
   "source": [
    "from sklearn.model_selection import train_test_split\n",
    "\n",
    "train_x, test_x, train_y, test_y = train_test_split(encoded_phrases, train['Sentiment'], test_size=0.2, random_state=42)\n",
    "\n",
    "print(train_x.shape, train_y.shape)\n",
    "print(test_x.shape, test_y.shape)"
   ]
  },
  {
   "cell_type": "markdown",
   "metadata": {},
   "source": [
    "### Defining evaluation metrics"
   ]
  },
  {
   "cell_type": "code",
   "execution_count": 8,
   "metadata": {
    "execution": {
     "iopub.execute_input": "2022-12-08T04:51:02.340276Z",
     "iopub.status.busy": "2022-12-08T04:51:02.339753Z",
     "iopub.status.idle": "2022-12-08T04:51:02.347237Z",
     "shell.execute_reply": "2022-12-08T04:51:02.346333Z",
     "shell.execute_reply.started": "2022-12-08T04:51:02.340234Z"
    }
   },
   "outputs": [],
   "source": [
    "def evaluation_metrics(y_test, y_pred):\n",
    "    result = {}\n",
    "    result['Accuracy'] = accuracy_score(y_test, y_pred)\n",
    "    result['Precision_weighted'] = precision_score(y_test, y_pred, average='weighted')\n",
    "    result['Recall_weighted'] = recall_score(y_test, y_pred, average='weighted')\n",
    "    result['F1 Score_weighted'] = f1_score(y_test, y_pred, average='weighted')\n",
    "    result['Precision_micro'] = precision_score(y_test, y_pred, average='micro')\n",
    "    result['Recall_micro'] = recall_score(y_test, y_pred, average='micro')\n",
    "    result['F1 Score_micro'] = f1_score(y_test, y_pred, average='micro')\n",
    "    return result"
   ]
  },
  {
   "cell_type": "markdown",
   "metadata": {},
   "source": [
    "### 1. Sequential NN"
   ]
  },
  {
   "cell_type": "code",
   "execution_count": 10,
   "metadata": {
    "execution": {
     "iopub.execute_input": "2022-12-05T06:04:11.983299Z",
     "iopub.status.busy": "2022-12-05T06:04:11.982845Z",
     "iopub.status.idle": "2022-12-05T06:04:12.465171Z",
     "shell.execute_reply": "2022-12-05T06:04:12.464378Z",
     "shell.execute_reply.started": "2022-12-05T06:04:11.983262Z"
    }
   },
   "outputs": [
    {
     "name": "stdout",
     "output_type": "stream",
     "text": [
      "Model: \"sequential\"\n",
      "_________________________________________________________________\n",
      "Layer (type)                 Output Shape              Param #   \n",
      "=================================================================\n",
      "dense (Dense)                (None, 512)               393728    \n",
      "_________________________________________________________________\n",
      "dropout (Dropout)            (None, 512)               0         \n",
      "_________________________________________________________________\n",
      "dense_1 (Dense)              (None, 256)               131328    \n",
      "_________________________________________________________________\n",
      "dense_2 (Dense)              (None, 256)               65792     \n",
      "_________________________________________________________________\n",
      "dense_3 (Dense)              (None, 256)               65792     \n",
      "_________________________________________________________________\n",
      "dropout_1 (Dropout)          (None, 256)               0         \n",
      "_________________________________________________________________\n",
      "dense_4 (Dense)              (None, 64)                16448     \n",
      "_________________________________________________________________\n",
      "dropout_2 (Dropout)          (None, 64)                0         \n",
      "_________________________________________________________________\n",
      "dense_5 (Dense)              (None, 32)                2080      \n",
      "_________________________________________________________________\n",
      "dense_6 (Dense)              (None, 5)                 165       \n",
      "=================================================================\n",
      "Total params: 675,333\n",
      "Trainable params: 675,333\n",
      "Non-trainable params: 0\n",
      "_________________________________________________________________\n"
     ]
    }
   ],
   "source": [
    "from keras.models import Sequential\n",
    "from keras.layers import *\n",
    "\n",
    "nn_model = Sequential([\n",
    "    Dense(512, input_shape=(768,), activation='relu'),\n",
    "    Dropout(0.2),\n",
    "    Dense(256, activation='relu'),\n",
    "    Dense(256, activation='relu'),\n",
    "    Dense(256, activation='relu'),\n",
    "    Dropout(0.2),\n",
    "    Dense(64, activation='relu'),\n",
    "    Dropout(0.2),\n",
    "    Dense(32, activation='relu'),\n",
    "    Dense(5, activation='softmax'),\n",
    "])\n",
    "\n",
    "nn_model.compile(loss='sparse_categorical_crossentropy', optimizer='adam', metrics='acc')\n",
    "\n",
    "nn_model.summary()"
   ]
  },
  {
   "cell_type": "code",
   "execution_count": 11,
   "metadata": {
    "execution": {
     "iopub.execute_input": "2022-12-05T06:04:12.466824Z",
     "iopub.status.busy": "2022-12-05T06:04:12.466490Z",
     "iopub.status.idle": "2022-12-05T06:05:05.405377Z",
     "shell.execute_reply": "2022-12-05T06:05:05.404525Z",
     "shell.execute_reply.started": "2022-12-05T06:04:12.466788Z"
    }
   },
   "outputs": [
    {
     "name": "stdout",
     "output_type": "stream",
     "text": [
      "Epoch 1/10\n",
      "1951/1951 [==============================] - 6s 3ms/step - loss: 0.9408 - acc: 0.6167 - val_loss: 0.8175 - val_acc: 0.6590\n",
      "Epoch 2/10\n",
      "1951/1951 [==============================] - 5s 3ms/step - loss: 0.8222 - acc: 0.6562 - val_loss: 0.7988 - val_acc: 0.6634\n",
      "Epoch 3/10\n",
      "1951/1951 [==============================] - 5s 3ms/step - loss: 0.8047 - acc: 0.6655 - val_loss: 0.7829 - val_acc: 0.6744\n",
      "Epoch 4/10\n",
      "1951/1951 [==============================] - 5s 3ms/step - loss: 0.7923 - acc: 0.6705 - val_loss: 0.8010 - val_acc: 0.6666\n",
      "Epoch 5/10\n",
      "1951/1951 [==============================] - 5s 3ms/step - loss: 0.7835 - acc: 0.6738 - val_loss: 0.7795 - val_acc: 0.6775\n",
      "Epoch 6/10\n",
      "1951/1951 [==============================] - 5s 2ms/step - loss: 0.7729 - acc: 0.6770 - val_loss: 0.7821 - val_acc: 0.6696\n",
      "Epoch 7/10\n",
      "1951/1951 [==============================] - 5s 3ms/step - loss: 0.7627 - acc: 0.6809 - val_loss: 0.7657 - val_acc: 0.6761\n",
      "Epoch 8/10\n",
      "1951/1951 [==============================] - 5s 3ms/step - loss: 0.7622 - acc: 0.6797 - val_loss: 0.7615 - val_acc: 0.6824\n",
      "Epoch 9/10\n",
      "1951/1951 [==============================] - 6s 3ms/step - loss: 0.7461 - acc: 0.6869 - val_loss: 0.7661 - val_acc: 0.6819\n",
      "Epoch 10/10\n",
      "1951/1951 [==============================] - 5s 3ms/step - loss: 0.7465 - acc: 0.6906 - val_loss: 0.7609 - val_acc: 0.6861\n"
     ]
    }
   ],
   "source": [
    "history = nn_model.fit(train_x, train_y, epochs=10, batch_size=64, validation_data=(test_x, test_y))"
   ]
  },
  {
   "cell_type": "code",
   "execution_count": 12,
   "metadata": {
    "execution": {
     "iopub.execute_input": "2022-12-05T06:05:05.409355Z",
     "iopub.status.busy": "2022-12-05T06:05:05.408871Z",
     "iopub.status.idle": "2022-12-05T06:05:06.410132Z",
     "shell.execute_reply": "2022-12-05T06:05:06.409209Z",
     "shell.execute_reply.started": "2022-12-05T06:05:05.409295Z"
    }
   },
   "outputs": [
    {
     "data": {
      "text/plain": [
       "{'Accuracy': 0.6861143150070486,\n",
       " 'Precision_weighted': 0.6794052926723396,\n",
       " 'Recall_weighted': 0.6861143150070486,\n",
       " 'F1 Score_weighted': 0.6754230510617323,\n",
       " 'Precision_micro': 0.6861143150070486,\n",
       " 'Recall_micro': 0.6861143150070486,\n",
       " 'F1 Score_micro': 0.6861143150070486}"
      ]
     },
     "execution_count": 12,
     "metadata": {},
     "output_type": "execute_result"
    }
   ],
   "source": [
    "nn_pred = nn_model.predict(test_x)\n",
    "nn_pred = pd.DataFrame(nn_pred)\n",
    "nn_pred['label'] = nn_pred.idxmax(axis=1)\n",
    "res = evaluation_metrics(test_y,nn_pred['label'])\n",
    "res"
   ]
  },
  {
   "cell_type": "code",
   "execution_count": 13,
   "metadata": {
    "execution": {
     "iopub.execute_input": "2022-12-05T06:05:06.412068Z",
     "iopub.status.busy": "2022-12-05T06:05:06.411816Z",
     "iopub.status.idle": "2022-12-05T06:05:06.458837Z",
     "shell.execute_reply": "2022-12-05T06:05:06.457973Z",
     "shell.execute_reply.started": "2022-12-05T06:05:06.412042Z"
    }
   },
   "outputs": [
    {
     "name": "stdout",
     "output_type": "stream",
     "text": [
      "              precision    recall  f1-score   support\n",
      "\n",
      "           0       0.65      0.26      0.37      1416\n",
      "           1       0.58      0.60      0.59      5527\n",
      "           2       0.74      0.85      0.79     15639\n",
      "           3       0.64      0.54      0.59      6707\n",
      "           4       0.63      0.45      0.52      1923\n",
      "\n",
      "    accuracy                           0.69     31212\n",
      "   macro avg       0.65      0.54      0.57     31212\n",
      "weighted avg       0.68      0.69      0.68     31212\n",
      "\n"
     ]
    }
   ],
   "source": [
    "report = classification_report(test_y,nn_pred['label'])\n",
    "print(report)"
   ]
  },
  {
   "cell_type": "code",
   "execution_count": 14,
   "metadata": {
    "execution": {
     "iopub.execute_input": "2022-12-05T06:05:06.460383Z",
     "iopub.status.busy": "2022-12-05T06:05:06.460001Z",
     "iopub.status.idle": "2022-12-05T06:06:46.789463Z",
     "shell.execute_reply": "2022-12-05T06:06:46.788834Z",
     "shell.execute_reply.started": "2022-12-05T06:05:06.460346Z"
    }
   },
   "outputs": [
    {
     "name": "stdout",
     "output_type": "stream",
     "text": [
      "Epoch 1/10\n",
      "3902/3902 [==============================] - 10s 3ms/step - loss: 0.7572 - acc: 0.6834 - val_loss: 0.7634 - val_acc: 0.6835\n",
      "Epoch 2/10\n",
      "3902/3902 [==============================] - 10s 3ms/step - loss: 0.7477 - acc: 0.6872 - val_loss: 0.7611 - val_acc: 0.6781\n",
      "Epoch 3/10\n",
      "3902/3902 [==============================] - 10s 3ms/step - loss: 0.7427 - acc: 0.6894 - val_loss: 0.7604 - val_acc: 0.6844\n",
      "Epoch 4/10\n",
      "3902/3902 [==============================] - 10s 3ms/step - loss: 0.7367 - acc: 0.6906 - val_loss: 0.7578 - val_acc: 0.6826\n",
      "Epoch 5/10\n",
      "3902/3902 [==============================] - 10s 3ms/step - loss: 0.7303 - acc: 0.6942 - val_loss: 0.7649 - val_acc: 0.6787\n",
      "Epoch 6/10\n",
      "3902/3902 [==============================] - 10s 3ms/step - loss: 0.7262 - acc: 0.6962 - val_loss: 0.7550 - val_acc: 0.6852\n",
      "Epoch 7/10\n",
      "3902/3902 [==============================] - 10s 3ms/step - loss: 0.7223 - acc: 0.6978 - val_loss: 0.7527 - val_acc: 0.6883\n",
      "Epoch 8/10\n",
      "3902/3902 [==============================] - 10s 2ms/step - loss: 0.7162 - acc: 0.7009 - val_loss: 0.7567 - val_acc: 0.6849\n",
      "Epoch 9/10\n",
      "3902/3902 [==============================] - 10s 3ms/step - loss: 0.7118 - acc: 0.7001 - val_loss: 0.7491 - val_acc: 0.6850\n",
      "Epoch 10/10\n",
      "3902/3902 [==============================] - 10s 3ms/step - loss: 0.7078 - acc: 0.7036 - val_loss: 0.7639 - val_acc: 0.6805\n"
     ]
    }
   ],
   "source": [
    "history = nn_model.fit(train_x, train_y, epochs=10, batch_size=32, validation_data=(test_x, test_y))"
   ]
  },
  {
   "cell_type": "code",
   "execution_count": 15,
   "metadata": {
    "execution": {
     "iopub.execute_input": "2022-12-05T06:06:46.791242Z",
     "iopub.status.busy": "2022-12-05T06:06:46.790752Z",
     "iopub.status.idle": "2022-12-05T06:06:47.727937Z",
     "shell.execute_reply": "2022-12-05T06:06:47.727155Z",
     "shell.execute_reply.started": "2022-12-05T06:06:46.791203Z"
    }
   },
   "outputs": [
    {
     "data": {
      "text/plain": [
       "{'Accuracy': 0.6804754581571191,\n",
       " 'Precision_weighted': 0.6854719515846176,\n",
       " 'Recall_weighted': 0.6804754581571191,\n",
       " 'F1 Score_weighted': 0.6757590383417545,\n",
       " 'Precision_micro': 0.6804754581571191,\n",
       " 'Recall_micro': 0.6804754581571191,\n",
       " 'F1 Score_micro': 0.6804754581571191}"
      ]
     },
     "execution_count": 15,
     "metadata": {},
     "output_type": "execute_result"
    }
   ],
   "source": [
    "nn_pred = nn_model.predict(test_x)\n",
    "nn_pred = pd.DataFrame(nn_pred)\n",
    "nn_pred['label'] = nn_pred.idxmax(axis=1)\n",
    "res = evaluation_metrics(test_y,nn_pred['label'])\n",
    "res"
   ]
  },
  {
   "cell_type": "code",
   "execution_count": 16,
   "metadata": {
    "execution": {
     "iopub.execute_input": "2022-12-05T06:06:47.729580Z",
     "iopub.status.busy": "2022-12-05T06:06:47.729229Z",
     "iopub.status.idle": "2022-12-05T06:06:47.778361Z",
     "shell.execute_reply": "2022-12-05T06:06:47.777410Z",
     "shell.execute_reply.started": "2022-12-05T06:06:47.729541Z"
    }
   },
   "outputs": [
    {
     "name": "stdout",
     "output_type": "stream",
     "text": [
      "              precision    recall  f1-score   support\n",
      "\n",
      "           0       0.66      0.23      0.35      1416\n",
      "           1       0.54      0.71      0.61      5527\n",
      "           2       0.78      0.78      0.78     15639\n",
      "           3       0.61      0.59      0.60      6707\n",
      "           4       0.60      0.46      0.52      1923\n",
      "\n",
      "    accuracy                           0.68     31212\n",
      "   macro avg       0.64      0.55      0.57     31212\n",
      "weighted avg       0.69      0.68      0.68     31212\n",
      "\n"
     ]
    }
   ],
   "source": [
    "report = classification_report(test_y,nn_pred['label'])\n",
    "print(report)"
   ]
  },
  {
   "cell_type": "markdown",
   "metadata": {},
   "source": [
    "### 2. LGBMClassifier"
   ]
  },
  {
   "cell_type": "code",
   "execution_count": 17,
   "metadata": {
    "execution": {
     "iopub.execute_input": "2022-12-05T06:06:47.780151Z",
     "iopub.status.busy": "2022-12-05T06:06:47.779667Z",
     "iopub.status.idle": "2022-12-05T06:17:26.725063Z",
     "shell.execute_reply": "2022-12-05T06:17:26.724029Z",
     "shell.execute_reply.started": "2022-12-05T06:06:47.780114Z"
    }
   },
   "outputs": [
    {
     "data": {
      "text/html": [
       "<style type='text/css'>\n",
       ".datatable table.frame { margin-bottom: 0; }\n",
       ".datatable table.frame thead { border-bottom: none; }\n",
       ".datatable table.frame tr.coltypes td {  color: #FFFFFF;  line-height: 6px;  padding: 0 0.5em;}\n",
       ".datatable .bool    { background: #DDDD99; }\n",
       ".datatable .object  { background: #565656; }\n",
       ".datatable .int     { background: #5D9E5D; }\n",
       ".datatable .float   { background: #4040CC; }\n",
       ".datatable .str     { background: #CC4040; }\n",
       ".datatable .row_index {  background: var(--jp-border-color3);  border-right: 1px solid var(--jp-border-color0);  color: var(--jp-ui-font-color3);  font-size: 9px;}\n",
       ".datatable .frame tr.coltypes .row_index {  background: var(--jp-border-color0);}\n",
       ".datatable th:nth-child(2) { padding-left: 12px; }\n",
       ".datatable .hellipsis {  color: var(--jp-cell-editor-border-color);}\n",
       ".datatable .vellipsis {  background: var(--jp-layout-color0);  color: var(--jp-cell-editor-border-color);}\n",
       ".datatable .na {  color: var(--jp-cell-editor-border-color);  font-size: 80%;}\n",
       ".datatable .footer { font-size: 9px; }\n",
       ".datatable .frame_dimensions {  background: var(--jp-border-color3);  border-top: 1px solid var(--jp-border-color0);  color: var(--jp-ui-font-color3);  display: inline-block;  opacity: 0.6;  padding: 1px 10px 1px 5px;}\n",
       ".datatable .frame thead tr.colnames {  background-image: url('data:image/png;base64,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');  background-repeat: repeat-x;  background-size: 14px;  height: 28px;}\n",
       "</style>\n"
      ],
      "text/plain": [
       "<IPython.core.display.HTML object>"
      ]
     },
     "metadata": {},
     "output_type": "display_data"
    },
    {
     "data": {
      "text/plain": [
       "{'Accuracy': 0.6670831731385365,\n",
       " 'Precision_weighted': 0.6566924084618412,\n",
       " 'Recall_weighted': 0.6670831731385365,\n",
       " 'F1 Score_weighted': 0.6558949105218476,\n",
       " 'Precision_micro': 0.6670831731385365,\n",
       " 'Recall_micro': 0.6670831731385365,\n",
       " 'F1 Score_micro': 0.6670831731385365}"
      ]
     },
     "execution_count": 17,
     "metadata": {},
     "output_type": "execute_result"
    }
   ],
   "source": [
    "from lightgbm import LGBMClassifier, Booster\n",
    "lgbm_model = LGBMClassifier(objective='multiclass')\n",
    "lgbm_model.fit(train_x, train_y)\n",
    "y_preds = lgbm_model.predict_proba(test_x)\n",
    "\n",
    "y_preds = pd.DataFrame(y_preds)\n",
    "y_preds['label'] = y_preds.idxmax(axis=1)\n",
    "evaluation_metrics(test_y,y_preds['label'])"
   ]
  },
  {
   "cell_type": "code",
   "execution_count": 18,
   "metadata": {
    "execution": {
     "iopub.execute_input": "2022-12-05T06:17:26.726914Z",
     "iopub.status.busy": "2022-12-05T06:17:26.726568Z",
     "iopub.status.idle": "2022-12-05T06:17:26.774735Z",
     "shell.execute_reply": "2022-12-05T06:17:26.773848Z",
     "shell.execute_reply.started": "2022-12-05T06:17:26.726878Z"
    }
   },
   "outputs": [
    {
     "name": "stdout",
     "output_type": "stream",
     "text": [
      "              precision    recall  f1-score   support\n",
      "\n",
      "           0       0.58      0.31      0.41      1416\n",
      "           1       0.57      0.53      0.55      5527\n",
      "           2       0.73      0.84      0.78     15639\n",
      "           3       0.60      0.54      0.57      6707\n",
      "           4       0.61      0.38      0.46      1923\n",
      "\n",
      "    accuracy                           0.67     31212\n",
      "   macro avg       0.62      0.52      0.55     31212\n",
      "weighted avg       0.66      0.67      0.66     31212\n",
      "\n"
     ]
    }
   ],
   "source": [
    "report = classification_report(test_y,y_preds['label'])\n",
    "print(report)"
   ]
  },
  {
   "cell_type": "markdown",
   "metadata": {},
   "source": [
    "### 3. RandomForest Classifer"
   ]
  },
  {
   "cell_type": "code",
   "execution_count": 19,
   "metadata": {
    "execution": {
     "iopub.execute_input": "2022-12-05T06:17:26.777355Z",
     "iopub.status.busy": "2022-12-05T06:17:26.776508Z",
     "iopub.status.idle": "2022-12-05T06:25:54.203873Z",
     "shell.execute_reply": "2022-12-05T06:25:54.203089Z",
     "shell.execute_reply.started": "2022-12-05T06:17:26.777246Z"
    }
   },
   "outputs": [
    {
     "data": {
      "text/plain": [
       "{'Accuracy': 0.6517044726387287,\n",
       " 'Precision_weighted': 0.6380418277134692,\n",
       " 'Recall_weighted': 0.6517044726387287,\n",
       " 'F1 Score_weighted': 0.6275035680890004,\n",
       " 'Precision_micro': 0.6517044726387287,\n",
       " 'Recall_micro': 0.6517044726387287,\n",
       " 'F1 Score_micro': 0.6517044726387287}"
      ]
     },
     "execution_count": 19,
     "metadata": {},
     "output_type": "execute_result"
    }
   ],
   "source": [
    "from sklearn.ensemble import RandomForestClassifier\n",
    "\n",
    "model = RandomForestClassifier()\n",
    "model.fit(train_x, train_y)\n",
    "y_pred = model.predict(test_x)\n",
    "res = evaluation_metrics(test_y, y_pred)\n",
    "res"
   ]
  },
  {
   "cell_type": "code",
   "execution_count": 21,
   "metadata": {
    "execution": {
     "iopub.execute_input": "2022-12-05T15:12:38.537625Z",
     "iopub.status.busy": "2022-12-05T15:12:38.537257Z",
     "iopub.status.idle": "2022-12-05T15:12:38.585955Z",
     "shell.execute_reply": "2022-12-05T15:12:38.585052Z",
     "shell.execute_reply.started": "2022-12-05T15:12:38.537591Z"
    }
   },
   "outputs": [
    {
     "name": "stdout",
     "output_type": "stream",
     "text": [
      "              precision    recall  f1-score   support\n",
      "\n",
      "           0       0.56      0.25      0.34      1416\n",
      "           1       0.58      0.45      0.51      5527\n",
      "           2       0.68      0.89      0.77     15639\n",
      "           3       0.61      0.45      0.52      6707\n",
      "           4       0.60      0.28      0.38      1923\n",
      "\n",
      "    accuracy                           0.65     31212\n",
      "   macro avg       0.61      0.46      0.50     31212\n",
      "weighted avg       0.64      0.65      0.63     31212\n",
      "\n"
     ]
    }
   ],
   "source": [
    "report = classification_report(test_y, y_pred)\n",
    "print(report)"
   ]
  },
  {
   "cell_type": "markdown",
   "metadata": {},
   "source": [
    "### 4. Logistic Regression"
   ]
  },
  {
   "cell_type": "code",
   "execution_count": 23,
   "metadata": {
    "execution": {
     "iopub.execute_input": "2022-12-05T15:12:50.372744Z",
     "iopub.status.busy": "2022-12-05T15:12:50.372414Z",
     "iopub.status.idle": "2022-12-05T15:13:43.016044Z",
     "shell.execute_reply": "2022-12-05T15:13:43.015127Z",
     "shell.execute_reply.started": "2022-12-05T15:12:50.372715Z"
    }
   },
   "outputs": [
    {
     "name": "stderr",
     "output_type": "stream",
     "text": [
      "/opt/conda/lib/python3.7/site-packages/sklearn/linear_model/_logistic.py:765: ConvergenceWarning: lbfgs failed to converge (status=1):\n",
      "STOP: TOTAL NO. of ITERATIONS REACHED LIMIT.\n",
      "\n",
      "Increase the number of iterations (max_iter) or scale the data as shown in:\n",
      "    https://scikit-learn.org/stable/modules/preprocessing.html\n",
      "Please also refer to the documentation for alternative solver options:\n",
      "    https://scikit-learn.org/stable/modules/linear_model.html#logistic-regression\n",
      "  extra_warning_msg=_LOGISTIC_SOLVER_CONVERGENCE_MSG)\n"
     ]
    },
    {
     "data": {
      "text/plain": [
       "{'Accuracy': 0.6653530693323081,\n",
       " 'Precision_weighted': 0.6551402517100977,\n",
       " 'Recall_weighted': 0.6653530693323081,\n",
       " 'F1 Score_weighted': 0.6510741442045601,\n",
       " 'Precision_micro': 0.6653530693323081,\n",
       " 'Recall_micro': 0.6653530693323081,\n",
       " 'F1 Score_micro': 0.6653530693323081}"
      ]
     },
     "execution_count": 23,
     "metadata": {},
     "output_type": "execute_result"
    }
   ],
   "source": [
    "from sklearn.linear_model import LogisticRegression\n",
    "\n",
    "model = LogisticRegression(random_state=0).fit(train_x, train_y)\n",
    "y_pred = model.predict(test_x)\n",
    "res = evaluation_metrics(test_y, y_pred)\n",
    "res"
   ]
  },
  {
   "cell_type": "code",
   "execution_count": 24,
   "metadata": {
    "execution": {
     "iopub.execute_input": "2022-12-05T15:13:43.022628Z",
     "iopub.status.busy": "2022-12-05T15:13:43.020405Z",
     "iopub.status.idle": "2022-12-05T15:13:43.102697Z",
     "shell.execute_reply": "2022-12-05T15:13:43.100208Z",
     "shell.execute_reply.started": "2022-12-05T15:13:43.022571Z"
    }
   },
   "outputs": [
    {
     "name": "stdout",
     "output_type": "stream",
     "text": [
      "              precision    recall  f1-score   support\n",
      "\n",
      "           0       0.60      0.24      0.34      1416\n",
      "           1       0.56      0.52      0.54      5527\n",
      "           2       0.72      0.85      0.78     15639\n",
      "           3       0.60      0.54      0.57      6707\n",
      "           4       0.64      0.36      0.46      1923\n",
      "\n",
      "    accuracy                           0.67     31212\n",
      "   macro avg       0.62      0.50      0.54     31212\n",
      "weighted avg       0.66      0.67      0.65     31212\n",
      "\n"
     ]
    }
   ],
   "source": [
    "report = classification_report(test_y, y_pred)\n",
    "print(report)"
   ]
  },
  {
   "cell_type": "markdown",
   "metadata": {},
   "source": [
    "### 5. GaussianNB"
   ]
  },
  {
   "cell_type": "code",
   "execution_count": 25,
   "metadata": {
    "execution": {
     "iopub.execute_input": "2022-12-05T15:13:43.105286Z",
     "iopub.status.busy": "2022-12-05T15:13:43.104695Z",
     "iopub.status.idle": "2022-12-05T15:13:44.634581Z",
     "shell.execute_reply": "2022-12-05T15:13:44.633694Z",
     "shell.execute_reply.started": "2022-12-05T15:13:43.105240Z"
    }
   },
   "outputs": [
    {
     "data": {
      "text/plain": [
       "{'Accuracy': 0.5674740484429066,\n",
       " 'Precision_weighted': 0.6190060638312518,\n",
       " 'Recall_weighted': 0.5674740484429066,\n",
       " 'F1 Score_weighted': 0.5814310291069439,\n",
       " 'Precision_micro': 0.5674740484429066,\n",
       " 'Recall_micro': 0.5674740484429066,\n",
       " 'F1 Score_micro': 0.5674740484429066}"
      ]
     },
     "execution_count": 25,
     "metadata": {},
     "output_type": "execute_result"
    }
   ],
   "source": [
    "from sklearn.naive_bayes import GaussianNB\n",
    "clf = GaussianNB()\n",
    "clf.fit(train_x, train_y)\n",
    "y_pred = clf.predict(test_x)\n",
    "\n",
    "res = evaluation_metrics(test_y, y_pred)\n",
    "res\n"
   ]
  },
  {
   "cell_type": "code",
   "execution_count": 26,
   "metadata": {
    "execution": {
     "iopub.execute_input": "2022-12-05T15:13:44.637040Z",
     "iopub.status.busy": "2022-12-05T15:13:44.636674Z",
     "iopub.status.idle": "2022-12-05T15:13:44.685616Z",
     "shell.execute_reply": "2022-12-05T15:13:44.684691Z",
     "shell.execute_reply.started": "2022-12-05T15:13:44.637002Z"
    }
   },
   "outputs": [
    {
     "name": "stdout",
     "output_type": "stream",
     "text": [
      "              precision    recall  f1-score   support\n",
      "\n",
      "           0       0.30      0.66      0.41      1416\n",
      "           1       0.45      0.46      0.46      5527\n",
      "           2       0.80      0.64      0.71     15639\n",
      "           3       0.48      0.43      0.45      6707\n",
      "           4       0.34      0.70      0.46      1923\n",
      "\n",
      "    accuracy                           0.57     31212\n",
      "   macro avg       0.47      0.58      0.50     31212\n",
      "weighted avg       0.62      0.57      0.58     31212\n",
      "\n"
     ]
    }
   ],
   "source": [
    "report = classification_report(test_y, y_pred)\n",
    "print(report)"
   ]
  },
  {
   "cell_type": "markdown",
   "metadata": {},
   "source": [
    "### 4. Bidirectional LSTM"
   ]
  },
  {
   "cell_type": "code",
   "execution_count": 22,
   "metadata": {
    "execution": {
     "iopub.execute_input": "2022-12-08T05:50:31.604827Z",
     "iopub.status.busy": "2022-12-08T05:50:31.604468Z",
     "iopub.status.idle": "2022-12-08T06:51:57.614603Z",
     "shell.execute_reply": "2022-12-08T06:51:57.613799Z",
     "shell.execute_reply.started": "2022-12-08T05:50:31.604795Z"
    }
   },
   "outputs": [
    {
     "name": "stdout",
     "output_type": "stream",
     "text": [
      "Model: \"sequential_5\"\n",
      "_________________________________________________________________\n",
      "Layer (type)                 Output Shape              Param #   \n",
      "=================================================================\n",
      "embedding_5 (Embedding)      (None, None, 128)         6400000   \n",
      "_________________________________________________________________\n",
      "bidirectional_2 (Bidirection (None, None, 128)         98816     \n",
      "_________________________________________________________________\n",
      "bidirectional_3 (Bidirection (None, 128)               98816     \n",
      "_________________________________________________________________\n",
      "dense_7 (Dense)              (None, 5)                 645       \n",
      "=================================================================\n",
      "Total params: 6,598,277\n",
      "Trainable params: 6,598,277\n",
      "Non-trainable params: 0\n",
      "_________________________________________________________________\n",
      "Epoch 1/5\n",
      "3902/3902 [==============================] - 723s 184ms/step - loss: 1.2873 - accuracy: 0.5126 - val_loss: 1.2961 - val_accuracy: 0.5011\n",
      "Epoch 2/5\n",
      "3902/3902 [==============================] - 754s 193ms/step - loss: 1.2805 - accuracy: 0.5127 - val_loss: 1.2966 - val_accuracy: 0.5011\n",
      "Epoch 3/5\n",
      "3902/3902 [==============================] - 742s 190ms/step - loss: 1.2817 - accuracy: 0.5114 - val_loss: 1.2979 - val_accuracy: 0.5011\n",
      "Epoch 4/5\n",
      "3902/3902 [==============================] - 733s 188ms/step - loss: 1.2816 - accuracy: 0.5122 - val_loss: 1.2954 - val_accuracy: 0.5011\n",
      "Epoch 5/5\n",
      "3902/3902 [==============================] - 733s 188ms/step - loss: 1.2801 - accuracy: 0.5145 - val_loss: 1.2967 - val_accuracy: 0.5011\n"
     ]
    },
    {
     "data": {
      "text/plain": [
       "<tensorflow.python.keras.callbacks.History at 0x7f281c1b0490>"
      ]
     },
     "execution_count": 22,
     "metadata": {},
     "output_type": "execute_result"
    }
   ],
   "source": [
    "import keras\n",
    "from keras.models import Sequential\n",
    "from keras.layers import Dense\n",
    "from keras.layers import LSTM\n",
    "from keras.layers import Activation\n",
    "from keras.layers import Embedding\n",
    "from keras.layers import Bidirectional\n",
    "\n",
    "model = Sequential()\n",
    "inputs = keras.Input(shape=(None,), dtype=\"int32\")\n",
    "# Embed each integer in a 128-dimensional vector\n",
    "model.add(inputs)\n",
    "model.add(Embedding(50000, 128))\n",
    "# Add 2 bidirectional LSTMs\n",
    "model.add(Bidirectional(LSTM(64, return_sequences=True)))\n",
    "model.add(Bidirectional(LSTM(64)))\n",
    "# Add a classifier\n",
    "model.add(Dense(5, activation=\"sigmoid\"))\n",
    "#model = keras.Model(inputs, outputs)\n",
    "model.summary()\n",
    "\n",
    "model.compile(\"adam\", \"sparse_categorical_crossentropy\", metrics=[\"accuracy\"])\n",
    "model.fit(train_x, train_y, batch_size=32, epochs=5, validation_data=(test_x, test_y))\n",
    "\n"
   ]
  },
  {
   "cell_type": "code",
   "execution_count": 24,
   "metadata": {
    "execution": {
     "iopub.execute_input": "2022-12-08T06:52:45.846599Z",
     "iopub.status.busy": "2022-12-08T06:52:45.846317Z",
     "iopub.status.idle": "2022-12-08T06:52:45.940731Z",
     "shell.execute_reply": "2022-12-08T06:52:45.939958Z",
     "shell.execute_reply.started": "2022-12-08T06:52:45.846571Z"
    }
   },
   "outputs": [
    {
     "name": "stderr",
     "output_type": "stream",
     "text": [
      "/opt/conda/lib/python3.7/site-packages/sklearn/metrics/_classification.py:1245: UndefinedMetricWarning: Precision is ill-defined and being set to 0.0 in labels with no predicted samples. Use `zero_division` parameter to control this behavior.\n",
      "  _warn_prf(average, modifier, msg_start, len(result))\n"
     ]
    },
    {
     "data": {
      "text/plain": [
       "{'Accuracy': 0.5010572856593618,\n",
       " 'Precision_weighted': 0.2510584035123273,\n",
       " 'Recall_weighted': 0.5010572856593618,\n",
       " 'F1 Score_weighted': 0.33450875714186507,\n",
       " 'Precision_micro': 0.5010572856593618,\n",
       " 'Recall_micro': 0.5010572856593618,\n",
       " 'F1 Score_micro': 0.5010572856593618}"
      ]
     },
     "execution_count": 24,
     "metadata": {},
     "output_type": "execute_result"
    }
   ],
   "source": [
    "pred=model.predict(test_x)\n",
    "pred = pd.DataFrame(pred)\n",
    "pred['label'] = pred.idxmax(axis=1)\n",
    "res = evaluation_metrics(test_y,pred['label'])\n",
    "res"
   ]
  },
  {
   "cell_type": "code",
   "execution_count": 25,
   "metadata": {
    "execution": {
     "iopub.execute_input": "2022-12-08T06:52:45.942422Z",
     "iopub.status.busy": "2022-12-08T06:52:45.942074Z",
     "iopub.status.idle": "2022-12-08T06:52:45.982100Z",
     "shell.execute_reply": "2022-12-08T06:52:45.981162Z",
     "shell.execute_reply.started": "2022-12-08T06:52:45.942384Z"
    }
   },
   "outputs": [
    {
     "name": "stdout",
     "output_type": "stream",
     "text": [
      "              precision    recall  f1-score   support\n",
      "\n",
      "           0       0.00      0.00      0.00      1416\n",
      "           1       0.00      0.00      0.00      5527\n",
      "           2       0.50      1.00      0.67     15639\n",
      "           3       0.00      0.00      0.00      6707\n",
      "           4       0.00      0.00      0.00      1923\n",
      "\n",
      "    accuracy                           0.50     31212\n",
      "   macro avg       0.10      0.20      0.13     31212\n",
      "weighted avg       0.25      0.50      0.33     31212\n",
      "\n"
     ]
    },
    {
     "name": "stderr",
     "output_type": "stream",
     "text": [
      "/opt/conda/lib/python3.7/site-packages/sklearn/metrics/_classification.py:1245: UndefinedMetricWarning: Precision and F-score are ill-defined and being set to 0.0 in labels with no predicted samples. Use `zero_division` parameter to control this behavior.\n",
      "  _warn_prf(average, modifier, msg_start, len(result))\n",
      "/opt/conda/lib/python3.7/site-packages/sklearn/metrics/_classification.py:1245: UndefinedMetricWarning: Precision and F-score are ill-defined and being set to 0.0 in labels with no predicted samples. Use `zero_division` parameter to control this behavior.\n",
      "  _warn_prf(average, modifier, msg_start, len(result))\n",
      "/opt/conda/lib/python3.7/site-packages/sklearn/metrics/_classification.py:1245: UndefinedMetricWarning: Precision and F-score are ill-defined and being set to 0.0 in labels with no predicted samples. Use `zero_division` parameter to control this behavior.\n",
      "  _warn_prf(average, modifier, msg_start, len(result))\n"
     ]
    }
   ],
   "source": [
    "report = classification_report(test_y,pred['label'])\n",
    "print(report)"
   ]
  },
  {
   "cell_type": "code",
   "execution_count": null,
   "metadata": {},
   "outputs": [],
   "source": []
  },
  {
   "cell_type": "code",
   "execution_count": null,
   "metadata": {},
   "outputs": [],
   "source": []
  }
 ],
 "metadata": {
  "kernelspec": {
   "display_name": "Python 3 (ipykernel)",
   "language": "python",
   "name": "python3"
  },
  "language_info": {
   "codemirror_mode": {
    "name": "ipython",
    "version": 3
   },
   "file_extension": ".py",
   "mimetype": "text/x-python",
   "name": "python",
   "nbconvert_exporter": "python",
   "pygments_lexer": "ipython3",
   "version": "3.9.10"
  }
 },
 "nbformat": 4,
 "nbformat_minor": 4
}
