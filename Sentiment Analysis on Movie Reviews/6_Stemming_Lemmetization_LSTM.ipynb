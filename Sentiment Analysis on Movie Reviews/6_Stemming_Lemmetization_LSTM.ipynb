{
 "cells": [
  {
   "cell_type": "code",
   "execution_count": 29,
   "metadata": {
    "execution": {
     "iopub.execute_input": "2022-12-09T01:18:44.489282Z",
     "iopub.status.busy": "2022-12-09T01:18:44.486229Z",
     "iopub.status.idle": "2022-12-09T01:18:44.499157Z",
     "shell.execute_reply": "2022-12-09T01:18:44.498278Z",
     "shell.execute_reply.started": "2022-12-09T01:18:44.489232Z"
    }
   },
   "outputs": [],
   "source": [
    "import re\n",
    "import pandas as pd \n",
    "import numpy as np \n",
    "import matplotlib.pyplot as plt \n",
    "import seaborn as sns\n",
    "import string\n",
    "import nltk\n",
    "import warnings \n",
    "warnings.filterwarnings(\"ignore\", category=DeprecationWarning)\n",
    "\n",
    "\n",
    "from nltk import PorterStemmer,WordNetLemmatizer\n",
    "from nltk.corpus import stopwords\n",
    "\n",
    "\n",
    "%matplotlib inline\n",
    "train = pd.read_csv('../input/sentiment-analysis-on-movie-reviews/train.tsv.zip', sep=\"\\t\")\n",
    "test = pd.read_csv('../input/sentiment-analysis-on-movie-reviews/test.tsv.zip', sep=\"\\t\")\n",
    "train_original = train.copy()\n",
    "test_original = test.copy()"
   ]
  },
  {
   "cell_type": "markdown",
   "metadata": {},
   "source": [
    "### Text Preprocessing"
   ]
  },
  {
   "cell_type": "code",
   "execution_count": 31,
   "metadata": {
    "execution": {
     "iopub.execute_input": "2022-12-09T01:18:45.813910Z",
     "iopub.status.busy": "2022-12-09T01:18:45.813304Z",
     "iopub.status.idle": "2022-12-09T01:18:45.825122Z",
     "shell.execute_reply": "2022-12-09T01:18:45.824293Z",
     "shell.execute_reply.started": "2022-12-09T01:18:45.813873Z"
    }
   },
   "outputs": [],
   "source": [
    "def Preprocess(df):\n",
    "    for i in df['Phrase']:\n",
    "        tokenizer = nltk.RegexpTokenizer(r\"\\w+\")\n",
    "        i = tokenizer.tokenize(i)  \n",
    "    tokenized_review_1 = df['Phrase'].apply(lambda x: x.split())\n",
    "    ps = PorterStemmer()\n",
    "    WL = WordNetLemmatizer()\n",
    "    stemmed_review = tokenized_review_1.apply(lambda x: [ps.stem(i) for i in x])\n",
    "    lemmatized_review = tokenized_review_1.apply(lambda x: [WL.lemmatize(i) for i in x])\n",
    "    stop = stopwords.words('english')\n",
    "    stemmed_review = stemmed_review.apply(lambda x: [item for item in x if item not in stop])\n",
    "    lemmatized_review = lemmatized_review.apply(lambda x: [item for item in x if item not in stop])\n",
    "    for i in range(len(stemmed_review)):\n",
    "        stemmed_review[i] = ' '.join(stemmed_review[i])\n",
    "    df['stemmed_review'] = stemmed_review\n",
    "    for i in range(len(lemmatized_review)):\n",
    "        lemmatized_review[i] = ' '.join(lemmatized_review[i])\n",
    "    df['lemmatized_review'] = lemmatized_review\n",
    "    df = df[df[\"stemmed_review\"] != '']\n",
    "    df = df[df[\"lemmatized_review\"] != '']\n"
   ]
  },
  {
   "cell_type": "code",
   "execution_count": 32,
   "metadata": {
    "execution": {
     "iopub.execute_input": "2022-12-09T01:18:46.084884Z",
     "iopub.status.busy": "2022-12-09T01:18:46.084301Z",
     "iopub.status.idle": "2022-12-09T01:19:31.464436Z",
     "shell.execute_reply": "2022-12-09T01:19:31.463554Z",
     "shell.execute_reply.started": "2022-12-09T01:18:46.084823Z"
    }
   },
   "outputs": [],
   "source": [
    "Preprocess(train)"
   ]
  },
  {
   "cell_type": "code",
   "execution_count": 33,
   "metadata": {
    "execution": {
     "iopub.execute_input": "2022-12-09T01:19:31.466643Z",
     "iopub.status.busy": "2022-12-09T01:19:31.466329Z",
     "iopub.status.idle": "2022-12-09T01:19:31.474404Z",
     "shell.execute_reply": "2022-12-09T01:19:31.473454Z",
     "shell.execute_reply.started": "2022-12-09T01:19:31.466613Z"
    }
   },
   "outputs": [
    {
     "name": "stdout",
     "output_type": "stream",
     "text": [
      "normal\n",
      "----------------------------------------------------------------------------------------------------\n",
      "A series of escapades demonstrating the adage that what is good for the goose is also good for the gander , some of which occasionally amuses but none of which amounts to much of a story .\n",
      "\n",
      "after stemming\n",
      "----------------------------------------------------------------------------------------------------\n",
      "A seri escapad demonstr adag good goos also good gander , occasion amus none amount much stori .\n",
      "\n",
      "after lemmatizing\n",
      "----------------------------------------------------------------------------------------------------\n",
      "A series escapade demonstrating adage good goose also good gander , occasionally amuses none amount much story .\n"
     ]
    }
   ],
   "source": [
    "print(\"normal\")\n",
    "print(\"-\"*100)\n",
    "\n",
    "print(train['Phrase'][0])\n",
    "print(\"\\nafter stemming\")\n",
    "print(\"-\"*100)\n",
    "\n",
    "print(train['stemmed_review'][0])\n",
    "\n",
    "print(\"\\nafter lemmatizing\")\n",
    "print(\"-\"*100)\n",
    "print(train['lemmatized_review'][0])\n"
   ]
  },
  {
   "cell_type": "markdown",
   "metadata": {},
   "source": [
    "### LSTM "
   ]
  },
  {
   "cell_type": "code",
   "execution_count": 34,
   "metadata": {
    "execution": {
     "iopub.execute_input": "2022-12-09T01:19:31.475888Z",
     "iopub.status.busy": "2022-12-09T01:19:31.475575Z",
     "iopub.status.idle": "2022-12-09T01:19:31.486085Z",
     "shell.execute_reply": "2022-12-09T01:19:31.485235Z",
     "shell.execute_reply.started": "2022-12-09T01:19:31.475847Z"
    }
   },
   "outputs": [],
   "source": [
    "from tensorflow.keras.preprocessing import sequence\n",
    "from tensorflow.keras.models import Sequential\n",
    "from tensorflow.keras.layers import Dense, Embedding\n",
    "from tensorflow.keras.layers import LSTM\n",
    "from tensorflow.keras.utils import to_categorical\n",
    "from tensorflow.keras.preprocessing.text import Tokenizer\n",
    "from tensorflow.keras.preprocessing.sequence import pad_sequences"
   ]
  },
  {
   "cell_type": "code",
   "execution_count": 35,
   "metadata": {
    "execution": {
     "iopub.execute_input": "2022-12-09T01:19:31.488083Z",
     "iopub.status.busy": "2022-12-09T01:19:31.487667Z",
     "iopub.status.idle": "2022-12-09T01:19:31.503423Z",
     "shell.execute_reply": "2022-12-09T01:19:31.502620Z",
     "shell.execute_reply.started": "2022-12-09T01:19:31.488041Z"
    }
   },
   "outputs": [],
   "source": [
    "y_train_NN = train[\"Sentiment\"]\n",
    "x_Train_stemmed_NN = train[\"stemmed_review\"]\n",
    "x_Train_lemmatized_NN = train[\"lemmatized_review\"]"
   ]
  },
  {
   "cell_type": "code",
   "execution_count": 36,
   "metadata": {
    "execution": {
     "iopub.execute_input": "2022-12-09T01:19:31.507600Z",
     "iopub.status.busy": "2022-12-09T01:19:31.507188Z",
     "iopub.status.idle": "2022-12-09T01:19:31.515878Z",
     "shell.execute_reply": "2022-12-09T01:19:31.514994Z",
     "shell.execute_reply.started": "2022-12-09T01:19:31.507559Z"
    }
   },
   "outputs": [
    {
     "data": {
      "text/plain": [
       "((156060,), (156060,))"
      ]
     },
     "execution_count": 36,
     "metadata": {},
     "output_type": "execute_result"
    }
   ],
   "source": [
    "x_Train_stemmed_NN.shape, y_train_NN.shape "
   ]
  },
  {
   "cell_type": "code",
   "execution_count": 37,
   "metadata": {
    "execution": {
     "iopub.execute_input": "2022-12-09T01:19:31.518535Z",
     "iopub.status.busy": "2022-12-09T01:19:31.518108Z",
     "iopub.status.idle": "2022-12-09T01:19:38.907183Z",
     "shell.execute_reply": "2022-12-09T01:19:38.906358Z",
     "shell.execute_reply.started": "2022-12-09T01:19:31.518493Z"
    }
   },
   "outputs": [],
   "source": [
    "tokenize = Tokenizer()\n",
    "tokenize.fit_on_texts(x_Train_stemmed_NN.values)\n",
    "\n",
    "X_train_stemmed = tokenize.texts_to_sequences(x_Train_stemmed_NN)\n",
    "tokenize.fit_on_texts(x_Train_lemmatized_NN.values)\n",
    "X_train_lemmatized = tokenize.texts_to_sequences(x_Train_lemmatized_NN)"
   ]
  },
  {
   "cell_type": "code",
   "execution_count": 38,
   "metadata": {
    "execution": {
     "iopub.execute_input": "2022-12-09T01:19:38.909030Z",
     "iopub.status.busy": "2022-12-09T01:19:38.908629Z",
     "iopub.status.idle": "2022-12-09T01:19:40.250648Z",
     "shell.execute_reply": "2022-12-09T01:19:40.249513Z",
     "shell.execute_reply.started": "2022-12-09T01:19:38.908987Z"
    }
   },
   "outputs": [],
   "source": [
    "X_train_stemmed = pad_sequences(X_train_stemmed).astype(float)\n",
    "X_train_lemmatized = pad_sequences(X_train_lemmatized)"
   ]
  },
  {
   "cell_type": "code",
   "execution_count": 39,
   "metadata": {
    "execution": {
     "iopub.execute_input": "2022-12-09T01:19:40.252313Z",
     "iopub.status.busy": "2022-12-09T01:19:40.251995Z",
     "iopub.status.idle": "2022-12-09T01:19:40.594505Z",
     "shell.execute_reply": "2022-12-09T01:19:40.593578Z",
     "shell.execute_reply.started": "2022-12-09T01:19:40.252284Z"
    }
   },
   "outputs": [],
   "source": [
    "EMBEDDING_DIM = 100\n",
    "unknown = len(tokenize.word_index)+1\n",
    "model = Sequential()\n",
    "model.add(Embedding(unknown, EMBEDDING_DIM))\n",
    "model.add(LSTM(units=128, dropout=0.2, recurrent_dropout=0.2 ))\n",
    "model.add(Dense(5, activation='softmax'))\n",
    "model.compile(loss='sparse_categorical_crossentropy', optimizer='adam', metrics=['accuracy'])"
   ]
  },
  {
   "cell_type": "code",
   "execution_count": 40,
   "metadata": {
    "execution": {
     "iopub.execute_input": "2022-12-09T01:19:40.595981Z",
     "iopub.status.busy": "2022-12-09T01:19:40.595704Z",
     "iopub.status.idle": "2022-12-09T01:19:40.604060Z",
     "shell.execute_reply": "2022-12-09T01:19:40.603101Z",
     "shell.execute_reply.started": "2022-12-09T01:19:40.595953Z"
    }
   },
   "outputs": [
    {
     "name": "stdout",
     "output_type": "stream",
     "text": [
      "Model: \"sequential_1\"\n",
      "_________________________________________________________________\n",
      "Layer (type)                 Output Shape              Param #   \n",
      "=================================================================\n",
      "embedding_1 (Embedding)      (None, None, 100)         1904500   \n",
      "_________________________________________________________________\n",
      "lstm_1 (LSTM)                (None, 128)               117248    \n",
      "_________________________________________________________________\n",
      "dense_1 (Dense)              (None, 5)                 645       \n",
      "=================================================================\n",
      "Total params: 2,022,393\n",
      "Trainable params: 2,022,393\n",
      "Non-trainable params: 0\n",
      "_________________________________________________________________\n"
     ]
    }
   ],
   "source": [
    "model.summary()"
   ]
  },
  {
   "cell_type": "code",
   "execution_count": 41,
   "metadata": {
    "execution": {
     "iopub.execute_input": "2022-12-09T01:19:40.605804Z",
     "iopub.status.busy": "2022-12-09T01:19:40.605514Z",
     "iopub.status.idle": "2022-12-09T01:33:19.290289Z",
     "shell.execute_reply": "2022-12-09T01:33:19.289172Z",
     "shell.execute_reply.started": "2022-12-09T01:19:40.605777Z"
    }
   },
   "outputs": [
    {
     "name": "stdout",
     "output_type": "stream",
     "text": [
      "Epoch 1/7\n",
      "976/976 [==============================] - 115s 118ms/step - loss: 0.9921 - accuracy: 0.5981\n",
      "Epoch 2/7\n",
      "976/976 [==============================] - 116s 118ms/step - loss: 0.8175 - accuracy: 0.6642\n",
      "Epoch 3/7\n",
      "976/976 [==============================] - 115s 118ms/step - loss: 0.7608 - accuracy: 0.6848\n",
      "Epoch 4/7\n",
      "976/976 [==============================] - 116s 119ms/step - loss: 0.7177 - accuracy: 0.6991\n",
      "Epoch 5/7\n",
      "976/976 [==============================] - 115s 118ms/step - loss: 0.6829 - accuracy: 0.7114\n",
      "Epoch 6/7\n",
      "976/976 [==============================] - 115s 118ms/step - loss: 0.6549 - accuracy: 0.7216\n",
      "Epoch 7/7\n",
      "976/976 [==============================] - 114s 117ms/step - loss: 0.6309 - accuracy: 0.7298\n"
     ]
    }
   ],
   "source": [
    "from sklearn.model_selection import train_test_split\n",
    "x_train,x_test,y_train,y_test = train_test_split(X_train_stemmed, y_train_NN, test_size=0.2)\n",
    "x_train = pad_sequences(x_train)\n",
    "x_test = pad_sequences(x_test)\n",
    "model.fit(x_train, y_train, batch_size=128, epochs=7, verbose=1)\n",
    "y_pred = model.predict_classes(x_test)"
   ]
  },
  {
   "cell_type": "code",
   "execution_count": 42,
   "metadata": {
    "execution": {
     "iopub.execute_input": "2022-12-09T01:33:19.292055Z",
     "iopub.status.busy": "2022-12-09T01:33:19.291750Z",
     "iopub.status.idle": "2022-12-09T01:33:19.353403Z",
     "shell.execute_reply": "2022-12-09T01:33:19.351473Z",
     "shell.execute_reply.started": "2022-12-09T01:33:19.292025Z"
    }
   },
   "outputs": [
    {
     "name": "stdout",
     "output_type": "stream",
     "text": [
      "              precision    recall  f1-score   support\n",
      "\n",
      "           0       0.56      0.31      0.40      1391\n",
      "           1       0.54      0.57      0.55      5469\n",
      "           2       0.74      0.81      0.77     15893\n",
      "           3       0.59      0.54      0.57      6625\n",
      "           4       0.60      0.34      0.44      1834\n",
      "\n",
      "    accuracy                           0.66     31212\n",
      "   macro avg       0.60      0.52      0.55     31212\n",
      "weighted avg       0.65      0.66      0.65     31212\n",
      "\n"
     ]
    }
   ],
   "source": [
    "from sklearn.metrics import classification_report\n",
    "report = classification_report(y_test, y_pred)\n",
    "print(report)"
   ]
  },
  {
   "cell_type": "code",
   "execution_count": 46,
   "metadata": {
    "execution": {
     "iopub.execute_input": "2022-12-09T01:40:54.103804Z",
     "iopub.status.busy": "2022-12-09T01:40:54.103099Z",
     "iopub.status.idle": "2022-12-09T01:54:41.168607Z",
     "shell.execute_reply": "2022-12-09T01:54:41.167244Z",
     "shell.execute_reply.started": "2022-12-09T01:40:54.103768Z"
    }
   },
   "outputs": [
    {
     "name": "stdout",
     "output_type": "stream",
     "text": [
      "Epoch 1/7\n",
      "976/976 [==============================] - 114s 117ms/step - loss: 1.0619 - accuracy: 0.5747\n",
      "Epoch 2/7\n",
      "976/976 [==============================] - 114s 117ms/step - loss: 0.8006 - accuracy: 0.6740\n",
      "Epoch 3/7\n",
      "976/976 [==============================] - 116s 119ms/step - loss: 0.7218 - accuracy: 0.7009\n",
      "Epoch 4/7\n",
      "976/976 [==============================] - 119s 122ms/step - loss: 0.6675 - accuracy: 0.7203\n",
      "Epoch 5/7\n",
      "976/976 [==============================] - 117s 120ms/step - loss: 0.6271 - accuracy: 0.7356\n",
      "Epoch 6/7\n",
      "976/976 [==============================] - 118s 121ms/step - loss: 0.5976 - accuracy: 0.7448\n",
      "Epoch 7/7\n",
      "976/976 [==============================] - 117s 120ms/step - loss: 0.5701 - accuracy: 0.7552\n"
     ]
    }
   ],
   "source": [
    "from sklearn.model_selection import train_test_split\n",
    "x_train,x_test,y_train,y_test = train_test_split(X_train_lemmatized, y_train_NN, test_size=0.2)\n",
    "x_train = pad_sequences(x_train)\n",
    "x_test = pad_sequences(x_test)\n",
    "model.fit(x_train, y_train, batch_size=128, epochs=7, verbose=1)\n",
    "y_pred = model.predict_classes(x_test)"
   ]
  },
  {
   "cell_type": "code",
   "execution_count": 47,
   "metadata": {
    "execution": {
     "iopub.execute_input": "2022-12-09T01:54:41.171350Z",
     "iopub.status.busy": "2022-12-09T01:54:41.170911Z",
     "iopub.status.idle": "2022-12-09T01:54:41.236214Z",
     "shell.execute_reply": "2022-12-09T01:54:41.235277Z",
     "shell.execute_reply.started": "2022-12-09T01:54:41.171306Z"
    }
   },
   "outputs": [
    {
     "name": "stdout",
     "output_type": "stream",
     "text": [
      "              precision    recall  f1-score   support\n",
      "\n",
      "           0       0.48      0.41      0.44      1443\n",
      "           1       0.54      0.52      0.53      5444\n",
      "           2       0.75      0.77      0.76     15835\n",
      "           3       0.56      0.60      0.58      6671\n",
      "           4       0.57      0.39      0.46      1819\n",
      "\n",
      "    accuracy                           0.65     31212\n",
      "   macro avg       0.58      0.54      0.55     31212\n",
      "weighted avg       0.65      0.65      0.65     31212\n",
      "\n"
     ]
    }
   ],
   "source": [
    "report = classification_report(y_test, y_pred)\n",
    "print(report)"
   ]
  }
 ],
 "metadata": {
  "kernelspec": {
   "display_name": "Python 3 (ipykernel)",
   "language": "python",
   "name": "python3"
  },
  "language_info": {
   "codemirror_mode": {
    "name": "ipython",
    "version": 3
   },
   "file_extension": ".py",
   "mimetype": "text/x-python",
   "name": "python",
   "nbconvert_exporter": "python",
   "pygments_lexer": "ipython3",
   "version": "3.9.10"
  }
 },
 "nbformat": 4,
 "nbformat_minor": 4
}
