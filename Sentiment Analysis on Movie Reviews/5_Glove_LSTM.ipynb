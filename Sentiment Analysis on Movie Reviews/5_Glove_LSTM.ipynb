{
 "cells": [
  {
   "cell_type": "markdown",
   "metadata": {
    "id": "llPpoxB4hnAx"
   },
   "source": [
    "### Classification using LSTM - using Tensorflow"
   ]
  },
  {
   "cell_type": "markdown",
   "metadata": {
    "id": "t40hndZFhp1S"
   },
   "source": [
    "### Library Imports"
   ]
  },
  {
   "cell_type": "code",
   "execution_count": 1,
   "metadata": {
    "id": "zS0zc2NMc3tU"
   },
   "outputs": [],
   "source": [
    "import tensorflow as tf\n",
    "import pandas as pd\n",
    "import numpy as np\n",
    "from sklearn.preprocessing import LabelEncoder\n",
    "from sklearn.model_selection import train_test_split\n",
    "import matplotlib.pyplot as plt\n",
    "import seaborn as sns\n",
    "import tensorflow_datasets as tfds\n",
    "\n",
    "from tensorflow.keras.preprocessing.sequence import pad_sequences\n",
    "from tensorflow.keras.preprocessing.text import Tokenizer\n",
    "\n"
   ]
  },
  {
   "cell_type": "code",
   "execution_count": 2,
   "metadata": {
    "colab": {
     "base_uri": "https://localhost:8080/"
    },
    "id": "35SyZ_auM2cV",
    "outputId": "21c98db0-8b4e-4f1f-b097-7d340e1b59df"
   },
   "outputs": [
    {
     "name": "stdout",
     "output_type": "stream",
     "text": [
      "Drive already mounted at /content/drive; to attempt to forcibly remount, call drive.mount(\"/content/drive\", force_remount=True).\n"
     ]
    }
   ],
   "source": [
    "from google.colab import drive\n",
    "drive.mount('/content/drive')"
   ]
  },
  {
   "cell_type": "code",
   "execution_count": 7,
   "metadata": {
    "id": "BDnlJxRtkMz1"
   },
   "outputs": [],
   "source": [
    "# Importing data\n",
    "dataset = pd.read_csv('/content/drive/MyDrive/lstm_data/train.tsv', sep='\\t')"
   ]
  },
  {
   "cell_type": "markdown",
   "metadata": {
    "id": "45dT7_ld3aAg"
   },
   "source": [
    "### Cleaning the Phrases"
   ]
  },
  {
   "cell_type": "code",
   "execution_count": 8,
   "metadata": {
    "colab": {
     "base_uri": "https://localhost:8080/"
    },
    "id": "HEHFIPM83Zbz",
    "outputId": "46efa62b-0420-4304-88d0-2729d056cc2e"
   },
   "outputs": [
    {
     "name": "stderr",
     "output_type": "stream",
     "text": [
      "[nltk_data] Downloading package omw-1.4 to /root/nltk_data...\n",
      "[nltk_data] Downloading package stopwords to /root/nltk_data...\n",
      "[nltk_data]   Unzipping corpora/stopwords.zip.\n",
      "[nltk_data] Downloading package wordnet to /root/nltk_data...\n",
      "[nltk_data] Downloading package words to /root/nltk_data...\n",
      "[nltk_data]   Unzipping corpora/words.zip.\n"
     ]
    }
   ],
   "source": [
    "import nltk\n",
    "from nltk.corpus import stopwords\n",
    "from nltk.stem import PorterStemmer\n",
    "from nltk.tokenize import word_tokenize\n",
    "import string\n",
    "import pandas as pd\n",
    "import re\n",
    "import nltk\n",
    "nltk.download('omw-1.4')\n",
    "nltk.download('stopwords')\n",
    "nltk.download('wordnet')\n",
    "nltk.download('words')\n",
    "\n",
    "stopword = nltk.corpus.stopwords.words('english')\n",
    "wn = nltk.WordNetLemmatizer()\n",
    "ps = nltk.PorterStemmer()\n",
    "words = set(nltk.corpus.words.words())\n",
    "\n",
    "# From the first assignment\n",
    "def clean_text(text):\n",
    "    text = text.lower()\n",
    "    text = re.sub(r\"http\\S+\", \"\", text)\n",
    "    text = re.sub(r\"www.\\S+\", \"\", text)\n",
    "    text_links_removed = \"\".join([char for char in text if char not in string.punctuation])\n",
    "    text_cleaned = \" \".join([word for word in re.split('\\W+', text_links_removed)\n",
    "        if word not in stopword])\n",
    "    text = \" \".join([wn.lemmatize(word) for word in re.split('\\W+', text_cleaned)])\n",
    "    return text"
   ]
  },
  {
   "cell_type": "code",
   "execution_count": 10,
   "metadata": {
    "id": "io8EvrJJ3eGu"
   },
   "outputs": [],
   "source": [
    " #############################################################################################  \n",
    " # Clean all the reviews in the dataset using the clean_text function provided above         # \n",
    " ############################################################################################# \n",
    " \n",
    "dataset['cleaned_review'] = dataset['Phrase'].apply(clean_text)\n"
   ]
  },
  {
   "cell_type": "code",
   "execution_count": 11,
   "metadata": {
    "colab": {
     "base_uri": "https://localhost:8080/",
     "height": 206
    },
    "id": "4i0C715m3DwZ",
    "outputId": "df0fac54-abff-4148-dac6-fd9eeec78cd8"
   },
   "outputs": [
    {
     "data": {
      "text/html": [
       "\n",
       "  <div id=\"df-414468ce-edc7-4f92-be5f-4e1066e183ac\">\n",
       "    <div class=\"colab-df-container\">\n",
       "      <div>\n",
       "<style scoped>\n",
       "    .dataframe tbody tr th:only-of-type {\n",
       "        vertical-align: middle;\n",
       "    }\n",
       "\n",
       "    .dataframe tbody tr th {\n",
       "        vertical-align: top;\n",
       "    }\n",
       "\n",
       "    .dataframe thead th {\n",
       "        text-align: right;\n",
       "    }\n",
       "</style>\n",
       "<table border=\"1\" class=\"dataframe\">\n",
       "  <thead>\n",
       "    <tr style=\"text-align: right;\">\n",
       "      <th></th>\n",
       "      <th>PhraseId</th>\n",
       "      <th>SentenceId</th>\n",
       "      <th>Phrase</th>\n",
       "      <th>Sentiment</th>\n",
       "      <th>cleaned_review</th>\n",
       "    </tr>\n",
       "  </thead>\n",
       "  <tbody>\n",
       "    <tr>\n",
       "      <th>0</th>\n",
       "      <td>1</td>\n",
       "      <td>1</td>\n",
       "      <td>A series of escapades demonstrating the adage ...</td>\n",
       "      <td>1</td>\n",
       "      <td>series escapade demonstrating adage good goose...</td>\n",
       "    </tr>\n",
       "    <tr>\n",
       "      <th>1</th>\n",
       "      <td>2</td>\n",
       "      <td>1</td>\n",
       "      <td>A series of escapades demonstrating the adage ...</td>\n",
       "      <td>2</td>\n",
       "      <td>series escapade demonstrating adage good goose</td>\n",
       "    </tr>\n",
       "    <tr>\n",
       "      <th>2</th>\n",
       "      <td>3</td>\n",
       "      <td>1</td>\n",
       "      <td>A series</td>\n",
       "      <td>2</td>\n",
       "      <td>series</td>\n",
       "    </tr>\n",
       "    <tr>\n",
       "      <th>3</th>\n",
       "      <td>4</td>\n",
       "      <td>1</td>\n",
       "      <td>A</td>\n",
       "      <td>2</td>\n",
       "      <td></td>\n",
       "    </tr>\n",
       "    <tr>\n",
       "      <th>4</th>\n",
       "      <td>5</td>\n",
       "      <td>1</td>\n",
       "      <td>series</td>\n",
       "      <td>2</td>\n",
       "      <td>series</td>\n",
       "    </tr>\n",
       "  </tbody>\n",
       "</table>\n",
       "</div>\n",
       "      <button class=\"colab-df-convert\" onclick=\"convertToInteractive('df-414468ce-edc7-4f92-be5f-4e1066e183ac')\"\n",
       "              title=\"Convert this dataframe to an interactive table.\"\n",
       "              style=\"display:none;\">\n",
       "        \n",
       "  <svg xmlns=\"http://www.w3.org/2000/svg\" height=\"24px\"viewBox=\"0 0 24 24\"\n",
       "       width=\"24px\">\n",
       "    <path d=\"M0 0h24v24H0V0z\" fill=\"none\"/>\n",
       "    <path d=\"M18.56 5.44l.94 2.06.94-2.06 2.06-.94-2.06-.94-.94-2.06-.94 2.06-2.06.94zm-11 1L8.5 8.5l.94-2.06 2.06-.94-2.06-.94L8.5 2.5l-.94 2.06-2.06.94zm10 10l.94 2.06.94-2.06 2.06-.94-2.06-.94-.94-2.06-.94 2.06-2.06.94z\"/><path d=\"M17.41 7.96l-1.37-1.37c-.4-.4-.92-.59-1.43-.59-.52 0-1.04.2-1.43.59L10.3 9.45l-7.72 7.72c-.78.78-.78 2.05 0 2.83L4 21.41c.39.39.9.59 1.41.59.51 0 1.02-.2 1.41-.59l7.78-7.78 2.81-2.81c.8-.78.8-2.07 0-2.86zM5.41 20L4 18.59l7.72-7.72 1.47 1.35L5.41 20z\"/>\n",
       "  </svg>\n",
       "      </button>\n",
       "      \n",
       "  <style>\n",
       "    .colab-df-container {\n",
       "      display:flex;\n",
       "      flex-wrap:wrap;\n",
       "      gap: 12px;\n",
       "    }\n",
       "\n",
       "    .colab-df-convert {\n",
       "      background-color: #E8F0FE;\n",
       "      border: none;\n",
       "      border-radius: 50%;\n",
       "      cursor: pointer;\n",
       "      display: none;\n",
       "      fill: #1967D2;\n",
       "      height: 32px;\n",
       "      padding: 0 0 0 0;\n",
       "      width: 32px;\n",
       "    }\n",
       "\n",
       "    .colab-df-convert:hover {\n",
       "      background-color: #E2EBFA;\n",
       "      box-shadow: 0px 1px 2px rgba(60, 64, 67, 0.3), 0px 1px 3px 1px rgba(60, 64, 67, 0.15);\n",
       "      fill: #174EA6;\n",
       "    }\n",
       "\n",
       "    [theme=dark] .colab-df-convert {\n",
       "      background-color: #3B4455;\n",
       "      fill: #D2E3FC;\n",
       "    }\n",
       "\n",
       "    [theme=dark] .colab-df-convert:hover {\n",
       "      background-color: #434B5C;\n",
       "      box-shadow: 0px 1px 3px 1px rgba(0, 0, 0, 0.15);\n",
       "      filter: drop-shadow(0px 1px 2px rgba(0, 0, 0, 0.3));\n",
       "      fill: #FFFFFF;\n",
       "    }\n",
       "  </style>\n",
       "\n",
       "      <script>\n",
       "        const buttonEl =\n",
       "          document.querySelector('#df-414468ce-edc7-4f92-be5f-4e1066e183ac button.colab-df-convert');\n",
       "        buttonEl.style.display =\n",
       "          google.colab.kernel.accessAllowed ? 'block' : 'none';\n",
       "\n",
       "        async function convertToInteractive(key) {\n",
       "          const element = document.querySelector('#df-414468ce-edc7-4f92-be5f-4e1066e183ac');\n",
       "          const dataTable =\n",
       "            await google.colab.kernel.invokeFunction('convertToInteractive',\n",
       "                                                     [key], {});\n",
       "          if (!dataTable) return;\n",
       "\n",
       "          const docLinkHtml = 'Like what you see? Visit the ' +\n",
       "            '<a target=\"_blank\" href=https://colab.research.google.com/notebooks/data_table.ipynb>data table notebook</a>'\n",
       "            + ' to learn more about interactive tables.';\n",
       "          element.innerHTML = '';\n",
       "          dataTable['output_type'] = 'display_data';\n",
       "          await google.colab.output.renderOutput(dataTable, element);\n",
       "          const docLink = document.createElement('div');\n",
       "          docLink.innerHTML = docLinkHtml;\n",
       "          element.appendChild(docLink);\n",
       "        }\n",
       "      </script>\n",
       "    </div>\n",
       "  </div>\n",
       "  "
      ],
      "text/plain": [
       "   PhraseId  SentenceId                                             Phrase  \\\n",
       "0         1           1  A series of escapades demonstrating the adage ...   \n",
       "1         2           1  A series of escapades demonstrating the adage ...   \n",
       "2         3           1                                           A series   \n",
       "3         4           1                                                  A   \n",
       "4         5           1                                             series   \n",
       "\n",
       "   Sentiment                                     cleaned_review  \n",
       "0          1  series escapade demonstrating adage good goose...  \n",
       "1          2     series escapade demonstrating adage good goose  \n",
       "2          2                                             series  \n",
       "3          2                                                     \n",
       "4          2                                             series  "
      ]
     },
     "execution_count": 11,
     "metadata": {},
     "output_type": "execute_result"
    }
   ],
   "source": [
    " #####################################################################\n",
    " # print head of the \"CLEANED\" data frame with help of head function # \n",
    " #####################################################################\n",
    "dataset.head()"
   ]
  },
  {
   "cell_type": "markdown",
   "metadata": {
    "id": "-TmC4Ebo0Znv"
   },
   "source": [
    "### Splitting the dataset and Encoding Labels (2 Points)\n",
    "\n",
    "Spliting data: <br> \n",
    "80% for the training and the remaining 20% for validation.\n",
    "\n",
    "Encoding Labels: <br>\n",
    "Encode labels as negative and positive as 0 and 1 respectively\n"
   ]
  },
  {
   "cell_type": "code",
   "execution_count": 13,
   "metadata": {
    "id": "-n-xz8BMYZE7"
   },
   "outputs": [],
   "source": [
    "#################################################################################\n",
    "# Split the data using the sklearn module                                       #\n",
    "# 80% for the training and the remaining 20% for validation                     #\n",
    "#################################################################################\n",
    "X = dataset['cleaned_review']\n",
    "y = dataset['Sentiment']\n",
    "X_train, X_val, y_train, y_val = train_test_split(X, y, test_size = 0.20)"
   ]
  },
  {
   "cell_type": "code",
   "execution_count": 14,
   "metadata": {
    "id": "A6y-74sT-9s1"
   },
   "outputs": [],
   "source": [
    "#################################################################################\n",
    "# Initialize label encoder from sklearn module                                  #\n",
    "# fit on train labels and transform both train and validation labels            #\n",
    "#################################################################################\n",
    "le = LabelEncoder()\n",
    "le.fit(y_train)\n",
    "y_train = le.transform(y_train)\n",
    "y_val = le.transform(y_val)"
   ]
  },
  {
   "cell_type": "markdown",
   "metadata": {
    "id": "xePIfNU8YZFA"
   },
   "source": [
    "### Pre-Processing The Text (5 Points)\n",
    " "
   ]
  },
  {
   "cell_type": "code",
   "execution_count": 15,
   "metadata": {
    "colab": {
     "base_uri": "https://localhost:8080/"
    },
    "id": "TvpwLHnRYZFC",
    "outputId": "962161d9-bd77-4230-8686-1ae5173933e9"
   },
   "outputs": [
    {
     "name": "stdout",
     "output_type": "stream",
     "text": [
      "Vocabulary : 14917\n"
     ]
    }
   ],
   "source": [
    "# You can use the modules given below\n",
    "from tensorflow.keras.preprocessing.sequence import pad_sequences\n",
    "from tensorflow.keras.preprocessing.text import Tokenizer\n",
    "\n",
    "###############################################################################  \n",
    "# Fit your tokenizer on the training reviews                                  #\n",
    "###############################################################################\n",
    "tokenizer = Tokenizer()\n",
    "tokenizer.fit_on_texts(X_train)\n",
    "\n",
    "\n",
    "#################################################################################################\n",
    "# The word_index dictionary assigns a unique index to each unique word present in the training  #\n",
    "# reviews.                                                                                      #\n",
    "#                                                                                               #\n",
    "# Create the word_index dictionary using the tokenizer                                          #\n",
    "# Find the vocabulary of your training reviews                                                  #\n",
    "#################################################################################################\n",
    "\n",
    "word_index = tokenizer.word_index\n",
    "\n",
    "vocabulary = len(word_index) + 1\n",
    "\n",
    "\n",
    "#################################################################################################\n",
    "# Convert the reviews in the dataset to their index form by using a function available          #\n",
    "# with the tokenizer                                                                            #\n",
    "#################################################################################################\n",
    "train_sequences = tokenizer.texts_to_sequences(X_train)\n",
    "val_sequences = tokenizer.texts_to_sequences(X_val)\n",
    "\n",
    "\n",
    "#################################################################################################\n",
    "# Pad the the training and validation sequences so all of them have the same length             # \n",
    "#################################################################################################\n",
    "X_train = pad_sequences(train_sequences, maxlen = 200)\n",
    "X_val = pad_sequences(val_sequences, maxlen = 200)\n",
    "# maxlen which is the maximum length of one review we will use for our training\n",
    "\n",
    "print('Vocabulary : {}'.format(vocabulary))"
   ]
  },
  {
   "cell_type": "code",
   "execution_count": 16,
   "metadata": {
    "colab": {
     "base_uri": "https://localhost:8080/"
    },
    "id": "KgtSH-Bar3gu",
    "outputId": "e2272065-3731-447e-9c7b-ab54894e1b49"
   },
   "outputs": [
    {
     "data": {
      "text/plain": [
       "array([[    0,     0,     0, ...,    58, 10442,   293],\n",
       "       [    0,     0,     0, ...,  8602,  7270,     1],\n",
       "       [    0,     0,     0, ...,     0,  7271,    60],\n",
       "       ...,\n",
       "       [    0,     0,     0, ...,  3747,  4414,  1101],\n",
       "       [    0,     0,     0, ...,     0,  3339, 11007],\n",
       "       [    0,     0,     0, ...,   396,    65,     1]], dtype=int32)"
      ]
     },
     "execution_count": 16,
     "metadata": {},
     "output_type": "execute_result"
    }
   ],
   "source": [
    "X_train"
   ]
  },
  {
   "cell_type": "markdown",
   "metadata": {
    "id": "5-yGOMB7YZFJ"
   },
   "source": [
    "### Using glove vectors for embedding \n",
    "\n",
    "GloVe vectors capture both global statistics and local statistics of a corpus. We use GloVe to convert words to embeddings in the vector space based on their semantics. \n",
    "\n",
    "We will be using the 200-dimensional GloVe vectors for the task at hand.\n"
   ]
  },
  {
   "cell_type": "code",
   "execution_count": 17,
   "metadata": {
    "id": "1wjY4_mOYZFP"
   },
   "outputs": [],
   "source": [
    "glove_dictionary = {}\n",
    "with open('/content/drive/MyDrive/lstm_data/glove.6B.200d.txt') as file:\n",
    "    for each_line in file:\n",
    "        words_in_line, coeff_cients = each_line.split(maxsplit=1)\n",
    "        coeff_cients = np.array(coeff_cients.split(),dtype = float)\n",
    "        glove_dictionary[words_in_line] = coeff_cients"
   ]
  },
  {
   "cell_type": "code",
   "execution_count": 18,
   "metadata": {
    "id": "pDYNi0CsYZFR"
   },
   "outputs": [],
   "source": [
    " # All the words which are not in the GloVe dictionary will be assigned a zero vector.\n",
    "\n",
    "embedding_matrix = np.zeros((vocabulary, 200))\n",
    "\n",
    "######################################################################\n",
    "# The glove_dictionary contains words vs their respective embeddings #\n",
    "#                                                                    #\n",
    "# Create the embedding matrix using the glove_dictionary             #\n",
    "######################################################################\n",
    "for word, i in word_index.items():\n",
    "  if glove_dictionary.get(word) is not None:\n",
    "    embedding_matrix[i,:] = glove_dictionary.get(word)\n"
   ]
  },
  {
   "cell_type": "code",
   "execution_count": 19,
   "metadata": {
    "colab": {
     "base_uri": "https://localhost:8080/"
    },
    "id": "aXXvMdZ6gJpI",
    "outputId": "009782b3-4021-4e84-9847-aa63fc915637"
   },
   "outputs": [
    {
     "data": {
      "text/plain": [
       "(14917, 200)"
      ]
     },
     "execution_count": 19,
     "metadata": {},
     "output_type": "execute_result"
    }
   ],
   "source": [
    "embedding_matrix.shape"
   ]
  },
  {
   "cell_type": "markdown",
   "metadata": {
    "id": "t9Fxf0zuYZFZ"
   },
   "source": [
    "### Creating The Model"
   ]
  },
  {
   "cell_type": "code",
   "execution_count": 37,
   "metadata": {
    "id": "0NxI4FSVeKqd"
   },
   "outputs": [],
   "source": [
    "y_train = pd.get_dummies(y_train)\n",
    "y_val = pd.get_dummies(y_val)"
   ]
  },
  {
   "cell_type": "code",
   "execution_count": 48,
   "metadata": {
    "id": "Y8CXAEvwIHHT"
   },
   "outputs": [],
   "source": [
    "import tensorflow as tf\n",
    "from keras.layers import LSTM, Activation, Dropout, Dense, Input, Bidirectional\n",
    "from tensorflow.keras.layers import Embedding\n",
    "tf.random.set_seed(42)\n",
    "\n",
    "######################################################\n",
    "# Complete this linear model in tensorflow           #\n",
    "######################################################\n",
    "\n",
    "def build_model(embedding_matrix):\n",
    "\n",
    "  ''' \n",
    "  Arguments:\n",
    "    embedding_matrix : a matrix with the corresponding embeddings\n",
    "    of all words.\n",
    "\n",
    "  Returns:\n",
    "    The LSTM model that you created.\n",
    "  '''\n",
    "  \n",
    "  model = tf.keras.Sequential()\n",
    "\n",
    "  # layer 1 : add embedding layer\n",
    "  # The embedding layer maps the words to their embedding vectors from the embedding matrix\n",
    "  model.add(Embedding(input_dim = embedding_matrix.shape[0], output_dim = 200, \n",
    "                      weights = [embedding_matrix], input_length = 200, \n",
    "                      trainable = False))\n",
    "\n",
    "\n",
    "  # add Bidirectional LSTM Layer \n",
    "  model.add(Bidirectional(LSTM(64)))\n",
    "  model.add(Dense(64, activation = 'relu'))\n",
    "\n",
    "  model.add(Dense(5, activation = 'softmax'))\n",
    "  model.compile(loss = 'binary_crossentropy', optimizer = 'adam', \n",
    "                metrics = ['AUC', 'Precision', 'Recall', 'accuracy'])\n",
    "  \n",
    "  return model"
   ]
  },
  {
   "cell_type": "code",
   "execution_count": 49,
   "metadata": {
    "colab": {
     "base_uri": "https://localhost:8080/"
    },
    "id": "r3_BgnqqfLal",
    "outputId": "1f87bcd1-84e1-4694-ca67-9fd114958a66"
   },
   "outputs": [
    {
     "name": "stdout",
     "output_type": "stream",
     "text": [
      "Epoch 1/10\n",
      "3902/3902 [==============================] - 811s 207ms/step - loss: 0.3308 - auc: 0.8772 - precision: 0.6940 - recall: 0.4539 - accuracy: 0.6014 - val_loss: 0.3142 - val_auc: 0.8919 - val_precision: 0.7062 - val_recall: 0.4991 - val_accuracy: 0.6258\n",
      "Epoch 2/10\n",
      "3902/3902 [==============================] - 802s 206ms/step - loss: 0.3057 - auc: 0.8987 - precision: 0.7012 - recall: 0.5272 - accuracy: 0.6378 - val_loss: 0.3026 - val_auc: 0.9012 - val_precision: 0.6978 - val_recall: 0.5510 - val_accuracy: 0.6454\n",
      "Epoch 3/10\n",
      "3902/3902 [==============================] - 806s 207ms/step - loss: 0.2904 - auc: 0.9102 - precision: 0.7095 - recall: 0.5742 - accuracy: 0.6613 - val_loss: 0.3009 - val_auc: 0.9036 - val_precision: 0.6838 - val_recall: 0.5890 - val_accuracy: 0.6499\n",
      "Epoch 4/10\n",
      "3902/3902 [==============================] - 806s 207ms/step - loss: 0.2789 - auc: 0.9181 - precision: 0.7193 - recall: 0.6065 - accuracy: 0.6798 - val_loss: 0.2963 - val_auc: 0.9068 - val_precision: 0.6911 - val_recall: 0.5919 - val_accuracy: 0.6570\n",
      "Epoch 5/10\n",
      "3902/3902 [==============================] - 802s 206ms/step - loss: 0.2700 - auc: 0.9239 - precision: 0.7262 - recall: 0.6276 - accuracy: 0.6900 - val_loss: 0.2952 - val_auc: 0.9081 - val_precision: 0.6875 - val_recall: 0.6072 - val_accuracy: 0.6581\n",
      "Epoch 6/10\n",
      "3902/3902 [==============================] - 805s 206ms/step - loss: 0.2621 - auc: 0.9286 - precision: 0.7346 - recall: 0.6460 - accuracy: 0.7022 - val_loss: 0.2956 - val_auc: 0.9085 - val_precision: 0.6888 - val_recall: 0.6066 - val_accuracy: 0.6596\n",
      "Epoch 7/10\n",
      "3902/3902 [==============================] - 813s 208ms/step - loss: 0.2565 - auc: 0.9319 - precision: 0.7398 - recall: 0.6579 - accuracy: 0.7103 - val_loss: 0.2960 - val_auc: 0.9086 - val_precision: 0.6889 - val_recall: 0.6050 - val_accuracy: 0.6606\n",
      "Epoch 8/10\n",
      "3902/3902 [==============================] - 809s 207ms/step - loss: 0.2512 - auc: 0.9350 - precision: 0.7469 - recall: 0.6699 - accuracy: 0.7182 - val_loss: 0.2993 - val_auc: 0.9081 - val_precision: 0.6882 - val_recall: 0.6072 - val_accuracy: 0.6601\n",
      "Epoch 9/10\n",
      "3902/3902 [==============================] - 808s 207ms/step - loss: 0.2460 - auc: 0.9378 - precision: 0.7510 - recall: 0.6786 - accuracy: 0.7242 - val_loss: 0.2998 - val_auc: 0.9075 - val_precision: 0.6843 - val_recall: 0.6110 - val_accuracy: 0.6571\n",
      "Epoch 10/10\n",
      "3902/3902 [==============================] - 808s 207ms/step - loss: 0.2478 - auc: 0.9368 - precision: 0.7499 - recall: 0.6746 - accuracy: 0.7220 - val_loss: 0.3031 - val_auc: 0.9057 - val_precision: 0.6815 - val_recall: 0.6066 - val_accuracy: 0.6544\n"
     ]
    }
   ],
   "source": [
    "model = build_model(embedding_matrix)\n",
    "#######################################################################################################\n",
    "history = model.fit(X_train, y_train, validation_data = (X_val, y_val), \n",
    "                    epochs = 10, batch_size = 32)"
   ]
  },
  {
   "cell_type": "code",
   "execution_count": 50,
   "metadata": {
    "colab": {
     "base_uri": "https://localhost:8080/"
    },
    "id": "m7RvgkR1gIXr",
    "outputId": "8a594960-7b17-483b-f71b-ff9a66abe152"
   },
   "outputs": [
    {
     "name": "stdout",
     "output_type": "stream",
     "text": [
      "Model: \"sequential_10\"\n",
      "_________________________________________________________________\n",
      " Layer (type)                Output Shape              Param #   \n",
      "=================================================================\n",
      " embedding_10 (Embedding)    (None, 200, 200)          2983400   \n",
      "                                                                 \n",
      " bidirectional_13 (Bidirecti  (None, 128)              135680    \n",
      " onal)                                                           \n",
      "                                                                 \n",
      " dense_15 (Dense)            (None, 64)                8256      \n",
      "                                                                 \n",
      " dense_16 (Dense)            (None, 5)                 325       \n",
      "                                                                 \n",
      "=================================================================\n",
      "Total params: 3,127,661\n",
      "Trainable params: 144,261\n",
      "Non-trainable params: 2,983,400\n",
      "_________________________________________________________________\n"
     ]
    }
   ],
   "source": [
    "model.summary()"
   ]
  },
  {
   "cell_type": "code",
   "execution_count": 52,
   "metadata": {
    "colab": {
     "base_uri": "https://localhost:8080/"
    },
    "id": "s8OoEvm5WqqY",
    "outputId": "db09fc5c-1e16-4b3c-c985-f97b0250eb8e"
   },
   "outputs": [
    {
     "name": "stdout",
     "output_type": "stream",
     "text": [
      "976/976 [==============================] - 69s 71ms/step\n"
     ]
    }
   ],
   "source": [
    "pred = model.predict(X_val)\n",
    "y_pred = pd.DataFrame(pred).idxmax(axis=1)\n",
    "y_vals = y_val.idxmax(axis=1)"
   ]
  },
  {
   "cell_type": "code",
   "execution_count": 68,
   "metadata": {
    "colab": {
     "base_uri": "https://localhost:8080/"
    },
    "id": "tHNQC6_8XoFv",
    "outputId": "6ae88700-956e-4d3b-f31c-3dbf311cdaf7"
   },
   "outputs": [
    {
     "name": "stdout",
     "output_type": "stream",
     "text": [
      "              precision    recall  f1-score   support\n",
      "\n",
      "           0       0.52      0.34      0.42      1432\n",
      "           1       0.54      0.52      0.53      5411\n",
      "           2       0.73      0.80      0.77     15940\n",
      "           3       0.57      0.54      0.56      6644\n",
      "           4       0.55      0.39      0.46      1785\n",
      "\n",
      "    accuracy                           0.65     31212\n",
      "   macro avg       0.58      0.52      0.54     31212\n",
      "weighted avg       0.65      0.65      0.65     31212\n",
      "\n"
     ]
    }
   ],
   "source": [
    "from sklearn.metrics import classification_report\n",
    "report = classification_report(y_vals,y_pred)\n",
    "print(report)"
   ]
  },
  {
   "cell_type": "markdown",
   "metadata": {
    "id": "tyvT7vTmYZFd"
   },
   "source": [
    "### Plotting Accuracy and Losses (5 Points)\n",
    " \n",
    "\n",
    "\n"
   ]
  },
  {
   "cell_type": "code",
   "execution_count": 54,
   "metadata": {
    "colab": {
     "base_uri": "https://localhost:8080/",
     "height": 1000
    },
    "id": "uCXJzXMjYZFe",
    "outputId": "d26f5b09-f584-4a47-a92d-ba3ca5d297e7"
   },
   "outputs": [
    {
     "name": "stderr",
     "output_type": "stream",
     "text": [
      "/usr/local/lib/python3.8/dist-packages/seaborn/_decorators.py:36: FutureWarning: Pass the following variables as keyword args: x, y. From version 0.12, the only valid positional argument will be `data`, and passing other arguments without an explicit keyword will result in an error or misinterpretation.\n",
      "  warnings.warn(\n",
      "/usr/local/lib/python3.8/dist-packages/seaborn/_decorators.py:36: FutureWarning: Pass the following variables as keyword args: x, y. From version 0.12, the only valid positional argument will be `data`, and passing other arguments without an explicit keyword will result in an error or misinterpretation.\n",
      "  warnings.warn(\n",
      "/usr/local/lib/python3.8/dist-packages/seaborn/_decorators.py:36: FutureWarning: Pass the following variables as keyword args: x, y. From version 0.12, the only valid positional argument will be `data`, and passing other arguments without an explicit keyword will result in an error or misinterpretation.\n",
      "  warnings.warn(\n",
      "/usr/local/lib/python3.8/dist-packages/seaborn/_decorators.py:36: FutureWarning: Pass the following variables as keyword args: x, y. From version 0.12, the only valid positional argument will be `data`, and passing other arguments without an explicit keyword will result in an error or misinterpretation.\n",
      "  warnings.warn(\n",
      "/usr/local/lib/python3.8/dist-packages/seaborn/_decorators.py:36: FutureWarning: Pass the following variables as keyword args: x, y. From version 0.12, the only valid positional argument will be `data`, and passing other arguments without an explicit keyword will result in an error or misinterpretation.\n",
      "  warnings.warn(\n",
      "/usr/local/lib/python3.8/dist-packages/seaborn/_decorators.py:36: FutureWarning: Pass the following variables as keyword args: x, y. From version 0.12, the only valid positional argument will be `data`, and passing other arguments without an explicit keyword will result in an error or misinterpretation.\n",
      "  warnings.warn(\n",
      "/usr/local/lib/python3.8/dist-packages/seaborn/_decorators.py:36: FutureWarning: Pass the following variables as keyword args: x, y. From version 0.12, the only valid positional argument will be `data`, and passing other arguments without an explicit keyword will result in an error or misinterpretation.\n",
      "  warnings.warn(\n",
      "/usr/local/lib/python3.8/dist-packages/seaborn/_decorators.py:36: FutureWarning: Pass the following variables as keyword args: x, y. From version 0.12, the only valid positional argument will be `data`, and passing other arguments without an explicit keyword will result in an error or misinterpretation.\n",
      "  warnings.warn(\n",
      "/usr/local/lib/python3.8/dist-packages/seaborn/_decorators.py:36: FutureWarning: Pass the following variables as keyword args: x, y. From version 0.12, the only valid positional argument will be `data`, and passing other arguments without an explicit keyword will result in an error or misinterpretation.\n",
      "  warnings.warn(\n",
      "/usr/local/lib/python3.8/dist-packages/seaborn/_decorators.py:36: FutureWarning: Pass the following variables as keyword args: x, y. From version 0.12, the only valid positional argument will be `data`, and passing other arguments without an explicit keyword will result in an error or misinterpretation.\n",
      "  warnings.warn(\n"
     ]
    },
    {
     "data": {
      "image/png": "[encoded data removed]",
      "text/plain": [
       "<Figure size 1080x1080 with 6 Axes>"
      ]
     },
     "metadata": {
      "needs_background": "light"
     },
     "output_type": "display_data"
    }
   ],
   "source": [
    "####################################\n",
    "# PLOT :                           #\n",
    "# train loss vs val loss           #\n",
    "# train auc vs val auc             #\n",
    "# train recall vs val recall       #\n",
    "# train precision vs val precision #\n",
    "# train accuracy vs val accuracy   #\n",
    "####################################\n",
    "fig, axes = plt.subplots(3, 2, figsize = (15, 15))\n",
    "\n",
    "epochs = list(range(0, 10))\n",
    "\n",
    "sns.lineplot(epochs, history.history['accuracy'], \n",
    "             label = 'Training_acc', ax = axes[0][0])\n",
    "sns.lineplot(epochs, history.history['val_accuracy'], \n",
    "             label = 'Validation_acc', ax = axes[0][0])\n",
    "\n",
    "sns.lineplot(epochs, history.history['loss'], \n",
    "             label = 'Training_loss', ax = axes[0][1])\n",
    "sns.lineplot(epochs, history.history['val_loss'], \n",
    "             label = 'Validation_loss', ax = axes[0][1])\n",
    "\n",
    "sns.lineplot(epochs, history.history['auc'], \n",
    "             label = 'Training_AUC', ax = axes[1][0])\n",
    "sns.lineplot(epochs, history.history['val_auc'], \n",
    "             label = 'Validation_AUC', ax = axes[1][0])\n",
    "\n",
    "sns.lineplot(epochs, history.history['precision'], \n",
    "             label = 'Training_Precision', ax = axes[1][1])\n",
    "sns.lineplot(epochs, history.history['val_precision'], \n",
    "             label = 'Validation_Precision', ax = axes[1][1])\n",
    "\n",
    "sns.lineplot(epochs, history.history['recall'], \n",
    "             label = 'Training_Recall', ax = axes[2][0])\n",
    "sns.lineplot(epochs, history.history['val_recall'], \n",
    "             label = 'Validation_Recall', ax = axes[2][0])\n",
    "\n",
    "axes[0][0].set(xlabel = 'Epochs', ylabel = 'Accuracy')\n",
    "axes[0][0].set_title(\"Training & Validation Accuracy\")\n",
    "\n",
    "axes[0][1].set(xlabel = 'Epochs', ylabel = 'Loss')\n",
    "axes[0][1].set_title(\"Training & Validation Loss\")\n",
    "\n",
    "axes[1][0].set(xlabel = 'Epochs', ylabel = 'AUC')\n",
    "axes[1][0].set_title(\"Training & Validation AUC\")\n",
    "\n",
    "axes[1][1].set(xlabel = 'Epochs', ylabel = 'Precision')\n",
    "axes[1][1].set_title(\"Training & Validation Precision\")\n",
    "\n",
    "axes[2][0].set(xlabel = 'Epochs', ylabel = 'Recall')\n",
    "axes[2][0].set_title(\"Training & Validation Recall\")\n",
    "\n",
    "plt.show()\n"
   ]
  },
  {
   "cell_type": "code",
   "execution_count": null,
   "metadata": {},
   "outputs": [],
   "source": []
  }
 ],
 "metadata": {
  "colab": {
   "provenance": []
  },
  "kernelspec": {
   "display_name": "Python 3 (ipykernel)",
   "language": "python",
   "name": "python3"
  },
  "language_info": {
   "codemirror_mode": {
    "name": "ipython",
    "version": 3
   },
   "file_extension": ".py",
   "mimetype": "text/x-python",
   "name": "python",
   "nbconvert_exporter": "python",
   "pygments_lexer": "ipython3",
   "version": "3.9.10"
  }
 },
 "nbformat": 4,
 "nbformat_minor": 1
}
